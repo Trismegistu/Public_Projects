{
  "cells": [
    {
      "cell_type": "markdown",
      "metadata": {
        "id": "L9S8FziJpN04"
      },
      "source": [
        "# Mini-Project 2: Classification of Textual Data \n",
        "\n",
        "COMP 551: Applied Machine Learning \n",
        "\n"
      ]
    },
    {
      "cell_type": "markdown",
      "metadata": {
        "id": "-3HrKv4RpiLx"
      },
      "source": [
        "## Task 1: Acquire, preprocess, and analyze the data\n",
        "\n",
        "### 1.0 Resource imports, project setup\n",
        "\n",
        "To run this code on anyone's machine, upload the data as a CSV (attached with our submission) in your personnal google drive, under a directory structure called Classes/COMP551/A1. Alternatively, replace our pd.read_csv calls with your own data import"
      ]
    },
    {
      "cell_type": "code",
      "execution_count": 89,
      "metadata": {
        "colab": {
          "base_uri": "https://localhost:8080/"
        },
        "id": "SbfC-98WpC4S",
        "outputId": "8cda2492-ef44-4102-f0a7-6e45b3ff89a2"
      },
      "outputs": [
        {
          "output_type": "stream",
          "name": "stdout",
          "text": [
            "Drive already mounted at /content/drive; to attempt to forcibly remount, call drive.mount(\"/content/drive\", force_remount=True).\n"
          ]
        }
      ],
      "source": [
        "import numpy as np\n",
        "import matplotlib.pyplot as plt\n",
        "import pandas as pd\n",
        "import random\n",
        "import sklearn\n",
        "import math\n",
        "from scipy import sparse\n",
        "\n",
        "#This mounts google drive\n",
        "from google.colab import drive\n",
        "drive.mount('/content/drive')\n",
        "\n",
        "#This is the path to find the resource (/content/drive/My Drive/ is by default)\n",
        "path='/content/drive/My Drive/Classes/COMP551/A2/'\n",
        "\n"
      ]
    },
    {
      "cell_type": "markdown",
      "metadata": {
        "id": "C7q6yql7po8e"
      },
      "source": [
        "### 1.1 Loading and exploring the data\n",
        "\n",
        "We first load the [20 news group dataset](https://scikit-learn.org/stable/modules/generated/sklearn.datasets.fetch_20newsgroups.html) from SciKit Learn, and split it into training and testing sets. \n",
        "\n"
      ]
    },
    {
      "cell_type": "code",
      "execution_count": 90,
      "metadata": {
        "id": "E7CHB6zJppzp"
      },
      "outputs": [],
      "source": [
        "from sklearn.datasets import fetch_20newsgroups\n",
        "newsgroups_train = fetch_20newsgroups(subset='train',remove=['headers', 'footers', 'quotes'])\n",
        "newsgroups_test = fetch_20newsgroups(subset='test',remove=['headers', 'footers', 'quotes'])\n",
        "#newsgroups_train.data = newsgroups_train.data[0:2000]\n",
        "#newsgroups_test.data = newsgroups_test.data[0:2000]"
      ]
    },
    {
      "cell_type": "markdown",
      "metadata": {
        "id": "VzwsGwtGGZmm"
      },
      "source": [
        "We also load the Stanford [Sentiment140 dataset](http://help.sentiment140.com/for-students), and split it into training and testing sets. "
      ]
    },
    {
      "cell_type": "code",
      "execution_count": 69,
      "metadata": {
        "id": "70GQxYvlIOU6"
      },
      "outputs": [],
      "source": [
        "sentiment_train = pd.read_csv(path + 'training.1600000.processed.noemoticon.csv', \n",
        "                                 encoding='latin-1',\n",
        "                                 header=None)\n",
        "sentiment_test = pd.read_csv(path + 'new_testdata.manual.2009.06.14.csv', \n",
        "                             encoding='latin-1',\n",
        "                             header=None)\n"
      ]
    },
    {
      "cell_type": "markdown",
      "metadata": {
        "id": "uSmJAlSupvf1"
      },
      "source": [
        "### 1.2 Preprocessing data\n",
        "\n",
        "In this section, we prepare the downloaded data to be used by classification models. "
      ]
    },
    {
      "cell_type": "markdown",
      "metadata": {
        "id": "VySp_V68JIuo"
      },
      "source": [
        "#### 1.2.1 NewsGroups Dataset\n",
        "First, let's work on understanding our first dataset. "
      ]
    },
    {
      "cell_type": "code",
      "execution_count": 70,
      "metadata": {
        "colab": {
          "base_uri": "https://localhost:8080/"
        },
        "id": "ra7hRJgMJH7s",
        "outputId": "64314ff9-dcd6-4110-9b59-f08f4c72c67e"
      },
      "outputs": [
        {
          "output_type": "stream",
          "name": "stdout",
          "text": [
            "dict_keys(['data', 'filenames', 'target_names', 'target', 'DESCR'])\n"
          ]
        }
      ],
      "source": [
        "print(newsgroups_train.keys())"
      ]
    },
    {
      "cell_type": "markdown",
      "metadata": {
        "id": "Pafol4NLJNF5"
      },
      "source": [
        "It looks like we have 5 keys in this dictionary. Let's explore them"
      ]
    },
    {
      "cell_type": "code",
      "execution_count": 71,
      "metadata": {
        "colab": {
          "base_uri": "https://localhost:8080/"
        },
        "id": "dfXurTmOJH9r",
        "outputId": "c4c12c51-1ae6-4b4e-962c-aa9515affbbc"
      },
      "outputs": [
        {
          "output_type": "execute_result",
          "data": {
            "text/plain": [
              "['I was wondering if anyone out there could enlighten me on this car I saw\\nthe other day. It was a 2-door sports car, looked to be from the late 60s/\\nearly 70s. It was called a Bricklin. The doors were really small. In addition,\\nthe front bumper was separate from the rest of the body. This is \\nall I know. If anyone can tellme a model name, engine specs, years\\nof production, where this car is made, history, or whatever info you\\nhave on this funky looking car, please e-mail.',\n",
              " \"A fair number of brave souls who upgraded their SI clock oscillator have\\nshared their experiences for this poll. Please send a brief message detailing\\nyour experiences with the procedure. Top speed attained, CPU rated speed,\\nadd on cards and adapters, heat sinks, hour of usage per day, floppy disk\\nfunctionality with 800 and 1.4 m floppies are especially requested.\\n\\nI will be summarizing in the next two days, so please add to the network\\nknowledge base if you have done the clock upgrade and haven't answered this\\npoll. Thanks.\"]"
            ]
          },
          "metadata": {},
          "execution_count": 71
        }
      ],
      "source": [
        "newsgroups_train.data[:2]"
      ]
    },
    {
      "cell_type": "code",
      "execution_count": 72,
      "metadata": {
        "colab": {
          "base_uri": "https://localhost:8080/"
        },
        "id": "7IEdZvjqJH_r",
        "outputId": "ba5cbb13-343e-45c3-b962-61fb268e51b6"
      },
      "outputs": [
        {
          "output_type": "execute_result",
          "data": {
            "text/plain": [
              "array(['/root/scikit_learn_data/20news_home/20news-bydate-train/rec.autos/102994',\n",
              "       '/root/scikit_learn_data/20news_home/20news-bydate-train/comp.sys.mac.hardware/51861'],\n",
              "      dtype='<U86')"
            ]
          },
          "metadata": {},
          "execution_count": 72
        }
      ],
      "source": [
        "newsgroups_train.filenames[:2]"
      ]
    },
    {
      "cell_type": "code",
      "execution_count": 73,
      "metadata": {
        "colab": {
          "base_uri": "https://localhost:8080/"
        },
        "id": "uPNdufGhJYX7",
        "outputId": "ee545c53-b0ee-429e-e1ac-d66e9112fcf8"
      },
      "outputs": [
        {
          "output_type": "execute_result",
          "data": {
            "text/plain": [
              "['alt.atheism',\n",
              " 'comp.graphics',\n",
              " 'comp.os.ms-windows.misc',\n",
              " 'comp.sys.ibm.pc.hardware',\n",
              " 'comp.sys.mac.hardware',\n",
              " 'comp.windows.x',\n",
              " 'misc.forsale',\n",
              " 'rec.autos']"
            ]
          },
          "metadata": {},
          "execution_count": 73
        }
      ],
      "source": [
        "newsgroups_train.target_names[:8]"
      ]
    },
    {
      "cell_type": "code",
      "execution_count": 74,
      "metadata": {
        "colab": {
          "base_uri": "https://localhost:8080/"
        },
        "id": "c3v6iqwRJYaM",
        "outputId": "ad539e72-7258-4bc1-b43a-614b8d93ee10"
      },
      "outputs": [
        {
          "output_type": "execute_result",
          "data": {
            "text/plain": [
              "array([7, 4])"
            ]
          },
          "metadata": {},
          "execution_count": 74
        }
      ],
      "source": [
        "newsgroups_train.target[:2]"
      ]
    },
    {
      "cell_type": "code",
      "execution_count": 75,
      "metadata": {
        "colab": {
          "base_uri": "https://localhost:8080/",
          "height": 270
        },
        "id": "26mRB6-9JYb3",
        "outputId": "f2af464d-6344-4f51-8249-c55f554fa5cb"
      },
      "outputs": [
        {
          "output_type": "execute_result",
          "data": {
            "application/vnd.google.colaboratory.intrinsic+json": {
              "type": "string"
            },
            "text/plain": [
              "'.. _20newsgroups_dataset:\\n\\nThe 20 newsgroups text dataset\\n------------------------------\\n\\nThe 20 newsgroups dataset comprises around 18000 newsgroups posts on\\n20 topics split in two subsets: one for training (or development)\\nand the other one for testing (or for performance evaluation). The split\\nbetween the train and test set is based upon a messages posted before\\nand after a specific date.\\n\\nThis module contains two loaders. The first one,\\n:func:`sklearn.datasets.fetch_20newsgroups`,\\nreturns a list of the raw texts that can be fed to text feature\\nextractors such as :class:`~sklearn.feature_extraction.text.CountVectorizer`\\nwith custom parameters so as to extract feature vectors.\\nThe second one, :func:`sklearn.datasets.fetch_20newsgroups_vectorized`,\\nreturns ready-to-use features, i.e., it is not necessary to use a feature\\nextractor.\\n\\n**Data Set Characteristics:**\\n\\n    =================   ==========\\n    Classes                     20\\n    Samples total            18846\\n    Dimensionality               1\\n    Features                  text\\n    =================   ==========\\n\\nUsage\\n~~~~~\\n\\nThe :func:`sklearn.datasets.fetch_20newsgroups` function is a data\\nfetching / caching functions that downloads the data archive from\\nthe original `20 newsgroups website`_, extracts the archive contents\\nin the ``~/scikit_learn_data/20news_home`` folder and calls the\\n:func:`sklearn.datasets.load_files` on either the training or\\ntesting set folder, or both of them::\\n\\n  >>> from sklearn.datasets import fetch_20newsgroups\\n  >>> newsgroups_train = fetch_20newsgroups(subset=\\'train\\')\\n\\n  >>> from pprint import pprint\\n  >>> pprint(list(newsgroups_train.target_names))\\n  [\\'alt.atheism\\',\\n   \\'comp.graphics\\',\\n   \\'comp.os.ms-windows.misc\\',\\n   \\'comp.sys.ibm.pc.hardware\\',\\n   \\'comp.sys.mac.hardware\\',\\n   \\'comp.windows.x\\',\\n   \\'misc.forsale\\',\\n   \\'rec.autos\\',\\n   \\'rec.motorcycles\\',\\n   \\'rec.sport.baseball\\',\\n   \\'rec.sport.hockey\\',\\n   \\'sci.crypt\\',\\n   \\'sci.electronics\\',\\n   \\'sci.med\\',\\n   \\'sci.space\\',\\n   \\'soc.religion.christian\\',\\n   \\'talk.politics.guns\\',\\n   \\'talk.politics.mideast\\',\\n   \\'talk.politics.misc\\',\\n   \\'talk.religion.misc\\']\\n\\nThe real data lies in the ``filenames`` and ``target`` attributes. The target\\nattribute is the integer index of the category::\\n\\n  >>> newsgroups_train.filenames.shape\\n  (11314,)\\n  >>> newsgroups_train.target.shape\\n  (11314,)\\n  >>> newsgroups_train.target[:10]\\n  array([ 7,  4,  4,  1, 14, 16, 13,  3,  2,  4])\\n\\nIt is possible to load only a sub-selection of the categories by passing the\\nlist of the categories to load to the\\n:func:`sklearn.datasets.fetch_20newsgroups` function::\\n\\n  >>> cats = [\\'alt.atheism\\', \\'sci.space\\']\\n  >>> newsgroups_train = fetch_20newsgroups(subset=\\'train\\', categories=cats)\\n\\n  >>> list(newsgroups_train.target_names)\\n  [\\'alt.atheism\\', \\'sci.space\\']\\n  >>> newsgroups_train.filenames.shape\\n  (1073,)\\n  >>> newsgroups_train.target.shape\\n  (1073,)\\n  >>> newsgroups_train.target[:10]\\n  array([0, 1, 1, 1, 0, 1, 1, 0, 0, 0])\\n\\nConverting text to vectors\\n~~~~~~~~~~~~~~~~~~~~~~~~~~\\n\\nIn order to feed predictive or clustering models with the text data,\\none first need to turn the text into vectors of numerical values suitable\\nfor statistical analysis. This can be achieved with the utilities of the\\n``sklearn.feature_extraction.text`` as demonstrated in the following\\nexample that extract `TF-IDF`_ vectors of unigram tokens\\nfrom a subset of 20news::\\n\\n  >>> from sklearn.feature_extraction.text import TfidfVectorizer\\n  >>> categories = [\\'alt.atheism\\', \\'talk.religion.misc\\',\\n  ...               \\'comp.graphics\\', \\'sci.space\\']\\n  >>> newsgroups_train = fetch_20newsgroups(subset=\\'train\\',\\n  ...                                       categories=categories)\\n  >>> vectorizer = TfidfVectorizer()\\n  >>> vectors = vectorizer.fit_transform(newsgroups_train.data)\\n  >>> vectors.shape\\n  (2034, 34118)\\n\\nThe extracted TF-IDF vectors are very sparse, with an average of 159 non-zero\\ncomponents by sample in a more than 30000-dimensional space\\n(less than .5% non-zero features)::\\n\\n  >>> vectors.nnz / float(vectors.shape[0])\\n  159.01327...\\n\\n:func:`sklearn.datasets.fetch_20newsgroups_vectorized` is a function which\\nreturns ready-to-use token counts features instead of file names.\\n\\n.. _`20 newsgroups website`: http://people.csail.mit.edu/jrennie/20Newsgroups/\\n.. _`TF-IDF`: https://en.wikipedia.org/wiki/Tf-idf\\n\\n\\nFiltering text for more realistic training\\n~~~~~~~~~~~~~~~~~~~~~~~~~~~~~~~~~~~~~~~~~~\\n\\nIt is easy for a classifier to overfit on particular things that appear in the\\n20 Newsgroups data, such as newsgroup headers. Many classifiers achieve very\\nhigh F-scores, but their results would not generalize to other documents that\\naren\\'t from this window of time.\\n\\nFor example, let\\'s look at the results of a multinomial Naive Bayes classifier,\\nwhich is fast to train and achieves a decent F-score::\\n\\n  >>> from sklearn.naive_bayes import MultinomialNB\\n  >>> from sklearn import metrics\\n  >>> newsgroups_test = fetch_20newsgroups(subset=\\'test\\',\\n  ...                                      categories=categories)\\n  >>> vectors_test = vectorizer.transform(newsgroups_test.data)\\n  >>> clf = MultinomialNB(alpha=.01)\\n  >>> clf.fit(vectors, newsgroups_train.target)\\n  MultinomialNB(alpha=0.01, class_prior=None, fit_prior=True)\\n\\n  >>> pred = clf.predict(vectors_test)\\n  >>> metrics.f1_score(newsgroups_test.target, pred, average=\\'macro\\')\\n  0.88213...\\n\\n(The example :ref:`sphx_glr_auto_examples_text_plot_document_classification_20newsgroups.py` shuffles\\nthe training and test data, instead of segmenting by time, and in that case\\nmultinomial Naive Bayes gets a much higher F-score of 0.88. Are you suspicious\\nyet of what\\'s going on inside this classifier?)\\n\\nLet\\'s take a look at what the most informative features are:\\n\\n  >>> import numpy as np\\n  >>> def show_top10(classifier, vectorizer, categories):\\n  ...     feature_names = vectorizer.get_feature_names_out()\\n  ...     for i, category in enumerate(categories):\\n  ...         top10 = np.argsort(classifier.coef_[i])[-10:]\\n  ...         print(\"%s: %s\" % (category, \" \".join(feature_names[top10])))\\n  ...\\n  >>> show_top10(clf, vectorizer, newsgroups_train.target_names)\\n  alt.atheism: edu it and in you that is of to the\\n  comp.graphics: edu in graphics it is for and of to the\\n  sci.space: edu it that is in and space to of the\\n  talk.religion.misc: not it you in is that and to of the\\n\\n\\nYou can now see many things that these features have overfit to:\\n\\n- Almost every group is distinguished by whether headers such as\\n  ``NNTP-Posting-Host:`` and ``Distribution:`` appear more or less often.\\n- Another significant feature involves whether the sender is affiliated with\\n  a university, as indicated either by their headers or their signature.\\n- The word \"article\" is a significant feature, based on how often people quote\\n  previous posts like this: \"In article [article ID], [name] <[e-mail address]>\\n  wrote:\"\\n- Other features match the names and e-mail addresses of particular people who\\n  were posting at the time.\\n\\nWith such an abundance of clues that distinguish newsgroups, the classifiers\\nbarely have to identify topics from text at all, and they all perform at the\\nsame high level.\\n\\nFor this reason, the functions that load 20 Newsgroups data provide a\\nparameter called **remove**, telling it what kinds of information to strip out\\nof each file. **remove** should be a tuple containing any subset of\\n``(\\'headers\\', \\'footers\\', \\'quotes\\')``, telling it to remove headers, signature\\nblocks, and quotation blocks respectively.\\n\\n  >>> newsgroups_test = fetch_20newsgroups(subset=\\'test\\',\\n  ...                                      remove=(\\'headers\\', \\'footers\\', \\'quotes\\'),\\n  ...                                      categories=categories)\\n  >>> vectors_test = vectorizer.transform(newsgroups_test.data)\\n  >>> pred = clf.predict(vectors_test)\\n  >>> metrics.f1_score(pred, newsgroups_test.target, average=\\'macro\\')\\n  0.77310...\\n\\nThis classifier lost over a lot of its F-score, just because we removed\\nmetadata that has little to do with topic classification.\\nIt loses even more if we also strip this metadata from the training data:\\n\\n  >>> newsgroups_train = fetch_20newsgroups(subset=\\'train\\',\\n  ...                                       remove=(\\'headers\\', \\'footers\\', \\'quotes\\'),\\n  ...                                       categories=categories)\\n  >>> vectors = vectorizer.fit_transform(newsgroups_train.data)\\n  >>> clf = MultinomialNB(alpha=.01)\\n  >>> clf.fit(vectors, newsgroups_train.target)\\n  MultinomialNB(alpha=0.01, class_prior=None, fit_prior=True)\\n\\n  >>> vectors_test = vectorizer.transform(newsgroups_test.data)\\n  >>> pred = clf.predict(vectors_test)\\n  >>> metrics.f1_score(newsgroups_test.target, pred, average=\\'macro\\')\\n  0.76995...\\n\\nSome other classifiers cope better with this harder version of the task. Try\\nrunning :ref:`sphx_glr_auto_examples_model_selection_grid_search_text_feature_extraction.py` with and without\\nthe ``--filter`` option to compare the results.\\n\\n.. topic:: Data Considerations\\n\\n  The Cleveland Indians is a major league baseball team based in Cleveland,\\n  Ohio, USA. In December 2020, it was reported that \"After several months of\\n  discussion sparked by the death of George Floyd and a national reckoning over\\n  race and colonialism, the Cleveland Indians have decided to change their\\n  name.\" Team owner Paul Dolan \"did make it clear that the team will not make\\n  its informal nickname -- the Tribe -- its new team name.\" \"It’s not going to\\n  be a half-step away from the Indians,\" Dolan said.\"We will not have a Native\\n  American-themed name.\"\\n\\n  https://www.mlb.com/news/cleveland-indians-team-name-change\\n\\n.. topic:: Recommendation\\n\\n  - When evaluating text classifiers on the 20 Newsgroups data, you\\n    should strip newsgroup-related metadata. In scikit-learn, you can do this\\n    by setting ``remove=(\\'headers\\', \\'footers\\', \\'quotes\\')``. The F-score will be\\n    lower because it is more realistic.\\n  - This text dataset contains data which may be inappropriate for certain NLP\\n    applications. An example is listed in the \"Data Considerations\" section\\n    above. The challenge with using current text datasets in NLP for tasks such\\n    as sentence completion, clustering, and other applications is that text\\n    that is culturally biased and inflammatory will propagate biases. This\\n    should be taken into consideration when using the dataset, reviewing the\\n    output, and the bias should be documented.\\n\\n.. topic:: Examples\\n\\n   * :ref:`sphx_glr_auto_examples_model_selection_grid_search_text_feature_extraction.py`\\n\\n   * :ref:`sphx_glr_auto_examples_text_plot_document_classification_20newsgroups.py`\\n'"
            ]
          },
          "metadata": {},
          "execution_count": 75
        }
      ],
      "source": [
        "newsgroups_train.DESCR"
      ]
    },
    {
      "cell_type": "markdown",
      "metadata": {
        "id": "tQLHQrX4JfO4"
      },
      "source": [
        "The NewsGroups dataset contains the following keys: \n",
        "\n",
        "- *data* is the key that contains the instances of our dataset. Each instance is a string of text corresponding to a post on a web-forum. \n",
        "\n",
        "- *filenames* is a key containing the source file for the text. This is likely going to be of no use to us.\n",
        "\n",
        "- *target_names* is a list of all the subforum titles. These are the names that give meaning to the classes we are predicting\n",
        "\n",
        "- *target* is the label we are predicting. It is a unique number corresponding to each subforum name.\n",
        "\n",
        "- *DESCR* is a description of the dataset."
      ]
    },
    {
      "cell_type": "markdown",
      "metadata": {
        "id": "HLqHnaSNKRoV"
      },
      "source": [
        "For the purposes of this assignment, we will only need *data* and *target*. That's where all the information we need for classification purposes is contained. We convert the label sets as Numpy arrays, which are encoded as integers 0, 1, 2, etc. "
      ]
    },
    {
      "cell_type": "code",
      "execution_count": 76,
      "metadata": {
        "id": "6SejitpgARdw"
      },
      "outputs": [],
      "source": [
        "# Assign label sets\n",
        "newsgroups_trainLabels = np.array(newsgroups_train.target)\n",
        "newsgroups_testLabels = np.array(newsgroups_test.target)"
      ]
    },
    {
      "cell_type": "code",
      "source": [
        "#Implement Stemming using out of the box Porter algorithm\n",
        "from nltk.stem import PorterStemmer\n",
        "stemmer = PorterStemmer()\n",
        "trainStemmed = [[stemmer.stem(word) for word in sentence.split(\" \")] for sentence in newsgroups_train.data]\n",
        "trainStemmed = [\" \".join(sentence) for sentence in trainStemmed]\n",
        "\n",
        "testStemmed = [[stemmer.stem(word) for word in sentence.split(\" \")] for sentence in newsgroups_test.data]\n",
        "testStemmed = [\" \".join(sentence) for sentence in testStemmed]"
      ],
      "metadata": {
        "id": "siiPUUB_5Z-P"
      },
      "execution_count": 77,
      "outputs": []
    },
    {
      "cell_type": "markdown",
      "metadata": {
        "id": "iuUt9vkfAT5A"
      },
      "source": [
        "We now convert the string features contained in both training and test sets to word count features. Each string is stripped of its accents, transformed into lower case, common English stop words are removed, then they are converted to word count features."
      ]
    },
    {
      "cell_type": "code",
      "execution_count": 78,
      "metadata": {
        "id": "MwiKyj4-Lfsj"
      },
      "outputs": [],
      "source": [
        "# Word count conversion\n",
        "from sklearn.feature_extraction.text import CountVectorizer\n",
        "count_vect = CountVectorizer(strip_accents='ascii',stop_words='english')\n",
        "newsgroups_train_counts = count_vect.fit_transform(trainStemmed)\n",
        "newsgroups_test_counts = count_vect.transform(testStemmed)"
      ]
    },
    {
      "cell_type": "markdown",
      "metadata": {
        "id": "i1Wvy9uBwnr5"
      },
      "source": [
        "We then weight the word counts by tf-idf to put more emphasis on specific words rather than common words. \n",
        "\n"
      ]
    },
    {
      "cell_type": "code",
      "execution_count": 79,
      "metadata": {
        "id": "ovAjf1LLfuj-"
      },
      "outputs": [],
      "source": [
        "# TF-IDF weighting\n",
        "from sklearn.feature_extraction.text import TfidfTransformer\n",
        "tfidf_transformer = TfidfTransformer()\n",
        "newsgroups_trainData = tfidf_transformer.fit_transform(newsgroups_train_counts)\n",
        "newsgroups_testData = tfidf_transformer.transform(newsgroups_test_counts)"
      ]
    },
    {
      "cell_type": "markdown",
      "source": [
        "We then normalize the features for each column. "
      ],
      "metadata": {
        "id": "JZ8HwFPonXCR"
      }
    },
    {
      "cell_type": "code",
      "source": [
        "# Normalize\n",
        "#from sklearn.preprocessing import normalize\n",
        "#normalize(newsgroups_trainData, norm='l1', axis=0, copy=False)\n",
        "#normalize(newsgroups_testData, norm='l1', axis=0, copy=False)"
      ],
      "metadata": {
        "id": "u7W0UWgUnV8_"
      },
      "execution_count": 80,
      "outputs": []
    },
    {
      "cell_type": "markdown",
      "metadata": {
        "id": "TB-j8hQWIeWF"
      },
      "source": [
        "#### 1.2.2 Sentiment Dataset\n",
        "\n",
        "We now process the data from the Sentiment140 dataset. Its training set has $N=1,600,000$ instances. This is too large for Google Colab, so we need to truncate it. Here, we randomly sample a smaller portion of it. \n",
        "\n",
        "We also convert the label values for Sentiment140 from {0 = negative, 4 = positive} to {0 = negative, 1 = positive}. \n"
      ]
    },
    {
      "cell_type": "code",
      "execution_count": 81,
      "metadata": {
        "id": "mqElNfXvIhQf"
      },
      "outputs": [],
      "source": [
        "# Truncate training set by ratio\n",
        "ratio = 0.1\n",
        "newSize = round(ratio * sentiment_train.shape[0]) \n",
        "sentiment_trainSmall = sentiment_train.sample(newSize)\n",
        "\n",
        "# Assign label sets, convert numerical labels\n",
        "sentiment_trainLabels = np.true_divide(sentiment_trainSmall.iloc[:,0].to_numpy(),4)\n",
        "sentiment_testLabels = np.true_divide(sentiment_test.iloc[:,0].to_numpy(),4)\n"
      ]
    },
    {
      "cell_type": "markdown",
      "metadata": {
        "id": "qAhSn6Bd8FnY"
      },
      "source": [
        "Similarly as for the NewsGroups dataset, we convert the strings in the Sentiment140 dataset to word count features and weight by tf-idf. "
      ]
    },
    {
      "cell_type": "code",
      "execution_count": 82,
      "metadata": {
        "id": "k0QpizGM7l0Q"
      },
      "outputs": [],
      "source": [
        "# Isolate strings\n",
        "sentiment_train_strings = sentiment_trainSmall.iloc[:,5].to_numpy()\n",
        "sentiment_test_strings = sentiment_test.iloc[:,5].to_numpy()\n",
        "\n",
        "# Convert to word count\n",
        "count_vect2 = CountVectorizer(strip_accents='ascii',stop_words='english')\n",
        "sentiment_train_counts = count_vect2.fit_transform(sentiment_train_strings)\n",
        "sentiment_test_counts = count_vect2.transform(sentiment_test_strings)\n",
        "\n",
        "# Weight by tf-idf\n",
        "tfidf_transformer2 = TfidfTransformer()\n",
        "sentiment_trainData = tfidf_transformer2.fit_transform(sentiment_train_counts)\n",
        "sentiment_testData = tfidf_transformer2.transform(sentiment_test_counts)\n",
        "\n",
        "# Normalize \n",
        "#normalize(sentiment_trainData, norm='l1', axis=0, copy=False)\n",
        "#normalize(sentiment_testData, norm='l1', axis=0, copy=False)"
      ]
    },
    {
      "cell_type": "markdown",
      "metadata": {
        "id": "6SKKCfPwp1Z5"
      },
      "source": [
        "### 1.3 Analyzing Data\n",
        "\n",
        "The class counts for the NewsGroups dataset are shown below."
      ]
    },
    {
      "cell_type": "code",
      "execution_count": 83,
      "metadata": {
        "colab": {
          "base_uri": "https://localhost:8080/"
        },
        "id": "QnH9fXDm4JBs",
        "outputId": "99e3c456-c535-4f6c-f6ee-013f62ef94b7"
      },
      "outputs": [
        {
          "output_type": "stream",
          "name": "stdout",
          "text": [
            "NewsGroups dataset\n",
            "Training: {0: 480, 1: 584, 2: 591, 3: 590, 4: 578, 5: 593, 6: 585, 7: 594, 8: 598, 9: 597, 10: 600, 11: 595, 12: 591, 13: 594, 14: 593, 15: 599, 16: 546, 17: 564, 18: 465, 19: 377}\n",
            "Total training instances: 11314\n"
          ]
        }
      ],
      "source": [
        "label,count = np.unique(newsgroups_trainLabels,return_counts=True)\n",
        "print(\"NewsGroups dataset\")\n",
        "print(\"Training:\",dict(zip(label,count)))\n",
        "print(\"Total training instances:\",len(newsgroups_trainLabels))\n"
      ]
    },
    {
      "cell_type": "code",
      "execution_count": 84,
      "metadata": {
        "colab": {
          "base_uri": "https://localhost:8080/"
        },
        "id": "Lgnu4i1H-g7L",
        "outputId": "dede4832-fda3-4ea8-9416-242e08eddb12"
      },
      "outputs": [
        {
          "output_type": "stream",
          "name": "stdout",
          "text": [
            "NewsGroups dataset\n",
            "Testing: {0: 319, 1: 389, 2: 394, 3: 392, 4: 385, 5: 395, 6: 390, 7: 396, 8: 398, 9: 397, 10: 399, 11: 396, 12: 393, 13: 396, 14: 394, 15: 398, 16: 364, 17: 376, 18: 310, 19: 251}\n",
            "Total testing instances: 7532\n"
          ]
        }
      ],
      "source": [
        "label,count = np.unique(newsgroups_testLabels,return_counts=True)\n",
        "print(\"NewsGroups dataset\")\n",
        "print(\"Testing:\",dict(zip(label,count)))\n",
        "print(\"Total testing instances:\",len(newsgroups_testLabels))"
      ]
    },
    {
      "cell_type": "markdown",
      "metadata": {
        "id": "dn4FaHwL_LqN"
      },
      "source": [
        "Similarly, the class counts for the Sentiment140 dataset are shown below. "
      ]
    },
    {
      "cell_type": "code",
      "execution_count": 85,
      "metadata": {
        "colab": {
          "base_uri": "https://localhost:8080/"
        },
        "id": "LrJZlASf2p0I",
        "outputId": "7e4b5b41-7885-481b-b6b4-cf101bacbb64"
      },
      "outputs": [
        {
          "output_type": "stream",
          "name": "stdout",
          "text": [
            "Sentiment dataset\n",
            "Training: {0.0: 80010, 1.0: 79990}\n",
            "Total training instances: 160000\n"
          ]
        }
      ],
      "source": [
        "label,count = np.unique(sentiment_trainLabels,return_counts=True)\n",
        "print(\"Sentiment dataset\")\n",
        "print(\"Training:\",dict(zip(label,count)))\n",
        "print(\"Total training instances:\",len(sentiment_trainLabels))"
      ]
    },
    {
      "cell_type": "code",
      "execution_count": 86,
      "metadata": {
        "colab": {
          "base_uri": "https://localhost:8080/"
        },
        "id": "GGugdNTV2xBD",
        "outputId": "2b7d8f77-7b10-4a38-90e0-65b421f08dbc"
      },
      "outputs": [
        {
          "output_type": "stream",
          "name": "stdout",
          "text": [
            "Sentiment dataset\n",
            "Testing: {0.0: 177, 1.0: 182}\n",
            "Total testing instances: 359\n"
          ]
        }
      ],
      "source": [
        "label,count = np.unique(sentiment_testLabels,return_counts=True)\n",
        "print(\"Sentiment dataset\")\n",
        "print(\"Testing:\",dict(zip(label,count)))\n",
        "print(\"Total testing instances:\",len(sentiment_testLabels))"
      ]
    },
    {
      "cell_type": "markdown",
      "metadata": {
        "id": "TSQghTGyrIRE"
      },
      "source": [
        "We check that the vocabularies are consistent (same length); as they indeed are!"
      ]
    },
    {
      "cell_type": "code",
      "execution_count": 87,
      "metadata": {
        "colab": {
          "base_uri": "https://localhost:8080/"
        },
        "id": "TGYmOKSxrHjE",
        "outputId": "3da2c16e-b0ca-4de1-fa6b-3f1da80fea62"
      },
      "outputs": [
        {
          "output_type": "stream",
          "name": "stdout",
          "text": [
            "(11314, 100169)\n",
            "(7532, 100169)\n",
            "(160000, 135704)\n",
            "(359, 135704)\n"
          ]
        }
      ],
      "source": [
        "print(newsgroups_trainData.shape)\n",
        "print(newsgroups_testData.shape)\n",
        "\n",
        "print(sentiment_trainData.shape)\n",
        "print(sentiment_testData.shape)"
      ]
    },
    {
      "cell_type": "markdown",
      "metadata": {
        "id": "hcjK6bWJhAE5"
      },
      "source": [
        "### 1.4 Dataset Class\n",
        "\n",
        "To make our life more enjoyable, we define a Dataset class which divides each dataset into its training and testing sets. "
      ]
    },
    {
      "cell_type": "code",
      "execution_count": 88,
      "metadata": {
        "id": "zd7RzFWYhCV1"
      },
      "outputs": [],
      "source": [
        "class Dataset:\n",
        "    def __init__(self,trainData,trainLabels,testData,testLabels):\n",
        "      self.trainData = trainData\n",
        "      self.trainLabels = trainLabels\n",
        "      self.testData = testData\n",
        "      self.testLabels = testLabels\n",
        "      return\n",
        "\n",
        "# Instantiate NewsGroups class\n",
        "NewsGroups = Dataset(newsgroups_trainData,\n",
        "                     newsgroups_trainLabels,\n",
        "                     newsgroups_testData,\n",
        "                     newsgroups_testLabels)\n",
        "\n",
        "# Instantiate Sentiment140 class\n",
        "Sentiment140 = Dataset(sentiment_trainData,\n",
        "                       sentiment_trainLabels,\n",
        "                       sentiment_testData,\n",
        "                       sentiment_testLabels)"
      ]
    },
    {
      "cell_type": "markdown",
      "metadata": {
        "id": "nZIWNJxPp7I2"
      },
      "source": [
        "## Task 2: Implement Naive Bayes and k-fold cross validation\n",
        "\n",
        "In this section, we implement Multinomial Naive Bayes, $k$-fold cross validation and hyperparameter tuning from scratch to compare its accuracy with the logistic regression model provided by SciKit Learn. "
      ]
    },
    {
      "cell_type": "markdown",
      "metadata": {
        "id": "yLAddv7SqOUN"
      },
      "source": [
        "### 2.1 Multinomial Naive Bayes\n",
        "\n",
        "**Training**\n",
        "\n",
        "Let $x_d^{(n)}$ denote the number of times word $d$ appears in the $n$-th string. Let $y^{(n)}$ denote the label associated to the $n$-th string. The **Naive Bayes** model learns both the class prior $p(y)$ and class conditionals $p(x_d|y)$ from the data then uses Bayes rule to obtain the posterior class probability\n",
        "$$p(y| x) \\propto p(y) p(x| y).$$ \n",
        "\n",
        "The class *prior* is the probability of each of the $C$ classes by counting relative frequency of class labels in the dataset, which is given by the *Categorical* distribution $$p(y=c_0; \\pi) = \\mathrm{Categorical}(y=c_0; \\pi) = \\prod_{c=1}^C \\pi_c^{\\mathbb{I}(y=c)} = \\pi_{c_0}.$$ \n",
        "The maximum likelihood estimator for $\\pi$ corresponds to the frequency of class $c$ among the dataset and so is given by $$\\hat{\\pi}_c = \\frac{N(y=c)}{N}.$$ \n",
        "\n",
        "The *class conditionals* represent the probability for the value of each feature $x_d$, conditioned on the class label $y$. As our features represent word counts, we use the *Multinomial* distribution: $$p(x_d| y=c; \\theta) = \\text{Multinomial}(x_d; \\theta_y) = \\frac{(\\sum_{d=1}^D x_d)!}{\\prod_{d=1}^D x_d !} \\prod_{d=1}^D \\theta_{d,y}^{x_d}.$$ \n",
        "The maximum likelihood estimator for $\\theta$ is $$\\hat{\\theta}_{d,c}= \\frac{\\sum_{n} x_d^{(n)} \\mathbb{I}(y^{(n)}=c)}{\\sum_n \\sum_{d'} x_{d'}^{(n)}\\mathbb{I}(y^{(n)}=c)}$$\n",
        "\n",
        "From the training set $\\{(x^{n},y^{n})\\}_{n=1}^N$, we use the above MLEs to fit the $\\hat{\\pi}$ and $\\hat{\\theta}$ parameters for the model. \n",
        "\n",
        "**NOTE**: The parameters $\\hat{\\pi}$ and $\\hat{\\theta}$ are computed with a Laplace smoothing parameter $\\alpha\\; \\forall c$ as follows:\n",
        "$$\\hat{\\pi}_c = \\frac{N(y=c)+\\alpha}{N+\\alpha C}.$$ \n",
        "\n",
        "$$\\hat{\\theta}_{d,c} = \\frac{\\alpha + \\sum_{n} x_d^{(n)} \\mathbb{I}(y^{(n)}=c)}{\\alpha D+\\sum_n \\sum_{d'} x_{d'}^{(n)}\\mathbb{I}(y^{(n)}=c)}$$\n"
      ]
    },
    {
      "cell_type": "code",
      "execution_count": 91,
      "metadata": {
        "id": "NDZLN0g-qQVp"
      },
      "outputs": [],
      "source": [
        "class MultinomialNaiveBayes:\n",
        "    # Model initialization with alpha hyperparameter\n",
        "    def __init__(self,**hyperparameter):\n",
        "        self.alpha = hyperparameter['alpha']\n",
        "        self.theta = None\n",
        "        self.pi = None\n",
        "        return\n",
        "        \n",
        "    # Model training using training data\n",
        "    def fit(self, x, y):\n",
        "        N, D = x.shape            # N = num datapoints, D = num features\n",
        "        C = int(np.max(y)+1)\n",
        "        theta = np.zeros((C,D)) \n",
        "        Nc = np.zeros(C)\n",
        "        # For each class compute MLE for theta and pi\n",
        "        for c in range(C):        \n",
        "            x_c = x[y == c]       # Slice all the datapoints from class c\n",
        "            Nc[c] = x_c.shape[0]  # Number of datapoints with class c\n",
        "            SumC = x_c.sum()      # Total number of words with class c\n",
        "            theta[c] = (self.alpha + x_c.sum(0))/(self.alpha*D+SumC) \n",
        "        self.theta = theta\n",
        "        self.pi = (Nc+self.alpha)/(N+self.alpha*C) \n",
        "        return self\n"
      ]
    },
    {
      "cell_type": "markdown",
      "metadata": {
        "id": "GwkZFgZKUBTM"
      },
      "source": [
        "**Class Prediction**\n",
        "\n",
        "So far we have produced model parameters $\\hat{\\pi}$ and $\\hat{\\theta}$. To calculate the posterior for new instances, we need to evaluate\n",
        "$$\\tilde{p}(y=c| x) = \\mathrm{Categorical}(c; \\hat{\\pi}) \\frac{(\\sum_{d=1}^D x_d)!}{\\prod_{d=1}^D x_d !} \\prod_{d=1}^D \\hat{\\theta}_{d,c}^{x_d}$$\n",
        "\n",
        "with large number of features $D$, the product will encounter a numerical problem since it can grow too large or too small.\n",
        "For this reason we work in the log domain:\n",
        "\\begin{align}\\log \\tilde{p}(y=c| x) &= \\log(\\hat{\\pi}_c) + \\log \\frac{(\\sum_{d=1}^D x_d)!}{\\prod_{d=1}^D x_d !} + \\sum_{d=1}^D  x_d \\log \\hat{\\theta}_{d,c}\\\\\n",
        "\\end{align}\n",
        "\n",
        "Since we later normalize the values, the middle constant term does not have to be included, because it is equal for all classes $c$ and so including it only shifts the all log-probabilities by this constant value, which is cancelled by normalization. \n",
        "\n",
        "**Normalization and numerical stability**\n",
        "\n",
        "At this point we have logarithm of **unnormalized** posterior $\\log \\tilde{p}(y=c| x, \\mathcal{D}) \\; \\forall c$. \n",
        "To get the probabilities, we need to normalize. We can do this in the log domain as well:\n",
        "$$\n",
        "\\log p(y=c|x) =  (\\log \\tilde{p}(y=c| x)) - \\log \\left (\\sum_{c'} \\exp (\\log \\tilde{p}(y=c| x)) \\right )\n",
        "$$\n",
        "Again, this could run into numerical issues because of large numbers in the exponent inside log-sum-exp. Here, we use the **log-sum-exp** trick, which uses the fact that\n",
        "$\n",
        "\\log \\sum_c \\exp (z_c) = z_{\\max} + \\log \\sum_c \\exp (z_c - z_\\max)\n",
        "$.\n",
        "In fact, one could replace $z_{max}$ with any constant. However, to help the numerical stability we use either min or max, so that all the values in the exponent are closer to zero.\n",
        "\n",
        "\n"
      ]
    },
    {
      "cell_type": "code",
      "execution_count": 92,
      "metadata": {
        "id": "ZwJQUUewUGpG"
      },
      "outputs": [],
      "source": [
        "# Helper function to compute the log-sum-exp without underflow for normalization\n",
        "def logsumexp(Z): # dimension C x N\n",
        "    Zmax = np.max(Z,axis=0) # max over C\n",
        "    log_sum_exp = Zmax + np.log(np.sum(np.exp(Z - Zmax), axis=0))\n",
        "    return log_sum_exp\n",
        "\n",
        "# Predict class labels from data\n",
        "def predict(self, x):\n",
        "  Nt, D = x.shape \n",
        "  # Prior:  Concatenate pi Nt times --> [C x Nt] matrix\n",
        "  log_prior = sparse.csr_matrix(np.repeat(np.log(self.pi)[:,np.newaxis], Nt, 1))\n",
        "  # Likelihood: log(theta) * transpose(X): [C x D] * [D x Nt] = [C x Nt]\n",
        "  log_likelihood = sparse.csr_matrix(np.log(self.theta)) * x.transpose()\n",
        "  log_posterior = (log_prior + log_likelihood).toarray() # Posterior = prior + likelihood\n",
        "  posterior = np.exp(log_posterior - logsumexp(log_posterior)) # Normalize \n",
        "  y_prob = posterior.T\n",
        "  y_pred = np.argmax(y_prob,1)\n",
        "  return y_pred \n",
        "\n",
        "MultinomialNaiveBayes.predict = predict"
      ]
    },
    {
      "cell_type": "markdown",
      "metadata": {
        "id": "g12S8EofgN_n"
      },
      "source": [
        "In our experiments, we will perform hyperparameter tuning on the Naive Bayes model with various values of the Laplace smoothing parameter $\\alpha$. "
      ]
    },
    {
      "cell_type": "code",
      "execution_count": 93,
      "metadata": {
        "id": "X9BQn4HhgNX-"
      },
      "outputs": [],
      "source": [
        "# Naive Bayes: Hyperparameters grid \n",
        "alpha_values = [0,0.1,0.25,0.5,0.75,1,1.5,2]\n",
        "hyperparametersNB = [dict(alpha=a) for a in alpha_values]"
      ]
    },
    {
      "cell_type": "markdown",
      "metadata": {
        "id": "hJRa76CnmqU6"
      },
      "source": [
        "### 2.2 Logistic Regression\n",
        "\n",
        "We will also use the logistic regression model provided by SciKit Learn on the same datasets. In our experiments, we will vary the following hyperparameters:\n",
        "\n",
        "\n",
        "- `C` $\\in \\{0.01,0.1,1,10,100\\}$ (default = 1.0): \n",
        "Inverse of regularization strength; must be a positive float. Like in support vector machines, smaller values specify stronger regularization. Note that we use the default $\\ell_2$ regularization in our models.\n",
        "\n",
        "- `solver` $\\in $ {`newton-cg`,`lbfgs`,`sag`,`saga`} (default = 'lbfgs'): Algorithm to use in the optimization problem. Default is ‘lbfgs’. For multiclass problems, these options are the only ones that handle multinomial loss;\n",
        "\n",
        "The following hyperparameters will remain fixed: \n",
        "\n",
        "- `penalty` = `l2`: We use the $\\ell_2$ norm for regularization.  \n",
        "- `multi_class` = `multinomial`: The loss minimised is the multinomial loss fit across the entire probability distribution, even when the data is binary. \n",
        "\n",
        "In our experiments, we will perform hyperparameter tuning on the Logistic Regression model with all possible combinations of the `C` and `solver` hyperparameters, for fixed `penalty = 'l2'` and `multi_class='multinomial'` parameters. \n"
      ]
    },
    {
      "cell_type": "code",
      "execution_count": 94,
      "metadata": {
        "id": "MF8K4_2mmpzB"
      },
      "outputs": [],
      "source": [
        "from sklearn.linear_model import LogisticRegression\n",
        "# Hyperparameters: list of 20 different parameter combinations\n",
        "solvers = ['lbfgs','saga']\n",
        "Cvals = [.01,.1,1,10,100]\n",
        "hyperparametersLR = [dict(multi_class='multinomial',\n",
        "                          solver=s,\n",
        "                          penalty='l2',\n",
        "                          C=c) for s in solvers for c in Cvals]\n",
        "hyperparametersLR.append(dict(multi_class='multinomial',\n",
        "                          solver='lbfgs',\n",
        "                          penalty='none'))\n",
        "hyperparametersLR.append(dict(multi_class='multinomial',\n",
        "                          solver='saga',\n",
        "                          penalty='none'))"
      ]
    },
    {
      "cell_type": "markdown",
      "metadata": {
        "id": "tzcvfrSgVviP"
      },
      "source": [
        "### 2.3 $k$-fold Cross Validation\n",
        "\n",
        "Now that we have our models, we want to perform $k$-fold cross validation on each dataset for both models. We write a function `cross_validation_split` which takes an arbitrary labelled dataset and an arbitrary model with fixed hyperparameters. The following splitting function splits each dataset into $k$ equal parts. \n"
      ]
    },
    {
      "cell_type": "code",
      "execution_count": 95,
      "metadata": {
        "id": "ZjV9HmrxPWuF"
      },
      "outputs": [],
      "source": [
        "# Splitting function: Creates list of indices for K cross-validation splits\n",
        "\n",
        "def cross_validation_split(dataset,K):\n",
        "  # Create list of indices for cross validation\n",
        "  N = dataset.trainData.shape[0] # Number of datapoints\n",
        "  size = math.floor(N/K)  # Size of each portion\n",
        "  idx = np.arange(N)      # Indices {0,1,...,N-1}\n",
        "  idx = np.random.permutation(idx)  # Shuffled indices \n",
        "  validationIDX = [list(idx[i:i+size]) for i in range(0,size*K,size)]\n",
        "  trainingIDX = [list(np.delete(idx,np.array(range(i,i+size)))) for i in range(0,size*K,size)]\n",
        "  return trainingIDX, validationIDX\n"
      ]
    },
    {
      "cell_type": "markdown",
      "source": [
        "We define a helper function designed to check the accuracy given a set of predictions $\\hat{y}$ and a set of true labels $y$."
      ],
      "metadata": {
        "id": "yp4cBFU0k0Hs"
      }
    },
    {
      "cell_type": "code",
      "source": [
        "# Accuracy function \n",
        "def evaluate_acc (y_pred, y_true):\n",
        "  return np.sum(y_pred == y_true)/y_pred.shape[0]"
      ],
      "metadata": {
        "id": "HRMpYQXdkqYD"
      },
      "execution_count": 96,
      "outputs": []
    },
    {
      "cell_type": "markdown",
      "metadata": {
        "id": "a8kc1bmxWQFQ"
      },
      "source": [
        "We then construct a function `kfoldCV` that performs $k$-fold cross validation with the help of the above splitting function. Each portion is successively used as a validation set while the rest is used as a training set to fit both models. For each split, the function computes the training and validation accuracies of the arbitrary model. "
      ]
    },
    {
      "cell_type": "code",
      "execution_count": 97,
      "metadata": {
        "id": "-yRqmPP-Vx5Q"
      },
      "outputs": [],
      "source": [
        "\n",
        "\n",
        "# K-fold Cross validation: iterates through each train/validation set \n",
        "# and returns the average result of each fold.\n",
        "\n",
        "def kfoldCV(dataset,K,model_name,hyperparameter):\n",
        "  # For each cross-validation split, train model, predict labels, report accuracy\n",
        "  trainingIDX, validationIDX = cross_validation_split(dataset,K)\n",
        "  training_accs = []\n",
        "  validAccuracies = []\n",
        "  trainAccuracies = []\n",
        "  train_accs = []\n",
        "  for trainIDX, validIDX in zip(trainingIDX,validationIDX):\n",
        "    # Split dataset using training/validation indices\n",
        "    x_train = dataset.trainData[trainIDX]\n",
        "    x_validation = dataset.trainData[validIDX]\n",
        "    y_train = dataset.trainLabels[trainIDX]\n",
        "    y_validation = dataset.trainLabels[validIDX]\n",
        "\n",
        "    # Train arbitrary model using training set\n",
        "    model = model_name(**hyperparameter)    \n",
        "    model.fit(x_train, y_train)   \n",
        "\n",
        "    # Predict labels using validation set, record validation accuracy\n",
        "    valid_pred = model.predict(x_validation)\n",
        "    validAccuracies.append(evaluate_acc(y_validation,valid_pred))\n",
        "\n",
        "    # Predict labels using training set, record training accuracy\n",
        "    train_pred = model.predict(x_train)\n",
        "    trainAccuracies.append(evaluate_acc(y_train,train_pred))\n",
        "\n",
        "  return validAccuracies, trainAccuracies\n",
        "\n"
      ]
    },
    {
      "cell_type": "markdown",
      "metadata": {
        "id": "XNT-XRhjRKck"
      },
      "source": [
        "\n",
        "### 2.4 Hyperparameter Tuning\n",
        "\n",
        "We also construct a function `hyperparameterTuning` for automatized hyperparameter tuning, which performs $k$-fold cross validation for each set of hyperparameters, then picks the model with highest average validation accuracy. It then runs this optimal model on the test data and reports the final test accuracy. \n"
      ]
    },
    {
      "cell_type": "code",
      "execution_count": 98,
      "metadata": {
        "id": "Dg0RTUQpNyqU"
      },
      "outputs": [],
      "source": [
        "# Hyperparameter tuning function: Chooses hyperparameters with highest average\n",
        "# validation accuracy and returns the test accuracy of the optimal model\n",
        "# hyperparameters = list of dictionaries of hyperparameters\n",
        "\n",
        "def hyperparameterTuning(dataset,K,model_name,hyperparameters):\n",
        "  # For each hyperparameter, perform k-fold cross validation\n",
        "  P = len(hyperparameters)\n",
        "  validAccuracies = np.zeros((P,K))\n",
        "  trainAccuracies = np.zeros((P,K))\n",
        "  models = []\n",
        "  for p in range(P):\n",
        "    hyperparameter = hyperparameters[p]\n",
        "    print(\"Hyperparameter:\", str(hyperparameter))\n",
        "    validAccuracies[p], trainAccuracies[p] = kfoldCV(dataset,K,model_name,hyperparameter)\n",
        "    print('\\tTrain Accuracy: ', trainAccuracies[p], \n",
        "          '\\n\\tValid Accuracy: ', validAccuracies[p])\n",
        "\n",
        "  # Find model with highest average validation accuracy\n",
        "  avgValAccs = np.mean(validAccuracies,1) \n",
        "  avgTrainAccs = np.mean(trainAccuracies,1)\n",
        "  bestValAcc = np.argmax(avgValAccs) \n",
        "  optParameter = hyperparameters[bestValAcc]   \n",
        "  optValidAccs = validAccuracies[bestValAcc]\n",
        "\n",
        "  # Train optModel with best hyperparameters and whole training set\n",
        "  optModel = model_name(**optParameter)\n",
        "  optModel.fit(dataset.trainData,dataset.trainLabels)  \n",
        "\n",
        "  # Run model on test data and compute optimal test accuracy\n",
        "  test_pred = optModel.predict(dataset.testData)\n",
        "  optTestAcc = evaluate_acc(test_pred,dataset.testLabels)\n",
        "  \n",
        "  return avgValAccs, optTestAcc, optParameter, avgTrainAccs\n"
      ]
    },
    {
      "cell_type": "markdown",
      "metadata": {
        "id": "T75Hi_VzqK4x"
      },
      "source": [
        "## Task 3: Run experiments\n"
      ]
    },
    {
      "cell_type": "markdown",
      "metadata": {
        "id": "BQ5FR_0wqekx"
      },
      "source": [
        "### 3.1 Multiclass Classification\n",
        "\n",
        "We now conduct multi-class classification on the NewsGroups and Sentiment140 datasets using both Multinomial Naive Bayes and Logistic Regression models. We use hyperparameter tuning with 5-fold cross validation to estimate accuracy performance in all of the experiments."
      ]
    },
    {
      "cell_type": "markdown",
      "metadata": {
        "id": "3UQiu0iP-t4n"
      },
      "source": [
        "#### 3.1.1 NewsGroups Classification\n",
        "\n",
        "We first run hyperparameter tuning for the Multinomial Naive Bayes model on the NewsGroups dataset. We can visualize the average validation accuracy as a function of the hyperparameter value. "
      ]
    },
    {
      "cell_type": "code",
      "execution_count": 99,
      "metadata": {
        "id": "_yH9-vuI-tVJ",
        "colab": {
          "base_uri": "https://localhost:8080/"
        },
        "outputId": "ddbe88fe-cc5e-4faf-b8b2-eecf9d56444b"
      },
      "outputs": [
        {
          "output_type": "stream",
          "name": "stdout",
          "text": [
            "Hyperparameter: {'alpha': 0}\n"
          ]
        },
        {
          "output_type": "stream",
          "name": "stderr",
          "text": [
            "/usr/local/lib/python3.7/dist-packages/ipykernel_launcher.py:13: RuntimeWarning: divide by zero encountered in log\n",
            "  del sys.path[0]\n",
            "/usr/local/lib/python3.7/dist-packages/ipykernel_launcher.py:4: RuntimeWarning: invalid value encountered in subtract\n",
            "  after removing the cwd from sys.path.\n",
            "/usr/local/lib/python3.7/dist-packages/ipykernel_launcher.py:13: RuntimeWarning: divide by zero encountered in log\n",
            "  del sys.path[0]\n",
            "/usr/local/lib/python3.7/dist-packages/ipykernel_launcher.py:4: RuntimeWarning: invalid value encountered in subtract\n",
            "  after removing the cwd from sys.path.\n",
            "/usr/local/lib/python3.7/dist-packages/ipykernel_launcher.py:13: RuntimeWarning: divide by zero encountered in log\n",
            "  del sys.path[0]\n",
            "/usr/local/lib/python3.7/dist-packages/ipykernel_launcher.py:4: RuntimeWarning: invalid value encountered in subtract\n",
            "  after removing the cwd from sys.path.\n",
            "/usr/local/lib/python3.7/dist-packages/ipykernel_launcher.py:13: RuntimeWarning: divide by zero encountered in log\n",
            "  del sys.path[0]\n",
            "/usr/local/lib/python3.7/dist-packages/ipykernel_launcher.py:4: RuntimeWarning: invalid value encountered in subtract\n",
            "  after removing the cwd from sys.path.\n",
            "/usr/local/lib/python3.7/dist-packages/ipykernel_launcher.py:13: RuntimeWarning: divide by zero encountered in log\n",
            "  del sys.path[0]\n",
            "/usr/local/lib/python3.7/dist-packages/ipykernel_launcher.py:4: RuntimeWarning: invalid value encountered in subtract\n",
            "  after removing the cwd from sys.path.\n"
          ]
        },
        {
          "output_type": "stream",
          "name": "stdout",
          "text": [
            "\tTrain Accuracy:  [0.96310208 0.96354397 0.96420681 0.96288113 0.9629916 ] \n",
            "\tValid Accuracy:  [0.13439434 0.13660477 0.12024757 0.1290893  0.14323607]\n",
            "Hyperparameter: {'alpha': 0.1}\n",
            "\tTrain Accuracy:  [0.94211224 0.94277508 0.94056562 0.9402342  0.94321697] \n",
            "\tValid Accuracy:  [0.7382847  0.75906278 0.75022104 0.74137931 0.755084  ]\n",
            "Hyperparameter: {'alpha': 0.25}\n",
            "\tTrain Accuracy:  [0.91758727 0.92079099 0.92045957 0.9199072  0.92410517] \n",
            "\tValid Accuracy:  [0.72060124 0.71750663 0.72679045 0.73430592 0.72767462]\n",
            "Hyperparameter: {'alpha': 0.5}\n",
            "\tTrain Accuracy:  [0.89781264 0.90002209 0.89262042 0.9036677  0.89162616] \n",
            "\tValid Accuracy:  [0.71750663 0.70954907 0.70733864 0.73607427 0.68656057]\n",
            "Hyperparameter: {'alpha': 0.75}\n",
            "\tTrain Accuracy:  [0.88135219 0.88124171 0.8845559  0.87262483 0.88300928] \n",
            "\tValid Accuracy:  [0.70512821 0.68435013 0.70601238 0.70601238 0.70512821]\n",
            "Hyperparameter: {'alpha': 1}\n",
            "\tTrain Accuracy:  [0.86312417 0.87417145 0.86864781 0.86433937 0.86378701] \n",
            "\tValid Accuracy:  [0.6954023  0.70247569 0.68567639 0.69584439 0.70026525]\n",
            "Hyperparameter: {'alpha': 1.5}\n",
            "\tTrain Accuracy:  [0.85064074 0.83826779 0.84423332 0.84798939 0.8528502 ] \n",
            "\tValid Accuracy:  [0.68656057 0.66710875 0.69849691 0.67329797 0.69584439]\n",
            "Hyperparameter: {'alpha': 2}\n",
            "\tTrain Accuracy:  [0.82865665 0.83771542 0.83462218 0.82335395 0.83241273] \n",
            "\tValid Accuracy:  [0.66666667 0.68656057 0.69672856 0.65959328 0.64854111]\n"
          ]
        }
      ],
      "source": [
        "# Naive Bayes\n",
        "K = 5\n",
        "dataset = NewsGroups\n",
        "model_name = MultinomialNaiveBayes\n",
        "avgValAccsNB1, optTestAccNB1, optParameterNB1, avgTrainAccsNB1 = hyperparameterTuning(\n",
        "    dataset,K,model_name,hyperparametersNB)\n",
        "\n"
      ]
    },
    {
      "cell_type": "code",
      "execution_count": null,
      "metadata": {
        "colab": {
          "base_uri": "https://localhost:8080/",
          "height": 325
        },
        "id": "d95L5jYQGZJW",
        "outputId": "40505631-38f6-49a6-f165-ec4876db9bb8"
      },
      "outputs": [
        {
          "output_type": "display_data",
          "data": {
            "image/png": "[encoded data removed]",
            "text/plain": [
              "<Figure size 432x288 with 1 Axes>"
            ]
          },
          "metadata": {
            "needs_background": "light"
          }
        }
      ],
      "source": [
        "# Plot average validation accuracies\n",
        "plt.plot()\n",
        "plt.scatter(alpha_values, avgValAccsNB1,label='Validation',c='teal',alpha=0.7)\n",
        "plt.plot(alpha_values, avgValAccsNB1,'teal',alpha=0.7)\n",
        "plt.scatter(alpha_values, avgTrainAccsNB1,label='Training',c='orange',alpha=0.7)\n",
        "plt.plot(alpha_values, avgTrainAccsNB1,'orange',alpha=0.7)\n",
        "plt.title('Average 5-fold cross-validation accuracies\\n of Naive Bayes model on the NewsGroups dataset \\nfor different values of the Laplace smoothing parameter')\n",
        "plt.xlabel('Laplace smoothing parameter')\n",
        "plt.ylabel('Accuracy')\n",
        "plt.xlim(0,max(alpha_values))\n",
        "plt.legend()\n",
        "plt.show()"
      ]
    },
    {
      "cell_type": "markdown",
      "metadata": {
        "id": "SFFY4bXPAKEg"
      },
      "source": [
        "We also run hyperparameter tuning for the Logistic Regression model on the NewsGroups dataset. We can visualize the average validation accuracy as a function of the hyperparameter value. "
      ]
    },
    {
      "cell_type": "code",
      "execution_count": null,
      "metadata": {
        "colab": {
          "base_uri": "https://localhost:8080/"
        },
        "id": "Q-dYrhnOAE_V",
        "outputId": "959f6709-8bb4-4222-e5c3-a6cd99b46d21"
      },
      "outputs": [
        {
          "output_type": "stream",
          "name": "stdout",
          "text": [
            "Hyperparameter: {'multi_class': 'multinomial', 'solver': 'lbfgs', 'penalty': 'l2', 'C': 0.01}\n",
            "\tTrain Accuracy:  [0.42377375 0.52452497 0.52673442 0.57865665 0.51513478] \n",
            "\tValid Accuracy:  [0.34924845 0.42926614 0.45313882 0.49204244 0.42793988]\n",
            "Hyperparameter: {'multi_class': 'multinomial', 'solver': 'lbfgs', 'penalty': 'l2', 'C': 0.1}\n",
            "\tTrain Accuracy:  [0.76347768 0.77286787 0.76524525 0.75695979 0.76723376] \n",
            "\tValid Accuracy:  [0.63041556 0.66578249 0.66091954 0.65384615 0.65207781]\n",
            "Hyperparameter: {'multi_class': 'multinomial', 'solver': 'lbfgs', 'penalty': 'l2', 'C': 1}\n",
            "\tTrain Accuracy:  [0.92200619 0.92045957 0.91979673 0.91825011 0.91758727] \n",
            "\tValid Accuracy:  [0.72148541 0.73961096 0.72900088 0.7285588  0.73032714]\n",
            "Hyperparameter: {'multi_class': 'multinomial', 'solver': 'lbfgs', 'penalty': 'l2', 'C': 10}\n"
          ]
        },
        {
          "output_type": "stream",
          "name": "stderr",
          "text": [
            "/usr/local/lib/python3.7/dist-packages/sklearn/linear_model/_logistic.py:818: ConvergenceWarning: lbfgs failed to converge (status=1):\n",
            "STOP: TOTAL NO. of ITERATIONS REACHED LIMIT.\n",
            "\n",
            "Increase the number of iterations (max_iter) or scale the data as shown in:\n",
            "    https://scikit-learn.org/stable/modules/preprocessing.html\n",
            "Please also refer to the documentation for alternative solver options:\n",
            "    https://scikit-learn.org/stable/modules/linear_model.html#logistic-regression\n",
            "  extra_warning_msg=_LOGISTIC_SOLVER_CONVERGENCE_MSG,\n",
            "/usr/local/lib/python3.7/dist-packages/sklearn/linear_model/_logistic.py:818: ConvergenceWarning: lbfgs failed to converge (status=1):\n",
            "STOP: TOTAL NO. of ITERATIONS REACHED LIMIT.\n",
            "\n",
            "Increase the number of iterations (max_iter) or scale the data as shown in:\n",
            "    https://scikit-learn.org/stable/modules/preprocessing.html\n",
            "Please also refer to the documentation for alternative solver options:\n",
            "    https://scikit-learn.org/stable/modules/linear_model.html#logistic-regression\n",
            "  extra_warning_msg=_LOGISTIC_SOLVER_CONVERGENCE_MSG,\n",
            "/usr/local/lib/python3.7/dist-packages/sklearn/linear_model/_logistic.py:818: ConvergenceWarning: lbfgs failed to converge (status=1):\n",
            "STOP: TOTAL NO. of ITERATIONS REACHED LIMIT.\n",
            "\n",
            "Increase the number of iterations (max_iter) or scale the data as shown in:\n",
            "    https://scikit-learn.org/stable/modules/preprocessing.html\n",
            "Please also refer to the documentation for alternative solver options:\n",
            "    https://scikit-learn.org/stable/modules/linear_model.html#logistic-regression\n",
            "  extra_warning_msg=_LOGISTIC_SOLVER_CONVERGENCE_MSG,\n",
            "/usr/local/lib/python3.7/dist-packages/sklearn/linear_model/_logistic.py:818: ConvergenceWarning: lbfgs failed to converge (status=1):\n",
            "STOP: TOTAL NO. of ITERATIONS REACHED LIMIT.\n",
            "\n",
            "Increase the number of iterations (max_iter) or scale the data as shown in:\n",
            "    https://scikit-learn.org/stable/modules/preprocessing.html\n",
            "Please also refer to the documentation for alternative solver options:\n",
            "    https://scikit-learn.org/stable/modules/linear_model.html#logistic-regression\n",
            "  extra_warning_msg=_LOGISTIC_SOLVER_CONVERGENCE_MSG,\n",
            "/usr/local/lib/python3.7/dist-packages/sklearn/linear_model/_logistic.py:818: ConvergenceWarning: lbfgs failed to converge (status=1):\n",
            "STOP: TOTAL NO. of ITERATIONS REACHED LIMIT.\n",
            "\n",
            "Increase the number of iterations (max_iter) or scale the data as shown in:\n",
            "    https://scikit-learn.org/stable/modules/preprocessing.html\n",
            "Please also refer to the documentation for alternative solver options:\n",
            "    https://scikit-learn.org/stable/modules/linear_model.html#logistic-regression\n",
            "  extra_warning_msg=_LOGISTIC_SOLVER_CONVERGENCE_MSG,\n"
          ]
        },
        {
          "output_type": "stream",
          "name": "stdout",
          "text": [
            "\tTrain Accuracy:  [0.9743703  0.97282369 0.97414936 0.97304463 0.97304463] \n",
            "\tValid Accuracy:  [0.73872679 0.74580018 0.7418214  0.74668435 0.75419982]\n",
            "Hyperparameter: {'multi_class': 'multinomial', 'solver': 'lbfgs', 'penalty': 'l2', 'C': 100}\n"
          ]
        },
        {
          "output_type": "stream",
          "name": "stderr",
          "text": [
            "/usr/local/lib/python3.7/dist-packages/sklearn/linear_model/_logistic.py:818: ConvergenceWarning: lbfgs failed to converge (status=1):\n",
            "STOP: TOTAL NO. of ITERATIONS REACHED LIMIT.\n",
            "\n",
            "Increase the number of iterations (max_iter) or scale the data as shown in:\n",
            "    https://scikit-learn.org/stable/modules/preprocessing.html\n",
            "Please also refer to the documentation for alternative solver options:\n",
            "    https://scikit-learn.org/stable/modules/linear_model.html#logistic-regression\n",
            "  extra_warning_msg=_LOGISTIC_SOLVER_CONVERGENCE_MSG,\n",
            "/usr/local/lib/python3.7/dist-packages/sklearn/linear_model/_logistic.py:818: ConvergenceWarning: lbfgs failed to converge (status=1):\n",
            "STOP: TOTAL NO. of ITERATIONS REACHED LIMIT.\n",
            "\n",
            "Increase the number of iterations (max_iter) or scale the data as shown in:\n",
            "    https://scikit-learn.org/stable/modules/preprocessing.html\n",
            "Please also refer to the documentation for alternative solver options:\n",
            "    https://scikit-learn.org/stable/modules/linear_model.html#logistic-regression\n",
            "  extra_warning_msg=_LOGISTIC_SOLVER_CONVERGENCE_MSG,\n",
            "/usr/local/lib/python3.7/dist-packages/sklearn/linear_model/_logistic.py:818: ConvergenceWarning: lbfgs failed to converge (status=1):\n",
            "STOP: TOTAL NO. of ITERATIONS REACHED LIMIT.\n",
            "\n",
            "Increase the number of iterations (max_iter) or scale the data as shown in:\n",
            "    https://scikit-learn.org/stable/modules/preprocessing.html\n",
            "Please also refer to the documentation for alternative solver options:\n",
            "    https://scikit-learn.org/stable/modules/linear_model.html#logistic-regression\n",
            "  extra_warning_msg=_LOGISTIC_SOLVER_CONVERGENCE_MSG,\n",
            "/usr/local/lib/python3.7/dist-packages/sklearn/linear_model/_logistic.py:818: ConvergenceWarning: lbfgs failed to converge (status=1):\n",
            "STOP: TOTAL NO. of ITERATIONS REACHED LIMIT.\n",
            "\n",
            "Increase the number of iterations (max_iter) or scale the data as shown in:\n",
            "    https://scikit-learn.org/stable/modules/preprocessing.html\n",
            "Please also refer to the documentation for alternative solver options:\n",
            "    https://scikit-learn.org/stable/modules/linear_model.html#logistic-regression\n",
            "  extra_warning_msg=_LOGISTIC_SOLVER_CONVERGENCE_MSG,\n",
            "/usr/local/lib/python3.7/dist-packages/sklearn/linear_model/_logistic.py:818: ConvergenceWarning: lbfgs failed to converge (status=1):\n",
            "STOP: TOTAL NO. of ITERATIONS REACHED LIMIT.\n",
            "\n",
            "Increase the number of iterations (max_iter) or scale the data as shown in:\n",
            "    https://scikit-learn.org/stable/modules/preprocessing.html\n",
            "Please also refer to the documentation for alternative solver options:\n",
            "    https://scikit-learn.org/stable/modules/linear_model.html#logistic-regression\n",
            "  extra_warning_msg=_LOGISTIC_SOLVER_CONVERGENCE_MSG,\n"
          ]
        },
        {
          "output_type": "stream",
          "name": "stdout",
          "text": [
            "\tTrain Accuracy:  [0.973597   0.9743703  0.9743703  0.97381794 0.97425983] \n",
            "\tValid Accuracy:  [0.73916888 0.7219275  0.74624226 0.75110522 0.74801061]\n",
            "Hyperparameter: {'multi_class': 'multinomial', 'solver': 'saga', 'penalty': 'l2', 'C': 0.01}\n",
            "\tTrain Accuracy:  [0.47525409 0.47768449 0.53733981 0.53082192 0.45072912] \n",
            "\tValid Accuracy:  [0.37931034 0.38682582 0.4504863  0.46153846 0.37931034]\n",
            "Hyperparameter: {'multi_class': 'multinomial', 'solver': 'saga', 'penalty': 'l2', 'C': 0.1}\n",
            "\tTrain Accuracy:  [0.76403005 0.76513478 0.76535572 0.76723376 0.7768449 ] \n",
            "\tValid Accuracy:  [0.65517241 0.63351017 0.68169761 0.64854111 0.63748895]\n",
            "Hyperparameter: {'multi_class': 'multinomial', 'solver': 'saga', 'penalty': 'l2', 'C': 1}\n",
            "\tTrain Accuracy:  [0.91902342 0.91813964 0.91935484 0.91968626 0.91836058] \n",
            "\tValid Accuracy:  [0.73430592 0.7382847  0.71087533 0.73474801 0.73474801]\n",
            "Hyperparameter: {'multi_class': 'multinomial', 'solver': 'saga', 'penalty': 'l2', 'C': 10}\n",
            "\tTrain Accuracy:  [0.97425983 0.97227132 0.97337605 0.97171896 0.9748122 ] \n",
            "\tValid Accuracy:  [0.73740053 0.76525199 0.73342175 0.74801061 0.73253758]\n",
            "Hyperparameter: {'multi_class': 'multinomial', 'solver': 'saga', 'penalty': 'l2', 'C': 100}\n"
          ]
        },
        {
          "output_type": "stream",
          "name": "stderr",
          "text": [
            "/usr/local/lib/python3.7/dist-packages/sklearn/linear_model/_sag.py:354: ConvergenceWarning: The max_iter was reached which means the coef_ did not converge\n",
            "  ConvergenceWarning,\n",
            "/usr/local/lib/python3.7/dist-packages/sklearn/linear_model/_sag.py:354: ConvergenceWarning: The max_iter was reached which means the coef_ did not converge\n",
            "  ConvergenceWarning,\n",
            "/usr/local/lib/python3.7/dist-packages/sklearn/linear_model/_sag.py:354: ConvergenceWarning: The max_iter was reached which means the coef_ did not converge\n",
            "  ConvergenceWarning,\n",
            "/usr/local/lib/python3.7/dist-packages/sklearn/linear_model/_sag.py:354: ConvergenceWarning: The max_iter was reached which means the coef_ did not converge\n",
            "  ConvergenceWarning,\n",
            "/usr/local/lib/python3.7/dist-packages/sklearn/linear_model/_sag.py:354: ConvergenceWarning: The max_iter was reached which means the coef_ did not converge\n",
            "  ConvergenceWarning,\n"
          ]
        },
        {
          "output_type": "stream",
          "name": "stdout",
          "text": [
            "\tTrain Accuracy:  [0.97459125 0.97425983 0.97370747 0.97392841 0.97392841] \n",
            "\tValid Accuracy:  [0.74314766 0.7418214  0.75419982 0.74801061 0.73209549]\n",
            "Hyperparameter: {'multi_class': 'multinomial', 'solver': 'lbfgs', 'penalty': 'none'}\n"
          ]
        },
        {
          "output_type": "stream",
          "name": "stderr",
          "text": [
            "/usr/local/lib/python3.7/dist-packages/sklearn/linear_model/_logistic.py:818: ConvergenceWarning: lbfgs failed to converge (status=1):\n",
            "STOP: TOTAL NO. of ITERATIONS REACHED LIMIT.\n",
            "\n",
            "Increase the number of iterations (max_iter) or scale the data as shown in:\n",
            "    https://scikit-learn.org/stable/modules/preprocessing.html\n",
            "Please also refer to the documentation for alternative solver options:\n",
            "    https://scikit-learn.org/stable/modules/linear_model.html#logistic-regression\n",
            "  extra_warning_msg=_LOGISTIC_SOLVER_CONVERGENCE_MSG,\n",
            "/usr/local/lib/python3.7/dist-packages/sklearn/linear_model/_logistic.py:818: ConvergenceWarning: lbfgs failed to converge (status=1):\n",
            "STOP: TOTAL NO. of ITERATIONS REACHED LIMIT.\n",
            "\n",
            "Increase the number of iterations (max_iter) or scale the data as shown in:\n",
            "    https://scikit-learn.org/stable/modules/preprocessing.html\n",
            "Please also refer to the documentation for alternative solver options:\n",
            "    https://scikit-learn.org/stable/modules/linear_model.html#logistic-regression\n",
            "  extra_warning_msg=_LOGISTIC_SOLVER_CONVERGENCE_MSG,\n",
            "/usr/local/lib/python3.7/dist-packages/sklearn/linear_model/_logistic.py:818: ConvergenceWarning: lbfgs failed to converge (status=1):\n",
            "STOP: TOTAL NO. of ITERATIONS REACHED LIMIT.\n",
            "\n",
            "Increase the number of iterations (max_iter) or scale the data as shown in:\n",
            "    https://scikit-learn.org/stable/modules/preprocessing.html\n",
            "Please also refer to the documentation for alternative solver options:\n",
            "    https://scikit-learn.org/stable/modules/linear_model.html#logistic-regression\n",
            "  extra_warning_msg=_LOGISTIC_SOLVER_CONVERGENCE_MSG,\n",
            "/usr/local/lib/python3.7/dist-packages/sklearn/linear_model/_logistic.py:818: ConvergenceWarning: lbfgs failed to converge (status=1):\n",
            "STOP: TOTAL NO. of ITERATIONS REACHED LIMIT.\n",
            "\n",
            "Increase the number of iterations (max_iter) or scale the data as shown in:\n",
            "    https://scikit-learn.org/stable/modules/preprocessing.html\n",
            "Please also refer to the documentation for alternative solver options:\n",
            "    https://scikit-learn.org/stable/modules/linear_model.html#logistic-regression\n",
            "  extra_warning_msg=_LOGISTIC_SOLVER_CONVERGENCE_MSG,\n",
            "/usr/local/lib/python3.7/dist-packages/sklearn/linear_model/_logistic.py:818: ConvergenceWarning: lbfgs failed to converge (status=1):\n",
            "STOP: TOTAL NO. of ITERATIONS REACHED LIMIT.\n",
            "\n",
            "Increase the number of iterations (max_iter) or scale the data as shown in:\n",
            "    https://scikit-learn.org/stable/modules/preprocessing.html\n",
            "Please also refer to the documentation for alternative solver options:\n",
            "    https://scikit-learn.org/stable/modules/linear_model.html#logistic-regression\n",
            "  extra_warning_msg=_LOGISTIC_SOLVER_CONVERGENCE_MSG,\n"
          ]
        },
        {
          "output_type": "stream",
          "name": "stdout",
          "text": [
            "\tTrain Accuracy:  [0.9743703  0.9748122  0.97392841 0.97392841 0.97337605] \n",
            "\tValid Accuracy:  [0.72767462 0.73032714 0.73651636 0.73342175 0.72458002]\n",
            "Hyperparameter: {'multi_class': 'multinomial', 'solver': 'saga', 'penalty': 'none'}\n"
          ]
        },
        {
          "output_type": "stream",
          "name": "stderr",
          "text": [
            "/usr/local/lib/python3.7/dist-packages/sklearn/linear_model/_sag.py:354: ConvergenceWarning: The max_iter was reached which means the coef_ did not converge\n",
            "  ConvergenceWarning,\n",
            "/usr/local/lib/python3.7/dist-packages/sklearn/linear_model/_sag.py:354: ConvergenceWarning: The max_iter was reached which means the coef_ did not converge\n",
            "  ConvergenceWarning,\n",
            "/usr/local/lib/python3.7/dist-packages/sklearn/linear_model/_sag.py:354: ConvergenceWarning: The max_iter was reached which means the coef_ did not converge\n",
            "  ConvergenceWarning,\n",
            "/usr/local/lib/python3.7/dist-packages/sklearn/linear_model/_sag.py:354: ConvergenceWarning: The max_iter was reached which means the coef_ did not converge\n",
            "  ConvergenceWarning,\n",
            "/usr/local/lib/python3.7/dist-packages/sklearn/linear_model/_sag.py:354: ConvergenceWarning: The max_iter was reached which means the coef_ did not converge\n",
            "  ConvergenceWarning,\n"
          ]
        },
        {
          "output_type": "stream",
          "name": "stdout",
          "text": [
            "\tTrain Accuracy:  [0.97470172 0.97414936 0.97459125 0.97370747 0.9731551 ] \n",
            "\tValid Accuracy:  [0.7285588  0.74447392 0.75198939 0.73386384 0.75552608]\n"
          ]
        },
        {
          "output_type": "stream",
          "name": "stderr",
          "text": [
            "/usr/local/lib/python3.7/dist-packages/sklearn/linear_model/_logistic.py:818: ConvergenceWarning: lbfgs failed to converge (status=1):\n",
            "STOP: TOTAL NO. of ITERATIONS REACHED LIMIT.\n",
            "\n",
            "Increase the number of iterations (max_iter) or scale the data as shown in:\n",
            "    https://scikit-learn.org/stable/modules/preprocessing.html\n",
            "Please also refer to the documentation for alternative solver options:\n",
            "    https://scikit-learn.org/stable/modules/linear_model.html#logistic-regression\n",
            "  extra_warning_msg=_LOGISTIC_SOLVER_CONVERGENCE_MSG,\n"
          ]
        }
      ],
      "source": [
        "# Logistic Regression\n",
        "model_name = LogisticRegression\n",
        "avgValAccsLR1, optTestAccLR1, optParameterLR1, avgTrainAccsLR1 = hyperparameterTuning(\n",
        "    dataset,K,model_name,hyperparametersLR)\n"
      ]
    },
    {
      "cell_type": "code",
      "execution_count": null,
      "metadata": {
        "id": "0nuynjZzF6bN",
        "colab": {
          "base_uri": "https://localhost:8080/",
          "height": 234
        },
        "outputId": "c25058f2-5b67-46c3-e62c-4ed201c22a63"
      },
      "outputs": [
        {
          "output_type": "error",
          "ename": "NameError",
          "evalue": "ignored",
          "traceback": [
            "\u001b[0;31m---------------------------------------------------------------------------\u001b[0m",
            "\u001b[0;31mNameError\u001b[0m                                 Traceback (most recent call last)",
            "\u001b[0;32m<ipython-input-1-4366eecedcde>\u001b[0m in \u001b[0;36m<module>\u001b[0;34m()\u001b[0m\n\u001b[1;32m      1\u001b[0m \u001b[0;31m# Plot average validation accuracies\u001b[0m\u001b[0;34m\u001b[0m\u001b[0;34m\u001b[0m\u001b[0;34m\u001b[0m\u001b[0m\n\u001b[0;32m----> 2\u001b[0;31m \u001b[0mplt\u001b[0m\u001b[0;34m.\u001b[0m\u001b[0mplot\u001b[0m\u001b[0;34m(\u001b[0m\u001b[0;34m)\u001b[0m\u001b[0;34m\u001b[0m\u001b[0;34m\u001b[0m\u001b[0m\n\u001b[0m\u001b[1;32m      3\u001b[0m \u001b[0mplt\u001b[0m\u001b[0;34m.\u001b[0m\u001b[0mrcParams\u001b[0m\u001b[0;34m[\u001b[0m\u001b[0;34m\"figure.figsize\"\u001b[0m\u001b[0;34m]\u001b[0m \u001b[0;34m=\u001b[0m \u001b[0;34m(\u001b[0m\u001b[0;36m8\u001b[0m\u001b[0;34m,\u001b[0m\u001b[0;36m7\u001b[0m\u001b[0;34m)\u001b[0m\u001b[0;34m\u001b[0m\u001b[0;34m\u001b[0m\u001b[0m\n\u001b[1;32m      4\u001b[0m \u001b[0mplt\u001b[0m\u001b[0;34m.\u001b[0m\u001b[0mscatter\u001b[0m\u001b[0;34m(\u001b[0m\u001b[0mCvals\u001b[0m\u001b[0;34m,\u001b[0m \u001b[0mavgValAccsLR1\u001b[0m\u001b[0;34m[\u001b[0m\u001b[0;36m0\u001b[0m\u001b[0;34m:\u001b[0m\u001b[0;36m5\u001b[0m\u001b[0;34m]\u001b[0m\u001b[0;34m,\u001b[0m\u001b[0mlabel\u001b[0m\u001b[0;34m=\u001b[0m\u001b[0;34m'Validation lbfgs L2'\u001b[0m\u001b[0;34m,\u001b[0m\u001b[0mc\u001b[0m\u001b[0;34m=\u001b[0m\u001b[0;34m'teal'\u001b[0m\u001b[0;34m,\u001b[0m\u001b[0malpha\u001b[0m\u001b[0;34m=\u001b[0m\u001b[0;36m0.5\u001b[0m\u001b[0;34m)\u001b[0m\u001b[0;34m\u001b[0m\u001b[0;34m\u001b[0m\u001b[0m\n\u001b[1;32m      5\u001b[0m \u001b[0mplt\u001b[0m\u001b[0;34m.\u001b[0m\u001b[0mplot\u001b[0m\u001b[0;34m(\u001b[0m\u001b[0mCvals\u001b[0m\u001b[0;34m,\u001b[0m \u001b[0mavgValAccsLR1\u001b[0m\u001b[0;34m[\u001b[0m\u001b[0;36m0\u001b[0m\u001b[0;34m:\u001b[0m\u001b[0;36m5\u001b[0m\u001b[0;34m]\u001b[0m\u001b[0;34m,\u001b[0m\u001b[0;34m'teal'\u001b[0m\u001b[0;34m,\u001b[0m\u001b[0malpha\u001b[0m\u001b[0;34m=\u001b[0m\u001b[0;36m0.5\u001b[0m\u001b[0;34m)\u001b[0m\u001b[0;34m\u001b[0m\u001b[0;34m\u001b[0m\u001b[0m\n",
            "\u001b[0;31mNameError\u001b[0m: name 'plt' is not defined"
          ]
        }
      ],
      "source": [
        "# Plot average validation accuracies\n",
        "plt.plot()\n",
        "plt.rcParams[\"figure.figsize\"] = (8,7)\n",
        "plt.scatter(Cvals, avgValAccsLR1[0:5],label='Validation lbfgs L2',c='teal',alpha=0.5)\n",
        "plt.plot(Cvals, avgValAccsLR1[0:5],'teal',alpha=0.5)\n",
        "plt.scatter(Cvals, avgTrainAccsLR1[0:5],label='Training lbfgs L2',c='navy',alpha=0.5)\n",
        "plt.plot(Cvals, avgTrainAccsLR1[0:5],'navy',alpha=0.5)\n",
        "\n",
        "plt.scatter(Cvals, avgValAccsLR1[5:10],label='Validation saga L2',c='crimson',alpha=0.5)\n",
        "plt.plot(Cvals, avgValAccsLR1[5:10],'crimson',alpha=0.5)\n",
        "plt.scatter(Cvals, avgTrainAccsLR1[5:10],label='Training saga L2',c='darkred',alpha=0.5)\n",
        "plt.plot(Cvals, avgTrainAccsLR1[5:10],'darkred',alpha=0.5)\n",
        "\n",
        "plt.axhline(y=avgValAccsLR1[10],c='teal', linestyle='dashed',label='Validation lbfgs no reg.',alpha=0.5)\n",
        "plt.axhline(y=avgTrainAccsLR1[10],c='navy',linestyle='dashed',label='Training lbfgs no reg.',alpha=0.5)\n",
        "plt.axhline(y=avgValAccsLR1[11],c='crimson',linestyle='dashed',label='Validation saga no reg.',alpha=0.5)\n",
        "plt.axhline(y=avgTrainAccsLR1[11],c='darkred',linestyle='dashed',label='Training saga no reg.',alpha=0.5)\n",
        "\n",
        "plt.title('Average 5-fold cross-validation accuracies of\\n Logistic Regression model on the NewsGroups dataset\\n depending on solver and regularization strength')\n",
        "plt.xlabel('Regularization constant C')\n",
        "plt.ylabel('Accuracy')\n",
        "plt.xscale('log')\n",
        "plt.legend()\n",
        "plt.show()\n",
        "plt.savefig(path+'NewsGroupsLR.png')"
      ]
    },
    {
      "cell_type": "markdown",
      "metadata": {
        "id": "9LQeojCm-uXU"
      },
      "source": [
        "#### 3.1.2 Sentiment140 Classification\n",
        "\n",
        "We first run hyperparameter tuning for the Multinomial Naive Bayes model on the Sentiment140 dataset. We can visualize the average validation accuracy as a function of the hyperparameter value. "
      ]
    },
    {
      "cell_type": "code",
      "execution_count": null,
      "metadata": {
        "id": "eKXR7XNgqRE1",
        "colab": {
          "base_uri": "https://localhost:8080/"
        },
        "outputId": "22e1cc76-f74e-41b9-c33f-336ad3bfe9db"
      },
      "outputs": [
        {
          "output_type": "stream",
          "name": "stdout",
          "text": [
            "Hyperparameter: {'alpha': 0}\n"
          ]
        },
        {
          "output_type": "stream",
          "name": "stderr",
          "text": [
            "/usr/local/lib/python3.7/dist-packages/ipykernel_launcher.py:13: RuntimeWarning: divide by zero encountered in log\n",
            "  del sys.path[0]\n",
            "/usr/local/lib/python3.7/dist-packages/ipykernel_launcher.py:4: RuntimeWarning: invalid value encountered in subtract\n",
            "  after removing the cwd from sys.path.\n",
            "/usr/local/lib/python3.7/dist-packages/ipykernel_launcher.py:13: RuntimeWarning: divide by zero encountered in log\n",
            "  del sys.path[0]\n",
            "/usr/local/lib/python3.7/dist-packages/ipykernel_launcher.py:4: RuntimeWarning: invalid value encountered in subtract\n",
            "  after removing the cwd from sys.path.\n",
            "/usr/local/lib/python3.7/dist-packages/ipykernel_launcher.py:13: RuntimeWarning: divide by zero encountered in log\n",
            "  del sys.path[0]\n",
            "/usr/local/lib/python3.7/dist-packages/ipykernel_launcher.py:4: RuntimeWarning: invalid value encountered in subtract\n",
            "  after removing the cwd from sys.path.\n",
            "/usr/local/lib/python3.7/dist-packages/ipykernel_launcher.py:13: RuntimeWarning: divide by zero encountered in log\n",
            "  del sys.path[0]\n",
            "/usr/local/lib/python3.7/dist-packages/ipykernel_launcher.py:4: RuntimeWarning: invalid value encountered in subtract\n",
            "  after removing the cwd from sys.path.\n",
            "/usr/local/lib/python3.7/dist-packages/ipykernel_launcher.py:13: RuntimeWarning: divide by zero encountered in log\n",
            "  del sys.path[0]\n",
            "/usr/local/lib/python3.7/dist-packages/ipykernel_launcher.py:4: RuntimeWarning: invalid value encountered in subtract\n",
            "  after removing the cwd from sys.path.\n"
          ]
        },
        {
          "output_type": "stream",
          "name": "stdout",
          "text": [
            "\tTrain Accuracy:  [0.92050781 0.92053125 0.92023438 0.92089062 0.91978906] \n",
            "\tValid Accuracy:  [0.58659375 0.5875     0.58765625 0.58903125 0.58775   ]\n",
            "Hyperparameter: {'alpha': 0.1}\n",
            "\tTrain Accuracy:  [0.91316406 0.91322656 0.9135     0.91390625 0.913125  ] \n",
            "\tValid Accuracy:  [0.72675   0.7265625 0.7245625 0.7258125 0.7256875]\n",
            "Hyperparameter: {'alpha': 0.25}\n",
            "\tTrain Accuracy:  [0.90296875 0.90199219 0.90286719 0.90346875 0.90325   ] \n",
            "\tValid Accuracy:  [0.73409375 0.73465625 0.732625   0.7351875  0.73709375]\n",
            "Hyperparameter: {'alpha': 0.5}\n",
            "\tTrain Accuracy:  [0.88948437 0.88892187 0.88869531 0.88848437 0.88778906] \n",
            "\tValid Accuracy:  [0.73925    0.73996875 0.7405625  0.74271875 0.7459375 ]\n",
            "Hyperparameter: {'alpha': 0.75}\n",
            "\tTrain Accuracy:  [0.87742188 0.87864062 0.87689844 0.87775781 0.87716406] \n",
            "\tValid Accuracy:  [0.741      0.74321875 0.74475    0.743875   0.74653125]\n",
            "Hyperparameter: {'alpha': 1}\n",
            "\tTrain Accuracy:  [0.86871094 0.86941406 0.86842188 0.86853125 0.86988281] \n",
            "\tValid Accuracy:  [0.7509375 0.747     0.743375  0.7485    0.7489375]\n",
            "Hyperparameter: {'alpha': 1.5}\n",
            "\tTrain Accuracy:  [0.85541406 0.85700781 0.85571875 0.85571875 0.85665625] \n",
            "\tValid Accuracy:  [0.7519375  0.74671875 0.751      0.75084375 0.748375  ]\n",
            "Hyperparameter: {'alpha': 2}\n",
            "\tTrain Accuracy:  [0.84621875 0.8470625  0.84604687 0.84571094 0.84607813] \n",
            "\tValid Accuracy:  [0.75175    0.75128125 0.74996875 0.74634375 0.75040625]\n"
          ]
        }
      ],
      "source": [
        "# Naive Bayes\n",
        "K = 5\n",
        "dataset = Sentiment140\n",
        "model_name = MultinomialNaiveBayes\n",
        "avgValAccsNB2, optTestAccNB2, optParameterNB2, avgTrainAccsNB2 = hyperparameterTuning(dataset,K,model_name,hyperparametersNB)\n"
      ]
    },
    {
      "cell_type": "code",
      "execution_count": null,
      "metadata": {
        "id": "R6IBeAvPF-BV",
        "colab": {
          "base_uri": "https://localhost:8080/",
          "height": 434
        },
        "outputId": "34315d22-d6c9-4269-86af-431aa7a29257"
      },
      "outputs": [
        {
          "output_type": "display_data",
          "data": {
            "image/png": "[encoded data removed]",
            "text/plain": [
              "<Figure size 576x432 with 1 Axes>"
            ]
          },
          "metadata": {
            "needs_background": "light"
          }
        }
      ],
      "source": [
        "# Plot average validation accuracies\n",
        "plt.plot()\n",
        "plt.scatter(alpha_values, avgValAccsNB2,label='Validation',c='teal',alpha=0.7)\n",
        "plt.plot(alpha_values, avgValAccsNB2,'teal',alpha=0.7)\n",
        "plt.scatter(alpha_values, avgTrainAccsNB2,label='Training',c='orange',alpha=0.7)\n",
        "plt.plot(alpha_values, avgTrainAccsNB2,'orange',alpha=0.7)\n",
        "plt.title('Average 5-fold cross-validation accuracies of \\nNaive Bayes model on the Sentiment140 dataset\\nnfor different values of the Laplace smoothing parameter')\n",
        "plt.xlabel('Laplace smoothing parameter alpha')\n",
        "plt.ylabel('Accuracy')\n",
        "plt.xlim(0,max(alpha_values))\n",
        "plt.legend()\n",
        "plt.show()"
      ]
    },
    {
      "cell_type": "markdown",
      "metadata": {
        "id": "4ehWRWntCKbp"
      },
      "source": [
        "We also run hyperparameter tuning for the Logistic Regression model on the Sentiment140 dataset. We can visualize the average validation accuracy as a function of the hyperparameter value. "
      ]
    },
    {
      "cell_type": "code",
      "execution_count": null,
      "metadata": {
        "id": "5s3UrFC-CK0I",
        "colab": {
          "base_uri": "https://localhost:8080/"
        },
        "outputId": "44761e6b-94de-4ccd-a7e2-0bbb5a625896"
      },
      "outputs": [
        {
          "output_type": "stream",
          "name": "stdout",
          "text": [
            "Hyperparameter: {'multi_class': 'multinomial', 'solver': 'lbfgs', 'penalty': 'l2', 'C': 0.01}\n",
            "\tTrain Accuracy:  [0.74694531 0.74689844 0.747625   0.74800781 0.74773437] \n",
            "\tValid Accuracy:  [0.7363125  0.737875   0.737      0.7356875  0.73728125]\n",
            "Hyperparameter: {'multi_class': 'multinomial', 'solver': 'lbfgs', 'penalty': 'l2', 'C': 0.1}\n"
          ]
        },
        {
          "output_type": "stream",
          "name": "stderr",
          "text": [
            "/usr/local/lib/python3.7/dist-packages/sklearn/linear_model/_logistic.py:818: ConvergenceWarning: lbfgs failed to converge (status=1):\n",
            "STOP: TOTAL NO. of ITERATIONS REACHED LIMIT.\n",
            "\n",
            "Increase the number of iterations (max_iter) or scale the data as shown in:\n",
            "    https://scikit-learn.org/stable/modules/preprocessing.html\n",
            "Please also refer to the documentation for alternative solver options:\n",
            "    https://scikit-learn.org/stable/modules/linear_model.html#logistic-regression\n",
            "  extra_warning_msg=_LOGISTIC_SOLVER_CONVERGENCE_MSG,\n",
            "/usr/local/lib/python3.7/dist-packages/sklearn/linear_model/_logistic.py:818: ConvergenceWarning: lbfgs failed to converge (status=1):\n",
            "STOP: TOTAL NO. of ITERATIONS REACHED LIMIT.\n",
            "\n",
            "Increase the number of iterations (max_iter) or scale the data as shown in:\n",
            "    https://scikit-learn.org/stable/modules/preprocessing.html\n",
            "Please also refer to the documentation for alternative solver options:\n",
            "    https://scikit-learn.org/stable/modules/linear_model.html#logistic-regression\n",
            "  extra_warning_msg=_LOGISTIC_SOLVER_CONVERGENCE_MSG,\n"
          ]
        },
        {
          "output_type": "stream",
          "name": "stdout",
          "text": [
            "\tTrain Accuracy:  [0.7865625  0.7874375  0.78578906 0.78775781 0.78615625] \n",
            "\tValid Accuracy:  [0.758      0.755875   0.7618125  0.75659375 0.76340625]\n",
            "Hyperparameter: {'multi_class': 'multinomial', 'solver': 'lbfgs', 'penalty': 'l2', 'C': 1}\n"
          ]
        },
        {
          "output_type": "stream",
          "name": "stderr",
          "text": [
            "/usr/local/lib/python3.7/dist-packages/sklearn/linear_model/_logistic.py:818: ConvergenceWarning: lbfgs failed to converge (status=1):\n",
            "STOP: TOTAL NO. of ITERATIONS REACHED LIMIT.\n",
            "\n",
            "Increase the number of iterations (max_iter) or scale the data as shown in:\n",
            "    https://scikit-learn.org/stable/modules/preprocessing.html\n",
            "Please also refer to the documentation for alternative solver options:\n",
            "    https://scikit-learn.org/stable/modules/linear_model.html#logistic-regression\n",
            "  extra_warning_msg=_LOGISTIC_SOLVER_CONVERGENCE_MSG,\n",
            "/usr/local/lib/python3.7/dist-packages/sklearn/linear_model/_logistic.py:818: ConvergenceWarning: lbfgs failed to converge (status=1):\n",
            "STOP: TOTAL NO. of ITERATIONS REACHED LIMIT.\n",
            "\n",
            "Increase the number of iterations (max_iter) or scale the data as shown in:\n",
            "    https://scikit-learn.org/stable/modules/preprocessing.html\n",
            "Please also refer to the documentation for alternative solver options:\n",
            "    https://scikit-learn.org/stable/modules/linear_model.html#logistic-regression\n",
            "  extra_warning_msg=_LOGISTIC_SOLVER_CONVERGENCE_MSG,\n",
            "/usr/local/lib/python3.7/dist-packages/sklearn/linear_model/_logistic.py:818: ConvergenceWarning: lbfgs failed to converge (status=1):\n",
            "STOP: TOTAL NO. of ITERATIONS REACHED LIMIT.\n",
            "\n",
            "Increase the number of iterations (max_iter) or scale the data as shown in:\n",
            "    https://scikit-learn.org/stable/modules/preprocessing.html\n",
            "Please also refer to the documentation for alternative solver options:\n",
            "    https://scikit-learn.org/stable/modules/linear_model.html#logistic-regression\n",
            "  extra_warning_msg=_LOGISTIC_SOLVER_CONVERGENCE_MSG,\n",
            "/usr/local/lib/python3.7/dist-packages/sklearn/linear_model/_logistic.py:818: ConvergenceWarning: lbfgs failed to converge (status=1):\n",
            "STOP: TOTAL NO. of ITERATIONS REACHED LIMIT.\n",
            "\n",
            "Increase the number of iterations (max_iter) or scale the data as shown in:\n",
            "    https://scikit-learn.org/stable/modules/preprocessing.html\n",
            "Please also refer to the documentation for alternative solver options:\n",
            "    https://scikit-learn.org/stable/modules/linear_model.html#logistic-regression\n",
            "  extra_warning_msg=_LOGISTIC_SOLVER_CONVERGENCE_MSG,\n",
            "/usr/local/lib/python3.7/dist-packages/sklearn/linear_model/_logistic.py:818: ConvergenceWarning: lbfgs failed to converge (status=1):\n",
            "STOP: TOTAL NO. of ITERATIONS REACHED LIMIT.\n",
            "\n",
            "Increase the number of iterations (max_iter) or scale the data as shown in:\n",
            "    https://scikit-learn.org/stable/modules/preprocessing.html\n",
            "Please also refer to the documentation for alternative solver options:\n",
            "    https://scikit-learn.org/stable/modules/linear_model.html#logistic-regression\n",
            "  extra_warning_msg=_LOGISTIC_SOLVER_CONVERGENCE_MSG,\n"
          ]
        },
        {
          "output_type": "stream",
          "name": "stdout",
          "text": [
            "\tTrain Accuracy:  [0.86264063 0.86108594 0.86305469 0.86042969 0.85646094] \n",
            "\tValid Accuracy:  [0.76634375 0.76559375 0.764125   0.76353125 0.7646875 ]\n",
            "Hyperparameter: {'multi_class': 'multinomial', 'solver': 'lbfgs', 'penalty': 'l2', 'C': 10}\n"
          ]
        },
        {
          "output_type": "stream",
          "name": "stderr",
          "text": [
            "/usr/local/lib/python3.7/dist-packages/sklearn/linear_model/_logistic.py:818: ConvergenceWarning: lbfgs failed to converge (status=1):\n",
            "STOP: TOTAL NO. of ITERATIONS REACHED LIMIT.\n",
            "\n",
            "Increase the number of iterations (max_iter) or scale the data as shown in:\n",
            "    https://scikit-learn.org/stable/modules/preprocessing.html\n",
            "Please also refer to the documentation for alternative solver options:\n",
            "    https://scikit-learn.org/stable/modules/linear_model.html#logistic-regression\n",
            "  extra_warning_msg=_LOGISTIC_SOLVER_CONVERGENCE_MSG,\n",
            "/usr/local/lib/python3.7/dist-packages/sklearn/linear_model/_logistic.py:818: ConvergenceWarning: lbfgs failed to converge (status=1):\n",
            "STOP: TOTAL NO. of ITERATIONS REACHED LIMIT.\n",
            "\n",
            "Increase the number of iterations (max_iter) or scale the data as shown in:\n",
            "    https://scikit-learn.org/stable/modules/preprocessing.html\n",
            "Please also refer to the documentation for alternative solver options:\n",
            "    https://scikit-learn.org/stable/modules/linear_model.html#logistic-regression\n",
            "  extra_warning_msg=_LOGISTIC_SOLVER_CONVERGENCE_MSG,\n",
            "/usr/local/lib/python3.7/dist-packages/sklearn/linear_model/_logistic.py:818: ConvergenceWarning: lbfgs failed to converge (status=1):\n",
            "STOP: TOTAL NO. of ITERATIONS REACHED LIMIT.\n",
            "\n",
            "Increase the number of iterations (max_iter) or scale the data as shown in:\n",
            "    https://scikit-learn.org/stable/modules/preprocessing.html\n",
            "Please also refer to the documentation for alternative solver options:\n",
            "    https://scikit-learn.org/stable/modules/linear_model.html#logistic-regression\n",
            "  extra_warning_msg=_LOGISTIC_SOLVER_CONVERGENCE_MSG,\n",
            "/usr/local/lib/python3.7/dist-packages/sklearn/linear_model/_logistic.py:818: ConvergenceWarning: lbfgs failed to converge (status=1):\n",
            "STOP: TOTAL NO. of ITERATIONS REACHED LIMIT.\n",
            "\n",
            "Increase the number of iterations (max_iter) or scale the data as shown in:\n",
            "    https://scikit-learn.org/stable/modules/preprocessing.html\n",
            "Please also refer to the documentation for alternative solver options:\n",
            "    https://scikit-learn.org/stable/modules/linear_model.html#logistic-regression\n",
            "  extra_warning_msg=_LOGISTIC_SOLVER_CONVERGENCE_MSG,\n",
            "/usr/local/lib/python3.7/dist-packages/sklearn/linear_model/_logistic.py:818: ConvergenceWarning: lbfgs failed to converge (status=1):\n",
            "STOP: TOTAL NO. of ITERATIONS REACHED LIMIT.\n",
            "\n",
            "Increase the number of iterations (max_iter) or scale the data as shown in:\n",
            "    https://scikit-learn.org/stable/modules/preprocessing.html\n",
            "Please also refer to the documentation for alternative solver options:\n",
            "    https://scikit-learn.org/stable/modules/linear_model.html#logistic-regression\n",
            "  extra_warning_msg=_LOGISTIC_SOLVER_CONVERGENCE_MSG,\n"
          ]
        },
        {
          "output_type": "stream",
          "name": "stdout",
          "text": [
            "\tTrain Accuracy:  [0.93727344 0.93091406 0.9071875  0.90339844 0.9395625 ] \n",
            "\tValid Accuracy:  [0.75371875 0.748      0.750875   0.7471875  0.7479375 ]\n",
            "Hyperparameter: {'multi_class': 'multinomial', 'solver': 'lbfgs', 'penalty': 'l2', 'C': 100}\n"
          ]
        },
        {
          "output_type": "stream",
          "name": "stderr",
          "text": [
            "/usr/local/lib/python3.7/dist-packages/sklearn/linear_model/_logistic.py:818: ConvergenceWarning: lbfgs failed to converge (status=1):\n",
            "STOP: TOTAL NO. of ITERATIONS REACHED LIMIT.\n",
            "\n",
            "Increase the number of iterations (max_iter) or scale the data as shown in:\n",
            "    https://scikit-learn.org/stable/modules/preprocessing.html\n",
            "Please also refer to the documentation for alternative solver options:\n",
            "    https://scikit-learn.org/stable/modules/linear_model.html#logistic-regression\n",
            "  extra_warning_msg=_LOGISTIC_SOLVER_CONVERGENCE_MSG,\n",
            "/usr/local/lib/python3.7/dist-packages/sklearn/linear_model/_logistic.py:818: ConvergenceWarning: lbfgs failed to converge (status=1):\n",
            "STOP: TOTAL NO. of ITERATIONS REACHED LIMIT.\n",
            "\n",
            "Increase the number of iterations (max_iter) or scale the data as shown in:\n",
            "    https://scikit-learn.org/stable/modules/preprocessing.html\n",
            "Please also refer to the documentation for alternative solver options:\n",
            "    https://scikit-learn.org/stable/modules/linear_model.html#logistic-regression\n",
            "  extra_warning_msg=_LOGISTIC_SOLVER_CONVERGENCE_MSG,\n",
            "/usr/local/lib/python3.7/dist-packages/sklearn/linear_model/_logistic.py:818: ConvergenceWarning: lbfgs failed to converge (status=1):\n",
            "STOP: TOTAL NO. of ITERATIONS REACHED LIMIT.\n",
            "\n",
            "Increase the number of iterations (max_iter) or scale the data as shown in:\n",
            "    https://scikit-learn.org/stable/modules/preprocessing.html\n",
            "Please also refer to the documentation for alternative solver options:\n",
            "    https://scikit-learn.org/stable/modules/linear_model.html#logistic-regression\n",
            "  extra_warning_msg=_LOGISTIC_SOLVER_CONVERGENCE_MSG,\n",
            "/usr/local/lib/python3.7/dist-packages/sklearn/linear_model/_logistic.py:818: ConvergenceWarning: lbfgs failed to converge (status=1):\n",
            "STOP: TOTAL NO. of ITERATIONS REACHED LIMIT.\n",
            "\n",
            "Increase the number of iterations (max_iter) or scale the data as shown in:\n",
            "    https://scikit-learn.org/stable/modules/preprocessing.html\n",
            "Please also refer to the documentation for alternative solver options:\n",
            "    https://scikit-learn.org/stable/modules/linear_model.html#logistic-regression\n",
            "  extra_warning_msg=_LOGISTIC_SOLVER_CONVERGENCE_MSG,\n",
            "/usr/local/lib/python3.7/dist-packages/sklearn/linear_model/_logistic.py:818: ConvergenceWarning: lbfgs failed to converge (status=1):\n",
            "STOP: TOTAL NO. of ITERATIONS REACHED LIMIT.\n",
            "\n",
            "Increase the number of iterations (max_iter) or scale the data as shown in:\n",
            "    https://scikit-learn.org/stable/modules/preprocessing.html\n",
            "Please also refer to the documentation for alternative solver options:\n",
            "    https://scikit-learn.org/stable/modules/linear_model.html#logistic-regression\n",
            "  extra_warning_msg=_LOGISTIC_SOLVER_CONVERGENCE_MSG,\n"
          ]
        },
        {
          "output_type": "stream",
          "name": "stdout",
          "text": [
            "\tTrain Accuracy:  [0.93107031 0.90878906 0.93585938 0.94146094 0.94913281] \n",
            "\tValid Accuracy:  [0.73528125 0.734375   0.73434375 0.73303125 0.7293125 ]\n",
            "Hyperparameter: {'multi_class': 'multinomial', 'solver': 'saga', 'penalty': 'l2', 'C': 0.01}\n",
            "\tTrain Accuracy:  [0.74877344 0.74748437 0.74783594 0.74604687 0.74721094] \n",
            "\tValid Accuracy:  [0.73415625 0.734      0.7364375  0.741375   0.73903125]\n",
            "Hyperparameter: {'multi_class': 'multinomial', 'solver': 'saga', 'penalty': 'l2', 'C': 0.1}\n",
            "\tTrain Accuracy:  [0.78623438 0.78598437 0.78614063 0.788      0.78614063] \n",
            "\tValid Accuracy:  [0.75875    0.760375   0.76178125 0.75465625 0.76      ]\n",
            "Hyperparameter: {'multi_class': 'multinomial', 'solver': 'saga', 'penalty': 'l2', 'C': 1}\n",
            "\tTrain Accuracy:  [0.86133594 0.86260938 0.86315625 0.86294531 0.86165625] \n",
            "\tValid Accuracy:  [0.769625   0.7631875  0.762375   0.76040625 0.76334375]\n",
            "Hyperparameter: {'multi_class': 'multinomial', 'solver': 'saga', 'penalty': 'l2', 'C': 10}\n",
            "\tTrain Accuracy:  [0.94186719 0.94232812 0.94217969 0.94153906 0.94208594] \n",
            "\tValid Accuracy:  [0.75240625 0.74934375 0.74725    0.7466875  0.751125  ]\n",
            "Hyperparameter: {'multi_class': 'multinomial', 'solver': 'saga', 'penalty': 'l2', 'C': 100}\n"
          ]
        },
        {
          "output_type": "stream",
          "name": "stderr",
          "text": [
            "/usr/local/lib/python3.7/dist-packages/sklearn/linear_model/_sag.py:354: ConvergenceWarning: The max_iter was reached which means the coef_ did not converge\n",
            "  ConvergenceWarning,\n",
            "/usr/local/lib/python3.7/dist-packages/sklearn/linear_model/_sag.py:354: ConvergenceWarning: The max_iter was reached which means the coef_ did not converge\n",
            "  ConvergenceWarning,\n",
            "/usr/local/lib/python3.7/dist-packages/sklearn/linear_model/_sag.py:354: ConvergenceWarning: The max_iter was reached which means the coef_ did not converge\n",
            "  ConvergenceWarning,\n",
            "/usr/local/lib/python3.7/dist-packages/sklearn/linear_model/_sag.py:354: ConvergenceWarning: The max_iter was reached which means the coef_ did not converge\n",
            "  ConvergenceWarning,\n",
            "/usr/local/lib/python3.7/dist-packages/sklearn/linear_model/_sag.py:354: ConvergenceWarning: The max_iter was reached which means the coef_ did not converge\n",
            "  ConvergenceWarning,\n"
          ]
        },
        {
          "output_type": "stream",
          "name": "stdout",
          "text": [
            "\tTrain Accuracy:  [0.95554688 0.95570312 0.95634375 0.95527344 0.95500781] \n",
            "\tValid Accuracy:  [0.7223125  0.72490625 0.7203125  0.7276875  0.7273125 ]\n",
            "Hyperparameter: {'multi_class': 'multinomial', 'solver': 'lbfgs', 'penalty': 'none'}\n"
          ]
        },
        {
          "output_type": "stream",
          "name": "stderr",
          "text": [
            "/usr/local/lib/python3.7/dist-packages/sklearn/linear_model/_logistic.py:818: ConvergenceWarning: lbfgs failed to converge (status=1):\n",
            "STOP: TOTAL NO. of ITERATIONS REACHED LIMIT.\n",
            "\n",
            "Increase the number of iterations (max_iter) or scale the data as shown in:\n",
            "    https://scikit-learn.org/stable/modules/preprocessing.html\n",
            "Please also refer to the documentation for alternative solver options:\n",
            "    https://scikit-learn.org/stable/modules/linear_model.html#logistic-regression\n",
            "  extra_warning_msg=_LOGISTIC_SOLVER_CONVERGENCE_MSG,\n",
            "/usr/local/lib/python3.7/dist-packages/sklearn/linear_model/_logistic.py:818: ConvergenceWarning: lbfgs failed to converge (status=1):\n",
            "STOP: TOTAL NO. of ITERATIONS REACHED LIMIT.\n",
            "\n",
            "Increase the number of iterations (max_iter) or scale the data as shown in:\n",
            "    https://scikit-learn.org/stable/modules/preprocessing.html\n",
            "Please also refer to the documentation for alternative solver options:\n",
            "    https://scikit-learn.org/stable/modules/linear_model.html#logistic-regression\n",
            "  extra_warning_msg=_LOGISTIC_SOLVER_CONVERGENCE_MSG,\n",
            "/usr/local/lib/python3.7/dist-packages/sklearn/linear_model/_logistic.py:818: ConvergenceWarning: lbfgs failed to converge (status=1):\n",
            "STOP: TOTAL NO. of ITERATIONS REACHED LIMIT.\n",
            "\n",
            "Increase the number of iterations (max_iter) or scale the data as shown in:\n",
            "    https://scikit-learn.org/stable/modules/preprocessing.html\n",
            "Please also refer to the documentation for alternative solver options:\n",
            "    https://scikit-learn.org/stable/modules/linear_model.html#logistic-regression\n",
            "  extra_warning_msg=_LOGISTIC_SOLVER_CONVERGENCE_MSG,\n",
            "/usr/local/lib/python3.7/dist-packages/sklearn/linear_model/_logistic.py:818: ConvergenceWarning: lbfgs failed to converge (status=1):\n",
            "STOP: TOTAL NO. of ITERATIONS REACHED LIMIT.\n",
            "\n",
            "Increase the number of iterations (max_iter) or scale the data as shown in:\n",
            "    https://scikit-learn.org/stable/modules/preprocessing.html\n",
            "Please also refer to the documentation for alternative solver options:\n",
            "    https://scikit-learn.org/stable/modules/linear_model.html#logistic-regression\n",
            "  extra_warning_msg=_LOGISTIC_SOLVER_CONVERGENCE_MSG,\n",
            "/usr/local/lib/python3.7/dist-packages/sklearn/linear_model/_logistic.py:818: ConvergenceWarning: lbfgs failed to converge (status=1):\n",
            "STOP: TOTAL NO. of ITERATIONS REACHED LIMIT.\n",
            "\n",
            "Increase the number of iterations (max_iter) or scale the data as shown in:\n",
            "    https://scikit-learn.org/stable/modules/preprocessing.html\n",
            "Please also refer to the documentation for alternative solver options:\n",
            "    https://scikit-learn.org/stable/modules/linear_model.html#logistic-regression\n",
            "  extra_warning_msg=_LOGISTIC_SOLVER_CONVERGENCE_MSG,\n"
          ]
        },
        {
          "output_type": "stream",
          "name": "stdout",
          "text": [
            "\tTrain Accuracy:  [0.91196875 0.91446875 0.92304688 0.90301562 0.95185156] \n",
            "\tValid Accuracy:  [0.7310625  0.73728125 0.73203125 0.73784375 0.7154375 ]\n",
            "Hyperparameter: {'multi_class': 'multinomial', 'solver': 'saga', 'penalty': 'none'}\n"
          ]
        },
        {
          "output_type": "stream",
          "name": "stderr",
          "text": [
            "/usr/local/lib/python3.7/dist-packages/sklearn/linear_model/_sag.py:354: ConvergenceWarning: The max_iter was reached which means the coef_ did not converge\n",
            "  ConvergenceWarning,\n",
            "/usr/local/lib/python3.7/dist-packages/sklearn/linear_model/_sag.py:354: ConvergenceWarning: The max_iter was reached which means the coef_ did not converge\n",
            "  ConvergenceWarning,\n",
            "/usr/local/lib/python3.7/dist-packages/sklearn/linear_model/_sag.py:354: ConvergenceWarning: The max_iter was reached which means the coef_ did not converge\n",
            "  ConvergenceWarning,\n",
            "/usr/local/lib/python3.7/dist-packages/sklearn/linear_model/_sag.py:354: ConvergenceWarning: The max_iter was reached which means the coef_ did not converge\n",
            "  ConvergenceWarning,\n",
            "/usr/local/lib/python3.7/dist-packages/sklearn/linear_model/_sag.py:354: ConvergenceWarning: The max_iter was reached which means the coef_ did not converge\n",
            "  ConvergenceWarning,\n"
          ]
        },
        {
          "output_type": "stream",
          "name": "stdout",
          "text": [
            "\tTrain Accuracy:  [0.957625   0.95746094 0.95732031 0.95780469 0.95814062] \n",
            "\tValid Accuracy:  [0.70940625 0.712      0.712875   0.71359375 0.71184375]\n"
          ]
        },
        {
          "output_type": "stream",
          "name": "stderr",
          "text": [
            "/usr/local/lib/python3.7/dist-packages/sklearn/linear_model/_logistic.py:818: ConvergenceWarning: lbfgs failed to converge (status=1):\n",
            "STOP: TOTAL NO. of ITERATIONS REACHED LIMIT.\n",
            "\n",
            "Increase the number of iterations (max_iter) or scale the data as shown in:\n",
            "    https://scikit-learn.org/stable/modules/preprocessing.html\n",
            "Please also refer to the documentation for alternative solver options:\n",
            "    https://scikit-learn.org/stable/modules/linear_model.html#logistic-regression\n",
            "  extra_warning_msg=_LOGISTIC_SOLVER_CONVERGENCE_MSG,\n"
          ]
        }
      ],
      "source": [
        "# Logistic Regression\n",
        "dataset = Sentiment140\n",
        "model_name = LogisticRegression\n",
        "avgValAccsLR2, optTestAccLR2, optParameterLR2, avgTrainAccsLR2 = hyperparameterTuning(dataset,K,model_name,hyperparametersLR)\n"
      ]
    },
    {
      "cell_type": "code",
      "execution_count": null,
      "metadata": {
        "id": "mNbuArN-F_qd",
        "colab": {
          "base_uri": "https://localhost:8080/",
          "height": 438
        },
        "outputId": "d5b9be4b-d38a-4f52-9748-8417661b3a00"
      },
      "outputs": [
        {
          "output_type": "display_data",
          "data": {
            "image/png": "[encoded data removed]",
            "text/plain": [
              "<Figure size 576x432 with 1 Axes>"
            ]
          },
          "metadata": {
            "needs_background": "light"
          }
        }
      ],
      "source": [
        "# Plot average validation accuracies\n",
        "plt.plot()\n",
        "\n",
        "plt.scatter(Cvals, avgValAccsLR2[0:5],label='Validation lbfgs L2',c='teal',alpha=0.5)\n",
        "plt.plot(Cvals, avgValAccsLR2[0:5],'teal',alpha=0.5)\n",
        "plt.scatter(Cvals, avgTrainAccsLR2[0:5],label='Training lbfgs L2',c='navy',alpha=0.5)\n",
        "plt.plot(Cvals, avgTrainAccsLR2[0:5],'navy',alpha=0.5)\n",
        "\n",
        "plt.scatter(Cvals, avgValAccsLR2[5:10],label='Validation saga L2',c='crimson',alpha=0.5)\n",
        "plt.plot(Cvals, avgValAccsLR2[5:10],'crimson',alpha=0.5)\n",
        "plt.scatter(Cvals, avgTrainAccsLR2[5:10],label='Training saga L2',c='darkred',alpha=0.5)\n",
        "plt.plot(Cvals, avgTrainAccsLR2[5:10],'darkred',alpha=0.5)\n",
        "\n",
        "plt.axhline(y=avgValAccsLR2[10],c='teal', linestyle='dashed',label='Validation lbfgs no reg.',alpha=0.5)\n",
        "plt.axhline(y=avgTrainAccsLR2[10],c='navy',linestyle='dashed',label='Training lbfgs no reg.',alpha=0.5)\n",
        "plt.axhline(y=avgValAccsLR2[11],c='crimson',linestyle='dashed',label='Validation saga no reg.',alpha=0.5)\n",
        "plt.axhline(y=avgTrainAccsLR2[11],c='darkred',linestyle='dashed',label='Training saga no reg.',alpha=0.5)\n",
        "\n",
        "plt.title('Average 5-fold cross-validation accuracies\\nof Logistic Regression model on the Sentiment140 dataset\\n with various solvers and regularization strengths')\n",
        "plt.xlabel('Regularization constant C')\n",
        "plt.ylabel('Accuracy')\n",
        "plt.xscale('log')\n",
        "plt.legend()\n",
        "plt.show()"
      ]
    },
    {
      "cell_type": "markdown",
      "metadata": {
        "id": "zYuIS5JDqhup"
      },
      "source": [
        "### 3.2 Performance comparison: Naive Bayes vs Softmax Regression\n",
        "\n",
        "We can now compare the respective test accuracies of the Naive Bayes and Logistic Regression models (with optimal hyperparameter values) on both datasets."
      ]
    },
    {
      "cell_type": "code",
      "execution_count": null,
      "metadata": {
        "id": "fnCmXYTTqpxX",
        "colab": {
          "base_uri": "https://localhost:8080/"
        },
        "outputId": "2439687d-6eb4-4db6-fde8-b8a5c0c5cce7"
      },
      "outputs": [
        {
          "output_type": "stream",
          "name": "stdout",
          "text": [
            "NewsGroups Dataset: Test Accuracy\n",
            "\tNaive Bayes: 0.6929102496016994 with parameters:  {'alpha': 0.1} \n",
            "\tLogistic Regression: 0.6777748274030801 with parameters:  {'multi_class': 'multinomial', 'solver': 'lbfgs', 'penalty': 'l2', 'C': 10}\n",
            "Sentiment Dataset: Test Accuracy\n",
            "\tNaive Bayes: 0.7966573816155988 with parameters:  {'alpha': 2} \n",
            "\tLogistic Regression: 0.7771587743732591 with parameters:  {'multi_class': 'multinomial', 'solver': 'lbfgs', 'penalty': 'l2', 'C': 1}\n"
          ]
        }
      ],
      "source": [
        "print(\"NewsGroups Dataset: Test Accuracy\\n\\tNaive Bayes:\", optTestAccNB1,\n",
        "      'with parameters: ', str(optParameterNB1),\n",
        "      \"\\n\\tLogistic Regression:\", optTestAccLR1,\n",
        "      'with parameters: ', str(optParameterLR1))\n",
        "print(\"Sentiment Dataset: Test Accuracy\\n\\tNaive Bayes:\", optTestAccNB2,\n",
        "      'with parameters: ', str(optParameterNB2),\n",
        "      \"\\n\\tLogistic Regression:\", optTestAccLR2,\n",
        "      'with parameters: ', str(optParameterLR2))"
      ]
    },
    {
      "cell_type": "markdown",
      "metadata": {
        "id": "xu4J5d7wqqPq"
      },
      "source": [
        "### 3.3 Model Accuracy as a function of Training Size\n",
        "\n",
        "We explore the effects of varying the size of the training ratio $q$ from 10% to 100% on the respective test accuracies of each model with the optimal hyperparameter values found previously. "
      ]
    },
    {
      "cell_type": "code",
      "execution_count": null,
      "metadata": {
        "id": "UAPRVeAAG-dZ"
      },
      "outputs": [],
      "source": [
        "# Compute test accuracy of model for each training proportion q\n",
        "# NOTE: hyperparameters is a list containing a single hyperparameter dictionary \n",
        "\n",
        "def modelAccuracy(dataset, K, model_name, hyperparameters, qValues):\n",
        "  testAccuracies = []\n",
        "  N = dataset.trainData.shape[0]\n",
        "  for q in qValues:\n",
        "    # Randomly pick p% of entire training set\n",
        "    size = math.ceil(N*q)   \n",
        "    idx = random.sample(range(0, N), size)\n",
        "    smallDataset = Dataset(dataset.trainData[idx],\n",
        "                       dataset.trainLabels[idx],\n",
        "                       dataset.testData,\n",
        "                       dataset.testLabels)\n",
        "    # Record test accuracy \n",
        "    avgValAccs, optTestAcc, optParameter, avgTrainAccs = hyperparameterTuning(\n",
        "        smallDataset,K,model_name,hyperparameters)\n",
        "    testAccuracies.append(optTestAcc)\n",
        "  return testAccuracies\n"
      ]
    },
    {
      "cell_type": "code",
      "execution_count": null,
      "metadata": {
        "id": "BCHyvGebGSt6",
        "colab": {
          "base_uri": "https://localhost:8080/"
        },
        "outputId": "56460894-179c-4638-9b49-15daad4283e2"
      },
      "outputs": [
        {
          "output_type": "stream",
          "name": "stdout",
          "text": [
            "Hyperparameter: {'alpha': 0.1}\n",
            "\tTrain Accuracy:  [0.96799117 0.96909492 0.98233996 0.96799117 0.97019868] \n",
            "\tValid Accuracy:  [0.54424779 0.54867257 0.55752212 0.53982301 0.51327434]\n",
            "Hyperparameter: {'alpha': 0.1}\n",
            "\tTrain Accuracy:  [0.9591386  0.95858642 0.96024296 0.96300387 0.96300387] \n",
            "\tValid Accuracy:  [0.61946903 0.64159292 0.62389381 0.62389381 0.59955752]\n",
            "Hyperparameter: {'alpha': 0.1}\n",
            "\tTrain Accuracy:  [0.95876289 0.96207658 0.96391753 0.95913108 0.96207658] \n",
            "\tValid Accuracy:  [0.66715758 0.65832106 0.64359352 0.62150221 0.65684831]\n",
            "Hyperparameter: {'alpha': 0.1}\n",
            "\tTrain Accuracy:  [0.95747031 0.95912731 0.96106048 0.95526098 0.95995581] \n",
            "\tValid Accuracy:  [0.68618785 0.67734807 0.67734807 0.6839779  0.65966851]\n",
            "Hyperparameter: {'alpha': 0.1}\n",
            "\tTrain Accuracy:  [0.96000884 0.95912506 0.95581087 0.95271763 0.9569156 ] \n",
            "\tValid Accuracy:  [0.69849691 0.69053935 0.69496021 0.71264368 0.69142352]\n",
            "Hyperparameter: {'alpha': 0.1}\n",
            "\tTrain Accuracy:  [0.94918999 0.9519514  0.95121502 0.95324006 0.95011046] \n",
            "\tValid Accuracy:  [0.68680914 0.70449521 0.72070744 0.70965365 0.71554901]\n",
            "Hyperparameter: {'alpha': 0.1}\n",
            "\tTrain Accuracy:  [0.94760101 0.94870581 0.94712753 0.94839015 0.94728535] \n",
            "\tValid Accuracy:  [0.71590909 0.74558081 0.73169192 0.70075758 0.71085859]\n",
            "Hyperparameter: {'alpha': 0.1}\n",
            "\tTrain Accuracy:  [0.94214305 0.94531897 0.94739022 0.94393814 0.94269539] \n",
            "\tValid Accuracy:  [0.7320442  0.72541436 0.72044199 0.72872928 0.72209945]\n",
            "Hyperparameter: {'alpha': 0.1}\n",
            "\tTrain Accuracy:  [0.94697435 0.94390573 0.94721984 0.94341475 0.94267829] \n",
            "\tValid Accuracy:  [0.74115914 0.72347741 0.74656189 0.74214145 0.72445972]\n",
            "Hyperparameter: {'alpha': 0.1}\n",
            "\tTrain Accuracy:  [0.93979231 0.94288555 0.94244366 0.94155988 0.9414494 ] \n",
            "\tValid Accuracy:  [0.73209549 0.75066313 0.74889478 0.7382847  0.74358974]\n"
          ]
        }
      ],
      "source": [
        "# Define different training ratios q = 10%, 20%, ..., 100%\n",
        "qValues = np.linspace(0.1,1,10)  \n",
        "\n",
        "# Newsgroups NB\n",
        "model_name = MultinomialNaiveBayes\n",
        "hyperparameters = [optParameterNB1]\n",
        "testAccuraciesNB1 = modelAccuracy(NewsGroups,K,model_name,hyperparameters,qValues)\n"
      ]
    },
    {
      "cell_type": "code",
      "execution_count": null,
      "metadata": {
        "id": "ZqzI924UIikv",
        "colab": {
          "base_uri": "https://localhost:8080/"
        },
        "outputId": "012ec06c-5783-4426-f4bf-5c49a2d6756d"
      },
      "outputs": [
        {
          "output_type": "stream",
          "name": "stdout",
          "text": [
            "Hyperparameter: {'multi_class': 'multinomial', 'solver': 'lbfgs', 'penalty': 'l2', 'C': 10}\n",
            "\tTrain Accuracy:  [0.97792494 0.97461369 0.97682119 0.97240618 0.97130243] \n",
            "\tValid Accuracy:  [0.5840708  0.55752212 0.57079646 0.59734513 0.56637168]\n",
            "Hyperparameter: {'multi_class': 'multinomial', 'solver': 'lbfgs', 'penalty': 'l2', 'C': 10}\n"
          ]
        },
        {
          "output_type": "stream",
          "name": "stderr",
          "text": [
            "/usr/local/lib/python3.7/dist-packages/sklearn/linear_model/_logistic.py:818: ConvergenceWarning: lbfgs failed to converge (status=1):\n",
            "STOP: TOTAL NO. of ITERATIONS REACHED LIMIT.\n",
            "\n",
            "Increase the number of iterations (max_iter) or scale the data as shown in:\n",
            "    https://scikit-learn.org/stable/modules/preprocessing.html\n",
            "Please also refer to the documentation for alternative solver options:\n",
            "    https://scikit-learn.org/stable/modules/linear_model.html#logistic-regression\n",
            "  extra_warning_msg=_LOGISTIC_SOLVER_CONVERGENCE_MSG,\n"
          ]
        },
        {
          "output_type": "stream",
          "name": "stdout",
          "text": [
            "\tTrain Accuracy:  [0.97404749 0.97736057 0.97570403 0.97736057 0.97404749] \n",
            "\tValid Accuracy:  [0.61061947 0.59734513 0.67256637 0.61946903 0.63053097]\n"
          ]
        },
        {
          "output_type": "stream",
          "name": "stderr",
          "text": [
            "/usr/local/lib/python3.7/dist-packages/sklearn/linear_model/_logistic.py:818: ConvergenceWarning: lbfgs failed to converge (status=1):\n",
            "STOP: TOTAL NO. of ITERATIONS REACHED LIMIT.\n",
            "\n",
            "Increase the number of iterations (max_iter) or scale the data as shown in:\n",
            "    https://scikit-learn.org/stable/modules/preprocessing.html\n",
            "Please also refer to the documentation for alternative solver options:\n",
            "    https://scikit-learn.org/stable/modules/linear_model.html#logistic-regression\n",
            "  extra_warning_msg=_LOGISTIC_SOLVER_CONVERGENCE_MSG,\n"
          ]
        },
        {
          "output_type": "stream",
          "name": "stdout",
          "text": [
            "Hyperparameter: {'multi_class': 'multinomial', 'solver': 'lbfgs', 'penalty': 'l2', 'C': 10}\n"
          ]
        },
        {
          "output_type": "stream",
          "name": "stderr",
          "text": [
            "/usr/local/lib/python3.7/dist-packages/sklearn/linear_model/_logistic.py:818: ConvergenceWarning: lbfgs failed to converge (status=1):\n",
            "STOP: TOTAL NO. of ITERATIONS REACHED LIMIT.\n",
            "\n",
            "Increase the number of iterations (max_iter) or scale the data as shown in:\n",
            "    https://scikit-learn.org/stable/modules/preprocessing.html\n",
            "Please also refer to the documentation for alternative solver options:\n",
            "    https://scikit-learn.org/stable/modules/linear_model.html#logistic-regression\n",
            "  extra_warning_msg=_LOGISTIC_SOLVER_CONVERGENCE_MSG,\n",
            "/usr/local/lib/python3.7/dist-packages/sklearn/linear_model/_logistic.py:818: ConvergenceWarning: lbfgs failed to converge (status=1):\n",
            "STOP: TOTAL NO. of ITERATIONS REACHED LIMIT.\n",
            "\n",
            "Increase the number of iterations (max_iter) or scale the data as shown in:\n",
            "    https://scikit-learn.org/stable/modules/preprocessing.html\n",
            "Please also refer to the documentation for alternative solver options:\n",
            "    https://scikit-learn.org/stable/modules/linear_model.html#logistic-regression\n",
            "  extra_warning_msg=_LOGISTIC_SOLVER_CONVERGENCE_MSG,\n",
            "/usr/local/lib/python3.7/dist-packages/sklearn/linear_model/_logistic.py:818: ConvergenceWarning: lbfgs failed to converge (status=1):\n",
            "STOP: TOTAL NO. of ITERATIONS REACHED LIMIT.\n",
            "\n",
            "Increase the number of iterations (max_iter) or scale the data as shown in:\n",
            "    https://scikit-learn.org/stable/modules/preprocessing.html\n",
            "Please also refer to the documentation for alternative solver options:\n",
            "    https://scikit-learn.org/stable/modules/linear_model.html#logistic-regression\n",
            "  extra_warning_msg=_LOGISTIC_SOLVER_CONVERGENCE_MSG,\n",
            "/usr/local/lib/python3.7/dist-packages/sklearn/linear_model/_logistic.py:818: ConvergenceWarning: lbfgs failed to converge (status=1):\n",
            "STOP: TOTAL NO. of ITERATIONS REACHED LIMIT.\n",
            "\n",
            "Increase the number of iterations (max_iter) or scale the data as shown in:\n",
            "    https://scikit-learn.org/stable/modules/preprocessing.html\n",
            "Please also refer to the documentation for alternative solver options:\n",
            "    https://scikit-learn.org/stable/modules/linear_model.html#logistic-regression\n",
            "  extra_warning_msg=_LOGISTIC_SOLVER_CONVERGENCE_MSG,\n"
          ]
        },
        {
          "output_type": "stream",
          "name": "stdout",
          "text": [
            "\tTrain Accuracy:  [0.9775405  0.97606775 0.97606775 0.97717231 0.97606775] \n",
            "\tValid Accuracy:  [0.64801178 0.69072165 0.69072165 0.65832106 0.67157585]\n"
          ]
        },
        {
          "output_type": "stream",
          "name": "stderr",
          "text": [
            "/usr/local/lib/python3.7/dist-packages/sklearn/linear_model/_logistic.py:818: ConvergenceWarning: lbfgs failed to converge (status=1):\n",
            "STOP: TOTAL NO. of ITERATIONS REACHED LIMIT.\n",
            "\n",
            "Increase the number of iterations (max_iter) or scale the data as shown in:\n",
            "    https://scikit-learn.org/stable/modules/preprocessing.html\n",
            "Please also refer to the documentation for alternative solver options:\n",
            "    https://scikit-learn.org/stable/modules/linear_model.html#logistic-regression\n",
            "  extra_warning_msg=_LOGISTIC_SOLVER_CONVERGENCE_MSG,\n"
          ]
        },
        {
          "output_type": "stream",
          "name": "stdout",
          "text": [
            "Hyperparameter: {'multi_class': 'multinomial', 'solver': 'lbfgs', 'penalty': 'l2', 'C': 10}\n"
          ]
        },
        {
          "output_type": "stream",
          "name": "stderr",
          "text": [
            "/usr/local/lib/python3.7/dist-packages/sklearn/linear_model/_logistic.py:818: ConvergenceWarning: lbfgs failed to converge (status=1):\n",
            "STOP: TOTAL NO. of ITERATIONS REACHED LIMIT.\n",
            "\n",
            "Increase the number of iterations (max_iter) or scale the data as shown in:\n",
            "    https://scikit-learn.org/stable/modules/preprocessing.html\n",
            "Please also refer to the documentation for alternative solver options:\n",
            "    https://scikit-learn.org/stable/modules/linear_model.html#logistic-regression\n",
            "  extra_warning_msg=_LOGISTIC_SOLVER_CONVERGENCE_MSG,\n",
            "/usr/local/lib/python3.7/dist-packages/sklearn/linear_model/_logistic.py:818: ConvergenceWarning: lbfgs failed to converge (status=1):\n",
            "STOP: TOTAL NO. of ITERATIONS REACHED LIMIT.\n",
            "\n",
            "Increase the number of iterations (max_iter) or scale the data as shown in:\n",
            "    https://scikit-learn.org/stable/modules/preprocessing.html\n",
            "Please also refer to the documentation for alternative solver options:\n",
            "    https://scikit-learn.org/stable/modules/linear_model.html#logistic-regression\n",
            "  extra_warning_msg=_LOGISTIC_SOLVER_CONVERGENCE_MSG,\n",
            "/usr/local/lib/python3.7/dist-packages/sklearn/linear_model/_logistic.py:818: ConvergenceWarning: lbfgs failed to converge (status=1):\n",
            "STOP: TOTAL NO. of ITERATIONS REACHED LIMIT.\n",
            "\n",
            "Increase the number of iterations (max_iter) or scale the data as shown in:\n",
            "    https://scikit-learn.org/stable/modules/preprocessing.html\n",
            "Please also refer to the documentation for alternative solver options:\n",
            "    https://scikit-learn.org/stable/modules/linear_model.html#logistic-regression\n",
            "  extra_warning_msg=_LOGISTIC_SOLVER_CONVERGENCE_MSG,\n",
            "/usr/local/lib/python3.7/dist-packages/sklearn/linear_model/_logistic.py:818: ConvergenceWarning: lbfgs failed to converge (status=1):\n",
            "STOP: TOTAL NO. of ITERATIONS REACHED LIMIT.\n",
            "\n",
            "Increase the number of iterations (max_iter) or scale the data as shown in:\n",
            "    https://scikit-learn.org/stable/modules/preprocessing.html\n",
            "Please also refer to the documentation for alternative solver options:\n",
            "    https://scikit-learn.org/stable/modules/linear_model.html#logistic-regression\n",
            "  extra_warning_msg=_LOGISTIC_SOLVER_CONVERGENCE_MSG,\n",
            "/usr/local/lib/python3.7/dist-packages/sklearn/linear_model/_logistic.py:818: ConvergenceWarning: lbfgs failed to converge (status=1):\n",
            "STOP: TOTAL NO. of ITERATIONS REACHED LIMIT.\n",
            "\n",
            "Increase the number of iterations (max_iter) or scale the data as shown in:\n",
            "    https://scikit-learn.org/stable/modules/preprocessing.html\n",
            "Please also refer to the documentation for alternative solver options:\n",
            "    https://scikit-learn.org/stable/modules/linear_model.html#logistic-regression\n",
            "  extra_warning_msg=_LOGISTIC_SOLVER_CONVERGENCE_MSG,\n"
          ]
        },
        {
          "output_type": "stream",
          "name": "stdout",
          "text": [
            "\tTrain Accuracy:  [0.97431649 0.97404032 0.97017399 0.97459265 0.97459265] \n",
            "\tValid Accuracy:  [0.70165746 0.71712707 0.7160221  0.69060773 0.70055249]\n"
          ]
        },
        {
          "output_type": "stream",
          "name": "stderr",
          "text": [
            "/usr/local/lib/python3.7/dist-packages/sklearn/linear_model/_logistic.py:818: ConvergenceWarning: lbfgs failed to converge (status=1):\n",
            "STOP: TOTAL NO. of ITERATIONS REACHED LIMIT.\n",
            "\n",
            "Increase the number of iterations (max_iter) or scale the data as shown in:\n",
            "    https://scikit-learn.org/stable/modules/preprocessing.html\n",
            "Please also refer to the documentation for alternative solver options:\n",
            "    https://scikit-learn.org/stable/modules/linear_model.html#logistic-regression\n",
            "  extra_warning_msg=_LOGISTIC_SOLVER_CONVERGENCE_MSG,\n"
          ]
        },
        {
          "output_type": "stream",
          "name": "stdout",
          "text": [
            "Hyperparameter: {'multi_class': 'multinomial', 'solver': 'lbfgs', 'penalty': 'l2', 'C': 10}\n"
          ]
        },
        {
          "output_type": "stream",
          "name": "stderr",
          "text": [
            "/usr/local/lib/python3.7/dist-packages/sklearn/linear_model/_logistic.py:818: ConvergenceWarning: lbfgs failed to converge (status=1):\n",
            "STOP: TOTAL NO. of ITERATIONS REACHED LIMIT.\n",
            "\n",
            "Increase the number of iterations (max_iter) or scale the data as shown in:\n",
            "    https://scikit-learn.org/stable/modules/preprocessing.html\n",
            "Please also refer to the documentation for alternative solver options:\n",
            "    https://scikit-learn.org/stable/modules/linear_model.html#logistic-regression\n",
            "  extra_warning_msg=_LOGISTIC_SOLVER_CONVERGENCE_MSG,\n",
            "/usr/local/lib/python3.7/dist-packages/sklearn/linear_model/_logistic.py:818: ConvergenceWarning: lbfgs failed to converge (status=1):\n",
            "STOP: TOTAL NO. of ITERATIONS REACHED LIMIT.\n",
            "\n",
            "Increase the number of iterations (max_iter) or scale the data as shown in:\n",
            "    https://scikit-learn.org/stable/modules/preprocessing.html\n",
            "Please also refer to the documentation for alternative solver options:\n",
            "    https://scikit-learn.org/stable/modules/linear_model.html#logistic-regression\n",
            "  extra_warning_msg=_LOGISTIC_SOLVER_CONVERGENCE_MSG,\n",
            "/usr/local/lib/python3.7/dist-packages/sklearn/linear_model/_logistic.py:818: ConvergenceWarning: lbfgs failed to converge (status=1):\n",
            "STOP: TOTAL NO. of ITERATIONS REACHED LIMIT.\n",
            "\n",
            "Increase the number of iterations (max_iter) or scale the data as shown in:\n",
            "    https://scikit-learn.org/stable/modules/preprocessing.html\n",
            "Please also refer to the documentation for alternative solver options:\n",
            "    https://scikit-learn.org/stable/modules/linear_model.html#logistic-regression\n",
            "  extra_warning_msg=_LOGISTIC_SOLVER_CONVERGENCE_MSG,\n",
            "/usr/local/lib/python3.7/dist-packages/sklearn/linear_model/_logistic.py:818: ConvergenceWarning: lbfgs failed to converge (status=1):\n",
            "STOP: TOTAL NO. of ITERATIONS REACHED LIMIT.\n",
            "\n",
            "Increase the number of iterations (max_iter) or scale the data as shown in:\n",
            "    https://scikit-learn.org/stable/modules/preprocessing.html\n",
            "Please also refer to the documentation for alternative solver options:\n",
            "    https://scikit-learn.org/stable/modules/linear_model.html#logistic-regression\n",
            "  extra_warning_msg=_LOGISTIC_SOLVER_CONVERGENCE_MSG,\n",
            "/usr/local/lib/python3.7/dist-packages/sklearn/linear_model/_logistic.py:818: ConvergenceWarning: lbfgs failed to converge (status=1):\n",
            "STOP: TOTAL NO. of ITERATIONS REACHED LIMIT.\n",
            "\n",
            "Increase the number of iterations (max_iter) or scale the data as shown in:\n",
            "    https://scikit-learn.org/stable/modules/preprocessing.html\n",
            "Please also refer to the documentation for alternative solver options:\n",
            "    https://scikit-learn.org/stable/modules/linear_model.html#logistic-regression\n",
            "  extra_warning_msg=_LOGISTIC_SOLVER_CONVERGENCE_MSG,\n"
          ]
        },
        {
          "output_type": "stream",
          "name": "stdout",
          "text": [
            "\tTrain Accuracy:  [0.97414936 0.97569598 0.97326558 0.97613787 0.97459125] \n",
            "\tValid Accuracy:  [0.71441202 0.68965517 0.72236958 0.70645447 0.71352785]\n"
          ]
        },
        {
          "output_type": "stream",
          "name": "stderr",
          "text": [
            "/usr/local/lib/python3.7/dist-packages/sklearn/linear_model/_logistic.py:818: ConvergenceWarning: lbfgs failed to converge (status=1):\n",
            "STOP: TOTAL NO. of ITERATIONS REACHED LIMIT.\n",
            "\n",
            "Increase the number of iterations (max_iter) or scale the data as shown in:\n",
            "    https://scikit-learn.org/stable/modules/preprocessing.html\n",
            "Please also refer to the documentation for alternative solver options:\n",
            "    https://scikit-learn.org/stable/modules/linear_model.html#logistic-regression\n",
            "  extra_warning_msg=_LOGISTIC_SOLVER_CONVERGENCE_MSG,\n"
          ]
        },
        {
          "output_type": "stream",
          "name": "stdout",
          "text": [
            "Hyperparameter: {'multi_class': 'multinomial', 'solver': 'lbfgs', 'penalty': 'l2', 'C': 10}\n"
          ]
        },
        {
          "output_type": "stream",
          "name": "stderr",
          "text": [
            "/usr/local/lib/python3.7/dist-packages/sklearn/linear_model/_logistic.py:818: ConvergenceWarning: lbfgs failed to converge (status=1):\n",
            "STOP: TOTAL NO. of ITERATIONS REACHED LIMIT.\n",
            "\n",
            "Increase the number of iterations (max_iter) or scale the data as shown in:\n",
            "    https://scikit-learn.org/stable/modules/preprocessing.html\n",
            "Please also refer to the documentation for alternative solver options:\n",
            "    https://scikit-learn.org/stable/modules/linear_model.html#logistic-regression\n",
            "  extra_warning_msg=_LOGISTIC_SOLVER_CONVERGENCE_MSG,\n",
            "/usr/local/lib/python3.7/dist-packages/sklearn/linear_model/_logistic.py:818: ConvergenceWarning: lbfgs failed to converge (status=1):\n",
            "STOP: TOTAL NO. of ITERATIONS REACHED LIMIT.\n",
            "\n",
            "Increase the number of iterations (max_iter) or scale the data as shown in:\n",
            "    https://scikit-learn.org/stable/modules/preprocessing.html\n",
            "Please also refer to the documentation for alternative solver options:\n",
            "    https://scikit-learn.org/stable/modules/linear_model.html#logistic-regression\n",
            "  extra_warning_msg=_LOGISTIC_SOLVER_CONVERGENCE_MSG,\n",
            "/usr/local/lib/python3.7/dist-packages/sklearn/linear_model/_logistic.py:818: ConvergenceWarning: lbfgs failed to converge (status=1):\n",
            "STOP: TOTAL NO. of ITERATIONS REACHED LIMIT.\n",
            "\n",
            "Increase the number of iterations (max_iter) or scale the data as shown in:\n",
            "    https://scikit-learn.org/stable/modules/preprocessing.html\n",
            "Please also refer to the documentation for alternative solver options:\n",
            "    https://scikit-learn.org/stable/modules/linear_model.html#logistic-regression\n",
            "  extra_warning_msg=_LOGISTIC_SOLVER_CONVERGENCE_MSG,\n",
            "/usr/local/lib/python3.7/dist-packages/sklearn/linear_model/_logistic.py:818: ConvergenceWarning: lbfgs failed to converge (status=1):\n",
            "STOP: TOTAL NO. of ITERATIONS REACHED LIMIT.\n",
            "\n",
            "Increase the number of iterations (max_iter) or scale the data as shown in:\n",
            "    https://scikit-learn.org/stable/modules/preprocessing.html\n",
            "Please also refer to the documentation for alternative solver options:\n",
            "    https://scikit-learn.org/stable/modules/linear_model.html#logistic-regression\n",
            "  extra_warning_msg=_LOGISTIC_SOLVER_CONVERGENCE_MSG,\n",
            "/usr/local/lib/python3.7/dist-packages/sklearn/linear_model/_logistic.py:818: ConvergenceWarning: lbfgs failed to converge (status=1):\n",
            "STOP: TOTAL NO. of ITERATIONS REACHED LIMIT.\n",
            "\n",
            "Increase the number of iterations (max_iter) or scale the data as shown in:\n",
            "    https://scikit-learn.org/stable/modules/preprocessing.html\n",
            "Please also refer to the documentation for alternative solver options:\n",
            "    https://scikit-learn.org/stable/modules/linear_model.html#logistic-regression\n",
            "  extra_warning_msg=_LOGISTIC_SOLVER_CONVERGENCE_MSG,\n"
          ]
        },
        {
          "output_type": "stream",
          "name": "stdout",
          "text": [
            "\tTrain Accuracy:  [0.97330633 0.97404271 0.97643594 0.97533137 0.97459499] \n",
            "\tValid Accuracy:  [0.71186441 0.73544584 0.72439204 0.70596905 0.71997052]\n"
          ]
        },
        {
          "output_type": "stream",
          "name": "stderr",
          "text": [
            "/usr/local/lib/python3.7/dist-packages/sklearn/linear_model/_logistic.py:818: ConvergenceWarning: lbfgs failed to converge (status=1):\n",
            "STOP: TOTAL NO. of ITERATIONS REACHED LIMIT.\n",
            "\n",
            "Increase the number of iterations (max_iter) or scale the data as shown in:\n",
            "    https://scikit-learn.org/stable/modules/preprocessing.html\n",
            "Please also refer to the documentation for alternative solver options:\n",
            "    https://scikit-learn.org/stable/modules/linear_model.html#logistic-regression\n",
            "  extra_warning_msg=_LOGISTIC_SOLVER_CONVERGENCE_MSG,\n"
          ]
        },
        {
          "output_type": "stream",
          "name": "stdout",
          "text": [
            "Hyperparameter: {'multi_class': 'multinomial', 'solver': 'lbfgs', 'penalty': 'l2', 'C': 10}\n"
          ]
        },
        {
          "output_type": "stream",
          "name": "stderr",
          "text": [
            "/usr/local/lib/python3.7/dist-packages/sklearn/linear_model/_logistic.py:818: ConvergenceWarning: lbfgs failed to converge (status=1):\n",
            "STOP: TOTAL NO. of ITERATIONS REACHED LIMIT.\n",
            "\n",
            "Increase the number of iterations (max_iter) or scale the data as shown in:\n",
            "    https://scikit-learn.org/stable/modules/preprocessing.html\n",
            "Please also refer to the documentation for alternative solver options:\n",
            "    https://scikit-learn.org/stable/modules/linear_model.html#logistic-regression\n",
            "  extra_warning_msg=_LOGISTIC_SOLVER_CONVERGENCE_MSG,\n",
            "/usr/local/lib/python3.7/dist-packages/sklearn/linear_model/_logistic.py:818: ConvergenceWarning: lbfgs failed to converge (status=1):\n",
            "STOP: TOTAL NO. of ITERATIONS REACHED LIMIT.\n",
            "\n",
            "Increase the number of iterations (max_iter) or scale the data as shown in:\n",
            "    https://scikit-learn.org/stable/modules/preprocessing.html\n",
            "Please also refer to the documentation for alternative solver options:\n",
            "    https://scikit-learn.org/stable/modules/linear_model.html#logistic-regression\n",
            "  extra_warning_msg=_LOGISTIC_SOLVER_CONVERGENCE_MSG,\n",
            "/usr/local/lib/python3.7/dist-packages/sklearn/linear_model/_logistic.py:818: ConvergenceWarning: lbfgs failed to converge (status=1):\n",
            "STOP: TOTAL NO. of ITERATIONS REACHED LIMIT.\n",
            "\n",
            "Increase the number of iterations (max_iter) or scale the data as shown in:\n",
            "    https://scikit-learn.org/stable/modules/preprocessing.html\n",
            "Please also refer to the documentation for alternative solver options:\n",
            "    https://scikit-learn.org/stable/modules/linear_model.html#logistic-regression\n",
            "  extra_warning_msg=_LOGISTIC_SOLVER_CONVERGENCE_MSG,\n",
            "/usr/local/lib/python3.7/dist-packages/sklearn/linear_model/_logistic.py:818: ConvergenceWarning: lbfgs failed to converge (status=1):\n",
            "STOP: TOTAL NO. of ITERATIONS REACHED LIMIT.\n",
            "\n",
            "Increase the number of iterations (max_iter) or scale the data as shown in:\n",
            "    https://scikit-learn.org/stable/modules/preprocessing.html\n",
            "Please also refer to the documentation for alternative solver options:\n",
            "    https://scikit-learn.org/stable/modules/linear_model.html#logistic-regression\n",
            "  extra_warning_msg=_LOGISTIC_SOLVER_CONVERGENCE_MSG,\n",
            "/usr/local/lib/python3.7/dist-packages/sklearn/linear_model/_logistic.py:818: ConvergenceWarning: lbfgs failed to converge (status=1):\n",
            "STOP: TOTAL NO. of ITERATIONS REACHED LIMIT.\n",
            "\n",
            "Increase the number of iterations (max_iter) or scale the data as shown in:\n",
            "    https://scikit-learn.org/stable/modules/preprocessing.html\n",
            "Please also refer to the documentation for alternative solver options:\n",
            "    https://scikit-learn.org/stable/modules/linear_model.html#logistic-regression\n",
            "  extra_warning_msg=_LOGISTIC_SOLVER_CONVERGENCE_MSG,\n"
          ]
        },
        {
          "output_type": "stream",
          "name": "stdout",
          "text": [
            "\tTrain Accuracy:  [0.97332702 0.97285354 0.97301136 0.97332702 0.97301136] \n",
            "\tValid Accuracy:  [0.72348485 0.73863636 0.71401515 0.73358586 0.71527778]\n"
          ]
        },
        {
          "output_type": "stream",
          "name": "stderr",
          "text": [
            "/usr/local/lib/python3.7/dist-packages/sklearn/linear_model/_logistic.py:818: ConvergenceWarning: lbfgs failed to converge (status=1):\n",
            "STOP: TOTAL NO. of ITERATIONS REACHED LIMIT.\n",
            "\n",
            "Increase the number of iterations (max_iter) or scale the data as shown in:\n",
            "    https://scikit-learn.org/stable/modules/preprocessing.html\n",
            "Please also refer to the documentation for alternative solver options:\n",
            "    https://scikit-learn.org/stable/modules/linear_model.html#logistic-regression\n",
            "  extra_warning_msg=_LOGISTIC_SOLVER_CONVERGENCE_MSG,\n"
          ]
        },
        {
          "output_type": "stream",
          "name": "stdout",
          "text": [
            "Hyperparameter: {'multi_class': 'multinomial', 'solver': 'lbfgs', 'penalty': 'l2', 'C': 10}\n"
          ]
        },
        {
          "output_type": "stream",
          "name": "stderr",
          "text": [
            "/usr/local/lib/python3.7/dist-packages/sklearn/linear_model/_logistic.py:818: ConvergenceWarning: lbfgs failed to converge (status=1):\n",
            "STOP: TOTAL NO. of ITERATIONS REACHED LIMIT.\n",
            "\n",
            "Increase the number of iterations (max_iter) or scale the data as shown in:\n",
            "    https://scikit-learn.org/stable/modules/preprocessing.html\n",
            "Please also refer to the documentation for alternative solver options:\n",
            "    https://scikit-learn.org/stable/modules/linear_model.html#logistic-regression\n",
            "  extra_warning_msg=_LOGISTIC_SOLVER_CONVERGENCE_MSG,\n",
            "/usr/local/lib/python3.7/dist-packages/sklearn/linear_model/_logistic.py:818: ConvergenceWarning: lbfgs failed to converge (status=1):\n",
            "STOP: TOTAL NO. of ITERATIONS REACHED LIMIT.\n",
            "\n",
            "Increase the number of iterations (max_iter) or scale the data as shown in:\n",
            "    https://scikit-learn.org/stable/modules/preprocessing.html\n",
            "Please also refer to the documentation for alternative solver options:\n",
            "    https://scikit-learn.org/stable/modules/linear_model.html#logistic-regression\n",
            "  extra_warning_msg=_LOGISTIC_SOLVER_CONVERGENCE_MSG,\n",
            "/usr/local/lib/python3.7/dist-packages/sklearn/linear_model/_logistic.py:818: ConvergenceWarning: lbfgs failed to converge (status=1):\n",
            "STOP: TOTAL NO. of ITERATIONS REACHED LIMIT.\n",
            "\n",
            "Increase the number of iterations (max_iter) or scale the data as shown in:\n",
            "    https://scikit-learn.org/stable/modules/preprocessing.html\n",
            "Please also refer to the documentation for alternative solver options:\n",
            "    https://scikit-learn.org/stable/modules/linear_model.html#logistic-regression\n",
            "  extra_warning_msg=_LOGISTIC_SOLVER_CONVERGENCE_MSG,\n",
            "/usr/local/lib/python3.7/dist-packages/sklearn/linear_model/_logistic.py:818: ConvergenceWarning: lbfgs failed to converge (status=1):\n",
            "STOP: TOTAL NO. of ITERATIONS REACHED LIMIT.\n",
            "\n",
            "Increase the number of iterations (max_iter) or scale the data as shown in:\n",
            "    https://scikit-learn.org/stable/modules/preprocessing.html\n",
            "Please also refer to the documentation for alternative solver options:\n",
            "    https://scikit-learn.org/stable/modules/linear_model.html#logistic-regression\n",
            "  extra_warning_msg=_LOGISTIC_SOLVER_CONVERGENCE_MSG,\n",
            "/usr/local/lib/python3.7/dist-packages/sklearn/linear_model/_logistic.py:818: ConvergenceWarning: lbfgs failed to converge (status=1):\n",
            "STOP: TOTAL NO. of ITERATIONS REACHED LIMIT.\n",
            "\n",
            "Increase the number of iterations (max_iter) or scale the data as shown in:\n",
            "    https://scikit-learn.org/stable/modules/preprocessing.html\n",
            "Please also refer to the documentation for alternative solver options:\n",
            "    https://scikit-learn.org/stable/modules/linear_model.html#logistic-regression\n",
            "  extra_warning_msg=_LOGISTIC_SOLVER_CONVERGENCE_MSG,\n"
          ]
        },
        {
          "output_type": "stream",
          "name": "stdout",
          "text": [
            "\tTrain Accuracy:  [0.97362607 0.97390224 0.97265949 0.9741784  0.97376415] \n",
            "\tValid Accuracy:  [0.74751381 0.72375691 0.71878453 0.73314917 0.74033149]\n"
          ]
        },
        {
          "output_type": "stream",
          "name": "stderr",
          "text": [
            "/usr/local/lib/python3.7/dist-packages/sklearn/linear_model/_logistic.py:818: ConvergenceWarning: lbfgs failed to converge (status=1):\n",
            "STOP: TOTAL NO. of ITERATIONS REACHED LIMIT.\n",
            "\n",
            "Increase the number of iterations (max_iter) or scale the data as shown in:\n",
            "    https://scikit-learn.org/stable/modules/preprocessing.html\n",
            "Please also refer to the documentation for alternative solver options:\n",
            "    https://scikit-learn.org/stable/modules/linear_model.html#logistic-regression\n",
            "  extra_warning_msg=_LOGISTIC_SOLVER_CONVERGENCE_MSG,\n"
          ]
        },
        {
          "output_type": "stream",
          "name": "stdout",
          "text": [
            "Hyperparameter: {'multi_class': 'multinomial', 'solver': 'lbfgs', 'penalty': 'l2', 'C': 10}\n"
          ]
        },
        {
          "output_type": "stream",
          "name": "stderr",
          "text": [
            "/usr/local/lib/python3.7/dist-packages/sklearn/linear_model/_logistic.py:818: ConvergenceWarning: lbfgs failed to converge (status=1):\n",
            "STOP: TOTAL NO. of ITERATIONS REACHED LIMIT.\n",
            "\n",
            "Increase the number of iterations (max_iter) or scale the data as shown in:\n",
            "    https://scikit-learn.org/stable/modules/preprocessing.html\n",
            "Please also refer to the documentation for alternative solver options:\n",
            "    https://scikit-learn.org/stable/modules/linear_model.html#logistic-regression\n",
            "  extra_warning_msg=_LOGISTIC_SOLVER_CONVERGENCE_MSG,\n",
            "/usr/local/lib/python3.7/dist-packages/sklearn/linear_model/_logistic.py:818: ConvergenceWarning: lbfgs failed to converge (status=1):\n",
            "STOP: TOTAL NO. of ITERATIONS REACHED LIMIT.\n",
            "\n",
            "Increase the number of iterations (max_iter) or scale the data as shown in:\n",
            "    https://scikit-learn.org/stable/modules/preprocessing.html\n",
            "Please also refer to the documentation for alternative solver options:\n",
            "    https://scikit-learn.org/stable/modules/linear_model.html#logistic-regression\n",
            "  extra_warning_msg=_LOGISTIC_SOLVER_CONVERGENCE_MSG,\n",
            "/usr/local/lib/python3.7/dist-packages/sklearn/linear_model/_logistic.py:818: ConvergenceWarning: lbfgs failed to converge (status=1):\n",
            "STOP: TOTAL NO. of ITERATIONS REACHED LIMIT.\n",
            "\n",
            "Increase the number of iterations (max_iter) or scale the data as shown in:\n",
            "    https://scikit-learn.org/stable/modules/preprocessing.html\n",
            "Please also refer to the documentation for alternative solver options:\n",
            "    https://scikit-learn.org/stable/modules/linear_model.html#logistic-regression\n",
            "  extra_warning_msg=_LOGISTIC_SOLVER_CONVERGENCE_MSG,\n",
            "/usr/local/lib/python3.7/dist-packages/sklearn/linear_model/_logistic.py:818: ConvergenceWarning: lbfgs failed to converge (status=1):\n",
            "STOP: TOTAL NO. of ITERATIONS REACHED LIMIT.\n",
            "\n",
            "Increase the number of iterations (max_iter) or scale the data as shown in:\n",
            "    https://scikit-learn.org/stable/modules/preprocessing.html\n",
            "Please also refer to the documentation for alternative solver options:\n",
            "    https://scikit-learn.org/stable/modules/linear_model.html#logistic-regression\n",
            "  extra_warning_msg=_LOGISTIC_SOLVER_CONVERGENCE_MSG,\n",
            "/usr/local/lib/python3.7/dist-packages/sklearn/linear_model/_logistic.py:818: ConvergenceWarning: lbfgs failed to converge (status=1):\n",
            "STOP: TOTAL NO. of ITERATIONS REACHED LIMIT.\n",
            "\n",
            "Increase the number of iterations (max_iter) or scale the data as shown in:\n",
            "    https://scikit-learn.org/stable/modules/preprocessing.html\n",
            "Please also refer to the documentation for alternative solver options:\n",
            "    https://scikit-learn.org/stable/modules/linear_model.html#logistic-regression\n",
            "  extra_warning_msg=_LOGISTIC_SOLVER_CONVERGENCE_MSG,\n"
          ]
        },
        {
          "output_type": "stream",
          "name": "stdout",
          "text": [
            "\tTrain Accuracy:  [0.97275071 0.97385541 0.97422364 0.97397815 0.97446913] \n",
            "\tValid Accuracy:  [0.73084479 0.73870334 0.74607073 0.73821218 0.73428291]\n"
          ]
        },
        {
          "output_type": "stream",
          "name": "stderr",
          "text": [
            "/usr/local/lib/python3.7/dist-packages/sklearn/linear_model/_logistic.py:818: ConvergenceWarning: lbfgs failed to converge (status=1):\n",
            "STOP: TOTAL NO. of ITERATIONS REACHED LIMIT.\n",
            "\n",
            "Increase the number of iterations (max_iter) or scale the data as shown in:\n",
            "    https://scikit-learn.org/stable/modules/preprocessing.html\n",
            "Please also refer to the documentation for alternative solver options:\n",
            "    https://scikit-learn.org/stable/modules/linear_model.html#logistic-regression\n",
            "  extra_warning_msg=_LOGISTIC_SOLVER_CONVERGENCE_MSG,\n"
          ]
        },
        {
          "output_type": "stream",
          "name": "stdout",
          "text": [
            "Hyperparameter: {'multi_class': 'multinomial', 'solver': 'lbfgs', 'penalty': 'l2', 'C': 10}\n"
          ]
        },
        {
          "output_type": "stream",
          "name": "stderr",
          "text": [
            "/usr/local/lib/python3.7/dist-packages/sklearn/linear_model/_logistic.py:818: ConvergenceWarning: lbfgs failed to converge (status=1):\n",
            "STOP: TOTAL NO. of ITERATIONS REACHED LIMIT.\n",
            "\n",
            "Increase the number of iterations (max_iter) or scale the data as shown in:\n",
            "    https://scikit-learn.org/stable/modules/preprocessing.html\n",
            "Please also refer to the documentation for alternative solver options:\n",
            "    https://scikit-learn.org/stable/modules/linear_model.html#logistic-regression\n",
            "  extra_warning_msg=_LOGISTIC_SOLVER_CONVERGENCE_MSG,\n",
            "/usr/local/lib/python3.7/dist-packages/sklearn/linear_model/_logistic.py:818: ConvergenceWarning: lbfgs failed to converge (status=1):\n",
            "STOP: TOTAL NO. of ITERATIONS REACHED LIMIT.\n",
            "\n",
            "Increase the number of iterations (max_iter) or scale the data as shown in:\n",
            "    https://scikit-learn.org/stable/modules/preprocessing.html\n",
            "Please also refer to the documentation for alternative solver options:\n",
            "    https://scikit-learn.org/stable/modules/linear_model.html#logistic-regression\n",
            "  extra_warning_msg=_LOGISTIC_SOLVER_CONVERGENCE_MSG,\n",
            "/usr/local/lib/python3.7/dist-packages/sklearn/linear_model/_logistic.py:818: ConvergenceWarning: lbfgs failed to converge (status=1):\n",
            "STOP: TOTAL NO. of ITERATIONS REACHED LIMIT.\n",
            "\n",
            "Increase the number of iterations (max_iter) or scale the data as shown in:\n",
            "    https://scikit-learn.org/stable/modules/preprocessing.html\n",
            "Please also refer to the documentation for alternative solver options:\n",
            "    https://scikit-learn.org/stable/modules/linear_model.html#logistic-regression\n",
            "  extra_warning_msg=_LOGISTIC_SOLVER_CONVERGENCE_MSG,\n",
            "/usr/local/lib/python3.7/dist-packages/sklearn/linear_model/_logistic.py:818: ConvergenceWarning: lbfgs failed to converge (status=1):\n",
            "STOP: TOTAL NO. of ITERATIONS REACHED LIMIT.\n",
            "\n",
            "Increase the number of iterations (max_iter) or scale the data as shown in:\n",
            "    https://scikit-learn.org/stable/modules/preprocessing.html\n",
            "Please also refer to the documentation for alternative solver options:\n",
            "    https://scikit-learn.org/stable/modules/linear_model.html#logistic-regression\n",
            "  extra_warning_msg=_LOGISTIC_SOLVER_CONVERGENCE_MSG,\n",
            "/usr/local/lib/python3.7/dist-packages/sklearn/linear_model/_logistic.py:818: ConvergenceWarning: lbfgs failed to converge (status=1):\n",
            "STOP: TOTAL NO. of ITERATIONS REACHED LIMIT.\n",
            "\n",
            "Increase the number of iterations (max_iter) or scale the data as shown in:\n",
            "    https://scikit-learn.org/stable/modules/preprocessing.html\n",
            "Please also refer to the documentation for alternative solver options:\n",
            "    https://scikit-learn.org/stable/modules/linear_model.html#logistic-regression\n",
            "  extra_warning_msg=_LOGISTIC_SOLVER_CONVERGENCE_MSG,\n"
          ]
        },
        {
          "output_type": "stream",
          "name": "stdout",
          "text": [
            "\tTrain Accuracy:  [0.97381794 0.9743703  0.97414936 0.97205038 0.97271321] \n",
            "\tValid Accuracy:  [0.73916888 0.755084   0.74403183 0.74580018 0.74535809]\n"
          ]
        },
        {
          "output_type": "stream",
          "name": "stderr",
          "text": [
            "/usr/local/lib/python3.7/dist-packages/sklearn/linear_model/_logistic.py:818: ConvergenceWarning: lbfgs failed to converge (status=1):\n",
            "STOP: TOTAL NO. of ITERATIONS REACHED LIMIT.\n",
            "\n",
            "Increase the number of iterations (max_iter) or scale the data as shown in:\n",
            "    https://scikit-learn.org/stable/modules/preprocessing.html\n",
            "Please also refer to the documentation for alternative solver options:\n",
            "    https://scikit-learn.org/stable/modules/linear_model.html#logistic-regression\n",
            "  extra_warning_msg=_LOGISTIC_SOLVER_CONVERGENCE_MSG,\n"
          ]
        }
      ],
      "source": [
        "# Newsgroups LR\n",
        "model_name = LogisticRegression\n",
        "hyperparameters = [optParameterLR1]\n",
        "testAccuraciesLR1 = modelAccuracy(NewsGroups,K,model_name,hyperparameters,qValues)"
      ]
    },
    {
      "cell_type": "code",
      "execution_count": null,
      "metadata": {
        "id": "t-IYYpweGCyS",
        "colab": {
          "base_uri": "https://localhost:8080/",
          "height": 419
        },
        "outputId": "ea5bb8d1-6697-4d8e-f8f0-7b3f7f69333d"
      },
      "outputs": [
        {
          "output_type": "display_data",
          "data": {
            "image/png": "[encoded data removed]",
            "text/plain": [
              "<Figure size 576x432 with 1 Axes>"
            ]
          },
          "metadata": {
            "needs_background": "light"
          }
        }
      ],
      "source": [
        "# Plot average validation accuracies NewsGroups\n",
        "plt.plot()\n",
        "plt.scatter(qValues, testAccuraciesNB1,label='Naive Bayes',c='teal',alpha=0.7)\n",
        "plt.plot(qValues, testAccuraciesNB1,'teal',alpha=0.7)\n",
        "plt.scatter(qValues, testAccuraciesLR1,label='Logistic Regression',c='orange',alpha=0.7)\n",
        "plt.plot(qValues, testAccuraciesLR1,'orange',alpha=0.7)\n",
        "plt.title('Average test accuracy of Naive Bayes and Logistic Regression models\\non the NewsGroups dataset for different training ratios')\n",
        "plt.xlabel('Training ratio')\n",
        "plt.ylabel('Accuracy')\n",
        "plt.xlim(0,max(qValues)+0.1)\n",
        "plt.legend()\n",
        "plt.show()"
      ]
    },
    {
      "cell_type": "code",
      "execution_count": null,
      "metadata": {
        "id": "sH5AxUFCqnVn",
        "colab": {
          "base_uri": "https://localhost:8080/"
        },
        "outputId": "808f1d1e-e89e-4691-8d3c-613988d8eb3a"
      },
      "outputs": [
        {
          "output_type": "stream",
          "name": "stdout",
          "text": [
            "Hyperparameter: {'alpha': 2}\n",
            "\tTrain Accuracy:  [0.90257813 0.90414063 0.9078125  0.90140625 0.90171875] \n",
            "\tValid Accuracy:  [0.7153125 0.7234375 0.7125    0.7284375 0.7365625]\n",
            "Hyperparameter: {'alpha': 2}\n",
            "\tTrain Accuracy:  [0.87796875 0.88113281 0.87941406 0.87957031 0.87796875] \n",
            "\tValid Accuracy:  [0.72984375 0.73671875 0.74328125 0.7396875  0.7240625 ]\n",
            "Hyperparameter: {'alpha': 2}\n",
            "\tTrain Accuracy:  [0.87164397 0.87268561 0.87107107 0.87484701 0.86976902] \n",
            "\tValid Accuracy:  [0.73729167 0.7409375  0.7503125  0.73489583 0.74270833]\n",
            "Hyperparameter: {'alpha': 2}\n",
            "\tTrain Accuracy:  [0.86177734 0.86441406 0.86306641 0.86314453 0.86470703] \n",
            "\tValid Accuracy:  [0.74773437 0.7459375  0.73898438 0.73617188 0.73960938]\n",
            "Hyperparameter: {'alpha': 2}\n",
            "\tTrain Accuracy:  [0.8600625  0.859125   0.85971875 0.86026563 0.8605625 ] \n",
            "\tValid Accuracy:  [0.740625  0.749875  0.7445    0.7425    0.7420625]\n",
            "Hyperparameter: {'alpha': 2}\n",
            "\tTrain Accuracy:  [0.85549479 0.85558594 0.85502604 0.85463542 0.85402344] \n",
            "\tValid Accuracy:  [0.74604167 0.74130208 0.74229167 0.74859375 0.75213542]\n",
            "Hyperparameter: {'alpha': 2}\n",
            "\tTrain Accuracy:  [0.85212219 0.85236772 0.85303735 0.85403065 0.85332753] \n",
            "\tValid Accuracy:  [0.74678571 0.75049107 0.7475     0.74919643 0.75040179]\n",
            "Hyperparameter: {'alpha': 2}\n",
            "\tTrain Accuracy:  [0.85073242 0.85103516 0.84991211 0.84856445 0.85060547] \n",
            "\tValid Accuracy:  [0.75132813 0.7459375  0.74988281 0.74714844 0.7475    ]\n",
            "Hyperparameter: {'alpha': 2}\n",
            "\tTrain Accuracy:  [0.8483941  0.84814236 0.84833333 0.8481684  0.8468316 ] \n",
            "\tValid Accuracy:  [0.74753472 0.75086806 0.7525     0.74996528 0.75347222]\n",
            "Hyperparameter: {'alpha': 2}\n",
            "\tTrain Accuracy:  [0.84614062 0.84621875 0.84599219 0.845875   0.84577344] \n",
            "\tValid Accuracy:  [0.7520625  0.7541875  0.74765625 0.75384375 0.748875  ]\n"
          ]
        }
      ],
      "source": [
        "# Sentiment NB\n",
        "model_name = MultinomialNaiveBayes\n",
        "hyperparameters = [optParameterNB2]\n",
        "testAccuraciesNB2 = modelAccuracy(Sentiment140,K,model_name,hyperparameters,qValues)\n",
        "\n"
      ]
    },
    {
      "cell_type": "code",
      "execution_count": null,
      "metadata": {
        "id": "NZo0kBpjItdj",
        "colab": {
          "base_uri": "https://localhost:8080/"
        },
        "outputId": "6020251c-fe33-4b2b-a770-289c90cef7d6"
      },
      "outputs": [
        {
          "output_type": "stream",
          "name": "stdout",
          "text": [
            "Hyperparameter: {'multi_class': 'multinomial', 'solver': 'lbfgs', 'penalty': 'l2', 'C': 1}\n",
            "\tTrain Accuracy:  [0.91710938 0.91703125 0.9178125  0.91578125 0.9184375 ] \n",
            "\tValid Accuracy:  [0.746875  0.7315625 0.7375    0.745     0.7315625]\n",
            "Hyperparameter: {'multi_class': 'multinomial', 'solver': 'lbfgs', 'penalty': 'l2', 'C': 1}\n"
          ]
        },
        {
          "output_type": "stream",
          "name": "stderr",
          "text": [
            "/usr/local/lib/python3.7/dist-packages/sklearn/linear_model/_logistic.py:818: ConvergenceWarning: lbfgs failed to converge (status=1):\n",
            "STOP: TOTAL NO. of ITERATIONS REACHED LIMIT.\n",
            "\n",
            "Increase the number of iterations (max_iter) or scale the data as shown in:\n",
            "    https://scikit-learn.org/stable/modules/preprocessing.html\n",
            "Please also refer to the documentation for alternative solver options:\n",
            "    https://scikit-learn.org/stable/modules/linear_model.html#logistic-regression\n",
            "  extra_warning_msg=_LOGISTIC_SOLVER_CONVERGENCE_MSG,\n"
          ]
        },
        {
          "output_type": "stream",
          "name": "stdout",
          "text": [
            "\tTrain Accuracy:  [0.89699219 0.89691406 0.89859375 0.89632813 0.89738281] \n",
            "\tValid Accuracy:  [0.7428125  0.74234375 0.743125   0.746875   0.74125   ]\n",
            "Hyperparameter: {'multi_class': 'multinomial', 'solver': 'lbfgs', 'penalty': 'l2', 'C': 1}\n"
          ]
        },
        {
          "output_type": "stream",
          "name": "stderr",
          "text": [
            "/usr/local/lib/python3.7/dist-packages/sklearn/linear_model/_logistic.py:818: ConvergenceWarning: lbfgs failed to converge (status=1):\n",
            "STOP: TOTAL NO. of ITERATIONS REACHED LIMIT.\n",
            "\n",
            "Increase the number of iterations (max_iter) or scale the data as shown in:\n",
            "    https://scikit-learn.org/stable/modules/preprocessing.html\n",
            "Please also refer to the documentation for alternative solver options:\n",
            "    https://scikit-learn.org/stable/modules/linear_model.html#logistic-regression\n",
            "  extra_warning_msg=_LOGISTIC_SOLVER_CONVERGENCE_MSG,\n"
          ]
        },
        {
          "output_type": "stream",
          "name": "stdout",
          "text": [
            "\tTrain Accuracy:  [0.88896122 0.88804979 0.89054973 0.89018515 0.89041952] \n",
            "\tValid Accuracy:  [0.74666667 0.75072917 0.7584375  0.74708333 0.75041667]\n",
            "Hyperparameter: {'multi_class': 'multinomial', 'solver': 'lbfgs', 'penalty': 'l2', 'C': 1}\n"
          ]
        },
        {
          "output_type": "stream",
          "name": "stderr",
          "text": [
            "/usr/local/lib/python3.7/dist-packages/sklearn/linear_model/_logistic.py:818: ConvergenceWarning: lbfgs failed to converge (status=1):\n",
            "STOP: TOTAL NO. of ITERATIONS REACHED LIMIT.\n",
            "\n",
            "Increase the number of iterations (max_iter) or scale the data as shown in:\n",
            "    https://scikit-learn.org/stable/modules/preprocessing.html\n",
            "Please also refer to the documentation for alternative solver options:\n",
            "    https://scikit-learn.org/stable/modules/linear_model.html#logistic-regression\n",
            "  extra_warning_msg=_LOGISTIC_SOLVER_CONVERGENCE_MSG,\n",
            "/usr/local/lib/python3.7/dist-packages/sklearn/linear_model/_logistic.py:818: ConvergenceWarning: lbfgs failed to converge (status=1):\n",
            "STOP: TOTAL NO. of ITERATIONS REACHED LIMIT.\n",
            "\n",
            "Increase the number of iterations (max_iter) or scale the data as shown in:\n",
            "    https://scikit-learn.org/stable/modules/preprocessing.html\n",
            "Please also refer to the documentation for alternative solver options:\n",
            "    https://scikit-learn.org/stable/modules/linear_model.html#logistic-regression\n",
            "  extra_warning_msg=_LOGISTIC_SOLVER_CONVERGENCE_MSG,\n"
          ]
        },
        {
          "output_type": "stream",
          "name": "stdout",
          "text": [
            "\tTrain Accuracy:  [0.88025391 0.88148437 0.88244141 0.88035156 0.88003906] \n",
            "\tValid Accuracy:  [0.75664062 0.75296875 0.75101562 0.75445312 0.756875  ]\n"
          ]
        },
        {
          "output_type": "stream",
          "name": "stderr",
          "text": [
            "/usr/local/lib/python3.7/dist-packages/sklearn/linear_model/_logistic.py:818: ConvergenceWarning: lbfgs failed to converge (status=1):\n",
            "STOP: TOTAL NO. of ITERATIONS REACHED LIMIT.\n",
            "\n",
            "Increase the number of iterations (max_iter) or scale the data as shown in:\n",
            "    https://scikit-learn.org/stable/modules/preprocessing.html\n",
            "Please also refer to the documentation for alternative solver options:\n",
            "    https://scikit-learn.org/stable/modules/linear_model.html#logistic-regression\n",
            "  extra_warning_msg=_LOGISTIC_SOLVER_CONVERGENCE_MSG,\n"
          ]
        },
        {
          "output_type": "stream",
          "name": "stdout",
          "text": [
            "Hyperparameter: {'multi_class': 'multinomial', 'solver': 'lbfgs', 'penalty': 'l2', 'C': 1}\n"
          ]
        },
        {
          "output_type": "stream",
          "name": "stderr",
          "text": [
            "/usr/local/lib/python3.7/dist-packages/sklearn/linear_model/_logistic.py:818: ConvergenceWarning: lbfgs failed to converge (status=1):\n",
            "STOP: TOTAL NO. of ITERATIONS REACHED LIMIT.\n",
            "\n",
            "Increase the number of iterations (max_iter) or scale the data as shown in:\n",
            "    https://scikit-learn.org/stable/modules/preprocessing.html\n",
            "Please also refer to the documentation for alternative solver options:\n",
            "    https://scikit-learn.org/stable/modules/linear_model.html#logistic-regression\n",
            "  extra_warning_msg=_LOGISTIC_SOLVER_CONVERGENCE_MSG,\n",
            "/usr/local/lib/python3.7/dist-packages/sklearn/linear_model/_logistic.py:818: ConvergenceWarning: lbfgs failed to converge (status=1):\n",
            "STOP: TOTAL NO. of ITERATIONS REACHED LIMIT.\n",
            "\n",
            "Increase the number of iterations (max_iter) or scale the data as shown in:\n",
            "    https://scikit-learn.org/stable/modules/preprocessing.html\n",
            "Please also refer to the documentation for alternative solver options:\n",
            "    https://scikit-learn.org/stable/modules/linear_model.html#logistic-regression\n",
            "  extra_warning_msg=_LOGISTIC_SOLVER_CONVERGENCE_MSG,\n",
            "/usr/local/lib/python3.7/dist-packages/sklearn/linear_model/_logistic.py:818: ConvergenceWarning: lbfgs failed to converge (status=1):\n",
            "STOP: TOTAL NO. of ITERATIONS REACHED LIMIT.\n",
            "\n",
            "Increase the number of iterations (max_iter) or scale the data as shown in:\n",
            "    https://scikit-learn.org/stable/modules/preprocessing.html\n",
            "Please also refer to the documentation for alternative solver options:\n",
            "    https://scikit-learn.org/stable/modules/linear_model.html#logistic-regression\n",
            "  extra_warning_msg=_LOGISTIC_SOLVER_CONVERGENCE_MSG,\n"
          ]
        },
        {
          "output_type": "stream",
          "name": "stdout",
          "text": [
            "\tTrain Accuracy:  [0.874125   0.8741875  0.87539062 0.87467187 0.87339062] \n",
            "\tValid Accuracy:  [0.758     0.7561875 0.7505625 0.757375  0.7530625]\n"
          ]
        },
        {
          "output_type": "stream",
          "name": "stderr",
          "text": [
            "/usr/local/lib/python3.7/dist-packages/sklearn/linear_model/_logistic.py:818: ConvergenceWarning: lbfgs failed to converge (status=1):\n",
            "STOP: TOTAL NO. of ITERATIONS REACHED LIMIT.\n",
            "\n",
            "Increase the number of iterations (max_iter) or scale the data as shown in:\n",
            "    https://scikit-learn.org/stable/modules/preprocessing.html\n",
            "Please also refer to the documentation for alternative solver options:\n",
            "    https://scikit-learn.org/stable/modules/linear_model.html#logistic-regression\n",
            "  extra_warning_msg=_LOGISTIC_SOLVER_CONVERGENCE_MSG,\n"
          ]
        },
        {
          "output_type": "stream",
          "name": "stdout",
          "text": [
            "Hyperparameter: {'multi_class': 'multinomial', 'solver': 'lbfgs', 'penalty': 'l2', 'C': 1}\n"
          ]
        },
        {
          "output_type": "stream",
          "name": "stderr",
          "text": [
            "/usr/local/lib/python3.7/dist-packages/sklearn/linear_model/_logistic.py:818: ConvergenceWarning: lbfgs failed to converge (status=1):\n",
            "STOP: TOTAL NO. of ITERATIONS REACHED LIMIT.\n",
            "\n",
            "Increase the number of iterations (max_iter) or scale the data as shown in:\n",
            "    https://scikit-learn.org/stable/modules/preprocessing.html\n",
            "Please also refer to the documentation for alternative solver options:\n",
            "    https://scikit-learn.org/stable/modules/linear_model.html#logistic-regression\n",
            "  extra_warning_msg=_LOGISTIC_SOLVER_CONVERGENCE_MSG,\n",
            "/usr/local/lib/python3.7/dist-packages/sklearn/linear_model/_logistic.py:818: ConvergenceWarning: lbfgs failed to converge (status=1):\n",
            "STOP: TOTAL NO. of ITERATIONS REACHED LIMIT.\n",
            "\n",
            "Increase the number of iterations (max_iter) or scale the data as shown in:\n",
            "    https://scikit-learn.org/stable/modules/preprocessing.html\n",
            "Please also refer to the documentation for alternative solver options:\n",
            "    https://scikit-learn.org/stable/modules/linear_model.html#logistic-regression\n",
            "  extra_warning_msg=_LOGISTIC_SOLVER_CONVERGENCE_MSG,\n",
            "/usr/local/lib/python3.7/dist-packages/sklearn/linear_model/_logistic.py:818: ConvergenceWarning: lbfgs failed to converge (status=1):\n",
            "STOP: TOTAL NO. of ITERATIONS REACHED LIMIT.\n",
            "\n",
            "Increase the number of iterations (max_iter) or scale the data as shown in:\n",
            "    https://scikit-learn.org/stable/modules/preprocessing.html\n",
            "Please also refer to the documentation for alternative solver options:\n",
            "    https://scikit-learn.org/stable/modules/linear_model.html#logistic-regression\n",
            "  extra_warning_msg=_LOGISTIC_SOLVER_CONVERGENCE_MSG,\n",
            "/usr/local/lib/python3.7/dist-packages/sklearn/linear_model/_logistic.py:818: ConvergenceWarning: lbfgs failed to converge (status=1):\n",
            "STOP: TOTAL NO. of ITERATIONS REACHED LIMIT.\n",
            "\n",
            "Increase the number of iterations (max_iter) or scale the data as shown in:\n",
            "    https://scikit-learn.org/stable/modules/preprocessing.html\n",
            "Please also refer to the documentation for alternative solver options:\n",
            "    https://scikit-learn.org/stable/modules/linear_model.html#logistic-regression\n",
            "  extra_warning_msg=_LOGISTIC_SOLVER_CONVERGENCE_MSG,\n",
            "/usr/local/lib/python3.7/dist-packages/sklearn/linear_model/_logistic.py:818: ConvergenceWarning: lbfgs failed to converge (status=1):\n",
            "STOP: TOTAL NO. of ITERATIONS REACHED LIMIT.\n",
            "\n",
            "Increase the number of iterations (max_iter) or scale the data as shown in:\n",
            "    https://scikit-learn.org/stable/modules/preprocessing.html\n",
            "Please also refer to the documentation for alternative solver options:\n",
            "    https://scikit-learn.org/stable/modules/linear_model.html#logistic-regression\n",
            "  extra_warning_msg=_LOGISTIC_SOLVER_CONVERGENCE_MSG,\n"
          ]
        },
        {
          "output_type": "stream",
          "name": "stdout",
          "text": [
            "\tTrain Accuracy:  [0.871875   0.87104167 0.87173177 0.87157552 0.87029948] \n",
            "\tValid Accuracy:  [0.76234375 0.75609375 0.76260417 0.75677083 0.75895833]\n"
          ]
        },
        {
          "output_type": "stream",
          "name": "stderr",
          "text": [
            "/usr/local/lib/python3.7/dist-packages/sklearn/linear_model/_logistic.py:818: ConvergenceWarning: lbfgs failed to converge (status=1):\n",
            "STOP: TOTAL NO. of ITERATIONS REACHED LIMIT.\n",
            "\n",
            "Increase the number of iterations (max_iter) or scale the data as shown in:\n",
            "    https://scikit-learn.org/stable/modules/preprocessing.html\n",
            "Please also refer to the documentation for alternative solver options:\n",
            "    https://scikit-learn.org/stable/modules/linear_model.html#logistic-regression\n",
            "  extra_warning_msg=_LOGISTIC_SOLVER_CONVERGENCE_MSG,\n"
          ]
        },
        {
          "output_type": "stream",
          "name": "stdout",
          "text": [
            "Hyperparameter: {'multi_class': 'multinomial', 'solver': 'lbfgs', 'penalty': 'l2', 'C': 1}\n"
          ]
        },
        {
          "output_type": "stream",
          "name": "stderr",
          "text": [
            "/usr/local/lib/python3.7/dist-packages/sklearn/linear_model/_logistic.py:818: ConvergenceWarning: lbfgs failed to converge (status=1):\n",
            "STOP: TOTAL NO. of ITERATIONS REACHED LIMIT.\n",
            "\n",
            "Increase the number of iterations (max_iter) or scale the data as shown in:\n",
            "    https://scikit-learn.org/stable/modules/preprocessing.html\n",
            "Please also refer to the documentation for alternative solver options:\n",
            "    https://scikit-learn.org/stable/modules/linear_model.html#logistic-regression\n",
            "  extra_warning_msg=_LOGISTIC_SOLVER_CONVERGENCE_MSG,\n",
            "/usr/local/lib/python3.7/dist-packages/sklearn/linear_model/_logistic.py:818: ConvergenceWarning: lbfgs failed to converge (status=1):\n",
            "STOP: TOTAL NO. of ITERATIONS REACHED LIMIT.\n",
            "\n",
            "Increase the number of iterations (max_iter) or scale the data as shown in:\n",
            "    https://scikit-learn.org/stable/modules/preprocessing.html\n",
            "Please also refer to the documentation for alternative solver options:\n",
            "    https://scikit-learn.org/stable/modules/linear_model.html#logistic-regression\n",
            "  extra_warning_msg=_LOGISTIC_SOLVER_CONVERGENCE_MSG,\n",
            "/usr/local/lib/python3.7/dist-packages/sklearn/linear_model/_logistic.py:818: ConvergenceWarning: lbfgs failed to converge (status=1):\n",
            "STOP: TOTAL NO. of ITERATIONS REACHED LIMIT.\n",
            "\n",
            "Increase the number of iterations (max_iter) or scale the data as shown in:\n",
            "    https://scikit-learn.org/stable/modules/preprocessing.html\n",
            "Please also refer to the documentation for alternative solver options:\n",
            "    https://scikit-learn.org/stable/modules/linear_model.html#logistic-regression\n",
            "  extra_warning_msg=_LOGISTIC_SOLVER_CONVERGENCE_MSG,\n",
            "/usr/local/lib/python3.7/dist-packages/sklearn/linear_model/_logistic.py:818: ConvergenceWarning: lbfgs failed to converge (status=1):\n",
            "STOP: TOTAL NO. of ITERATIONS REACHED LIMIT.\n",
            "\n",
            "Increase the number of iterations (max_iter) or scale the data as shown in:\n",
            "    https://scikit-learn.org/stable/modules/preprocessing.html\n",
            "Please also refer to the documentation for alternative solver options:\n",
            "    https://scikit-learn.org/stable/modules/linear_model.html#logistic-regression\n",
            "  extra_warning_msg=_LOGISTIC_SOLVER_CONVERGENCE_MSG,\n",
            "/usr/local/lib/python3.7/dist-packages/sklearn/linear_model/_logistic.py:818: ConvergenceWarning: lbfgs failed to converge (status=1):\n",
            "STOP: TOTAL NO. of ITERATIONS REACHED LIMIT.\n",
            "\n",
            "Increase the number of iterations (max_iter) or scale the data as shown in:\n",
            "    https://scikit-learn.org/stable/modules/preprocessing.html\n",
            "Please also refer to the documentation for alternative solver options:\n",
            "    https://scikit-learn.org/stable/modules/linear_model.html#logistic-regression\n",
            "  extra_warning_msg=_LOGISTIC_SOLVER_CONVERGENCE_MSG,\n"
          ]
        },
        {
          "output_type": "stream",
          "name": "stdout",
          "text": [
            "\tTrain Accuracy:  [0.86904164 0.86711086 0.87000145 0.86877379 0.86738987] \n",
            "\tValid Accuracy:  [0.75941964 0.7646875  0.75584821 0.75933036 0.7665625 ]\n"
          ]
        },
        {
          "output_type": "stream",
          "name": "stderr",
          "text": [
            "/usr/local/lib/python3.7/dist-packages/sklearn/linear_model/_logistic.py:818: ConvergenceWarning: lbfgs failed to converge (status=1):\n",
            "STOP: TOTAL NO. of ITERATIONS REACHED LIMIT.\n",
            "\n",
            "Increase the number of iterations (max_iter) or scale the data as shown in:\n",
            "    https://scikit-learn.org/stable/modules/preprocessing.html\n",
            "Please also refer to the documentation for alternative solver options:\n",
            "    https://scikit-learn.org/stable/modules/linear_model.html#logistic-regression\n",
            "  extra_warning_msg=_LOGISTIC_SOLVER_CONVERGENCE_MSG,\n"
          ]
        },
        {
          "output_type": "stream",
          "name": "stdout",
          "text": [
            "Hyperparameter: {'multi_class': 'multinomial', 'solver': 'lbfgs', 'penalty': 'l2', 'C': 1}\n"
          ]
        },
        {
          "output_type": "stream",
          "name": "stderr",
          "text": [
            "/usr/local/lib/python3.7/dist-packages/sklearn/linear_model/_logistic.py:818: ConvergenceWarning: lbfgs failed to converge (status=1):\n",
            "STOP: TOTAL NO. of ITERATIONS REACHED LIMIT.\n",
            "\n",
            "Increase the number of iterations (max_iter) or scale the data as shown in:\n",
            "    https://scikit-learn.org/stable/modules/preprocessing.html\n",
            "Please also refer to the documentation for alternative solver options:\n",
            "    https://scikit-learn.org/stable/modules/linear_model.html#logistic-regression\n",
            "  extra_warning_msg=_LOGISTIC_SOLVER_CONVERGENCE_MSG,\n",
            "/usr/local/lib/python3.7/dist-packages/sklearn/linear_model/_logistic.py:818: ConvergenceWarning: lbfgs failed to converge (status=1):\n",
            "STOP: TOTAL NO. of ITERATIONS REACHED LIMIT.\n",
            "\n",
            "Increase the number of iterations (max_iter) or scale the data as shown in:\n",
            "    https://scikit-learn.org/stable/modules/preprocessing.html\n",
            "Please also refer to the documentation for alternative solver options:\n",
            "    https://scikit-learn.org/stable/modules/linear_model.html#logistic-regression\n",
            "  extra_warning_msg=_LOGISTIC_SOLVER_CONVERGENCE_MSG,\n",
            "/usr/local/lib/python3.7/dist-packages/sklearn/linear_model/_logistic.py:818: ConvergenceWarning: lbfgs failed to converge (status=1):\n",
            "STOP: TOTAL NO. of ITERATIONS REACHED LIMIT.\n",
            "\n",
            "Increase the number of iterations (max_iter) or scale the data as shown in:\n",
            "    https://scikit-learn.org/stable/modules/preprocessing.html\n",
            "Please also refer to the documentation for alternative solver options:\n",
            "    https://scikit-learn.org/stable/modules/linear_model.html#logistic-regression\n",
            "  extra_warning_msg=_LOGISTIC_SOLVER_CONVERGENCE_MSG,\n",
            "/usr/local/lib/python3.7/dist-packages/sklearn/linear_model/_logistic.py:818: ConvergenceWarning: lbfgs failed to converge (status=1):\n",
            "STOP: TOTAL NO. of ITERATIONS REACHED LIMIT.\n",
            "\n",
            "Increase the number of iterations (max_iter) or scale the data as shown in:\n",
            "    https://scikit-learn.org/stable/modules/preprocessing.html\n",
            "Please also refer to the documentation for alternative solver options:\n",
            "    https://scikit-learn.org/stable/modules/linear_model.html#logistic-regression\n",
            "  extra_warning_msg=_LOGISTIC_SOLVER_CONVERGENCE_MSG,\n",
            "/usr/local/lib/python3.7/dist-packages/sklearn/linear_model/_logistic.py:818: ConvergenceWarning: lbfgs failed to converge (status=1):\n",
            "STOP: TOTAL NO. of ITERATIONS REACHED LIMIT.\n",
            "\n",
            "Increase the number of iterations (max_iter) or scale the data as shown in:\n",
            "    https://scikit-learn.org/stable/modules/preprocessing.html\n",
            "Please also refer to the documentation for alternative solver options:\n",
            "    https://scikit-learn.org/stable/modules/linear_model.html#logistic-regression\n",
            "  extra_warning_msg=_LOGISTIC_SOLVER_CONVERGENCE_MSG,\n"
          ]
        },
        {
          "output_type": "stream",
          "name": "stdout",
          "text": [
            "\tTrain Accuracy:  [0.86547852 0.86613281 0.86631836 0.86765625 0.86476562] \n",
            "\tValid Accuracy:  [0.76183594 0.76644531 0.75613281 0.76589844 0.76183594]\n"
          ]
        },
        {
          "output_type": "stream",
          "name": "stderr",
          "text": [
            "/usr/local/lib/python3.7/dist-packages/sklearn/linear_model/_logistic.py:818: ConvergenceWarning: lbfgs failed to converge (status=1):\n",
            "STOP: TOTAL NO. of ITERATIONS REACHED LIMIT.\n",
            "\n",
            "Increase the number of iterations (max_iter) or scale the data as shown in:\n",
            "    https://scikit-learn.org/stable/modules/preprocessing.html\n",
            "Please also refer to the documentation for alternative solver options:\n",
            "    https://scikit-learn.org/stable/modules/linear_model.html#logistic-regression\n",
            "  extra_warning_msg=_LOGISTIC_SOLVER_CONVERGENCE_MSG,\n"
          ]
        },
        {
          "output_type": "stream",
          "name": "stdout",
          "text": [
            "Hyperparameter: {'multi_class': 'multinomial', 'solver': 'lbfgs', 'penalty': 'l2', 'C': 1}\n"
          ]
        },
        {
          "output_type": "stream",
          "name": "stderr",
          "text": [
            "/usr/local/lib/python3.7/dist-packages/sklearn/linear_model/_logistic.py:818: ConvergenceWarning: lbfgs failed to converge (status=1):\n",
            "STOP: TOTAL NO. of ITERATIONS REACHED LIMIT.\n",
            "\n",
            "Increase the number of iterations (max_iter) or scale the data as shown in:\n",
            "    https://scikit-learn.org/stable/modules/preprocessing.html\n",
            "Please also refer to the documentation for alternative solver options:\n",
            "    https://scikit-learn.org/stable/modules/linear_model.html#logistic-regression\n",
            "  extra_warning_msg=_LOGISTIC_SOLVER_CONVERGENCE_MSG,\n",
            "/usr/local/lib/python3.7/dist-packages/sklearn/linear_model/_logistic.py:818: ConvergenceWarning: lbfgs failed to converge (status=1):\n",
            "STOP: TOTAL NO. of ITERATIONS REACHED LIMIT.\n",
            "\n",
            "Increase the number of iterations (max_iter) or scale the data as shown in:\n",
            "    https://scikit-learn.org/stable/modules/preprocessing.html\n",
            "Please also refer to the documentation for alternative solver options:\n",
            "    https://scikit-learn.org/stable/modules/linear_model.html#logistic-regression\n",
            "  extra_warning_msg=_LOGISTIC_SOLVER_CONVERGENCE_MSG,\n",
            "/usr/local/lib/python3.7/dist-packages/sklearn/linear_model/_logistic.py:818: ConvergenceWarning: lbfgs failed to converge (status=1):\n",
            "STOP: TOTAL NO. of ITERATIONS REACHED LIMIT.\n",
            "\n",
            "Increase the number of iterations (max_iter) or scale the data as shown in:\n",
            "    https://scikit-learn.org/stable/modules/preprocessing.html\n",
            "Please also refer to the documentation for alternative solver options:\n",
            "    https://scikit-learn.org/stable/modules/linear_model.html#logistic-regression\n",
            "  extra_warning_msg=_LOGISTIC_SOLVER_CONVERGENCE_MSG,\n",
            "/usr/local/lib/python3.7/dist-packages/sklearn/linear_model/_logistic.py:818: ConvergenceWarning: lbfgs failed to converge (status=1):\n",
            "STOP: TOTAL NO. of ITERATIONS REACHED LIMIT.\n",
            "\n",
            "Increase the number of iterations (max_iter) or scale the data as shown in:\n",
            "    https://scikit-learn.org/stable/modules/preprocessing.html\n",
            "Please also refer to the documentation for alternative solver options:\n",
            "    https://scikit-learn.org/stable/modules/linear_model.html#logistic-regression\n",
            "  extra_warning_msg=_LOGISTIC_SOLVER_CONVERGENCE_MSG,\n",
            "/usr/local/lib/python3.7/dist-packages/sklearn/linear_model/_logistic.py:818: ConvergenceWarning: lbfgs failed to converge (status=1):\n",
            "STOP: TOTAL NO. of ITERATIONS REACHED LIMIT.\n",
            "\n",
            "Increase the number of iterations (max_iter) or scale the data as shown in:\n",
            "    https://scikit-learn.org/stable/modules/preprocessing.html\n",
            "Please also refer to the documentation for alternative solver options:\n",
            "    https://scikit-learn.org/stable/modules/linear_model.html#logistic-regression\n",
            "  extra_warning_msg=_LOGISTIC_SOLVER_CONVERGENCE_MSG,\n"
          ]
        },
        {
          "output_type": "stream",
          "name": "stdout",
          "text": [
            "\tTrain Accuracy:  [0.86322049 0.86168403 0.86414062 0.86386285 0.86307292] \n",
            "\tValid Accuracy:  [0.76246528 0.76423611 0.76208333 0.76024306 0.75958333]\n"
          ]
        },
        {
          "output_type": "stream",
          "name": "stderr",
          "text": [
            "/usr/local/lib/python3.7/dist-packages/sklearn/linear_model/_logistic.py:818: ConvergenceWarning: lbfgs failed to converge (status=1):\n",
            "STOP: TOTAL NO. of ITERATIONS REACHED LIMIT.\n",
            "\n",
            "Increase the number of iterations (max_iter) or scale the data as shown in:\n",
            "    https://scikit-learn.org/stable/modules/preprocessing.html\n",
            "Please also refer to the documentation for alternative solver options:\n",
            "    https://scikit-learn.org/stable/modules/linear_model.html#logistic-regression\n",
            "  extra_warning_msg=_LOGISTIC_SOLVER_CONVERGENCE_MSG,\n"
          ]
        },
        {
          "output_type": "stream",
          "name": "stdout",
          "text": [
            "Hyperparameter: {'multi_class': 'multinomial', 'solver': 'lbfgs', 'penalty': 'l2', 'C': 1}\n"
          ]
        },
        {
          "output_type": "stream",
          "name": "stderr",
          "text": [
            "/usr/local/lib/python3.7/dist-packages/sklearn/linear_model/_logistic.py:818: ConvergenceWarning: lbfgs failed to converge (status=1):\n",
            "STOP: TOTAL NO. of ITERATIONS REACHED LIMIT.\n",
            "\n",
            "Increase the number of iterations (max_iter) or scale the data as shown in:\n",
            "    https://scikit-learn.org/stable/modules/preprocessing.html\n",
            "Please also refer to the documentation for alternative solver options:\n",
            "    https://scikit-learn.org/stable/modules/linear_model.html#logistic-regression\n",
            "  extra_warning_msg=_LOGISTIC_SOLVER_CONVERGENCE_MSG,\n",
            "/usr/local/lib/python3.7/dist-packages/sklearn/linear_model/_logistic.py:818: ConvergenceWarning: lbfgs failed to converge (status=1):\n",
            "STOP: TOTAL NO. of ITERATIONS REACHED LIMIT.\n",
            "\n",
            "Increase the number of iterations (max_iter) or scale the data as shown in:\n",
            "    https://scikit-learn.org/stable/modules/preprocessing.html\n",
            "Please also refer to the documentation for alternative solver options:\n",
            "    https://scikit-learn.org/stable/modules/linear_model.html#logistic-regression\n",
            "  extra_warning_msg=_LOGISTIC_SOLVER_CONVERGENCE_MSG,\n",
            "/usr/local/lib/python3.7/dist-packages/sklearn/linear_model/_logistic.py:818: ConvergenceWarning: lbfgs failed to converge (status=1):\n",
            "STOP: TOTAL NO. of ITERATIONS REACHED LIMIT.\n",
            "\n",
            "Increase the number of iterations (max_iter) or scale the data as shown in:\n",
            "    https://scikit-learn.org/stable/modules/preprocessing.html\n",
            "Please also refer to the documentation for alternative solver options:\n",
            "    https://scikit-learn.org/stable/modules/linear_model.html#logistic-regression\n",
            "  extra_warning_msg=_LOGISTIC_SOLVER_CONVERGENCE_MSG,\n",
            "/usr/local/lib/python3.7/dist-packages/sklearn/linear_model/_logistic.py:818: ConvergenceWarning: lbfgs failed to converge (status=1):\n",
            "STOP: TOTAL NO. of ITERATIONS REACHED LIMIT.\n",
            "\n",
            "Increase the number of iterations (max_iter) or scale the data as shown in:\n",
            "    https://scikit-learn.org/stable/modules/preprocessing.html\n",
            "Please also refer to the documentation for alternative solver options:\n",
            "    https://scikit-learn.org/stable/modules/linear_model.html#logistic-regression\n",
            "  extra_warning_msg=_LOGISTIC_SOLVER_CONVERGENCE_MSG,\n",
            "/usr/local/lib/python3.7/dist-packages/sklearn/linear_model/_logistic.py:818: ConvergenceWarning: lbfgs failed to converge (status=1):\n",
            "STOP: TOTAL NO. of ITERATIONS REACHED LIMIT.\n",
            "\n",
            "Increase the number of iterations (max_iter) or scale the data as shown in:\n",
            "    https://scikit-learn.org/stable/modules/preprocessing.html\n",
            "Please also refer to the documentation for alternative solver options:\n",
            "    https://scikit-learn.org/stable/modules/linear_model.html#logistic-regression\n",
            "  extra_warning_msg=_LOGISTIC_SOLVER_CONVERGENCE_MSG,\n"
          ]
        },
        {
          "output_type": "stream",
          "name": "stdout",
          "text": [
            "\tTrain Accuracy:  [0.8623125  0.86079688 0.86235938 0.8626875  0.85883594] \n",
            "\tValid Accuracy:  [0.7634375  0.76609375 0.7663125  0.761625   0.76490625]\n"
          ]
        },
        {
          "output_type": "stream",
          "name": "stderr",
          "text": [
            "/usr/local/lib/python3.7/dist-packages/sklearn/linear_model/_logistic.py:818: ConvergenceWarning: lbfgs failed to converge (status=1):\n",
            "STOP: TOTAL NO. of ITERATIONS REACHED LIMIT.\n",
            "\n",
            "Increase the number of iterations (max_iter) or scale the data as shown in:\n",
            "    https://scikit-learn.org/stable/modules/preprocessing.html\n",
            "Please also refer to the documentation for alternative solver options:\n",
            "    https://scikit-learn.org/stable/modules/linear_model.html#logistic-regression\n",
            "  extra_warning_msg=_LOGISTIC_SOLVER_CONVERGENCE_MSG,\n"
          ]
        }
      ],
      "source": [
        "# Sentiment LR\n",
        "model_name = LogisticRegression\n",
        "hyperparameters = [optParameterLR2]\n",
        "testAccuraciesLR2 = modelAccuracy(Sentiment140,K,model_name,hyperparameters,qValues)"
      ]
    },
    {
      "cell_type": "code",
      "execution_count": null,
      "metadata": {
        "id": "5icIAmEfGES9",
        "colab": {
          "base_uri": "https://localhost:8080/",
          "height": 419
        },
        "outputId": "aaefc6b5-8f7a-45dd-b223-112d159d6028"
      },
      "outputs": [
        {
          "output_type": "display_data",
          "data": {
            "image/png": "[encoded data removed]",
            "text/plain": [
              "<Figure size 576x432 with 1 Axes>"
            ]
          },
          "metadata": {
            "needs_background": "light"
          }
        }
      ],
      "source": [
        "# Plot average validation accuracies Sentiment 140\n",
        "plt.plot()\n",
        "plt.scatter(qValues, testAccuraciesNB2,label='Naive Bayes',c='teal',alpha=0.7)\n",
        "plt.plot(qValues, testAccuraciesNB2,'teal',alpha=0.7)\n",
        "plt.scatter(qValues, testAccuraciesLR2,label='Logistic Regression',c='orange',alpha=0.7)\n",
        "plt.plot(qValues, testAccuraciesLR2,'orange',alpha=0.7)\n",
        "plt.title('Average test accuracy of Naive Bayes and Logistic Regression models\\non the Sentiment140 dataset for different training ratios')\n",
        "plt.xlabel('Training ratio')\n",
        "plt.ylabel('Accuracy')\n",
        "plt.xlim(0,max(qValues)+0.1)\n",
        "plt.legend()\n",
        "plt.show()"
      ]
    },
    {
      "cell_type": "markdown",
      "source": [
        "### 3.4 Experiments\n",
        "\n",
        "We explore the predictive strength of Multinomial Naive Bayes on the NewsGroups dataset. \n",
        "\n"
      ],
      "metadata": {
        "id": "vm3kvKPclIzL"
      }
    },
    {
      "cell_type": "code",
      "source": [
        "# Want rank of y index in each row\n",
        "x = np.array([[0.3,0.4,0.2,0.1], \n",
        "              [0.1,0.4,0.2,0.3],\n",
        "              [0.5,0.1,0.05,0.15]])\n",
        "y = np.array([2,1,3]) \n",
        "order = np.argsort(-x,axis=1)\n",
        "orderr = np.argsort(order,axis=1)\n",
        "print(order)\n",
        "print(orderr)\n",
        "print(orderr[np.arange(x.shape[0]),y])\n",
        "# WANT 1, 3"
      ],
      "metadata": {
        "colab": {
          "base_uri": "https://localhost:8080/"
        },
        "id": "ZMWQH9NLm3kR",
        "outputId": "cbc253b0-fb8f-463b-d9e3-42010d8345c6"
      },
      "execution_count": 108,
      "outputs": [
        {
          "output_type": "stream",
          "name": "stdout",
          "text": [
            "[[1 0 2 3]\n",
            " [1 3 2 0]\n",
            " [0 3 1 2]]\n",
            "[[1 0 2 3]\n",
            " [3 0 2 1]\n",
            " [0 2 3 1]]\n",
            "[2 0 1]\n"
          ]
        }
      ]
    },
    {
      "cell_type": "code",
      "source": [
        "\n",
        "# Predict class labels from data, add predictive strength\n",
        "def predictRank(self, x, y):\n",
        "  Nt, D = x.shape \n",
        "  # Prior:  Concatenate pi Nt times --> [C x Nt] matrix\n",
        "  log_prior = sparse.csr_matrix(np.repeat(np.log(self.pi)[:,np.newaxis], Nt, 1))\n",
        "  # Likelihood: log(theta) * transpose(X): [C x D] * [D x Nt] = [C x Nt]\n",
        "  log_likelihood = sparse.csr_matrix(np.log(self.theta)) * x.transpose()\n",
        "  log_posterior = (log_prior + log_likelihood).toarray() # Posterior = prior + likelihood\n",
        "  posterior = np.exp(log_posterior - logsumexp(log_posterior)) # Normalize \n",
        "  y_prob = posterior.T\n",
        "  y_pred = np.argmax(y_prob,1)\n",
        "\n",
        "  order = np.argsort(-y_prob,axis=1)\n",
        "  orders = np.argsort(order,axis=1)\n",
        "  ranks = orders[np.arange(y_prob.shape[0]),y]\n",
        "\n",
        "  return y_pred, ranks\n",
        "\n",
        "MultinomialNaiveBayes.predictRank = predictRank\n",
        "\n",
        "\n"
      ],
      "metadata": {
        "id": "BwkYTwyclZqj"
      },
      "execution_count": 109,
      "outputs": []
    },
    {
      "cell_type": "code",
      "source": [
        "# Train MNB on Newsgroups\n",
        "NBrank = MultinomialNaiveBayes(**optParameterNB1)    \n",
        "NBrank.fit(newsgroups_trainData,newsgroups_trainLabels)   \n",
        "\n",
        "# Predict test labels using validation set, record validation accuracy\n",
        "y_pred, ranks = NBrank.predictRank(newsgroups_testData, newsgroups_testLabels)\n",
        "\n",
        "\n"
      ],
      "metadata": {
        "id": "YJL6K6O8zFBa"
      },
      "execution_count": 110,
      "outputs": []
    },
    {
      "cell_type": "markdown",
      "source": [
        "We now plot the rank distribution. This is clearly an exponential distribution. The MLE for the $\\lambda$ parameter is given by \n",
        "$$\\hat{\\lambda} = \\frac{n}{\\sum_{i=1}^N x_i}$$"
      ],
      "metadata": {
        "id": "Tb9iEu4v5A5k"
      }
    },
    {
      "cell_type": "code",
      "source": [
        "bins = np.bincount(ranks)\n",
        "print(bins)\n",
        "\n",
        "top5 = bins[0]+bins[1]+bins[2]+bins[3]+bins[4]\n",
        "total = bins.sum()\n",
        "top5/total"
      ],
      "metadata": {
        "colab": {
          "base_uri": "https://localhost:8080/"
        },
        "id": "ls_crzTb606q",
        "outputId": "5cb78a79-9b84-4b9f-923a-61aeb2aa35ba"
      },
      "execution_count": 164,
      "outputs": [
        {
          "output_type": "stream",
          "name": "stdout",
          "text": [
            "[5219  831  398  225  144  125  115   60   68   56   52   38   38   23\n",
            "   31   24   30   28   15   12]\n"
          ]
        },
        {
          "output_type": "execute_result",
          "data": {
            "text/plain": [
              "0.9050716941051513"
            ]
          },
          "metadata": {},
          "execution_count": 164
        }
      ]
    },
    {
      "cell_type": "code",
      "source": [
        "import scipy.stats as ss\n",
        "\n",
        "# Find MLE for exponential distribution\n",
        "MLE = ss.expon.fit(ranks)\n",
        "print(MLE)\n",
        "Lambda_MLE = MLE[1]\n",
        "variance = 1/(Lambda_MLE**2)\n",
        "print(variance)\n",
        "\n",
        "# Exponential distribution\n",
        "expX = np.linspace(0,19,100)\n",
        "expY = ss.expon.pdf(expX, *MLE)\n",
        "\n",
        "#need to plot the normalized histogram with `normed=True`\n",
        "plt.hist(ranks,bins=20,density=True,label='Frequencies')\n",
        "plt.plot(expX, expY,label='Exponential distribution')\n",
        "plt.title('Posterior probability rank histogram of true test labels \\n of Multinomial Naive Bayes prediction on Newsgroups dataset')\n",
        "plt.xlabel('Posterior probability rank')\n",
        "plt.ylabel('Frequency')\n",
        "plt.xticks(np.arange(0, 20, 1))\n",
        "plt.legend()\n",
        "plt.xlim(0,19,1)\n",
        "plt.show()\n",
        "\n",
        "\n"
      ],
      "metadata": {
        "colab": {
          "base_uri": "https://localhost:8080/",
          "height": 346
        },
        "id": "6Uw50-8g6ZMc",
        "outputId": "7b143740-3c27-4e18-992d-0f51d16fbfb9"
      },
      "execution_count": 162,
      "outputs": [
        {
          "output_type": "stream",
          "name": "stdout",
          "text": [
            "(0.0, 1.2748274030801912)\n",
            "0.6153145991551003\n"
          ]
        },
        {
          "output_type": "display_data",
          "data": {
            "image/png": "[encoded data removed]",
            "text/plain": [
              "<Figure size 432x288 with 1 Axes>"
            ]
          },
          "metadata": {
            "needs_background": "light"
          }
        }
      ]
    },
    {
      "cell_type": "code",
      "source": [
        ""
      ],
      "metadata": {
        "colab": {
          "base_uri": "https://localhost:8080/"
        },
        "id": "ZG-g3YsS4J-0",
        "outputId": "b9032ba8-f7dc-4d27-ad28-e08a60e5894f"
      },
      "execution_count": 130,
      "outputs": [
        {
          "output_type": "stream",
          "name": "stdout",
          "text": [
            "9602\n"
          ]
        }
      ]
    },
    {
      "cell_type": "markdown",
      "metadata": {
        "id": "XMOuBUrrslOv"
      },
      "source": [
        "[my last braincell](https://upload.wikimedia.org/wikipedia/commons/3/37/Theodore_Kaczynski.jpg)"
      ]
    }
  ],
  "metadata": {
    "colab": {
      "collapsed_sections": [],
      "name": "MP2.ipynb",
      "provenance": [],
      "toc_visible": true
    },
    "kernelspec": {
      "display_name": "Python 3",
      "name": "python3"
    },
    "language_info": {
      "name": "python"
    }
  },
  "nbformat": 4,
  "nbformat_minor": 0
}