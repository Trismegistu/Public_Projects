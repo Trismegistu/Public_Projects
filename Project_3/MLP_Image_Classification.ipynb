{
  "cells": [
    {
      "cell_type": "markdown",
      "metadata": {
        "id": "ANFXOPcAjzOM"
      },
      "source": [
        "# Mini-Project 3: Classification of Image Data \n",
        "\n",
        "**Authors**: Antoine Bonnet, Dragos Secrieru and Cyril Saidane \n",
        "\n",
        "**Course**: COMP 551: Applied Machine Learning, McGill University\n",
        "\n",
        "In this project, we implement a multilayer perceptron from scratch and use it to classify image data from the benchmark Fashion-MNIST dataset. "
      ]
    },
    {
      "cell_type": "markdown",
      "metadata": {
        "id": "S4se3aS_jJXQ"
      },
      "source": [
        "## Task 1: Acquire, preprocess, and analyze the data\n",
        "\n",
        "In this section, we load and pre-process the Fashion-MNIST dataset for later use. \n",
        "\n",
        "### 1.0 Resource imports\n",
        "\n",
        "We first import several Python libraries. "
      ]
    },
    {
      "cell_type": "code",
      "execution_count": null,
      "metadata": {
        "id": "2MgwO4GgjL4j"
      },
      "outputs": [],
      "source": [
        "import numpy as np\n",
        "import matplotlib.pyplot as plt\n",
        "import pandas as pd\n",
        "import random\n",
        "import math\n",
        "import sklearn\n",
        "import plotly.graph_objects as go"
      ]
    },
    {
      "cell_type": "markdown",
      "metadata": {
        "id": "S8XVqr-omjPg"
      },
      "source": [
        "You may need to run the following command in your terminal to gain access to the Fashion-MNIST dataset from TensorFlow:\n",
        "\n",
        "`pip install tensorflow_datasets`\n",
        "\n"
      ]
    },
    {
      "cell_type": "markdown",
      "metadata": {
        "id": "4rEqH5EsjN5F"
      },
      "source": [
        "### 1.1 Loading and exploring the data\n",
        "\n",
        "We first load the [Fashion-MNIST](https://www.kaggle.com/zalando-research/fashionmnist) from TensorFlow, and split it into training and testing sets. \n"
      ]
    },
    {
      "cell_type": "code",
      "execution_count": null,
      "metadata": {
        "colab": {
          "base_uri": "https://localhost:8080/"
        },
        "id": "1lSjeZ_Jk41k",
        "outputId": "187d7def-1c9a-481f-a58f-bd15e3f68b8c"
      },
      "outputs": [
        {
          "name": "stdout",
          "output_type": "stream",
          "text": [
            "Downloading data from https://storage.googleapis.com/tensorflow/tf-keras-datasets/train-labels-idx1-ubyte.gz\n",
            "32768/29515 [=================================] - 0s 0us/step\n",
            "40960/29515 [=========================================] - 0s 0us/step\n",
            "Downloading data from https://storage.googleapis.com/tensorflow/tf-keras-datasets/train-images-idx3-ubyte.gz\n",
            "26427392/26421880 [==============================] - 0s 0us/step\n",
            "26435584/26421880 [==============================] - 0s 0us/step\n",
            "Downloading data from https://storage.googleapis.com/tensorflow/tf-keras-datasets/t10k-labels-idx1-ubyte.gz\n",
            "16384/5148 [===============================================================================================] - 0s 0us/step\n",
            "Downloading data from https://storage.googleapis.com/tensorflow/tf-keras-datasets/t10k-images-idx3-ubyte.gz\n",
            "4423680/4422102 [==============================] - 0s 0us/step\n",
            "4431872/4422102 [==============================] - 0s 0us/step\n"
          ]
        }
      ],
      "source": [
        "from tensorflow.keras.datasets import fashion_mnist\n",
        "(Xtrain, Ytrain), (Xtest, Ytest) = fashion_mnist.load_data()"
      ]
    },
    {
      "cell_type": "markdown",
      "metadata": {
        "id": "LzVYv_Cso98U"
      },
      "source": [
        "This dataset contains a training set of 60K instances and a test set of 10K instances, where each instance corresponds ot a 28x28 grayscale image labelled by one of 10 classes. "
      ]
    },
    {
      "cell_type": "code",
      "execution_count": null,
      "metadata": {
        "colab": {
          "base_uri": "https://localhost:8080/"
        },
        "id": "zXvy9Hn2mTy8",
        "outputId": "e9c0dc81-1a91-46a2-f6ef-417e6a930ed0"
      },
      "outputs": [
        {
          "name": "stdout",
          "output_type": "stream",
          "text": [
            "Training features: (60000, 28, 28)\n",
            "Training labels: (60000,)\n",
            "Testing features: (10000, 28, 28)\n",
            "Testing labels: (10000,)\n"
          ]
        }
      ],
      "source": [
        "# Shape of dataset\n",
        "print(\"Training features:\", Xtrain.shape)\n",
        "print(\"Training labels:\", Ytrain.shape)\n",
        "print(\"Testing features:\", Xtest.shape)\n",
        "print(\"Testing labels:\", Ytest.shape)"
      ]
    },
    {
      "cell_type": "markdown",
      "metadata": {
        "id": "pED0MXLj30_D"
      },
      "source": [
        "The labels belong to 10 different classes, encoded as follows: \n",
        "\n",
        "\n",
        "0.   T-shirt / top\n",
        "1.   Trouser\n",
        "2.   Pullover\n",
        "3.   Dress\n",
        "4.   Coat\n",
        "5.   Sandal\n",
        "6.   Shirt\n",
        "7.   Sneaker\n",
        "8.   Bag\n",
        "9.   Ankle boot"
      ]
    },
    {
      "cell_type": "markdown",
      "metadata": {
        "id": "HCZyg-WKjRTg"
      },
      "source": [
        "Each image is a $28 \\times 28$ matrix, where each matrix entry is a pixel intensity value between $0$ and $255$. For better intuition, we show a few examples of images from the training set. "
      ]
    },
    {
      "cell_type": "code",
      "execution_count": null,
      "metadata": {
        "colab": {
          "base_uri": "https://localhost:8080/",
          "height": 283
        },
        "id": "iecLE1fWjVLl",
        "outputId": "d96b3e3a-f51f-4060-ed29-11986e86b04f"
      },
      "outputs": [
        {
          "name": "stdout",
          "output_type": "stream",
          "text": [
            "Label:  9\n"
          ]
        },
        {
          "data": {
            "image/png": "[encoded data removed]",
            "text/plain": [
              "<Figure size 432x288 with 1 Axes>"
            ]
          },
          "metadata": {},
          "output_type": "display_data"
        }
      ],
      "source": [
        "print(\"Label: \", Ytrain[0])\n",
        "plt.imshow(Xtrain[0], cmap=\"gray\") \n",
        "plt.show() "
      ]
    },
    {
      "cell_type": "code",
      "execution_count": null,
      "metadata": {
        "colab": {
          "base_uri": "https://localhost:8080/",
          "height": 283
        },
        "id": "MPNVZbWpoocV",
        "outputId": "180957d2-fd97-4684-ad61-6931126012dd"
      },
      "outputs": [
        {
          "name": "stdout",
          "output_type": "stream",
          "text": [
            "Label:  0\n"
          ]
        },
        {
          "data": {
            "image/png": "[encoded data removed]",
            "text/plain": [
              "<Figure size 432x288 with 1 Axes>"
            ]
          },
          "metadata": {},
          "output_type": "display_data"
        }
      ],
      "source": [
        "print(\"Label: \", Ytrain[1])\n",
        "plt.imshow(Xtrain[1], cmap=\"gray\") \n",
        "plt.show() "
      ]
    },
    {
      "cell_type": "markdown",
      "metadata": {
        "id": "p0TYaRrvjVwb"
      },
      "source": [
        "### 1.2 Preprocessing data\n",
        "\n",
        "In this section, we prepare the downloaded data to be used by the multilayer perceptron. \n",
        "\n",
        "We first vectorize each $28 \\times 28$ image into a vector of dimension $784 \\times 1$. \n",
        "\n",
        "The dimensions of each data matrix is reshaped as: \n",
        "\n",
        "*   $X_{\\text{train}}$: $60000 \\times 28 \\times 28 \\to 60000 \\times 784$\n",
        "*   $X_{\\text{test}}$: $10000 \\times 28 \\times 28 \\to 10000 \\times 784$"
      ]
    },
    {
      "cell_type": "code",
      "execution_count": null,
      "metadata": {
        "id": "sri4_WCnpXla"
      },
      "outputs": [],
      "source": [
        "# Reshape dataset to have a single channel\n",
        "trainX = Xtrain.reshape((Xtrain.shape[0], Xtrain.shape[1] * Xtrain.shape[2]))\n",
        "testX = Xtest.reshape((Xtest.shape[0], Xtest.shape[1] * Xtest.shape[2]))\n"
      ]
    },
    {
      "cell_type": "code",
      "execution_count": null,
      "metadata": {
        "colab": {
          "base_uri": "https://localhost:8080/"
        },
        "id": "bOA00rtN0vxR",
        "outputId": "21513129-6672-4881-bc65-2e9f8defa80f"
      },
      "outputs": [
        {
          "name": "stdout",
          "output_type": "stream",
          "text": [
            "(60000, 784)\n",
            "(10000, 784)\n"
          ]
        }
      ],
      "source": [
        "print(trainX.shape)\n",
        "print(testX.shape)"
      ]
    },
    {
      "cell_type": "markdown",
      "metadata": {
        "id": "4qlvbRbapX9_"
      },
      "source": [
        "We also normalize the intensity values of each image so that each image matrix entry has standard normal distribution over the whole training set."
      ]
    },
    {
      "cell_type": "code",
      "execution_count": null,
      "metadata": {
        "id": "-iyJ4w_o0J4d"
      },
      "outputs": [],
      "source": [
        "# Calculate training set average and standard deviation\n",
        "trainXAvg = trainX.mean(axis=0)\n",
        "trainXsd = trainX.std(axis=0)\n",
        "\n",
        "# Normalize by setting mean 0 and std 1\n",
        "trainData = (trainX - trainXAvg)/trainXsd\n",
        "testData = (testX - trainXAvg)/trainXsd"
      ]
    },
    {
      "cell_type": "markdown",
      "metadata": {
        "id": "7N5AKkZV0VWK"
      },
      "source": [
        "We convert the labels to one-hot encoding, i.e. every label $y \\in \\{1, 2, \\ldots, 10\\}$ is converted to vector of size 10, with a single unit value at the index of the class associated with label $y$. \n"
      ]
    },
    {
      "cell_type": "code",
      "execution_count": null,
      "metadata": {
        "id": "RktmRXknqvXw"
      },
      "outputs": [],
      "source": [
        "trainLabels = np.zeros((Ytrain.size, 10))\n",
        "trainLabels[np.arange(Ytrain.size),Ytrain] = 1\n",
        "\n",
        "testLabels = np.zeros((Ytest.size, 10))\n",
        "testLabels[np.arange(Ytest.size),Ytest] = 1"
      ]
    },
    {
      "cell_type": "markdown",
      "metadata": {
        "id": "E0L8LuHAuMqX"
      },
      "source": [
        "### 1.3 Dataset Class\n",
        "\n",
        "To make our life more enjoyable, we define a Dataset class which divides each dataset into its training and testing sets. "
      ]
    },
    {
      "cell_type": "code",
      "execution_count": null,
      "metadata": {
        "id": "uNUCe7NKuMLk"
      },
      "outputs": [],
      "source": [
        "class Dataset:\n",
        "    def __init__(self,trainData,trainLabels,testData,testLabels):\n",
        "      self.trainData = trainData\n",
        "      self.trainLabels = trainLabels\n",
        "      self.testData = testData\n",
        "      self.testLabels = testLabels\n",
        "      return\n",
        "\n",
        "# Instantiate fashionMNIST class\n",
        "fashionMNIST = Dataset(trainData,trainLabels,testData,testLabels)\n",
        "\n",
        "# Instantiate unnormalized fashionMNIST class\n",
        "unnormFashionMNIST = Dataset(trainX, trainLabels, testX, testLabels)"
      ]
    },
    {
      "cell_type": "markdown",
      "metadata": {
        "id": "9aayP_XOjYNE"
      },
      "source": [
        "## Task 2: Implement a Multilayer Perceptron\n",
        "\n",
        "In this section, we implement a Multilayer Perceptron (MLP) from scratch to classify image data. Our implementation will include backpropagation and mini-batch gradient descent algorithm (SGD). \n",
        "\n",
        "**Model construction**\n",
        "\n",
        "Our MLP will consist of 3 types of layers: \n",
        "\n",
        "1.   **Input layer**: Vector $x$ of length $D = 784$ representing a vectorized image. \n",
        "2.   **Hidden layers**: We have $K$ hidden layers, where each $k$-th hidden layer corresponds to a vector $z^{(k)}$ of length $M_k$. \n",
        "3.   **Output layer**: Vector $\\hat{y}$ of length $C=10$, where each entry $\\hat{y}_c$ is the estimated probability that the instance $x$ belongs to class $c$. \n",
        "\n",
        "**Weights, biases and activation functions**\n",
        "\n",
        "The weights between every pair of adjacent hidden layers $z^{(k-1)} \\in \\mathbb{R}^{M_{k-1}}$ and $z^{(k)}\\in \\mathbb{R}^{M_{k}}$ (including the input layer $x \\equiv z^{(0)}$ and the output layer $\\hat{y} \\equiv z^{(K+1)}$) are given by the matrix $W^{(k)} \\in \\mathbb{R}^{M_{k} \\times M_{k-1}}$, where each entry $W_{i,j}^{(k)}$ is the weight of the connection from node $z_{j}^{(k)}$ to node $z_{i}^{(k+1)}$. \n",
        "\n",
        "\n",
        "\n",
        "\n"
      ]
    },
    {
      "cell_type": "markdown",
      "metadata": {
        "id": "aeTxh0qbje7E"
      },
      "source": [
        "### 2.1 Activation functions\n",
        "\n",
        "Every layer in the network is computed from a chosen activation function. We will explore various activation functions for the hidden layers; the `logistic`, `softmax`, `ReLu`, `leakyReLu` and `tanh` activation functions. \n",
        "\n",
        "\n",
        "\n",
        "*   `logistic`: $h(x) = \\sigma(x) = \\frac{1}{1+e^{-x}}$\n",
        "*   `softmax`: $h(x)_c = \\frac{e^{x_c}}{\\sum_{c'} e^{x_c'}}$\n",
        "*    `ReLu`: $h(x) = max(x, 0)$\n",
        "*   `leakyReLu`: $h(x, \\gamma) = max(x, 0) + \\gamma \\cdot min(x,0)$\n",
        "*   `tanh`: $h(x) = 2 \\sigma(x) - 1$\n",
        "\n",
        "\n"
      ]
    },
    {
      "cell_type": "code",
      "execution_count": null,
      "metadata": {
        "id": "IfMXj3PTyodv"
      },
      "outputs": [],
      "source": [
        "logistic = lambda z: np.reciprocal(1 + np.exp(-z))\n",
        "softmax = lambda z: np.exp(z)/np.sum(np.exp(z))\n",
        "ReLu = lambda z: np.maximum(z,0)\n",
        "leakyReLu = lambda z, gamma: np.maximum(z,0) + gamma*np.minimum(z,0)\n",
        "tanh = lambda z: 2*logistic(z) - 1"
      ]
    },
    {
      "cell_type": "markdown",
      "metadata": {
        "id": "rK68_7sBRQgt"
      },
      "source": [
        "We also add the corresponding derivatives of each activation function. \n",
        "*   `logisticD`: $h'(x) = \\sigma(x) \\cdot (1-\\sigma(x))$\n",
        "*   `softmaxD`: $h(x)_c = \\text{softmax}(x) \\cdot (1-\\text{softmax}(c))$\n",
        "*   `ReLuD`: $h'(x) = \\begin{cases} 1 & x \\geq 0 \\\\ 0 & x < 0\\end{cases}$\n",
        "*   `leakyReLuD`: $h'(x, \\gamma) = \\begin{cases} 1 & x \\geq 0 \\\\ \\gamma & x < 0\\end{cases}$\n",
        "*   `tanhD`: $h(x) = 1 - \\tanh(x)^2$\n"
      ]
    },
    {
      "cell_type": "code",
      "execution_count": null,
      "metadata": {
        "id": "UAlIHixGRHog"
      },
      "outputs": [],
      "source": [
        "logisticD = lambda z: np.multiply(logistic(z), (1-logistic(z)))\n",
        "softmaxD = lambda z: np.multiply(softmax(z), (1-softmax(z)))\n",
        "ReLuD = lambda z: (z>0).astype(int)\n",
        "leakyReLuD = lambda z, gamma: (z>0).astype(int) + gamma*(z<0).astype(int)\n",
        "tanhD = lambda z: 1 - np.square(tanh(z))"
      ]
    },
    {
      "cell_type": "markdown",
      "metadata": {
        "id": "zNZ0WZuWHzTh"
      },
      "source": [
        "We also define an activation function class, comprising both the actual activation function and its derivative, for later ease of use. "
      ]
    },
    {
      "cell_type": "code",
      "execution_count": null,
      "metadata": {
        "id": "GjEsJ69CGpvu"
      },
      "outputs": [],
      "source": [
        "class activation: \n",
        "  def __init__(self,function,derivative, params=None):\n",
        "    if (params == None):\n",
        "      self.function = function\n",
        "      self.derivative = derivative\n",
        "    else: # For leaky ReLu we might have gammas\n",
        "      self.function = lambda z: function(z, params)\n",
        "      self.derivative = lambda z: derivative(z, params)\n",
        "\n",
        "logisticAc = activation(logistic, logisticD)\n",
        "softmaxAc= activation(softmax, softmaxD)\n",
        "ReLuAc = activation(ReLu, ReLuD)\n",
        "tanhAc = activation(tanh, tanhD)\n",
        "leakyReLuAc = activation(leakyReLu, leakyReLuD, 0.1)"
      ]
    },
    {
      "cell_type": "markdown",
      "metadata": {
        "id": "cYHuHcoIvuSO"
      },
      "source": [
        "### 2.2 Forward Propagation\n",
        "\n",
        "Let's say every hidden layer $k$ has an activation function denoted by $h^{(k)}$. Given an input layer $z^{(k-1)}$, we can obtain the next layer's value $z^{(k)}$ by recursively applying the feed-forward rule for every layer $k$:\n",
        "\n",
        "$$z^{(k)} = h^{(k)} (u^{(k)}) = h^{(k)} \\big( W^{(k)} \\cdot z^{(k-1)} + b^{(k)}\\big)$$\n",
        "\n",
        "Given an input $x^{(n)}$, we can obtain the network's prediction $\\hat{y}^{(n)}$ by propagating forward over every layer $k$ until we reach the output layer. As we are concerned with image classification, the output layer $\\hat{y}$ is obtained from the last hidden layer $z^{(K)}$ using the softmax activation function: \n",
        "$$ \\hat{y} = \\text{softmax}(u^{(K+1)}) = \\text{softmax}(W^{(K+1)} z^{(K)} + b^{(K+1)}) $$\n",
        "$$ \\hat{y}_c = \\frac{e^{z^{(K)}_c}}{\\sum_{c'=1}^{C} e^{z^{(K)}_{c'}}} \\; \\forall 1 \\leq c \\leq C.$$\n",
        "\n",
        "$$\\frac{\\partial}{\\partial u_c} \\hat{y}_k = \\begin{cases} \\hat{y}_k (1-\\hat{y}_k) & k = c \\\\ - \\hat{y}_c \\hat{y}_k & k \\neq c\\end{cases} $$\n",
        "\n",
        "In particular, the predicted class of the input $x$ corresponds to\n",
        "$$ \\hat{c} = \\text{argmax}_c \\; \\hat{y}_c.$$\n",
        "\n",
        "We use the above feed-forward rule to propagate the layer values from input $x$ to output $\\hat{y}$ in the network.\n",
        "\n",
        "\n",
        "\n",
        "\n",
        "\n",
        "\n",
        "\n"
      ]
    },
    {
      "cell_type": "code",
      "execution_count": null,
      "metadata": {
        "id": "docAlqN8rnDe"
      },
      "outputs": [],
      "source": [
        "# FEED-FORWARD: Compute layer values\n",
        "def feed_forward(x, activations, weights, biases, depth):\n",
        "  Z = []  # List of layer values (with activation)\n",
        "  U = []  # List of layer values (without activation)\n",
        "  Zk = x\n",
        "  for k in range(depth+1):  # Compute all hidden layers Z{1}, ..., Z{K+1}, yh\n",
        "    act = activations[k]   # h{k}\n",
        "    Wk = weights[k]        # W{k}\n",
        "    Bk = biases[k]         # b{k} \n",
        "    Uk = np.dot(Wk, Zk) + Bk # u{k} = W{k} * z{k-1} + b{k}\n",
        "    Zk = act.function(Uk) # z{k} = h{k}(u{k})\n",
        "    Z.append(Zk)\n",
        "    U.append(Uk)\n",
        "  return U, Z\n",
        "\n"
      ]
    },
    {
      "cell_type": "markdown",
      "metadata": {
        "id": "vRfqY0Tirnlf"
      },
      "source": [
        "### 2.3 Backpropagation\n",
        "\n",
        "At the output layer is computed the cost function, which is the average loss of the sample\n",
        "\n",
        "$$J(y, \\hat{y}) = \\frac{1}{n} \\sum_n L(y^{(n)}, \\hat{y}^{(n)}) $$\n",
        "\n",
        "We want to update the weight parameters $W^{(1)}, \\ldots, W^{(K+1)} $ and bias parameters $B^{(1)}, \\ldots, B^{(K+1)} $ using gradient descent by computing the partial derivatives \n",
        "\n",
        "$$ \\frac{\\partial J}{\\partial W^{(1)}}, \\ldots, \\frac{\\partial J}{\\partial W^{(K+1)}} \\quad \\text{and} \\quad \\frac{\\partial J}{\\partial B^{(1)}}, \\ldots, \\frac{\\partial J}{\\partial B^{(K+1)}}$$\n",
        "\n",
        "For any $1 \\leq k \\leq K+1$,\n",
        "\n",
        "$$ \\frac{\\partial J}{\\partial W^{(k)}} = \\frac{1}{n} \\sum_n \\frac{\\partial }{\\partial W^{(K)}} L(y^{(n)},\\hat{y}^{(n)}) $$\n",
        "\n",
        "$$ \\frac{\\partial J}{\\partial B^{(k)}} = \\frac{1}{n} \\sum_n \\frac{\\partial }{\\partial B^{(K)}} L(y^{(n)},\\hat{y}^{(n)}) $$\n",
        "\n",
        "The loss function used for multi-class classification is the softmax-cross-entropy cost function\n",
        "\n",
        "$$L(y, \\hat{y}) = \\sum_c y_c \\log \\hat{y}_c$$\n",
        "\n",
        "Using backpropagation, we can start from the output layer $\\hat{y} = z^{(K+1)}$ by initializing \n",
        "\n",
        "$$\\frac{\\partial L}{\\partial z^{(K+1)}} = \\hat{y} - y$$\n",
        "\n",
        "as given above and then computing the partial derivatives by solving the following rules recursively ($\\odot$ denotes coordinate-wise product): \n",
        "\n",
        "$$\\underbrace{\\frac{\\partial L}{\\partial u^{(k)}}}_{M_k \\times 1}  = \\underbrace{\\frac{\\partial L}{\\partial z^{(k)}}}_{M_k \\times 1}  \\odot \\underbrace{\\frac{\\partial h^{(k)}}{\\partial u^{(k)}}}_{M_k \\times 1} $$\n",
        "\n",
        "$$\\underbrace{\\frac{\\partial L}{\\partial W^{(k)}}}_{M_k \\times M_{k-1}} = \\underbrace{\\frac{\\partial L}{\\partial u^{(k)}}}_{M_k \\times 1} \\cdot \\underbrace{\\big(z^{(k-1)}\\big)^T}_{1 \\times M_{k-1}}   $$\n",
        "\n",
        "$$\\underbrace{\\frac{\\partial L}{\\partial b^{(k)}}}_{M_k \\times 1}  = \\underbrace{\\frac{\\partial L}{\\partial u^{(k)}}}_{M_k \\times 1} $$\n",
        "\n",
        "$$\\underbrace{\\frac{\\partial L}{\\partial z^{(k-1)}}}_{M_{k-1} \\times 1}   = \\underbrace{\\big(W^{(k)}\\big)^T}_{M_{k-1} \\times M_k}  \\cdot \\underbrace{\\frac{\\partial L}{\\partial u^{(k)}}}_{M_k \\times 1}   $$\n",
        "\n",
        "We use the above rules to back-propagate the gradients through the MLP.\n",
        "\n",
        "Sources: \n",
        "https://web.stanford.edu/class/cs224n/readings/gradient-notes.pdf\n",
        "https://sudeepraja.github.io/Neural/\n",
        "\n",
        "https://machinelearningmastery.com/application-of-differentiations-in-neural-networks/?fbclid=IwAR0kPYmYmtayPpz4uK185JezFmUYWrAm9qC1vd8kEEFQA6aKUkqEGoaOFHQ\n",
        " "
      ]
    },
    {
      "cell_type": "code",
      "execution_count": null,
      "metadata": {
        "id": "BHOxCcYZmOEz"
      },
      "outputs": [],
      "source": [
        "# BACKPROPAGATION: Compute gradients recursively from right to left\n",
        "def back_prop(x, y, U, Z, activations, weights, biases, depth):\n",
        "  dW = [None] * (depth+1) # List of partial derivatives dL/dWk\n",
        "  dB = [None] * (depth+1) # List of partial derivatives dL/dBk\n",
        "  dZ = [None] * (depth+1) # List of partial derivatives dL/dZk\n",
        "  dZ[-1] = Z[-1] - y # last layer: dL/dyhat = yhat - y, yhat=Z[-1]   (C x 1)\n",
        "\n",
        "  # For each layer, recursively compute gradients \n",
        "  for k in range(depth, 0, -1): # for k = K, K-1, ..., 1\n",
        "    act = activations[k]\n",
        "    Wk = weights[k] # W{k}\n",
        "    if (k == depth): \n",
        "      dUk = dZ[k]\n",
        "    else: \n",
        "      dUk = np.multiply(dZ[k], act.derivative(U[k])) # dL/dU{k} = dL/dZ{k} * h{k}'(U{k}) coordinatewise    [M{k} x 1]\n",
        "    dW[k] = np.outer(dUk, Z[k-1])  # dL/dW{k} = dL/dU{k} * Z{k-1}.T   [M{k} x 1] x [1 x M{k-1}] = [M{k} x M{k-1}]\n",
        "    dB[k] = dUk # dL/dB{k} = dL/dU{k}   [M{k} x 1]\n",
        "    dZ[k-1] = np.dot(Wk.T, dUk) # dL/dZ{k-1} = (W{k}).t*dL/dU{k}   [M{k-1} x M{k}] x [M{k} x 1] = [M{k-1} x 1]\n",
        "\n",
        "  # Compute first layer separately \n",
        "  dU1 = np.multiply(dZ[0], activations[0].derivative(U[0]))\n",
        "  dW[0] = np.outer(dU1,x) \n",
        "  dB[0] = dU1\n",
        "  return dW, dB\n"
      ]
    },
    {
      "cell_type": "markdown",
      "metadata": {
        "id": "zPREbM_5pthW"
      },
      "source": [
        "### 2.4 Multilayer Perceptron Model\n",
        "\n",
        "We implement the MLP as a Python class. The class constructor `__init__` takes as input the following parameters: \n",
        "\n",
        "\n",
        "*   `activation`: activation function class for all hidden layers (e.g. ReLu)\n",
        "*   `depth`: number $K$ of hidden layers (e.g. 2) \n",
        "*   `widths`: vector of length $K$ representing the number of units in each hidden layer (e.g. $[64,64]$). \n",
        "\n",
        "The class constructor then initializes the weights and biases and other properties of the MLP. \n",
        "\n",
        "The `MLP` class consists of the following functions: \n",
        "*   `fit`: From the training data (input vector $x$ and labels $y$), as well as other hyperparameters (e.g. the learning rate, the maximum number of gradient descent iterations and the threshold for convergence), this function first initializes the weights and biases of the model. It then trains the model by modifying the model parameters through gradient descent. \n",
        "*   `predict`: From a set of input points given as an image matrix $X$, this function outputs predicted labels $\\hat{y}$.\n",
        "*   `evaluate_acc`: From the true labels $y$, this function computes the accuracy of the model's predicted labels $\\hat{y}$. \n"
      ]
    },
    {
      "cell_type": "code",
      "execution_count": null,
      "metadata": {
        "id": "Zs28Lu5yjiRk"
      },
      "outputs": [],
      "source": [
        "from IPython.core.display import DisplayHandle\n",
        "\n",
        "class MLP:\n",
        "\n",
        "  # Model initialization with hyperparameters\n",
        "  def __init__(self, activations = [ReLuAc, ReLuAc], depth = 2, widths = [64, 64], dropout_rate = 0):\n",
        "    self.activations = activations\n",
        "    self.activations.append(softmaxAc) # List of activation functions for each layer\n",
        "    self.depth = depth    # K = Number of hidden layers\n",
        "    self.widths = widths  # [M{1}, ..., M{k}] = Number of units per hidden layer\n",
        "    self.weights = []     # List of weight matrices W{1}, ..., W{K+1}\n",
        "    self.biases = []      # List of bias vectors B{1}, ..., B{K+1}\n",
        "    self.dropout_rate = dropout_rate \n",
        "    self.C = 0 # Number of classes\n",
        "\n",
        "  # Model training using training data        \n",
        "  def fit(self, X, Y, optimizer):\n",
        "    N, D = X.shape # D = number of features, N = number of input instances\n",
        "    self.C = Y.shape[1] # C = number of classes\n",
        "\n",
        "    # Initialize weights: Normal(0,0.0001) distribution\n",
        "    # Initialize Biases: Exponential(0.01) distribution (positive for ReLu initialization)\n",
        "    all_widths = self.widths # [D, width1, ..., widthK, C]\n",
        "    all_widths.insert(0,D)\n",
        "    all_widths.append(self.C) \n",
        "    for k in range(self.depth+1): # W{1}, W{2},...,W{K+!}\n",
        "      Wk = np.random.randn(all_widths[k+1],all_widths[k]).astype(float) * .01 \n",
        "      Bk = np.random.exponential(scale=0.01,size=all_widths[k+1]).astype(float)\n",
        "      self.weights.append(Wk)\n",
        "      self.biases.append(Bk)\n",
        "\n",
        "    # If we add dropout regularization, set some weights to 0. \n",
        "    if (self.dropout_rate > 0): \n",
        "      for k in range(self.depth+1): \n",
        "        Wk = self.weights[k]\n",
        "        numEntries = Wk.shape[0]*Wk.shape[1]\n",
        "        numDropout = round(numEntries * self.dropout_rate)\n",
        "        indices = np.random.choice(numEntries,replace=False,size=numDropout)\n",
        "        Wk[np.unravel_index(indices, Wk.shape)] = 0 \n",
        "        self.weights[k] = Wk\n",
        "\n",
        "    # Helper function to compute the gradient dJ/dW{k}, dJ/dB{k} for all k\n",
        "    def gradient(X, Y, activations, weights, biases):\n",
        "      weightGrad = [np.zeros_like(Wk) for Wk in weights] # List of gradients [dLdW{1}, ..., dLdW{K+1}]\n",
        "      biasGrad = [np.zeros_like(Bk) for Bk in biases] # List of gradients [dLdB{1}, ..., dLdB{K+1}]\n",
        "      # For each row in the input, compute gradients dL/dWk and dL/dBk\n",
        "      for n in range(X.shape[0]):\n",
        "        x = X[n]; y = Y[n]\n",
        "        U, Z = feed_forward(x, activations, weights, biases, self.depth)\n",
        "        dW, dB = back_prop(x, y, U, Z, activations, weights, biases, self.depth)\n",
        "        for k in range(len(dW)):\n",
        "          weightGrad[k] += dW[k]\n",
        "          biasGrad[k] += dB[k]\n",
        "      # Average out gradients over all single inputs (x, y) \n",
        "      weightGrad = [dW / X.shape[0] for dW in weightGrad]\n",
        "      biasGrad = [dB / X.shape[0] for dB in biasGrad]\n",
        "      return weightGrad, biasGrad\n",
        "\n",
        "    # Update weights using optimizer with initial weights and training data (x,y) \n",
        "    self.weights, self.biases, trainAccs, testAccs = optimizer.run(\n",
        "        gradient, X, Y, self.activations, self.weights, self.biases, self.depth)\n",
        "    return trainAccs, testAccs\n",
        "\n",
        "  # Predict new data using trained model\n",
        "  def predict(self, X):\n",
        "    ypred = np.zeros((X.shape[0], self.C)) # Initialize matrix of predictions\n",
        "    # For each subsequent input x, run model and get prediction\n",
        "    for n in range(X.shape[0]):\n",
        "        x = X[n]  \n",
        "        _, Z = feed_forward(x, self.activations, self.weights, self.biases, self.depth)\n",
        "        ypred[n] = Z[-1]\n",
        "    return ypred"
      ]
    },
    {
      "cell_type": "markdown",
      "metadata": {
        "id": "Ye2VYtiT3JDx"
      },
      "source": [
        "We also implement a function that takes as input both the true labels and the predicted labels, and outputs the accuracy of the predictions. "
      ]
    },
    {
      "cell_type": "code",
      "execution_count": null,
      "metadata": {
        "id": "my099ujL3HhE"
      },
      "outputs": [],
      "source": [
        "# Evaluate the accuracy of predicted labels\n",
        "def evaluate_acc(y_true, y_pred):\n",
        "  pred_labels = np.zeros_like(y_pred)\n",
        "  pred_labels[np.arange(len(y_pred)), y_pred.argmax(1)] = 1 # One-hot encoding\n",
        "  numCorrect= np.sum(np.all(np.equal(y_true.astype(float), pred_labels), axis=1))\n",
        "  numTotal = pred_labels.shape[0]\n",
        "  return numCorrect/numTotal\n"
      ]
    },
    {
      "cell_type": "markdown",
      "metadata": {
        "id": "CI-zRwtU9g0G"
      },
      "source": [
        "### 2.5 Mini-batch splitting\n",
        " \n",
        "To train our model, we will use stochastic gradient descent with mini-batches. The function below randomly splits the data into mini-batches of desired size. "
      ]
    },
    {
      "cell_type": "code",
      "execution_count": null,
      "metadata": {
        "id": "7RyKfvepItE3"
      },
      "outputs": [],
      "source": [
        "# Creates an array of mini-batches\n",
        "def mini_batches(X, Y, batch_size):\n",
        "    batches = []\n",
        "    N = X.shape[0] // batch_size\n",
        "    rem = X.shape[0] % batch_size\n",
        "    shuffle = np.random.permutation(X.shape[0])\n",
        "    Xtrain, Ytrain = X[shuffle], Y[shuffle]\n",
        "    for i in range(N):\n",
        "      X_mini = Xtrain[i*batch_size:(i + 1)*batch_size]\n",
        "      Y_mini = Ytrain[i*batch_size:(i + 1)*batch_size]\n",
        "      batches.append((X_mini, Y_mini))\n",
        "    if rem > 0: \n",
        "      X_mini = Xtrain[N*batch_size:]\n",
        "      Y_mini = Ytrain[N*batch_size:]\n",
        "      batches.append((X_mini, Y_mini))\n",
        "    return batches"
      ]
    },
    {
      "cell_type": "markdown",
      "metadata": {
        "id": "CW3eNeJeuMWo"
      },
      "source": [
        "### 2.6 Stochastic Gradient Descent\n",
        "For each mini-batch $B$ , we define the cost  \n",
        "\n",
        "$$J_B = \\frac{1}{|B|}  \\sum_{n \\in B} L(y^{(n)}, \\hat{y}^{(n)}).$$\n",
        "\n",
        "Using stochastic gradient descent with learning rate $\\alpha$, we update the weight and bias matrices of every $k$-th layer as follows: \n",
        "$$ W^{(k)} \\leftarrow W^{(k)} - \\alpha \\cdot \\frac{\\partial J_B}{\\partial W^{(k)}}$$\n",
        "$$ B^{(k)} \\leftarrow B^{(k)} - \\alpha \\cdot \\frac{\\partial J_B}{\\partial B^{(k)}}$$\n",
        "\n"
      ]
    },
    {
      "cell_type": "code",
      "execution_count": null,
      "metadata": {
        "id": "5ybptVbY6avU"
      },
      "outputs": [],
      "source": [
        "class GradientDescent:\n",
        "  def __init__(self, learning_rate=.001, max_iters=1e5, epsilon=1e-5, batchSize=32):\n",
        "    self.learning_rate = learning_rate\n",
        "    self.max_iters = max_iters\n",
        "    self.epsilon = epsilon\n",
        "    self.batchSize = batchSize\n",
        "        \n",
        "  def run(self, gradient_fn, x, y, activations, weights, biases, depth):\n",
        "    # Train/test accuracies for each epoch\n",
        "    trainAccs = []\n",
        "    testAccs = []\n",
        "\n",
        "    # Separate data into mini batches\n",
        "    batches = mini_batches(x,y,self.batchSize)\n",
        "    norms = np.array([np.inf])\n",
        "    t = 0\n",
        "    batchIdx = 0\n",
        "\n",
        "    # While gradient norms are non-null, and iterations left\n",
        "    while np.any(norms > self.epsilon) and t < self.max_iters:\n",
        "\n",
        "      # If we have used all batches, make new random batches\n",
        "      if (batchIdx >= len(batches)): \n",
        "        batches = mini_batches(x,y,self.batchSize)\n",
        "        batchIdx = 0\n",
        "\n",
        "      # Find weight/bias gradient on the batch\n",
        "      (X_batch, Y_batch) = batches[batchIdx]\n",
        "      weightGrad, biasGrad = gradient_fn(X_batch, Y_batch, activations, weights, biases)\n",
        "\n",
        "      # Apply gradient descent on weights and biases\n",
        "      for k in range(len(weights)):\n",
        "        weights[k] -= self.learning_rate * weightGrad[k] \n",
        "        biases[k] -= self.learning_rate * biasGrad[k] \n",
        "      t += 1\n",
        "      batchIdx += 1\n",
        "      norms = np.array([np.linalg.norm(g) for g in (weightGrad+biasGrad)])\n",
        "\n",
        "    return weights, biases, None, None"
      ]
    },
    {
      "cell_type": "markdown",
      "metadata": {
        "id": "TgVp2JV9zS3A"
      },
      "source": [
        "### 2.7 Hyperparameter tuning\n",
        "\n",
        "We will use the SciKit Learn grid search provided functions to perform hyperparameter tuning. \n",
        "\n",
        "https://scikit-learn.org/stable/modules/grid_search.html"
      ]
    },
    {
      "cell_type": "code",
      "execution_count": null,
      "metadata": {
        "id": "UfQyctxmoUFY"
      },
      "outputs": [],
      "source": [
        "# Splitting function: Creates list of indices for K cross-validation splits\n",
        "def cross_validation_split(dataset, K):\n",
        "  # Create list of indices for cross validation\n",
        "  N = dataset.trainData.shape[0] # Number of datapoints\n",
        "  size = math.floor(N/K)  # Size of each portion\n",
        "  idx = np.arange(N)      # Indices {0,1,...,N-1}\n",
        "  idx = np.random.permutation(idx)  # Shuffled indices \n",
        "  validationIDX = [list(idx[i:i+size]) for i in range(0,size*K,size)]\n",
        "  trainingIDX = [list(np.delete(idx,np.array(range(i,i+size)))) for i in range(0,size*K,size)]\n",
        "  return trainingIDX, validationIDX\n"
      ]
    },
    {
      "cell_type": "code",
      "execution_count": null,
      "metadata": {
        "id": "JsNcHqkdoNsr"
      },
      "outputs": [],
      "source": [
        "from copy import deepcopy\n",
        "\n",
        "# K-fold Cross validation: iterates through each train/validation set \n",
        "# and returns the average result of each fold.\n",
        "paramMLP = ['activations', 'depth', 'widths', 'dropout_rate']\n",
        "paramGD = ['learning_rate', 'max_iters', 'epsilon', 'batchSize']\n",
        "\n",
        "def kfoldCV(dataset,K,hyperparameter):\n",
        "  # For each cross-validation split, train model, predict labels, report accuracy\n",
        "  trainingIDX, validationIDX = cross_validation_split(dataset, K)\n",
        "  validAccuracies = []\n",
        "  trainAccuracies = []\n",
        "  k = 1\n",
        "  for trainIDX, validIDX in zip(trainingIDX,validationIDX):\n",
        "    # Split dataset using training/validation indices\n",
        "    x_train = dataset.trainData[trainIDX]\n",
        "    y_train = dataset.trainLabels[trainIDX]\n",
        "    x_validation = dataset.trainData[validIDX]\n",
        "    y_validation = dataset.trainLabels[validIDX]\n",
        "\n",
        "    # Train arbitrary model using training set\n",
        "    hyp = deepcopy(hyperparameter)\n",
        "    hypMLP = {h:hyp[h] for h in hyp if h in paramMLP}\n",
        "    hypGD = {h:hyp[h] for h in hyp if h in paramGD}\n",
        "    mlp = MLP(**hypMLP) \n",
        "    optimizer = GradientDescent(**hypGD)   \n",
        "    mlp.fit(x_train, y_train, optimizer)   \n",
        "\n",
        "    # Predict labels using validation set, record validation accuracy\n",
        "    valid_pred = mlp.predict(x_validation)\n",
        "    validAcc = evaluate_acc(y_validation,valid_pred)\n",
        "    validAccuracies.append(validAcc)\n",
        "\n",
        "    # Predict labels using training set, record training accuracy\n",
        "    train_pred = mlp.predict(x_train)\n",
        "    trainAcc = evaluate_acc(y_train,train_pred)\n",
        "    trainAccuracies.append(trainAcc)\n",
        "\n",
        "  return validAccuracies, trainAccuracies\n"
      ]
    },
    {
      "cell_type": "code",
      "execution_count": null,
      "metadata": {
        "id": "-SWfkpWSoNIg"
      },
      "outputs": [],
      "source": [
        "\n",
        "# Hyperparameter tuning function: Chooses hyperparameters with highest average\n",
        "# validation accuracy and returns the test accuracy of the optimal model\n",
        "# hyperparameters = list of dictionaries of hyperparameters\n",
        "\n",
        "def hyperparameterTuning(dataset,K,hyperparameters):\n",
        "  # For each hyperparameter, perform k-fold cross validation\n",
        "  P = len(hyperparameters)\n",
        "  validAccuracies = np.zeros((P,K))\n",
        "  trainAccuracies = np.zeros((P,K))\n",
        "  models = []\n",
        "  for p in range(P):\n",
        "    hyperparameter = hyperparameters[p]\n",
        "    print(\"Hyperparameter tuning: Round\", p, \"\\n\\tHyperparameter:\", str(hyperparameter))\n",
        "    validAccuracies[p], trainAccuracies[p] = kfoldCV(dataset,K,hyperparameter)\n",
        "    print('\\tTrain Accuracies: ', trainAccuracies[p], \n",
        "          '\\n\\tValid Accuracies: ', validAccuracies[p])\n",
        "\n",
        "  # Find model with highest average validation accuracy\n",
        "  avgValAccs = np.mean(validAccuracies,1) \n",
        "  avgTrainAccs = np.mean(trainAccuracies,1)\n",
        "  bestValAcc = np.argmax(avgValAccs) \n",
        "  optParameter = deepcopy(hyperparameters[bestValAcc])\n",
        "  optValidAcc = avgValAccs[bestValAcc]\n",
        "  optTrainAcc = avgTrainAccs[bestValAcc]\n",
        "  return avgValAccs, avgTrainAccs, optParameter, optValidAcc, optTrainAcc"
      ]
    },
    {
      "cell_type": "markdown",
      "metadata": {
        "id": "j6CQXKzGjtM-"
      },
      "source": [
        "## Task 3: Run experiments"
      ]
    },
    {
      "cell_type": "markdown",
      "metadata": {
        "id": "WVzjuGIpjt1O"
      },
      "source": [
        "###3.1: MLPs with ReLu activation"
      ]
    },
    {
      "cell_type": "markdown",
      "metadata": {
        "id": "CZPM4m21W7RG"
      },
      "source": [
        "We first create an MLP with no hidden layers, which maps inputs to output with a softmax activation function directly. "
      ]
    },
    {
      "cell_type": "code",
      "execution_count": null,
      "metadata": {
        "colab": {
          "base_uri": "https://localhost:8080/"
        },
        "id": "r7eh_3zMwvgO",
        "outputId": "37f5df20-fc8d-40d4-e24e-30ab47fcb8e0"
      },
      "outputs": [
        {
          "name": "stdout",
          "output_type": "stream",
          "text": [
            "Hyperparameter tuning: Round 0 \n",
            "\tHyperparameter: {'activations': [], 'depth': 0, 'widths': [], 'dropout_rate': 0, 'learning_rate': 0.001, 'max_iters': 5000, 'epsilon': 1e-05, 'batchSize': 32}\n",
            "\tTrain Accuracies:  [0.767625   0.76729167 0.77054167 0.77202083 0.768625  ] \n",
            "\tValid Accuracies:  [0.76933333 0.77166667 0.7635     0.76983333 0.76708333]\n",
            "Hyperparameter tuning: Round 1 \n",
            "\tHyperparameter: {'activations': [], 'depth': 0, 'widths': [], 'dropout_rate': 0, 'learning_rate': 0.001, 'max_iters': 10000, 'epsilon': 1e-05, 'batchSize': 32}\n",
            "\tTrain Accuracies:  [0.802125   0.80047917 0.8003125  0.80277083 0.8006875 ] \n",
            "\tValid Accuracies:  [0.7975     0.79766667 0.79541667 0.803      0.79908333]\n",
            "Hyperparameter tuning: Round 2 \n",
            "\tHyperparameter: {'activations': [], 'depth': 0, 'widths': [], 'dropout_rate': 0, 'learning_rate': 0.001, 'max_iters': 15000, 'epsilon': 1e-05, 'batchSize': 32}\n",
            "\tTrain Accuracies:  [0.8151875  0.814875   0.81672917 0.81745833 0.81702083] \n",
            "\tValid Accuracies:  [0.81508333 0.82108333 0.81033333 0.80866667 0.81466667]\n",
            "Hyperparameter tuning: Round 3 \n",
            "\tHyperparameter: {'activations': [], 'depth': 0, 'widths': [], 'dropout_rate': 0, 'learning_rate': 0.01, 'max_iters': 5000, 'epsilon': 1e-05, 'batchSize': 32}\n",
            "\tTrain Accuracies:  [0.843125   0.844375   0.84258333 0.84322917 0.84239583] \n",
            "\tValid Accuracies:  [0.84175    0.83375    0.8395     0.838      0.84283333]\n",
            "Hyperparameter tuning: Round 4 \n",
            "\tHyperparameter: {'activations': [], 'depth': 0, 'widths': [], 'dropout_rate': 0, 'learning_rate': 0.01, 'max_iters': 10000, 'epsilon': 1e-05, 'batchSize': 32}\n",
            "\tTrain Accuracies:  [0.85310417 0.85445833 0.85452083 0.85222917 0.85522917] \n",
            "\tValid Accuracies:  [0.85       0.84975    0.84258333 0.85233333 0.84516667]\n",
            "Hyperparameter tuning: Round 5 \n",
            "\tHyperparameter: {'activations': [], 'depth': 0, 'widths': [], 'dropout_rate': 0, 'learning_rate': 0.01, 'max_iters': 15000, 'epsilon': 1e-05, 'batchSize': 32}\n",
            "\tTrain Accuracies:  [0.8585     0.85933333 0.85847917 0.85839583 0.85941667] \n",
            "\tValid Accuracies:  [0.85166667 0.85175    0.84966667 0.85241667 0.84791667]\n",
            "Hyperparameter tuning: Round 6 \n",
            "\tHyperparameter: {'activations': [], 'depth': 0, 'widths': [], 'dropout_rate': 0, 'learning_rate': 0.1, 'max_iters': 5000, 'epsilon': 1e-05, 'batchSize': 32}\n",
            "\tTrain Accuracies:  [0.86472917 0.86435417 0.86310417 0.866      0.8679375 ] \n",
            "\tValid Accuracies:  [0.85108333 0.85216667 0.85208333 0.8515     0.85358333]\n",
            "Hyperparameter tuning: Round 7 \n",
            "\tHyperparameter: {'activations': [], 'depth': 0, 'widths': [], 'dropout_rate': 0, 'learning_rate': 0.1, 'max_iters': 10000, 'epsilon': 1e-05, 'batchSize': 32}\n",
            "\tTrain Accuracies:  [0.87277083 0.86958333 0.86927083 0.872625   0.87208333] \n",
            "\tValid Accuracies:  [0.85466667 0.85233333 0.85741667 0.84966667 0.85525   ]\n",
            "Hyperparameter tuning: Round 8 \n",
            "\tHyperparameter: {'activations': [], 'depth': 0, 'widths': [], 'dropout_rate': 0, 'learning_rate': 0.1, 'max_iters': 15000, 'epsilon': 1e-05, 'batchSize': 32}\n",
            "\tTrain Accuracies:  [0.87441667 0.87452083 0.8741875  0.87620833 0.87489583] \n",
            "\tValid Accuracies:  [0.8545     0.84891667 0.85716667 0.85291667 0.85191667]\n",
            "Optimal hyperparameters:  {'activations': [], 'depth': 0, 'widths': [], 'dropout_rate': 0, 'learning_rate': 0.1, 'max_iters': 10000, 'epsilon': 1e-05, 'batchSize': 32}\n",
            "Average validation accuracy with optimal hyperparameters:  0.8538666666666668\n",
            "Average training accuracy with optimal hyperparameters:  0.8712666666666667\n"
          ]
        }
      ],
      "source": [
        "# Hyperparameters: list of different parameter combinations\n",
        "learning_rates = [.001, .01, .1]\n",
        "max_iters = [5000, 10000, 15000]\n",
        "hyperparameters0 = [dict(activations = [], depth = 0, widths = [], dropout_rate = 0,\n",
        "                        learning_rate = L, max_iters = m, epsilon = 1e-5, batchSize = 32\n",
        "                        ) for L in learning_rates for m in max_iters]\n",
        "\n",
        "# Perform Hyperparameter tuning on MLP with depth 0\n",
        "avgValAccs0, avgTrainAccs0, optParameter0, optValidAcc0, optTrainAcc0 = hyperparameterTuning(\n",
        "    fashionMNIST,5,hyperparameters0)\n",
        "\n",
        "print(\"Optimal hyperparameters: \", optParameter0)\n",
        "print(\"Average validation accuracy with optimal hyperparameters: \", optValidAcc0)\n",
        "print(\"Average training accuracy with optimal hyperparameters: \", optTrainAcc0)"
      ]
    },
    {
      "cell_type": "code",
      "execution_count": null,
      "metadata": {
        "colab": {
          "base_uri": "https://localhost:8080/",
          "height": 617
        },
        "id": "AGTGRySOO2WZ",
        "outputId": "994d37b3-b206-4875-ac18-4a463765ac05"
      },
      "outputs": [
        {
          "data": {
            "text/html": [
              "<html>\n",
              "<head><meta charset=\"utf-8\" /></head>\n",
              "<body>\n",
              "    <div>            <script src=\"https://cdnjs.cloudflare.com/ajax/libs/mathjax/2.7.5/MathJax.js?config=TeX-AMS-MML_SVG\"></script><script type=\"text/javascript\">if (window.MathJax) {MathJax.Hub.Config({SVG: {font: \"STIX-Web\"}});}</script>                <script type=\"text/javascript\">window.PlotlyConfig = {MathJaxConfig: 'local'};</script>\n",
              "        <script src=\"https://cdn.plot.ly/plotly-2.8.3.min.js\"></script>                <div id=\"e18eb6f3-b3ef-46e8-9587-52a92c3cd4ba\" class=\"plotly-graph-div\" style=\"height:600px; width:600px;\"></div>            <script type=\"text/javascript\">                                    window.PLOTLYENV=window.PLOTLYENV || {};                                    if (document.getElementById(\"e18eb6f3-b3ef-46e8-9587-52a92c3cd4ba\")) {                    Plotly.newPlot(                        \"e18eb6f3-b3ef-46e8-9587-52a92c3cd4ba\",                        [{\"x\":[0.001,0.01,0.1],\"y\":[5000,10000,15000],\"z\":[[0.7682833333333334,0.7985333333333333,0.8139666666666667],[0.8391666666666667,0.8479666666666666,0.8506833333333332],[0.8520833333333334,0.8538666666666668,0.8530833333333334]],\"type\":\"surface\"}],                        {\"template\":{\"data\":{\"bar\":[{\"error_x\":{\"color\":\"#2a3f5f\"},\"error_y\":{\"color\":\"#2a3f5f\"},\"marker\":{\"line\":{\"color\":\"#E5ECF6\",\"width\":0.5},\"pattern\":{\"fillmode\":\"overlay\",\"size\":10,\"solidity\":0.2}},\"type\":\"bar\"}],\"barpolar\":[{\"marker\":{\"line\":{\"color\":\"#E5ECF6\",\"width\":0.5},\"pattern\":{\"fillmode\":\"overlay\",\"size\":10,\"solidity\":0.2}},\"type\":\"barpolar\"}],\"carpet\":[{\"aaxis\":{\"endlinecolor\":\"#2a3f5f\",\"gridcolor\":\"white\",\"linecolor\":\"white\",\"minorgridcolor\":\"white\",\"startlinecolor\":\"#2a3f5f\"},\"baxis\":{\"endlinecolor\":\"#2a3f5f\",\"gridcolor\":\"white\",\"linecolor\":\"white\",\"minorgridcolor\":\"white\",\"startlinecolor\":\"#2a3f5f\"},\"type\":\"carpet\"}],\"choropleth\":[{\"colorbar\":{\"outlinewidth\":0,\"ticks\":\"\"},\"type\":\"choropleth\"}],\"contour\":[{\"colorbar\":{\"outlinewidth\":0,\"ticks\":\"\"},\"colorscale\":[[0.0,\"#0d0887\"],[0.1111111111111111,\"#46039f\"],[0.2222222222222222,\"#7201a8\"],[0.3333333333333333,\"#9c179e\"],[0.4444444444444444,\"#bd3786\"],[0.5555555555555556,\"#d8576b\"],[0.6666666666666666,\"#ed7953\"],[0.7777777777777778,\"#fb9f3a\"],[0.8888888888888888,\"#fdca26\"],[1.0,\"#f0f921\"]],\"type\":\"contour\"}],\"contourcarpet\":[{\"colorbar\":{\"outlinewidth\":0,\"ticks\":\"\"},\"type\":\"contourcarpet\"}],\"heatmap\":[{\"colorbar\":{\"outlinewidth\":0,\"ticks\":\"\"},\"colorscale\":[[0.0,\"#0d0887\"],[0.1111111111111111,\"#46039f\"],[0.2222222222222222,\"#7201a8\"],[0.3333333333333333,\"#9c179e\"],[0.4444444444444444,\"#bd3786\"],[0.5555555555555556,\"#d8576b\"],[0.6666666666666666,\"#ed7953\"],[0.7777777777777778,\"#fb9f3a\"],[0.8888888888888888,\"#fdca26\"],[1.0,\"#f0f921\"]],\"type\":\"heatmap\"}],\"heatmapgl\":[{\"colorbar\":{\"outlinewidth\":0,\"ticks\":\"\"},\"colorscale\":[[0.0,\"#0d0887\"],[0.1111111111111111,\"#46039f\"],[0.2222222222222222,\"#7201a8\"],[0.3333333333333333,\"#9c179e\"],[0.4444444444444444,\"#bd3786\"],[0.5555555555555556,\"#d8576b\"],[0.6666666666666666,\"#ed7953\"],[0.7777777777777778,\"#fb9f3a\"],[0.8888888888888888,\"#fdca26\"],[1.0,\"#f0f921\"]],\"type\":\"heatmapgl\"}],\"histogram\":[{\"marker\":{\"pattern\":{\"fillmode\":\"overlay\",\"size\":10,\"solidity\":0.2}},\"type\":\"histogram\"}],\"histogram2d\":[{\"colorbar\":{\"outlinewidth\":0,\"ticks\":\"\"},\"colorscale\":[[0.0,\"#0d0887\"],[0.1111111111111111,\"#46039f\"],[0.2222222222222222,\"#7201a8\"],[0.3333333333333333,\"#9c179e\"],[0.4444444444444444,\"#bd3786\"],[0.5555555555555556,\"#d8576b\"],[0.6666666666666666,\"#ed7953\"],[0.7777777777777778,\"#fb9f3a\"],[0.8888888888888888,\"#fdca26\"],[1.0,\"#f0f921\"]],\"type\":\"histogram2d\"}],\"histogram2dcontour\":[{\"colorbar\":{\"outlinewidth\":0,\"ticks\":\"\"},\"colorscale\":[[0.0,\"#0d0887\"],[0.1111111111111111,\"#46039f\"],[0.2222222222222222,\"#7201a8\"],[0.3333333333333333,\"#9c179e\"],[0.4444444444444444,\"#bd3786\"],[0.5555555555555556,\"#d8576b\"],[0.6666666666666666,\"#ed7953\"],[0.7777777777777778,\"#fb9f3a\"],[0.8888888888888888,\"#fdca26\"],[1.0,\"#f0f921\"]],\"type\":\"histogram2dcontour\"}],\"mesh3d\":[{\"colorbar\":{\"outlinewidth\":0,\"ticks\":\"\"},\"type\":\"mesh3d\"}],\"parcoords\":[{\"line\":{\"colorbar\":{\"outlinewidth\":0,\"ticks\":\"\"}},\"type\":\"parcoords\"}],\"pie\":[{\"automargin\":true,\"type\":\"pie\"}],\"scatter\":[{\"marker\":{\"colorbar\":{\"outlinewidth\":0,\"ticks\":\"\"}},\"type\":\"scatter\"}],\"scatter3d\":[{\"line\":{\"colorbar\":{\"outlinewidth\":0,\"ticks\":\"\"}},\"marker\":{\"colorbar\":{\"outlinewidth\":0,\"ticks\":\"\"}},\"type\":\"scatter3d\"}],\"scattercarpet\":[{\"marker\":{\"colorbar\":{\"outlinewidth\":0,\"ticks\":\"\"}},\"type\":\"scattercarpet\"}],\"scattergeo\":[{\"marker\":{\"colorbar\":{\"outlinewidth\":0,\"ticks\":\"\"}},\"type\":\"scattergeo\"}],\"scattergl\":[{\"marker\":{\"colorbar\":{\"outlinewidth\":0,\"ticks\":\"\"}},\"type\":\"scattergl\"}],\"scattermapbox\":[{\"marker\":{\"colorbar\":{\"outlinewidth\":0,\"ticks\":\"\"}},\"type\":\"scattermapbox\"}],\"scatterpolar\":[{\"marker\":{\"colorbar\":{\"outlinewidth\":0,\"ticks\":\"\"}},\"type\":\"scatterpolar\"}],\"scatterpolargl\":[{\"marker\":{\"colorbar\":{\"outlinewidth\":0,\"ticks\":\"\"}},\"type\":\"scatterpolargl\"}],\"scatterternary\":[{\"marker\":{\"colorbar\":{\"outlinewidth\":0,\"ticks\":\"\"}},\"type\":\"scatterternary\"}],\"surface\":[{\"colorbar\":{\"outlinewidth\":0,\"ticks\":\"\"},\"colorscale\":[[0.0,\"#0d0887\"],[0.1111111111111111,\"#46039f\"],[0.2222222222222222,\"#7201a8\"],[0.3333333333333333,\"#9c179e\"],[0.4444444444444444,\"#bd3786\"],[0.5555555555555556,\"#d8576b\"],[0.6666666666666666,\"#ed7953\"],[0.7777777777777778,\"#fb9f3a\"],[0.8888888888888888,\"#fdca26\"],[1.0,\"#f0f921\"]],\"type\":\"surface\"}],\"table\":[{\"cells\":{\"fill\":{\"color\":\"#EBF0F8\"},\"line\":{\"color\":\"white\"}},\"header\":{\"fill\":{\"color\":\"#C8D4E3\"},\"line\":{\"color\":\"white\"}},\"type\":\"table\"}]},\"layout\":{\"annotationdefaults\":{\"arrowcolor\":\"#2a3f5f\",\"arrowhead\":0,\"arrowwidth\":1},\"autotypenumbers\":\"strict\",\"coloraxis\":{\"colorbar\":{\"outlinewidth\":0,\"ticks\":\"\"}},\"colorscale\":{\"diverging\":[[0,\"#8e0152\"],[0.1,\"#c51b7d\"],[0.2,\"#de77ae\"],[0.3,\"#f1b6da\"],[0.4,\"#fde0ef\"],[0.5,\"#f7f7f7\"],[0.6,\"#e6f5d0\"],[0.7,\"#b8e186\"],[0.8,\"#7fbc41\"],[0.9,\"#4d9221\"],[1,\"#276419\"]],\"sequential\":[[0.0,\"#0d0887\"],[0.1111111111111111,\"#46039f\"],[0.2222222222222222,\"#7201a8\"],[0.3333333333333333,\"#9c179e\"],[0.4444444444444444,\"#bd3786\"],[0.5555555555555556,\"#d8576b\"],[0.6666666666666666,\"#ed7953\"],[0.7777777777777778,\"#fb9f3a\"],[0.8888888888888888,\"#fdca26\"],[1.0,\"#f0f921\"]],\"sequentialminus\":[[0.0,\"#0d0887\"],[0.1111111111111111,\"#46039f\"],[0.2222222222222222,\"#7201a8\"],[0.3333333333333333,\"#9c179e\"],[0.4444444444444444,\"#bd3786\"],[0.5555555555555556,\"#d8576b\"],[0.6666666666666666,\"#ed7953\"],[0.7777777777777778,\"#fb9f3a\"],[0.8888888888888888,\"#fdca26\"],[1.0,\"#f0f921\"]]},\"colorway\":[\"#636efa\",\"#EF553B\",\"#00cc96\",\"#ab63fa\",\"#FFA15A\",\"#19d3f3\",\"#FF6692\",\"#B6E880\",\"#FF97FF\",\"#FECB52\"],\"font\":{\"color\":\"#2a3f5f\"},\"geo\":{\"bgcolor\":\"white\",\"lakecolor\":\"white\",\"landcolor\":\"#E5ECF6\",\"showlakes\":true,\"showland\":true,\"subunitcolor\":\"white\"},\"hoverlabel\":{\"align\":\"left\"},\"hovermode\":\"closest\",\"mapbox\":{\"style\":\"light\"},\"paper_bgcolor\":\"white\",\"plot_bgcolor\":\"#E5ECF6\",\"polar\":{\"angularaxis\":{\"gridcolor\":\"white\",\"linecolor\":\"white\",\"ticks\":\"\"},\"bgcolor\":\"#E5ECF6\",\"radialaxis\":{\"gridcolor\":\"white\",\"linecolor\":\"white\",\"ticks\":\"\"}},\"scene\":{\"xaxis\":{\"backgroundcolor\":\"#E5ECF6\",\"gridcolor\":\"white\",\"gridwidth\":2,\"linecolor\":\"white\",\"showbackground\":true,\"ticks\":\"\",\"zerolinecolor\":\"white\"},\"yaxis\":{\"backgroundcolor\":\"#E5ECF6\",\"gridcolor\":\"white\",\"gridwidth\":2,\"linecolor\":\"white\",\"showbackground\":true,\"ticks\":\"\",\"zerolinecolor\":\"white\"},\"zaxis\":{\"backgroundcolor\":\"#E5ECF6\",\"gridcolor\":\"white\",\"gridwidth\":2,\"linecolor\":\"white\",\"showbackground\":true,\"ticks\":\"\",\"zerolinecolor\":\"white\"}},\"shapedefaults\":{\"line\":{\"color\":\"#2a3f5f\"}},\"ternary\":{\"aaxis\":{\"gridcolor\":\"white\",\"linecolor\":\"white\",\"ticks\":\"\"},\"baxis\":{\"gridcolor\":\"white\",\"linecolor\":\"white\",\"ticks\":\"\"},\"bgcolor\":\"#E5ECF6\",\"caxis\":{\"gridcolor\":\"white\",\"linecolor\":\"white\",\"ticks\":\"\"}},\"title\":{\"x\":0.05},\"xaxis\":{\"automargin\":true,\"gridcolor\":\"white\",\"linecolor\":\"white\",\"ticks\":\"\",\"title\":{\"standoff\":15},\"zerolinecolor\":\"white\",\"zerolinewidth\":2},\"yaxis\":{\"automargin\":true,\"gridcolor\":\"white\",\"linecolor\":\"white\",\"ticks\":\"\",\"title\":{\"standoff\":15},\"zerolinecolor\":\"white\",\"zerolinewidth\":2}}},\"scene\":{\"xaxis\":{\"dtick\":1,\"type\":\"log\",\"title\":{\"text\":\"Learning rate\"}},\"yaxis\":{\"title\":{\"text\":\"Maximum number of iterations\"}},\"zaxis\":{\"title\":{\"text\":\"Validation accuracy\"}}},\"title\":{\"text\":\"MLP: Average 5-fold validation accuracy (ReLu, depth 0, batchSize 32)\"},\"autosize\":false,\"width\":600,\"height\":600},                        {\"responsive\": true}                    ).then(function(){\n",
              "                            \n",
              "var gd = document.getElementById('e18eb6f3-b3ef-46e8-9587-52a92c3cd4ba');\n",
              "var x = new MutationObserver(function (mutations, observer) {{\n",
              "        var display = window.getComputedStyle(gd).display;\n",
              "        if (!display || display === 'none') {{\n",
              "            console.log([gd, 'removed!']);\n",
              "            Plotly.purge(gd);\n",
              "            observer.disconnect();\n",
              "        }}\n",
              "}});\n",
              "\n",
              "// Listen for the removal of the full notebook cells\n",
              "var notebookContainer = gd.closest('#notebook-container');\n",
              "if (notebookContainer) {{\n",
              "    x.observe(notebookContainer, {childList: true});\n",
              "}}\n",
              "\n",
              "// Listen for the clearing of the current output cell\n",
              "var outputEl = gd.closest('.output');\n",
              "if (outputEl) {{\n",
              "    x.observe(outputEl, {childList: true});\n",
              "}}\n",
              "\n",
              "                        })                };                            </script>        </div>\n",
              "</body>\n",
              "</html>"
            ]
          },
          "metadata": {},
          "output_type": "display_data"
        }
      ],
      "source": [
        "fig0 = go.Figure(data=[go.Surface(z = np.resize(avgValAccs0,(3, 3)), \n",
        "                                 x = np.array(learning_rates), \n",
        "                                 y = np.array(max_iters))])\n",
        "fig0.update_layout(scene = dict(\n",
        "                    xaxis=dict(dtick = 1, type = 'log'),\n",
        "                    xaxis_title = 'Learning rate',\n",
        "                    yaxis_title = 'Maximum number of iterations',\n",
        "                    zaxis_title = 'Validation accuracy'),\n",
        "                  title = 'MLP: Average 5-fold validation accuracy (ReLu, depth 0, batchSize 32)', \n",
        "                  autosize = False,\n",
        "                  width = 600, height = 600)\n",
        "fig0.show()"
      ]
    },
    {
      "cell_type": "markdown",
      "metadata": {
        "id": "aYYcQJ6jXyoG"
      },
      "source": [
        "We also create an MLP with a single hidden layer of width 128 and ReLu activation. "
      ]
    },
    {
      "cell_type": "code",
      "execution_count": null,
      "metadata": {
        "colab": {
          "base_uri": "https://localhost:8080/"
        },
        "id": "23-CD9X2X20r",
        "outputId": "d230d737-41fd-4367-ce74-9d2468a098d6"
      },
      "outputs": [
        {
          "name": "stdout",
          "output_type": "stream",
          "text": [
            "Hyperparameter tuning: Round 0 \n",
            "\tHyperparameter: {'activations': [<__main__.activation object at 0x7fc3e5bb4bd0>], 'depth': 1, 'widths': [128], 'dropout_rate': 0, 'learning_rate': 0.001, 'max_iters': 5000, 'epsilon': 1e-05, 'batchSize': 32}\n",
            "\tTrain Accuracies:  [0.75014583 0.7554375  0.75389583 0.749125   0.75175   ] \n",
            "\tValid Accuracies:  [0.74833333 0.75616667 0.754      0.74816667 0.74833333]\n",
            "Hyperparameter tuning: Round 1 \n",
            "\tHyperparameter: {'activations': [<__main__.activation object at 0x7fc3e5bb4bd0>], 'depth': 1, 'widths': [128], 'dropout_rate': 0, 'learning_rate': 0.001, 'max_iters': 10000, 'epsilon': 1e-05, 'batchSize': 32}\n",
            "\tTrain Accuracies:  [0.80802083 0.80647917 0.79925    0.80089583 0.80266667] \n",
            "\tValid Accuracies:  [0.80575    0.80291667 0.80766667 0.79925    0.79316667]\n",
            "Hyperparameter tuning: Round 2 \n",
            "\tHyperparameter: {'activations': [<__main__.activation object at 0x7fc3e5bb4bd0>], 'depth': 1, 'widths': [128], 'dropout_rate': 0, 'learning_rate': 0.001, 'max_iters': 15000, 'epsilon': 1e-05, 'batchSize': 32}\n",
            "\tTrain Accuracies:  [0.82960417 0.8295625  0.83052083 0.83102083 0.82566667] \n",
            "\tValid Accuracies:  [0.8275     0.82616667 0.82625    0.82933333 0.82891667]\n",
            "Hyperparameter tuning: Round 3 \n",
            "\tHyperparameter: {'activations': [<__main__.activation object at 0x7fc3e5bb4bd0>], 'depth': 1, 'widths': [128], 'dropout_rate': 0, 'learning_rate': 0.01, 'max_iters': 5000, 'epsilon': 1e-05, 'batchSize': 32}\n",
            "\tTrain Accuracies:  [0.8698125  0.86566667 0.8654375  0.86502083 0.87010417] \n",
            "\tValid Accuracies:  [0.85841667 0.86566667 0.85883333 0.86108333 0.85725   ]\n",
            "Hyperparameter tuning: Round 4 \n",
            "\tHyperparameter: {'activations': [<__main__.activation object at 0x7fc3e5bb4bd0>], 'depth': 1, 'widths': [128], 'dropout_rate': 0, 'learning_rate': 0.01, 'max_iters': 10000, 'epsilon': 1e-05, 'batchSize': 32}\n",
            "\tTrain Accuracies:  [0.8875625  0.8880625  0.88622917 0.88583333 0.8859375 ] \n",
            "\tValid Accuracies:  [0.87725    0.86975    0.86866667 0.87466667 0.87733333]\n",
            "Hyperparameter tuning: Round 5 \n",
            "\tHyperparameter: {'activations': [<__main__.activation object at 0x7fc3e5bb4bd0>], 'depth': 1, 'widths': [128], 'dropout_rate': 0, 'learning_rate': 0.01, 'max_iters': 15000, 'epsilon': 1e-05, 'batchSize': 32}\n",
            "\tTrain Accuracies:  [0.895125   0.89310417 0.89927083 0.8956875  0.89577083] \n",
            "\tValid Accuracies:  [0.88033333 0.87416667 0.87925    0.87341667 0.8805    ]\n",
            "Hyperparameter tuning: Round 6 \n",
            "\tHyperparameter: {'activations': [<__main__.activation object at 0x7fc3e5bb4bd0>], 'depth': 1, 'widths': [128], 'dropout_rate': 0, 'learning_rate': 0.1, 'max_iters': 5000, 'epsilon': 1e-05, 'batchSize': 32}\n",
            "\tTrain Accuracies:  [0.90183333 0.89647917 0.8954375  0.89495833 0.90533333] \n",
            "\tValid Accuracies:  [0.87208333 0.87508333 0.87341667 0.87875    0.87625   ]\n",
            "Hyperparameter tuning: Round 7 \n",
            "\tHyperparameter: {'activations': [<__main__.activation object at 0x7fc3e5bb4bd0>], 'depth': 1, 'widths': [128], 'dropout_rate': 0, 'learning_rate': 0.1, 'max_iters': 10000, 'epsilon': 1e-05, 'batchSize': 32}\n",
            "\tTrain Accuracies:  [0.90372917 0.91972917 0.91345833 0.924      0.9189375 ] \n",
            "\tValid Accuracies:  [0.86933333 0.875      0.872      0.88366667 0.88208333]\n",
            "Hyperparameter tuning: Round 8 \n",
            "\tHyperparameter: {'activations': [<__main__.activation object at 0x7fc3e5bb4bd0>], 'depth': 1, 'widths': [128], 'dropout_rate': 0, 'learning_rate': 0.1, 'max_iters': 15000, 'epsilon': 1e-05, 'batchSize': 32}\n",
            "\tTrain Accuracies:  [0.93679167 0.93754167 0.93452083 0.93066667 0.93583333] \n",
            "\tValid Accuracies:  [0.88225    0.88508333 0.88633333 0.87466667 0.88033333]\n",
            "Optimal hyperparameters:  {'activations': [<__main__.activation object at 0x7fc3e5bb4dd0>], 'depth': 1, 'widths': [128], 'dropout_rate': 0, 'learning_rate': 0.1, 'max_iters': 15000, 'epsilon': 1e-05, 'batchSize': 32}\n",
            "Average validation accuracy with optimal hyperparameters:  0.8817333333333334\n",
            "Average training accuracy with optimal hyperparameters:  0.9350708333333333\n"
          ]
        }
      ],
      "source": [
        "# Hyperparameters: list of different parameter combinations\n",
        "learning_rates = [.001, .01, .1]\n",
        "max_iters = [5000, 10000, 15000]\n",
        "hyperparameters1 = [dict(activations = [ReLuAc], depth = 1, widths = [128], dropout_rate = 0,\n",
        "                        learning_rate = L, max_iters = m, epsilon = 1e-5, batchSize = 32\n",
        "                        ) for L in learning_rates for m in max_iters]\n",
        "\n",
        "# Perform hyperparameter tuning on MLP with depth 1\n",
        "avgValAccs1, avgTrainAccs1, optParameter1, optValidAcc1, optTrainAcc1 = hyperparameterTuning(\n",
        "    fashionMNIST,5,hyperparameters1)\n",
        "\n",
        "print(\"Optimal hyperparameters: \", optParameter1)\n",
        "print(\"Average validation accuracy with optimal hyperparameters: \", optValidAcc1)\n",
        "print(\"Average training accuracy with optimal hyperparameters: \", optTrainAcc1)"
      ]
    },
    {
      "cell_type": "code",
      "execution_count": null,
      "metadata": {
        "colab": {
          "base_uri": "https://localhost:8080/",
          "height": 617
        },
        "id": "3TBN5jx_VTVi",
        "outputId": "752e89d2-5fca-4be9-8a57-c0a2046acd68"
      },
      "outputs": [
        {
          "data": {
            "text/html": [
              "<html>\n",
              "<head><meta charset=\"utf-8\" /></head>\n",
              "<body>\n",
              "    <div>            <script src=\"https://cdnjs.cloudflare.com/ajax/libs/mathjax/2.7.5/MathJax.js?config=TeX-AMS-MML_SVG\"></script><script type=\"text/javascript\">if (window.MathJax) {MathJax.Hub.Config({SVG: {font: \"STIX-Web\"}});}</script>                <script type=\"text/javascript\">window.PlotlyConfig = {MathJaxConfig: 'local'};</script>\n",
              "        <script src=\"https://cdn.plot.ly/plotly-2.8.3.min.js\"></script>                <div id=\"1bf40b47-958c-4680-a51b-bb9a3da5994d\" class=\"plotly-graph-div\" style=\"height:600px; width:600px;\"></div>            <script type=\"text/javascript\">                                    window.PLOTLYENV=window.PLOTLYENV || {};                                    if (document.getElementById(\"1bf40b47-958c-4680-a51b-bb9a3da5994d\")) {                    Plotly.newPlot(                        \"1bf40b47-958c-4680-a51b-bb9a3da5994d\",                        [{\"x\":[0.001,0.01,0.1],\"y\":[5000,10000,15000],\"z\":[[0.751,0.80175,0.8276333333333333],[0.86025,0.8735333333333333,0.8775333333333333],[0.8751166666666667,0.8764166666666666,0.8817333333333334]],\"type\":\"surface\"}],                        {\"template\":{\"data\":{\"bar\":[{\"error_x\":{\"color\":\"#2a3f5f\"},\"error_y\":{\"color\":\"#2a3f5f\"},\"marker\":{\"line\":{\"color\":\"#E5ECF6\",\"width\":0.5},\"pattern\":{\"fillmode\":\"overlay\",\"size\":10,\"solidity\":0.2}},\"type\":\"bar\"}],\"barpolar\":[{\"marker\":{\"line\":{\"color\":\"#E5ECF6\",\"width\":0.5},\"pattern\":{\"fillmode\":\"overlay\",\"size\":10,\"solidity\":0.2}},\"type\":\"barpolar\"}],\"carpet\":[{\"aaxis\":{\"endlinecolor\":\"#2a3f5f\",\"gridcolor\":\"white\",\"linecolor\":\"white\",\"minorgridcolor\":\"white\",\"startlinecolor\":\"#2a3f5f\"},\"baxis\":{\"endlinecolor\":\"#2a3f5f\",\"gridcolor\":\"white\",\"linecolor\":\"white\",\"minorgridcolor\":\"white\",\"startlinecolor\":\"#2a3f5f\"},\"type\":\"carpet\"}],\"choropleth\":[{\"colorbar\":{\"outlinewidth\":0,\"ticks\":\"\"},\"type\":\"choropleth\"}],\"contour\":[{\"colorbar\":{\"outlinewidth\":0,\"ticks\":\"\"},\"colorscale\":[[0.0,\"#0d0887\"],[0.1111111111111111,\"#46039f\"],[0.2222222222222222,\"#7201a8\"],[0.3333333333333333,\"#9c179e\"],[0.4444444444444444,\"#bd3786\"],[0.5555555555555556,\"#d8576b\"],[0.6666666666666666,\"#ed7953\"],[0.7777777777777778,\"#fb9f3a\"],[0.8888888888888888,\"#fdca26\"],[1.0,\"#f0f921\"]],\"type\":\"contour\"}],\"contourcarpet\":[{\"colorbar\":{\"outlinewidth\":0,\"ticks\":\"\"},\"type\":\"contourcarpet\"}],\"heatmap\":[{\"colorbar\":{\"outlinewidth\":0,\"ticks\":\"\"},\"colorscale\":[[0.0,\"#0d0887\"],[0.1111111111111111,\"#46039f\"],[0.2222222222222222,\"#7201a8\"],[0.3333333333333333,\"#9c179e\"],[0.4444444444444444,\"#bd3786\"],[0.5555555555555556,\"#d8576b\"],[0.6666666666666666,\"#ed7953\"],[0.7777777777777778,\"#fb9f3a\"],[0.8888888888888888,\"#fdca26\"],[1.0,\"#f0f921\"]],\"type\":\"heatmap\"}],\"heatmapgl\":[{\"colorbar\":{\"outlinewidth\":0,\"ticks\":\"\"},\"colorscale\":[[0.0,\"#0d0887\"],[0.1111111111111111,\"#46039f\"],[0.2222222222222222,\"#7201a8\"],[0.3333333333333333,\"#9c179e\"],[0.4444444444444444,\"#bd3786\"],[0.5555555555555556,\"#d8576b\"],[0.6666666666666666,\"#ed7953\"],[0.7777777777777778,\"#fb9f3a\"],[0.8888888888888888,\"#fdca26\"],[1.0,\"#f0f921\"]],\"type\":\"heatmapgl\"}],\"histogram\":[{\"marker\":{\"pattern\":{\"fillmode\":\"overlay\",\"size\":10,\"solidity\":0.2}},\"type\":\"histogram\"}],\"histogram2d\":[{\"colorbar\":{\"outlinewidth\":0,\"ticks\":\"\"},\"colorscale\":[[0.0,\"#0d0887\"],[0.1111111111111111,\"#46039f\"],[0.2222222222222222,\"#7201a8\"],[0.3333333333333333,\"#9c179e\"],[0.4444444444444444,\"#bd3786\"],[0.5555555555555556,\"#d8576b\"],[0.6666666666666666,\"#ed7953\"],[0.7777777777777778,\"#fb9f3a\"],[0.8888888888888888,\"#fdca26\"],[1.0,\"#f0f921\"]],\"type\":\"histogram2d\"}],\"histogram2dcontour\":[{\"colorbar\":{\"outlinewidth\":0,\"ticks\":\"\"},\"colorscale\":[[0.0,\"#0d0887\"],[0.1111111111111111,\"#46039f\"],[0.2222222222222222,\"#7201a8\"],[0.3333333333333333,\"#9c179e\"],[0.4444444444444444,\"#bd3786\"],[0.5555555555555556,\"#d8576b\"],[0.6666666666666666,\"#ed7953\"],[0.7777777777777778,\"#fb9f3a\"],[0.8888888888888888,\"#fdca26\"],[1.0,\"#f0f921\"]],\"type\":\"histogram2dcontour\"}],\"mesh3d\":[{\"colorbar\":{\"outlinewidth\":0,\"ticks\":\"\"},\"type\":\"mesh3d\"}],\"parcoords\":[{\"line\":{\"colorbar\":{\"outlinewidth\":0,\"ticks\":\"\"}},\"type\":\"parcoords\"}],\"pie\":[{\"automargin\":true,\"type\":\"pie\"}],\"scatter\":[{\"marker\":{\"colorbar\":{\"outlinewidth\":0,\"ticks\":\"\"}},\"type\":\"scatter\"}],\"scatter3d\":[{\"line\":{\"colorbar\":{\"outlinewidth\":0,\"ticks\":\"\"}},\"marker\":{\"colorbar\":{\"outlinewidth\":0,\"ticks\":\"\"}},\"type\":\"scatter3d\"}],\"scattercarpet\":[{\"marker\":{\"colorbar\":{\"outlinewidth\":0,\"ticks\":\"\"}},\"type\":\"scattercarpet\"}],\"scattergeo\":[{\"marker\":{\"colorbar\":{\"outlinewidth\":0,\"ticks\":\"\"}},\"type\":\"scattergeo\"}],\"scattergl\":[{\"marker\":{\"colorbar\":{\"outlinewidth\":0,\"ticks\":\"\"}},\"type\":\"scattergl\"}],\"scattermapbox\":[{\"marker\":{\"colorbar\":{\"outlinewidth\":0,\"ticks\":\"\"}},\"type\":\"scattermapbox\"}],\"scatterpolar\":[{\"marker\":{\"colorbar\":{\"outlinewidth\":0,\"ticks\":\"\"}},\"type\":\"scatterpolar\"}],\"scatterpolargl\":[{\"marker\":{\"colorbar\":{\"outlinewidth\":0,\"ticks\":\"\"}},\"type\":\"scatterpolargl\"}],\"scatterternary\":[{\"marker\":{\"colorbar\":{\"outlinewidth\":0,\"ticks\":\"\"}},\"type\":\"scatterternary\"}],\"surface\":[{\"colorbar\":{\"outlinewidth\":0,\"ticks\":\"\"},\"colorscale\":[[0.0,\"#0d0887\"],[0.1111111111111111,\"#46039f\"],[0.2222222222222222,\"#7201a8\"],[0.3333333333333333,\"#9c179e\"],[0.4444444444444444,\"#bd3786\"],[0.5555555555555556,\"#d8576b\"],[0.6666666666666666,\"#ed7953\"],[0.7777777777777778,\"#fb9f3a\"],[0.8888888888888888,\"#fdca26\"],[1.0,\"#f0f921\"]],\"type\":\"surface\"}],\"table\":[{\"cells\":{\"fill\":{\"color\":\"#EBF0F8\"},\"line\":{\"color\":\"white\"}},\"header\":{\"fill\":{\"color\":\"#C8D4E3\"},\"line\":{\"color\":\"white\"}},\"type\":\"table\"}]},\"layout\":{\"annotationdefaults\":{\"arrowcolor\":\"#2a3f5f\",\"arrowhead\":0,\"arrowwidth\":1},\"autotypenumbers\":\"strict\",\"coloraxis\":{\"colorbar\":{\"outlinewidth\":0,\"ticks\":\"\"}},\"colorscale\":{\"diverging\":[[0,\"#8e0152\"],[0.1,\"#c51b7d\"],[0.2,\"#de77ae\"],[0.3,\"#f1b6da\"],[0.4,\"#fde0ef\"],[0.5,\"#f7f7f7\"],[0.6,\"#e6f5d0\"],[0.7,\"#b8e186\"],[0.8,\"#7fbc41\"],[0.9,\"#4d9221\"],[1,\"#276419\"]],\"sequential\":[[0.0,\"#0d0887\"],[0.1111111111111111,\"#46039f\"],[0.2222222222222222,\"#7201a8\"],[0.3333333333333333,\"#9c179e\"],[0.4444444444444444,\"#bd3786\"],[0.5555555555555556,\"#d8576b\"],[0.6666666666666666,\"#ed7953\"],[0.7777777777777778,\"#fb9f3a\"],[0.8888888888888888,\"#fdca26\"],[1.0,\"#f0f921\"]],\"sequentialminus\":[[0.0,\"#0d0887\"],[0.1111111111111111,\"#46039f\"],[0.2222222222222222,\"#7201a8\"],[0.3333333333333333,\"#9c179e\"],[0.4444444444444444,\"#bd3786\"],[0.5555555555555556,\"#d8576b\"],[0.6666666666666666,\"#ed7953\"],[0.7777777777777778,\"#fb9f3a\"],[0.8888888888888888,\"#fdca26\"],[1.0,\"#f0f921\"]]},\"colorway\":[\"#636efa\",\"#EF553B\",\"#00cc96\",\"#ab63fa\",\"#FFA15A\",\"#19d3f3\",\"#FF6692\",\"#B6E880\",\"#FF97FF\",\"#FECB52\"],\"font\":{\"color\":\"#2a3f5f\"},\"geo\":{\"bgcolor\":\"white\",\"lakecolor\":\"white\",\"landcolor\":\"#E5ECF6\",\"showlakes\":true,\"showland\":true,\"subunitcolor\":\"white\"},\"hoverlabel\":{\"align\":\"left\"},\"hovermode\":\"closest\",\"mapbox\":{\"style\":\"light\"},\"paper_bgcolor\":\"white\",\"plot_bgcolor\":\"#E5ECF6\",\"polar\":{\"angularaxis\":{\"gridcolor\":\"white\",\"linecolor\":\"white\",\"ticks\":\"\"},\"bgcolor\":\"#E5ECF6\",\"radialaxis\":{\"gridcolor\":\"white\",\"linecolor\":\"white\",\"ticks\":\"\"}},\"scene\":{\"xaxis\":{\"backgroundcolor\":\"#E5ECF6\",\"gridcolor\":\"white\",\"gridwidth\":2,\"linecolor\":\"white\",\"showbackground\":true,\"ticks\":\"\",\"zerolinecolor\":\"white\"},\"yaxis\":{\"backgroundcolor\":\"#E5ECF6\",\"gridcolor\":\"white\",\"gridwidth\":2,\"linecolor\":\"white\",\"showbackground\":true,\"ticks\":\"\",\"zerolinecolor\":\"white\"},\"zaxis\":{\"backgroundcolor\":\"#E5ECF6\",\"gridcolor\":\"white\",\"gridwidth\":2,\"linecolor\":\"white\",\"showbackground\":true,\"ticks\":\"\",\"zerolinecolor\":\"white\"}},\"shapedefaults\":{\"line\":{\"color\":\"#2a3f5f\"}},\"ternary\":{\"aaxis\":{\"gridcolor\":\"white\",\"linecolor\":\"white\",\"ticks\":\"\"},\"baxis\":{\"gridcolor\":\"white\",\"linecolor\":\"white\",\"ticks\":\"\"},\"bgcolor\":\"#E5ECF6\",\"caxis\":{\"gridcolor\":\"white\",\"linecolor\":\"white\",\"ticks\":\"\"}},\"title\":{\"x\":0.05},\"xaxis\":{\"automargin\":true,\"gridcolor\":\"white\",\"linecolor\":\"white\",\"ticks\":\"\",\"title\":{\"standoff\":15},\"zerolinecolor\":\"white\",\"zerolinewidth\":2},\"yaxis\":{\"automargin\":true,\"gridcolor\":\"white\",\"linecolor\":\"white\",\"ticks\":\"\",\"title\":{\"standoff\":15},\"zerolinecolor\":\"white\",\"zerolinewidth\":2}}},\"scene\":{\"xaxis\":{\"dtick\":1,\"type\":\"log\",\"title\":{\"text\":\"Learning rate\"}},\"yaxis\":{\"title\":{\"text\":\"Maximum number of iterations\"}},\"zaxis\":{\"title\":{\"text\":\"Validation accuracy\"}}},\"title\":{\"text\":\"MLP: Average 5-fold validation accuracy (ReLu, depth 1, batchSize 32)\"},\"autosize\":false,\"width\":600,\"height\":600},                        {\"responsive\": true}                    ).then(function(){\n",
              "                            \n",
              "var gd = document.getElementById('1bf40b47-958c-4680-a51b-bb9a3da5994d');\n",
              "var x = new MutationObserver(function (mutations, observer) {{\n",
              "        var display = window.getComputedStyle(gd).display;\n",
              "        if (!display || display === 'none') {{\n",
              "            console.log([gd, 'removed!']);\n",
              "            Plotly.purge(gd);\n",
              "            observer.disconnect();\n",
              "        }}\n",
              "}});\n",
              "\n",
              "// Listen for the removal of the full notebook cells\n",
              "var notebookContainer = gd.closest('#notebook-container');\n",
              "if (notebookContainer) {{\n",
              "    x.observe(notebookContainer, {childList: true});\n",
              "}}\n",
              "\n",
              "// Listen for the clearing of the current output cell\n",
              "var outputEl = gd.closest('.output');\n",
              "if (outputEl) {{\n",
              "    x.observe(outputEl, {childList: true});\n",
              "}}\n",
              "\n",
              "                        })                };                            </script>        </div>\n",
              "</body>\n",
              "</html>"
            ]
          },
          "metadata": {},
          "output_type": "display_data"
        }
      ],
      "source": [
        "fig1 = go.Figure(data=[go.Surface(z = np.resize(avgValAccs1,(3, 3)), \n",
        "                                 x = np.array(learning_rates), \n",
        "                                 y = np.array(max_iters))])\n",
        "fig1.update_layout(scene = dict(\n",
        "                    xaxis=dict(dtick = 1, type = 'log'),\n",
        "                    xaxis_title = 'Learning rate',\n",
        "                    yaxis_title = 'Maximum number of iterations',\n",
        "                    zaxis_title = 'Validation accuracy'),\n",
        "                  title = 'MLP: Average 5-fold validation accuracy (ReLu, depth 1, batchSize 32)', \n",
        "                  autosize = False,\n",
        "                  width = 600, \n",
        "                  height = 600)\n",
        "fig1.show()"
      ]
    },
    {
      "cell_type": "markdown",
      "metadata": {
        "id": "RTC680i1YAO5"
      },
      "source": [
        "We also create an MLP with 2 hidden layers each of width 128 with ReLu activations. "
      ]
    },
    {
      "cell_type": "code",
      "execution_count": null,
      "metadata": {
        "colab": {
          "base_uri": "https://localhost:8080/"
        },
        "id": "6Qc63XJLxtbE",
        "outputId": "dc3337f9-d462-43e4-c03c-e0932765e02b"
      },
      "outputs": [
        {
          "name": "stdout",
          "output_type": "stream",
          "text": [
            "Hyperparameter tuning: Round 0 \n",
            "\tHyperparameter: {'activations': [<__main__.activation object at 0x7fc3e5bb4bd0>, <__main__.activation object at 0x7fc3e5bb4bd0>], 'depth': 2, 'widths': [128, 128], 'dropout_rate': 0, 'learning_rate': 0.01, 'max_iters': 5000, 'epsilon': 1e-05, 'batchSize': 32}\n",
            "\tTrain Accuracies:  [0.8474 0.8489] \n",
            "\tValid Accuracies:  [0.83846667 0.84423333]\n",
            "Hyperparameter tuning: Round 1 \n",
            "\tHyperparameter: {'activations': [<__main__.activation object at 0x7fc3e5bb4bd0>, <__main__.activation object at 0x7fc3e5bb4bd0>], 'depth': 2, 'widths': [128, 128], 'dropout_rate': 0, 'learning_rate': 0.01, 'max_iters': 10000, 'epsilon': 1e-05, 'batchSize': 32}\n",
            "\tTrain Accuracies:  [0.8857     0.88523333] \n",
            "\tValid Accuracies:  [0.86463333 0.86483333]\n",
            "Hyperparameter tuning: Round 2 \n",
            "\tHyperparameter: {'activations': [<__main__.activation object at 0x7fc3e5bb4bd0>, <__main__.activation object at 0x7fc3e5bb4bd0>], 'depth': 2, 'widths': [128, 128], 'dropout_rate': 0, 'learning_rate': 0.01, 'max_iters': 15000, 'epsilon': 1e-05, 'batchSize': 32}\n",
            "\tTrain Accuracies:  [0.90376667 0.90416667] \n",
            "\tValid Accuracies:  [0.87156667 0.8741    ]\n",
            "Hyperparameter tuning: Round 3 \n",
            "\tHyperparameter: {'activations': [<__main__.activation object at 0x7fc3e5bb4bd0>, <__main__.activation object at 0x7fc3e5bb4bd0>], 'depth': 2, 'widths': [128, 128], 'dropout_rate': 0, 'learning_rate': 0.1, 'max_iters': 5000, 'epsilon': 1e-05, 'batchSize': 32}\n",
            "\tTrain Accuracies:  [0.91083333 0.90333333] \n",
            "\tValid Accuracies:  [0.87996667 0.87176667]\n",
            "Hyperparameter tuning: Round 4 \n",
            "\tHyperparameter: {'activations': [<__main__.activation object at 0x7fc3e5bb4bd0>, <__main__.activation object at 0x7fc3e5bb4bd0>], 'depth': 2, 'widths': [128, 128], 'dropout_rate': 0, 'learning_rate': 0.1, 'max_iters': 10000, 'epsilon': 1e-05, 'batchSize': 32}\n",
            "\tTrain Accuracies:  [0.9305     0.92293333] \n",
            "\tValid Accuracies:  [0.87246667 0.86836667]\n",
            "Hyperparameter tuning: Round 5 \n",
            "\tHyperparameter: {'activations': [<__main__.activation object at 0x7fc3e5bb4bd0>, <__main__.activation object at 0x7fc3e5bb4bd0>], 'depth': 2, 'widths': [128, 128], 'dropout_rate': 0, 'learning_rate': 0.1, 'max_iters': 15000, 'epsilon': 1e-05, 'batchSize': 32}\n",
            "\tTrain Accuracies:  [0.94366667 0.95183333] \n",
            "\tValid Accuracies:  [0.87733333 0.87723333]\n",
            "Optimal hyperparameters:  {'activations': [<__main__.activation object at 0x7fc3e11c8710>, <__main__.activation object at 0x7fc3e11c8710>], 'depth': 2, 'widths': [128, 128], 'dropout_rate': 0, 'learning_rate': 0.1, 'max_iters': 15000, 'epsilon': 1e-05, 'batchSize': 32}\n",
            "Average validation accuracy with optimal hyperparameters:  0.8772833333333333\n",
            "Average training accuracy with optimal hyperparameters:  0.94775\n"
          ]
        }
      ],
      "source": [
        "# Hyperparameters: list of different parameter combinations\n",
        "learning_rates = [.01, .1]\n",
        "max_iters = [5000, 10000, 15000]\n",
        "hyperparameters2 = [dict(activations = [ReLuAc, ReLuAc], depth = 2, widths = [128, 128], dropout_rate = 0,\n",
        "                        learning_rate = L, max_iters = m, epsilon = 1e-5, batchSize = 32\n",
        "                        ) for L in learning_rates for m in max_iters]\n",
        "\n",
        "# Perform hyperparameter tuning on MLP with depth 2\n",
        "avgValAccs2, avgTrainAccs2, optParameter2, optValidAcc2, optTrainAcc2 = hyperparameterTuning(\n",
        "    fashionMNIST,2,hyperparameters2)\n",
        "\n",
        "print(\"Optimal hyperparameters: \", optParameter2)\n",
        "print(\"Average validation accuracy with optimal hyperparameters: \", optValidAcc2)\n",
        "print(\"Average training accuracy with optimal hyperparameters: \", optTrainAcc2)"
      ]
    },
    {
      "cell_type": "code",
      "execution_count": null,
      "metadata": {
        "colab": {
          "base_uri": "https://localhost:8080/",
          "height": 617
        },
        "id": "CQqcw61sVpp8",
        "outputId": "95c3cb2f-4da9-4b81-8d4d-049a27c49067"
      },
      "outputs": [
        {
          "data": {
            "text/html": [
              "<html>\n",
              "<head><meta charset=\"utf-8\" /></head>\n",
              "<body>\n",
              "    <div>            <script src=\"https://cdnjs.cloudflare.com/ajax/libs/mathjax/2.7.5/MathJax.js?config=TeX-AMS-MML_SVG\"></script><script type=\"text/javascript\">if (window.MathJax) {MathJax.Hub.Config({SVG: {font: \"STIX-Web\"}});}</script>                <script type=\"text/javascript\">window.PlotlyConfig = {MathJaxConfig: 'local'};</script>\n",
              "        <script src=\"https://cdn.plot.ly/plotly-2.8.3.min.js\"></script>                <div id=\"fb618fd0-b092-42dc-bb8b-d720da38cd37\" class=\"plotly-graph-div\" style=\"height:600px; width:600px;\"></div>            <script type=\"text/javascript\">                                    window.PLOTLYENV=window.PLOTLYENV || {};                                    if (document.getElementById(\"fb618fd0-b092-42dc-bb8b-d720da38cd37\")) {                    Plotly.newPlot(                        \"fb618fd0-b092-42dc-bb8b-d720da38cd37\",                        [{\"x\":[0.01,0.1],\"y\":[5000,10000,15000],\"z\":[[0.84135,0.8647333333333334],[0.8728333333333333,0.8758666666666667]],\"type\":\"surface\"}],                        {\"template\":{\"data\":{\"bar\":[{\"error_x\":{\"color\":\"#2a3f5f\"},\"error_y\":{\"color\":\"#2a3f5f\"},\"marker\":{\"line\":{\"color\":\"#E5ECF6\",\"width\":0.5},\"pattern\":{\"fillmode\":\"overlay\",\"size\":10,\"solidity\":0.2}},\"type\":\"bar\"}],\"barpolar\":[{\"marker\":{\"line\":{\"color\":\"#E5ECF6\",\"width\":0.5},\"pattern\":{\"fillmode\":\"overlay\",\"size\":10,\"solidity\":0.2}},\"type\":\"barpolar\"}],\"carpet\":[{\"aaxis\":{\"endlinecolor\":\"#2a3f5f\",\"gridcolor\":\"white\",\"linecolor\":\"white\",\"minorgridcolor\":\"white\",\"startlinecolor\":\"#2a3f5f\"},\"baxis\":{\"endlinecolor\":\"#2a3f5f\",\"gridcolor\":\"white\",\"linecolor\":\"white\",\"minorgridcolor\":\"white\",\"startlinecolor\":\"#2a3f5f\"},\"type\":\"carpet\"}],\"choropleth\":[{\"colorbar\":{\"outlinewidth\":0,\"ticks\":\"\"},\"type\":\"choropleth\"}],\"contour\":[{\"colorbar\":{\"outlinewidth\":0,\"ticks\":\"\"},\"colorscale\":[[0.0,\"#0d0887\"],[0.1111111111111111,\"#46039f\"],[0.2222222222222222,\"#7201a8\"],[0.3333333333333333,\"#9c179e\"],[0.4444444444444444,\"#bd3786\"],[0.5555555555555556,\"#d8576b\"],[0.6666666666666666,\"#ed7953\"],[0.7777777777777778,\"#fb9f3a\"],[0.8888888888888888,\"#fdca26\"],[1.0,\"#f0f921\"]],\"type\":\"contour\"}],\"contourcarpet\":[{\"colorbar\":{\"outlinewidth\":0,\"ticks\":\"\"},\"type\":\"contourcarpet\"}],\"heatmap\":[{\"colorbar\":{\"outlinewidth\":0,\"ticks\":\"\"},\"colorscale\":[[0.0,\"#0d0887\"],[0.1111111111111111,\"#46039f\"],[0.2222222222222222,\"#7201a8\"],[0.3333333333333333,\"#9c179e\"],[0.4444444444444444,\"#bd3786\"],[0.5555555555555556,\"#d8576b\"],[0.6666666666666666,\"#ed7953\"],[0.7777777777777778,\"#fb9f3a\"],[0.8888888888888888,\"#fdca26\"],[1.0,\"#f0f921\"]],\"type\":\"heatmap\"}],\"heatmapgl\":[{\"colorbar\":{\"outlinewidth\":0,\"ticks\":\"\"},\"colorscale\":[[0.0,\"#0d0887\"],[0.1111111111111111,\"#46039f\"],[0.2222222222222222,\"#7201a8\"],[0.3333333333333333,\"#9c179e\"],[0.4444444444444444,\"#bd3786\"],[0.5555555555555556,\"#d8576b\"],[0.6666666666666666,\"#ed7953\"],[0.7777777777777778,\"#fb9f3a\"],[0.8888888888888888,\"#fdca26\"],[1.0,\"#f0f921\"]],\"type\":\"heatmapgl\"}],\"histogram\":[{\"marker\":{\"pattern\":{\"fillmode\":\"overlay\",\"size\":10,\"solidity\":0.2}},\"type\":\"histogram\"}],\"histogram2d\":[{\"colorbar\":{\"outlinewidth\":0,\"ticks\":\"\"},\"colorscale\":[[0.0,\"#0d0887\"],[0.1111111111111111,\"#46039f\"],[0.2222222222222222,\"#7201a8\"],[0.3333333333333333,\"#9c179e\"],[0.4444444444444444,\"#bd3786\"],[0.5555555555555556,\"#d8576b\"],[0.6666666666666666,\"#ed7953\"],[0.7777777777777778,\"#fb9f3a\"],[0.8888888888888888,\"#fdca26\"],[1.0,\"#f0f921\"]],\"type\":\"histogram2d\"}],\"histogram2dcontour\":[{\"colorbar\":{\"outlinewidth\":0,\"ticks\":\"\"},\"colorscale\":[[0.0,\"#0d0887\"],[0.1111111111111111,\"#46039f\"],[0.2222222222222222,\"#7201a8\"],[0.3333333333333333,\"#9c179e\"],[0.4444444444444444,\"#bd3786\"],[0.5555555555555556,\"#d8576b\"],[0.6666666666666666,\"#ed7953\"],[0.7777777777777778,\"#fb9f3a\"],[0.8888888888888888,\"#fdca26\"],[1.0,\"#f0f921\"]],\"type\":\"histogram2dcontour\"}],\"mesh3d\":[{\"colorbar\":{\"outlinewidth\":0,\"ticks\":\"\"},\"type\":\"mesh3d\"}],\"parcoords\":[{\"line\":{\"colorbar\":{\"outlinewidth\":0,\"ticks\":\"\"}},\"type\":\"parcoords\"}],\"pie\":[{\"automargin\":true,\"type\":\"pie\"}],\"scatter\":[{\"marker\":{\"colorbar\":{\"outlinewidth\":0,\"ticks\":\"\"}},\"type\":\"scatter\"}],\"scatter3d\":[{\"line\":{\"colorbar\":{\"outlinewidth\":0,\"ticks\":\"\"}},\"marker\":{\"colorbar\":{\"outlinewidth\":0,\"ticks\":\"\"}},\"type\":\"scatter3d\"}],\"scattercarpet\":[{\"marker\":{\"colorbar\":{\"outlinewidth\":0,\"ticks\":\"\"}},\"type\":\"scattercarpet\"}],\"scattergeo\":[{\"marker\":{\"colorbar\":{\"outlinewidth\":0,\"ticks\":\"\"}},\"type\":\"scattergeo\"}],\"scattergl\":[{\"marker\":{\"colorbar\":{\"outlinewidth\":0,\"ticks\":\"\"}},\"type\":\"scattergl\"}],\"scattermapbox\":[{\"marker\":{\"colorbar\":{\"outlinewidth\":0,\"ticks\":\"\"}},\"type\":\"scattermapbox\"}],\"scatterpolar\":[{\"marker\":{\"colorbar\":{\"outlinewidth\":0,\"ticks\":\"\"}},\"type\":\"scatterpolar\"}],\"scatterpolargl\":[{\"marker\":{\"colorbar\":{\"outlinewidth\":0,\"ticks\":\"\"}},\"type\":\"scatterpolargl\"}],\"scatterternary\":[{\"marker\":{\"colorbar\":{\"outlinewidth\":0,\"ticks\":\"\"}},\"type\":\"scatterternary\"}],\"surface\":[{\"colorbar\":{\"outlinewidth\":0,\"ticks\":\"\"},\"colorscale\":[[0.0,\"#0d0887\"],[0.1111111111111111,\"#46039f\"],[0.2222222222222222,\"#7201a8\"],[0.3333333333333333,\"#9c179e\"],[0.4444444444444444,\"#bd3786\"],[0.5555555555555556,\"#d8576b\"],[0.6666666666666666,\"#ed7953\"],[0.7777777777777778,\"#fb9f3a\"],[0.8888888888888888,\"#fdca26\"],[1.0,\"#f0f921\"]],\"type\":\"surface\"}],\"table\":[{\"cells\":{\"fill\":{\"color\":\"#EBF0F8\"},\"line\":{\"color\":\"white\"}},\"header\":{\"fill\":{\"color\":\"#C8D4E3\"},\"line\":{\"color\":\"white\"}},\"type\":\"table\"}]},\"layout\":{\"annotationdefaults\":{\"arrowcolor\":\"#2a3f5f\",\"arrowhead\":0,\"arrowwidth\":1},\"autotypenumbers\":\"strict\",\"coloraxis\":{\"colorbar\":{\"outlinewidth\":0,\"ticks\":\"\"}},\"colorscale\":{\"diverging\":[[0,\"#8e0152\"],[0.1,\"#c51b7d\"],[0.2,\"#de77ae\"],[0.3,\"#f1b6da\"],[0.4,\"#fde0ef\"],[0.5,\"#f7f7f7\"],[0.6,\"#e6f5d0\"],[0.7,\"#b8e186\"],[0.8,\"#7fbc41\"],[0.9,\"#4d9221\"],[1,\"#276419\"]],\"sequential\":[[0.0,\"#0d0887\"],[0.1111111111111111,\"#46039f\"],[0.2222222222222222,\"#7201a8\"],[0.3333333333333333,\"#9c179e\"],[0.4444444444444444,\"#bd3786\"],[0.5555555555555556,\"#d8576b\"],[0.6666666666666666,\"#ed7953\"],[0.7777777777777778,\"#fb9f3a\"],[0.8888888888888888,\"#fdca26\"],[1.0,\"#f0f921\"]],\"sequentialminus\":[[0.0,\"#0d0887\"],[0.1111111111111111,\"#46039f\"],[0.2222222222222222,\"#7201a8\"],[0.3333333333333333,\"#9c179e\"],[0.4444444444444444,\"#bd3786\"],[0.5555555555555556,\"#d8576b\"],[0.6666666666666666,\"#ed7953\"],[0.7777777777777778,\"#fb9f3a\"],[0.8888888888888888,\"#fdca26\"],[1.0,\"#f0f921\"]]},\"colorway\":[\"#636efa\",\"#EF553B\",\"#00cc96\",\"#ab63fa\",\"#FFA15A\",\"#19d3f3\",\"#FF6692\",\"#B6E880\",\"#FF97FF\",\"#FECB52\"],\"font\":{\"color\":\"#2a3f5f\"},\"geo\":{\"bgcolor\":\"white\",\"lakecolor\":\"white\",\"landcolor\":\"#E5ECF6\",\"showlakes\":true,\"showland\":true,\"subunitcolor\":\"white\"},\"hoverlabel\":{\"align\":\"left\"},\"hovermode\":\"closest\",\"mapbox\":{\"style\":\"light\"},\"paper_bgcolor\":\"white\",\"plot_bgcolor\":\"#E5ECF6\",\"polar\":{\"angularaxis\":{\"gridcolor\":\"white\",\"linecolor\":\"white\",\"ticks\":\"\"},\"bgcolor\":\"#E5ECF6\",\"radialaxis\":{\"gridcolor\":\"white\",\"linecolor\":\"white\",\"ticks\":\"\"}},\"scene\":{\"xaxis\":{\"backgroundcolor\":\"#E5ECF6\",\"gridcolor\":\"white\",\"gridwidth\":2,\"linecolor\":\"white\",\"showbackground\":true,\"ticks\":\"\",\"zerolinecolor\":\"white\"},\"yaxis\":{\"backgroundcolor\":\"#E5ECF6\",\"gridcolor\":\"white\",\"gridwidth\":2,\"linecolor\":\"white\",\"showbackground\":true,\"ticks\":\"\",\"zerolinecolor\":\"white\"},\"zaxis\":{\"backgroundcolor\":\"#E5ECF6\",\"gridcolor\":\"white\",\"gridwidth\":2,\"linecolor\":\"white\",\"showbackground\":true,\"ticks\":\"\",\"zerolinecolor\":\"white\"}},\"shapedefaults\":{\"line\":{\"color\":\"#2a3f5f\"}},\"ternary\":{\"aaxis\":{\"gridcolor\":\"white\",\"linecolor\":\"white\",\"ticks\":\"\"},\"baxis\":{\"gridcolor\":\"white\",\"linecolor\":\"white\",\"ticks\":\"\"},\"bgcolor\":\"#E5ECF6\",\"caxis\":{\"gridcolor\":\"white\",\"linecolor\":\"white\",\"ticks\":\"\"}},\"title\":{\"x\":0.05},\"xaxis\":{\"automargin\":true,\"gridcolor\":\"white\",\"linecolor\":\"white\",\"ticks\":\"\",\"title\":{\"standoff\":15},\"zerolinecolor\":\"white\",\"zerolinewidth\":2},\"yaxis\":{\"automargin\":true,\"gridcolor\":\"white\",\"linecolor\":\"white\",\"ticks\":\"\",\"title\":{\"standoff\":15},\"zerolinecolor\":\"white\",\"zerolinewidth\":2}}},\"scene\":{\"xaxis\":{\"dtick\":1,\"type\":\"log\",\"title\":{\"text\":\"Learning rate\"}},\"yaxis\":{\"title\":{\"text\":\"Maximum number of iterations\"}},\"zaxis\":{\"title\":{\"text\":\"Validation accuracy\"}}},\"title\":{\"text\":\"MLP: Average 2-fold validation accuracy (ReLu, depth 2, batchSize 32)\"},\"autosize\":false,\"width\":600,\"height\":600},                        {\"responsive\": true}                    ).then(function(){\n",
              "                            \n",
              "var gd = document.getElementById('fb618fd0-b092-42dc-bb8b-d720da38cd37');\n",
              "var x = new MutationObserver(function (mutations, observer) {{\n",
              "        var display = window.getComputedStyle(gd).display;\n",
              "        if (!display || display === 'none') {{\n",
              "            console.log([gd, 'removed!']);\n",
              "            Plotly.purge(gd);\n",
              "            observer.disconnect();\n",
              "        }}\n",
              "}});\n",
              "\n",
              "// Listen for the removal of the full notebook cells\n",
              "var notebookContainer = gd.closest('#notebook-container');\n",
              "if (notebookContainer) {{\n",
              "    x.observe(notebookContainer, {childList: true});\n",
              "}}\n",
              "\n",
              "// Listen for the clearing of the current output cell\n",
              "var outputEl = gd.closest('.output');\n",
              "if (outputEl) {{\n",
              "    x.observe(outputEl, {childList: true});\n",
              "}}\n",
              "\n",
              "                        })                };                            </script>        </div>\n",
              "</body>\n",
              "</html>"
            ]
          },
          "metadata": {},
          "output_type": "display_data"
        }
      ],
      "source": [
        "fig2 = go.Figure(data=[go.Surface(z = np.resize(avgValAccs2,(2, 2)), \n",
        "                                 x = np.array(learning_rates), \n",
        "                                 y = np.array(max_iters))])\n",
        "fig2.update_layout(scene = dict(\n",
        "                    xaxis=dict(dtick = 1, type = 'log'),\n",
        "                    xaxis_title = 'Learning rate',\n",
        "                    yaxis_title = 'Maximum number of iterations',\n",
        "                    zaxis_title = 'Validation accuracy'),\n",
        "                  title = 'MLP: Average 2-fold validation accuracy (ReLu, depth 2, batchSize 32)', \n",
        "                  autosize = False,\n",
        "                  width = 600, \n",
        "                  height = 600)\n",
        "fig2.show()"
      ]
    },
    {
      "cell_type": "code",
      "source": [
        "# Hyperparameters: list of different parameter combinations\n",
        "hyperparameters2a = [dict(activations = [ReLuAc, ReLuAc, ReLuAc], depth = 3, widths = [128, 128, 128], dropout_rate = 0,\n",
        "                        learning_rate = 0.1, max_iters = 10000, epsilon = 1e-5, batchSize = 32\n",
        "                        )]\n",
        "\n",
        "# Perform hyperparameter tuning on MLP with depth 2\n",
        "avgValAccs2a, avgTrainAccs2a, optParameter2a, optValidAcc2a, optTrainAcc2a = hyperparameterTuning(\n",
        "    fashionMNIST,2,hyperparameters2a)\n",
        "\n",
        "print(\"Average validation accuracy: \", optValidAcc2a)\n",
        "print(\"Average training accuracy: \", optTrainAcc2a)"
      ],
      "metadata": {
        "colab": {
          "base_uri": "https://localhost:8080/"
        },
        "id": "FIou0DLmnrrZ",
        "outputId": "cd8e2418-c144-430a-a00b-3b95cfb062a2"
      },
      "execution_count": null,
      "outputs": [
        {
          "output_type": "stream",
          "name": "stdout",
          "text": [
            "Hyperparameter tuning: Round 0 \n",
            "\tHyperparameter: {'activations': [<__main__.activation object at 0x7fee2118c2d0>, <__main__.activation object at 0x7fee2118c2d0>, <__main__.activation object at 0x7fee2118c2d0>], 'depth': 3, 'widths': [128, 128, 128], 'dropout_rate': 0, 'learning_rate': 0.1, 'max_iters': 10000, 'epsilon': 1e-05, 'batchSize': 32}\n",
            "\tTrain Accuracies:  [0.9265     0.92703333] \n",
            "\tValid Accuracies:  [0.8775     0.87376667]\n",
            "Average validation accuracy:  0.8756333333333333\n",
            "Average training accuracy:  0.9267666666666667\n"
          ]
        }
      ]
    },
    {
      "cell_type": "markdown",
      "metadata": {
        "id": "0urWfV-QbOpH"
      },
      "source": [
        "###3.2: MLPs with Tanh and Leaky-ReLU activations\n",
        "\n",
        "We now build a new MLP with 2 hidden layers of width 128, but now with `tanh` activation."
      ]
    },
    {
      "cell_type": "code",
      "execution_count": null,
      "metadata": {
        "colab": {
          "base_uri": "https://localhost:8080/"
        },
        "id": "KF8alzgQWefM",
        "outputId": "899531f4-0085-4579-f051-9c5754b955fb"
      },
      "outputs": [
        {
          "name": "stdout",
          "output_type": "stream",
          "text": [
            "Hyperparameter tuning: Round 0 \n",
            "\tHyperparameter: {'activations': [<__main__.activation object at 0x7fc3e5bb4e50>, <__main__.activation object at 0x7fc3e5bb4e50>], 'depth': 2, 'widths': [128, 128], 'dropout_rate': 0, 'learning_rate': 0.01, 'max_iters': 5000, 'epsilon': 1e-05, 'batchSize': 32}\n",
            "\tTrain Accuracies:  [0.81943333 0.82176667] \n",
            "\tValid Accuracies:  [0.81493333 0.81516667]\n",
            "Hyperparameter tuning: Round 1 \n",
            "\tHyperparameter: {'activations': [<__main__.activation object at 0x7fc3e5bb4e50>, <__main__.activation object at 0x7fc3e5bb4e50>], 'depth': 2, 'widths': [128, 128], 'dropout_rate': 0, 'learning_rate': 0.01, 'max_iters': 10000, 'epsilon': 1e-05, 'batchSize': 32}\n",
            "\tTrain Accuracies:  [0.8634     0.86393333] \n",
            "\tValid Accuracies:  [0.8488     0.84843333]\n",
            "Hyperparameter tuning: Round 2 \n",
            "\tHyperparameter: {'activations': [<__main__.activation object at 0x7fc3e5bb4e50>, <__main__.activation object at 0x7fc3e5bb4e50>], 'depth': 2, 'widths': [128, 128], 'dropout_rate': 0, 'learning_rate': 0.1, 'max_iters': 5000, 'epsilon': 1e-05, 'batchSize': 32}\n",
            "\tTrain Accuracies:  [0.9054 0.9047] \n",
            "\tValid Accuracies:  [0.86986667 0.86856667]\n",
            "Hyperparameter tuning: Round 3 \n",
            "\tHyperparameter: {'activations': [<__main__.activation object at 0x7fc3e5bb4e50>, <__main__.activation object at 0x7fc3e5bb4e50>], 'depth': 2, 'widths': [128, 128], 'dropout_rate': 0, 'learning_rate': 0.1, 'max_iters': 10000, 'epsilon': 1e-05, 'batchSize': 32}\n",
            "\tTrain Accuracies:  [0.94553333 0.9435    ] \n",
            "\tValid Accuracies:  [0.8788 0.8743]\n",
            "Optimal hyperparameters:  {'activations': [<__main__.activation object at 0x7fc3e5bb4590>, <__main__.activation object at 0x7fc3e5bb4590>], 'depth': 2, 'widths': [128, 128], 'dropout_rate': 0, 'learning_rate': 0.1, 'max_iters': 10000, 'epsilon': 1e-05, 'batchSize': 32}\n",
            "Average validation accuracy with optimal hyperparameters:  0.8765499999999999\n",
            "Average training accuracy with optimal hyperparameters:  0.9445166666666667\n"
          ]
        }
      ],
      "source": [
        "learning_rates = [.01, .1]\n",
        "max_iters = [5000, 10000]\n",
        "hyperparameters3 = [dict(activations = [tanhAc, tanhAc], depth = 2, widths = [128, 128], dropout_rate = 0,\n",
        "                        learning_rate = L, max_iters = m, epsilon = 1e-5, batchSize = 32\n",
        "                        ) for L in learning_rates for m in max_iters]\n",
        "\n",
        "# Perform hyperparameter tuning on MLP with depth 2\n",
        "avgValAccs3, avgTrainAccs3, optParameter3, optValidAcc3, optTrainAcc3 = hyperparameterTuning(\n",
        "    fashionMNIST,2,hyperparameters3)\n",
        "\n",
        "print(\"Optimal hyperparameters: \", optParameter3)\n",
        "print(\"Average validation accuracy with optimal hyperparameters: \", optValidAcc3)\n",
        "print(\"Average training accuracy with optimal hyperparameters: \", optTrainAcc3)"
      ]
    },
    {
      "cell_type": "code",
      "execution_count": null,
      "metadata": {
        "colab": {
          "base_uri": "https://localhost:8080/",
          "height": 617
        },
        "id": "GoGpVE5SvmYw",
        "outputId": "55b3a51f-9d9d-448d-c348-582c8774312c"
      },
      "outputs": [
        {
          "data": {
            "text/html": [
              "<html>\n",
              "<head><meta charset=\"utf-8\" /></head>\n",
              "<body>\n",
              "    <div>            <script src=\"https://cdnjs.cloudflare.com/ajax/libs/mathjax/2.7.5/MathJax.js?config=TeX-AMS-MML_SVG\"></script><script type=\"text/javascript\">if (window.MathJax) {MathJax.Hub.Config({SVG: {font: \"STIX-Web\"}});}</script>                <script type=\"text/javascript\">window.PlotlyConfig = {MathJaxConfig: 'local'};</script>\n",
              "        <script src=\"https://cdn.plot.ly/plotly-2.8.3.min.js\"></script>                <div id=\"04ca2026-1f79-4783-a2ed-4c7a40ecd38d\" class=\"plotly-graph-div\" style=\"height:600px; width:600px;\"></div>            <script type=\"text/javascript\">                                    window.PLOTLYENV=window.PLOTLYENV || {};                                    if (document.getElementById(\"04ca2026-1f79-4783-a2ed-4c7a40ecd38d\")) {                    Plotly.newPlot(                        \"04ca2026-1f79-4783-a2ed-4c7a40ecd38d\",                        [{\"x\":[0.01,0.1],\"y\":[5000,10000],\"z\":[[0.81505,0.8486166666666667],[0.8692166666666667,0.8765499999999999]],\"type\":\"surface\"}],                        {\"template\":{\"data\":{\"bar\":[{\"error_x\":{\"color\":\"#2a3f5f\"},\"error_y\":{\"color\":\"#2a3f5f\"},\"marker\":{\"line\":{\"color\":\"#E5ECF6\",\"width\":0.5},\"pattern\":{\"fillmode\":\"overlay\",\"size\":10,\"solidity\":0.2}},\"type\":\"bar\"}],\"barpolar\":[{\"marker\":{\"line\":{\"color\":\"#E5ECF6\",\"width\":0.5},\"pattern\":{\"fillmode\":\"overlay\",\"size\":10,\"solidity\":0.2}},\"type\":\"barpolar\"}],\"carpet\":[{\"aaxis\":{\"endlinecolor\":\"#2a3f5f\",\"gridcolor\":\"white\",\"linecolor\":\"white\",\"minorgridcolor\":\"white\",\"startlinecolor\":\"#2a3f5f\"},\"baxis\":{\"endlinecolor\":\"#2a3f5f\",\"gridcolor\":\"white\",\"linecolor\":\"white\",\"minorgridcolor\":\"white\",\"startlinecolor\":\"#2a3f5f\"},\"type\":\"carpet\"}],\"choropleth\":[{\"colorbar\":{\"outlinewidth\":0,\"ticks\":\"\"},\"type\":\"choropleth\"}],\"contour\":[{\"colorbar\":{\"outlinewidth\":0,\"ticks\":\"\"},\"colorscale\":[[0.0,\"#0d0887\"],[0.1111111111111111,\"#46039f\"],[0.2222222222222222,\"#7201a8\"],[0.3333333333333333,\"#9c179e\"],[0.4444444444444444,\"#bd3786\"],[0.5555555555555556,\"#d8576b\"],[0.6666666666666666,\"#ed7953\"],[0.7777777777777778,\"#fb9f3a\"],[0.8888888888888888,\"#fdca26\"],[1.0,\"#f0f921\"]],\"type\":\"contour\"}],\"contourcarpet\":[{\"colorbar\":{\"outlinewidth\":0,\"ticks\":\"\"},\"type\":\"contourcarpet\"}],\"heatmap\":[{\"colorbar\":{\"outlinewidth\":0,\"ticks\":\"\"},\"colorscale\":[[0.0,\"#0d0887\"],[0.1111111111111111,\"#46039f\"],[0.2222222222222222,\"#7201a8\"],[0.3333333333333333,\"#9c179e\"],[0.4444444444444444,\"#bd3786\"],[0.5555555555555556,\"#d8576b\"],[0.6666666666666666,\"#ed7953\"],[0.7777777777777778,\"#fb9f3a\"],[0.8888888888888888,\"#fdca26\"],[1.0,\"#f0f921\"]],\"type\":\"heatmap\"}],\"heatmapgl\":[{\"colorbar\":{\"outlinewidth\":0,\"ticks\":\"\"},\"colorscale\":[[0.0,\"#0d0887\"],[0.1111111111111111,\"#46039f\"],[0.2222222222222222,\"#7201a8\"],[0.3333333333333333,\"#9c179e\"],[0.4444444444444444,\"#bd3786\"],[0.5555555555555556,\"#d8576b\"],[0.6666666666666666,\"#ed7953\"],[0.7777777777777778,\"#fb9f3a\"],[0.8888888888888888,\"#fdca26\"],[1.0,\"#f0f921\"]],\"type\":\"heatmapgl\"}],\"histogram\":[{\"marker\":{\"pattern\":{\"fillmode\":\"overlay\",\"size\":10,\"solidity\":0.2}},\"type\":\"histogram\"}],\"histogram2d\":[{\"colorbar\":{\"outlinewidth\":0,\"ticks\":\"\"},\"colorscale\":[[0.0,\"#0d0887\"],[0.1111111111111111,\"#46039f\"],[0.2222222222222222,\"#7201a8\"],[0.3333333333333333,\"#9c179e\"],[0.4444444444444444,\"#bd3786\"],[0.5555555555555556,\"#d8576b\"],[0.6666666666666666,\"#ed7953\"],[0.7777777777777778,\"#fb9f3a\"],[0.8888888888888888,\"#fdca26\"],[1.0,\"#f0f921\"]],\"type\":\"histogram2d\"}],\"histogram2dcontour\":[{\"colorbar\":{\"outlinewidth\":0,\"ticks\":\"\"},\"colorscale\":[[0.0,\"#0d0887\"],[0.1111111111111111,\"#46039f\"],[0.2222222222222222,\"#7201a8\"],[0.3333333333333333,\"#9c179e\"],[0.4444444444444444,\"#bd3786\"],[0.5555555555555556,\"#d8576b\"],[0.6666666666666666,\"#ed7953\"],[0.7777777777777778,\"#fb9f3a\"],[0.8888888888888888,\"#fdca26\"],[1.0,\"#f0f921\"]],\"type\":\"histogram2dcontour\"}],\"mesh3d\":[{\"colorbar\":{\"outlinewidth\":0,\"ticks\":\"\"},\"type\":\"mesh3d\"}],\"parcoords\":[{\"line\":{\"colorbar\":{\"outlinewidth\":0,\"ticks\":\"\"}},\"type\":\"parcoords\"}],\"pie\":[{\"automargin\":true,\"type\":\"pie\"}],\"scatter\":[{\"marker\":{\"colorbar\":{\"outlinewidth\":0,\"ticks\":\"\"}},\"type\":\"scatter\"}],\"scatter3d\":[{\"line\":{\"colorbar\":{\"outlinewidth\":0,\"ticks\":\"\"}},\"marker\":{\"colorbar\":{\"outlinewidth\":0,\"ticks\":\"\"}},\"type\":\"scatter3d\"}],\"scattercarpet\":[{\"marker\":{\"colorbar\":{\"outlinewidth\":0,\"ticks\":\"\"}},\"type\":\"scattercarpet\"}],\"scattergeo\":[{\"marker\":{\"colorbar\":{\"outlinewidth\":0,\"ticks\":\"\"}},\"type\":\"scattergeo\"}],\"scattergl\":[{\"marker\":{\"colorbar\":{\"outlinewidth\":0,\"ticks\":\"\"}},\"type\":\"scattergl\"}],\"scattermapbox\":[{\"marker\":{\"colorbar\":{\"outlinewidth\":0,\"ticks\":\"\"}},\"type\":\"scattermapbox\"}],\"scatterpolar\":[{\"marker\":{\"colorbar\":{\"outlinewidth\":0,\"ticks\":\"\"}},\"type\":\"scatterpolar\"}],\"scatterpolargl\":[{\"marker\":{\"colorbar\":{\"outlinewidth\":0,\"ticks\":\"\"}},\"type\":\"scatterpolargl\"}],\"scatterternary\":[{\"marker\":{\"colorbar\":{\"outlinewidth\":0,\"ticks\":\"\"}},\"type\":\"scatterternary\"}],\"surface\":[{\"colorbar\":{\"outlinewidth\":0,\"ticks\":\"\"},\"colorscale\":[[0.0,\"#0d0887\"],[0.1111111111111111,\"#46039f\"],[0.2222222222222222,\"#7201a8\"],[0.3333333333333333,\"#9c179e\"],[0.4444444444444444,\"#bd3786\"],[0.5555555555555556,\"#d8576b\"],[0.6666666666666666,\"#ed7953\"],[0.7777777777777778,\"#fb9f3a\"],[0.8888888888888888,\"#fdca26\"],[1.0,\"#f0f921\"]],\"type\":\"surface\"}],\"table\":[{\"cells\":{\"fill\":{\"color\":\"#EBF0F8\"},\"line\":{\"color\":\"white\"}},\"header\":{\"fill\":{\"color\":\"#C8D4E3\"},\"line\":{\"color\":\"white\"}},\"type\":\"table\"}]},\"layout\":{\"annotationdefaults\":{\"arrowcolor\":\"#2a3f5f\",\"arrowhead\":0,\"arrowwidth\":1},\"autotypenumbers\":\"strict\",\"coloraxis\":{\"colorbar\":{\"outlinewidth\":0,\"ticks\":\"\"}},\"colorscale\":{\"diverging\":[[0,\"#8e0152\"],[0.1,\"#c51b7d\"],[0.2,\"#de77ae\"],[0.3,\"#f1b6da\"],[0.4,\"#fde0ef\"],[0.5,\"#f7f7f7\"],[0.6,\"#e6f5d0\"],[0.7,\"#b8e186\"],[0.8,\"#7fbc41\"],[0.9,\"#4d9221\"],[1,\"#276419\"]],\"sequential\":[[0.0,\"#0d0887\"],[0.1111111111111111,\"#46039f\"],[0.2222222222222222,\"#7201a8\"],[0.3333333333333333,\"#9c179e\"],[0.4444444444444444,\"#bd3786\"],[0.5555555555555556,\"#d8576b\"],[0.6666666666666666,\"#ed7953\"],[0.7777777777777778,\"#fb9f3a\"],[0.8888888888888888,\"#fdca26\"],[1.0,\"#f0f921\"]],\"sequentialminus\":[[0.0,\"#0d0887\"],[0.1111111111111111,\"#46039f\"],[0.2222222222222222,\"#7201a8\"],[0.3333333333333333,\"#9c179e\"],[0.4444444444444444,\"#bd3786\"],[0.5555555555555556,\"#d8576b\"],[0.6666666666666666,\"#ed7953\"],[0.7777777777777778,\"#fb9f3a\"],[0.8888888888888888,\"#fdca26\"],[1.0,\"#f0f921\"]]},\"colorway\":[\"#636efa\",\"#EF553B\",\"#00cc96\",\"#ab63fa\",\"#FFA15A\",\"#19d3f3\",\"#FF6692\",\"#B6E880\",\"#FF97FF\",\"#FECB52\"],\"font\":{\"color\":\"#2a3f5f\"},\"geo\":{\"bgcolor\":\"white\",\"lakecolor\":\"white\",\"landcolor\":\"#E5ECF6\",\"showlakes\":true,\"showland\":true,\"subunitcolor\":\"white\"},\"hoverlabel\":{\"align\":\"left\"},\"hovermode\":\"closest\",\"mapbox\":{\"style\":\"light\"},\"paper_bgcolor\":\"white\",\"plot_bgcolor\":\"#E5ECF6\",\"polar\":{\"angularaxis\":{\"gridcolor\":\"white\",\"linecolor\":\"white\",\"ticks\":\"\"},\"bgcolor\":\"#E5ECF6\",\"radialaxis\":{\"gridcolor\":\"white\",\"linecolor\":\"white\",\"ticks\":\"\"}},\"scene\":{\"xaxis\":{\"backgroundcolor\":\"#E5ECF6\",\"gridcolor\":\"white\",\"gridwidth\":2,\"linecolor\":\"white\",\"showbackground\":true,\"ticks\":\"\",\"zerolinecolor\":\"white\"},\"yaxis\":{\"backgroundcolor\":\"#E5ECF6\",\"gridcolor\":\"white\",\"gridwidth\":2,\"linecolor\":\"white\",\"showbackground\":true,\"ticks\":\"\",\"zerolinecolor\":\"white\"},\"zaxis\":{\"backgroundcolor\":\"#E5ECF6\",\"gridcolor\":\"white\",\"gridwidth\":2,\"linecolor\":\"white\",\"showbackground\":true,\"ticks\":\"\",\"zerolinecolor\":\"white\"}},\"shapedefaults\":{\"line\":{\"color\":\"#2a3f5f\"}},\"ternary\":{\"aaxis\":{\"gridcolor\":\"white\",\"linecolor\":\"white\",\"ticks\":\"\"},\"baxis\":{\"gridcolor\":\"white\",\"linecolor\":\"white\",\"ticks\":\"\"},\"bgcolor\":\"#E5ECF6\",\"caxis\":{\"gridcolor\":\"white\",\"linecolor\":\"white\",\"ticks\":\"\"}},\"title\":{\"x\":0.05},\"xaxis\":{\"automargin\":true,\"gridcolor\":\"white\",\"linecolor\":\"white\",\"ticks\":\"\",\"title\":{\"standoff\":15},\"zerolinecolor\":\"white\",\"zerolinewidth\":2},\"yaxis\":{\"automargin\":true,\"gridcolor\":\"white\",\"linecolor\":\"white\",\"ticks\":\"\",\"title\":{\"standoff\":15},\"zerolinecolor\":\"white\",\"zerolinewidth\":2}}},\"scene\":{\"xaxis\":{\"dtick\":1,\"type\":\"log\",\"title\":{\"text\":\"Learning rate\"}},\"yaxis\":{\"title\":{\"text\":\"Maximum number of iterations\"}},\"zaxis\":{\"title\":{\"text\":\"Validation accuracy\"}}},\"title\":{\"text\":\"MLP: Average 2-fold validation accuracy (tanh, depth 2, batchSize 32)\"},\"autosize\":false,\"width\":600,\"height\":600},                        {\"responsive\": true}                    ).then(function(){\n",
              "                            \n",
              "var gd = document.getElementById('04ca2026-1f79-4783-a2ed-4c7a40ecd38d');\n",
              "var x = new MutationObserver(function (mutations, observer) {{\n",
              "        var display = window.getComputedStyle(gd).display;\n",
              "        if (!display || display === 'none') {{\n",
              "            console.log([gd, 'removed!']);\n",
              "            Plotly.purge(gd);\n",
              "            observer.disconnect();\n",
              "        }}\n",
              "}});\n",
              "\n",
              "// Listen for the removal of the full notebook cells\n",
              "var notebookContainer = gd.closest('#notebook-container');\n",
              "if (notebookContainer) {{\n",
              "    x.observe(notebookContainer, {childList: true});\n",
              "}}\n",
              "\n",
              "// Listen for the clearing of the current output cell\n",
              "var outputEl = gd.closest('.output');\n",
              "if (outputEl) {{\n",
              "    x.observe(outputEl, {childList: true});\n",
              "}}\n",
              "\n",
              "                        })                };                            </script>        </div>\n",
              "</body>\n",
              "</html>"
            ]
          },
          "metadata": {},
          "output_type": "display_data"
        }
      ],
      "source": [
        "fig3 = go.Figure(data=[go.Surface(z = np.resize(avgValAccs3,(2, 2)), \n",
        "                                 x = np.array(learning_rates), \n",
        "                                 y = np.array(max_iters))])\n",
        "fig3.update_layout(scene = dict(\n",
        "                    xaxis=dict(dtick = 1, type = 'log'),\n",
        "                    xaxis_title = 'Learning rate',\n",
        "                    yaxis_title = 'Maximum number of iterations',\n",
        "                    zaxis_title = 'Validation accuracy'),\n",
        "                  title = 'MLP: Average 2-fold validation accuracy (tanh, depth 2, batchSize 32)', \n",
        "                  autosize = False,\n",
        "                  width = 600, \n",
        "                  height = 600)\n",
        "fig3.show()"
      ]
    },
    {
      "cell_type": "markdown",
      "metadata": {
        "id": "DxtSVYMEaCxy"
      },
      "source": [
        "We now build a MLP with 2 hidden layers of width 128, but now with `leakyReLu` activation."
      ]
    },
    {
      "cell_type": "code",
      "execution_count": null,
      "metadata": {
        "colab": {
          "base_uri": "https://localhost:8080/"
        },
        "id": "YMCaEyeZXYug",
        "outputId": "75464884-94b4-4f8e-b9ee-ee011dfac61b"
      },
      "outputs": [
        {
          "name": "stdout",
          "output_type": "stream",
          "text": [
            "Hyperparameter tuning: Round 0 \n",
            "\tHyperparameter: {'activations': [<__main__.activation object at 0x7fc3e11c8a10>, <__main__.activation object at 0x7fc3e11c8a90>], 'depth': 2, 'widths': [128, 128], 'dropout_rate': 0, 'learning_rate': 0.01, 'max_iters': 10000, 'epsilon': 1e-05, 'batchSize': 32}\n",
            "\tTrain Accuracies:  [0.88046667 0.8793    ] \n",
            "\tValid Accuracies:  [0.86806667 0.85936667]\n",
            "Hyperparameter tuning: Round 1 \n",
            "\tHyperparameter: {'activations': [<__main__.activation object at 0x7fc3e11c8b90>, <__main__.activation object at 0x7fc3e11c8c90>], 'depth': 2, 'widths': [128, 128], 'dropout_rate': 0, 'learning_rate': 0.1, 'max_iters': 10000, 'epsilon': 1e-05, 'batchSize': 32}\n",
            "\tTrain Accuracies:  [0.92646667 0.92723333] \n",
            "\tValid Accuracies:  [0.8732 0.8765]\n",
            "Hyperparameter tuning: Round 2 \n",
            "\tHyperparameter: {'activations': [<__main__.activation object at 0x7fc3e11c8d90>, <__main__.activation object at 0x7fc3e11c8e90>], 'depth': 2, 'widths': [128, 128], 'dropout_rate': 0, 'learning_rate': 0.01, 'max_iters': 10000, 'epsilon': 1e-05, 'batchSize': 32}\n",
            "\tTrain Accuracies:  [0.87143333 0.8674    ] \n",
            "\tValid Accuracies:  [0.85413333 0.8563    ]\n",
            "Hyperparameter tuning: Round 3 \n",
            "\tHyperparameter: {'activations': [<__main__.activation object at 0x7fc3e11c8f90>, <__main__.activation object at 0x7fc3e11cc0d0>], 'depth': 2, 'widths': [128, 128], 'dropout_rate': 0, 'learning_rate': 0.1, 'max_iters': 10000, 'epsilon': 1e-05, 'batchSize': 32}\n",
            "\tTrain Accuracies:  [0.88806667 0.90036667] \n",
            "\tValid Accuracies:  [0.86246667 0.8603    ]\n",
            "Optimal hyperparameters:  {'activations': [<__main__.activation object at 0x7fc3e17c6910>, <__main__.activation object at 0x7fc3e17c67d0>], 'depth': 2, 'widths': [128, 128], 'dropout_rate': 0, 'learning_rate': 0.1, 'max_iters': 10000, 'epsilon': 1e-05, 'batchSize': 32}\n",
            "Average validation accuracy with optimal hyperparameters:  0.8748499999999999\n",
            "Average training accuracy with optimal hyperparameters:  0.92685\n"
          ]
        }
      ],
      "source": [
        "# RUN THIS AGAIN WITH 10K ITERATIONS\n",
        "gammas = [.1,.5]\n",
        "learning_rates = [.01, .1]\n",
        "hyperparameters4 = [dict(activations = [activation(leakyReLu, leakyReLuD, gamma), \n",
        "                                        activation(leakyReLu, leakyReLuD, gamma)], \n",
        "                         depth = 2, widths = [128, 128], dropout_rate = 0,\n",
        "                        learning_rate = L, max_iters = 10000, epsilon = 1e-5, batchSize = 32\n",
        "                        ) for gamma in gammas for L in learning_rates]\n",
        "\n",
        "# Perform hyperparameter tuning on MLP with depth 2\n",
        "avgValAccs4, avgTrainAccs4, optParameter4, optValidAcc4, optTrainAcc4 = hyperparameterTuning(\n",
        "    fashionMNIST,2,hyperparameters4)\n",
        "\n",
        "print(\"Optimal hyperparameters: \", optParameter4)\n",
        "print(\"Average validation accuracy with optimal hyperparameters: \", optValidAcc4)\n",
        "print(\"Average training accuracy with optimal hyperparameters: \", optTrainAcc4)"
      ]
    },
    {
      "cell_type": "code",
      "execution_count": null,
      "metadata": {
        "colab": {
          "base_uri": "https://localhost:8080/",
          "height": 617
        },
        "id": "01L2Jw3dwZZS",
        "outputId": "c6296c95-5d98-440b-c29c-1260a8e9887a"
      },
      "outputs": [
        {
          "data": {
            "text/html": [
              "<html>\n",
              "<head><meta charset=\"utf-8\" /></head>\n",
              "<body>\n",
              "    <div>            <script src=\"https://cdnjs.cloudflare.com/ajax/libs/mathjax/2.7.5/MathJax.js?config=TeX-AMS-MML_SVG\"></script><script type=\"text/javascript\">if (window.MathJax) {MathJax.Hub.Config({SVG: {font: \"STIX-Web\"}});}</script>                <script type=\"text/javascript\">window.PlotlyConfig = {MathJaxConfig: 'local'};</script>\n",
              "        <script src=\"https://cdn.plot.ly/plotly-2.8.3.min.js\"></script>                <div id=\"698c57ac-09f5-43e4-b6da-61d543e90a34\" class=\"plotly-graph-div\" style=\"height:600px; width:600px;\"></div>            <script type=\"text/javascript\">                                    window.PLOTLYENV=window.PLOTLYENV || {};                                    if (document.getElementById(\"698c57ac-09f5-43e4-b6da-61d543e90a34\")) {                    Plotly.newPlot(                        \"698c57ac-09f5-43e4-b6da-61d543e90a34\",                        [{\"x\":[0.1,0.5],\"y\":[0.01,0.1],\"z\":[[0.8637166666666667,0.8748499999999999],[0.8552166666666666,0.8613833333333334]],\"type\":\"surface\"}],                        {\"template\":{\"data\":{\"bar\":[{\"error_x\":{\"color\":\"#2a3f5f\"},\"error_y\":{\"color\":\"#2a3f5f\"},\"marker\":{\"line\":{\"color\":\"#E5ECF6\",\"width\":0.5},\"pattern\":{\"fillmode\":\"overlay\",\"size\":10,\"solidity\":0.2}},\"type\":\"bar\"}],\"barpolar\":[{\"marker\":{\"line\":{\"color\":\"#E5ECF6\",\"width\":0.5},\"pattern\":{\"fillmode\":\"overlay\",\"size\":10,\"solidity\":0.2}},\"type\":\"barpolar\"}],\"carpet\":[{\"aaxis\":{\"endlinecolor\":\"#2a3f5f\",\"gridcolor\":\"white\",\"linecolor\":\"white\",\"minorgridcolor\":\"white\",\"startlinecolor\":\"#2a3f5f\"},\"baxis\":{\"endlinecolor\":\"#2a3f5f\",\"gridcolor\":\"white\",\"linecolor\":\"white\",\"minorgridcolor\":\"white\",\"startlinecolor\":\"#2a3f5f\"},\"type\":\"carpet\"}],\"choropleth\":[{\"colorbar\":{\"outlinewidth\":0,\"ticks\":\"\"},\"type\":\"choropleth\"}],\"contour\":[{\"colorbar\":{\"outlinewidth\":0,\"ticks\":\"\"},\"colorscale\":[[0.0,\"#0d0887\"],[0.1111111111111111,\"#46039f\"],[0.2222222222222222,\"#7201a8\"],[0.3333333333333333,\"#9c179e\"],[0.4444444444444444,\"#bd3786\"],[0.5555555555555556,\"#d8576b\"],[0.6666666666666666,\"#ed7953\"],[0.7777777777777778,\"#fb9f3a\"],[0.8888888888888888,\"#fdca26\"],[1.0,\"#f0f921\"]],\"type\":\"contour\"}],\"contourcarpet\":[{\"colorbar\":{\"outlinewidth\":0,\"ticks\":\"\"},\"type\":\"contourcarpet\"}],\"heatmap\":[{\"colorbar\":{\"outlinewidth\":0,\"ticks\":\"\"},\"colorscale\":[[0.0,\"#0d0887\"],[0.1111111111111111,\"#46039f\"],[0.2222222222222222,\"#7201a8\"],[0.3333333333333333,\"#9c179e\"],[0.4444444444444444,\"#bd3786\"],[0.5555555555555556,\"#d8576b\"],[0.6666666666666666,\"#ed7953\"],[0.7777777777777778,\"#fb9f3a\"],[0.8888888888888888,\"#fdca26\"],[1.0,\"#f0f921\"]],\"type\":\"heatmap\"}],\"heatmapgl\":[{\"colorbar\":{\"outlinewidth\":0,\"ticks\":\"\"},\"colorscale\":[[0.0,\"#0d0887\"],[0.1111111111111111,\"#46039f\"],[0.2222222222222222,\"#7201a8\"],[0.3333333333333333,\"#9c179e\"],[0.4444444444444444,\"#bd3786\"],[0.5555555555555556,\"#d8576b\"],[0.6666666666666666,\"#ed7953\"],[0.7777777777777778,\"#fb9f3a\"],[0.8888888888888888,\"#fdca26\"],[1.0,\"#f0f921\"]],\"type\":\"heatmapgl\"}],\"histogram\":[{\"marker\":{\"pattern\":{\"fillmode\":\"overlay\",\"size\":10,\"solidity\":0.2}},\"type\":\"histogram\"}],\"histogram2d\":[{\"colorbar\":{\"outlinewidth\":0,\"ticks\":\"\"},\"colorscale\":[[0.0,\"#0d0887\"],[0.1111111111111111,\"#46039f\"],[0.2222222222222222,\"#7201a8\"],[0.3333333333333333,\"#9c179e\"],[0.4444444444444444,\"#bd3786\"],[0.5555555555555556,\"#d8576b\"],[0.6666666666666666,\"#ed7953\"],[0.7777777777777778,\"#fb9f3a\"],[0.8888888888888888,\"#fdca26\"],[1.0,\"#f0f921\"]],\"type\":\"histogram2d\"}],\"histogram2dcontour\":[{\"colorbar\":{\"outlinewidth\":0,\"ticks\":\"\"},\"colorscale\":[[0.0,\"#0d0887\"],[0.1111111111111111,\"#46039f\"],[0.2222222222222222,\"#7201a8\"],[0.3333333333333333,\"#9c179e\"],[0.4444444444444444,\"#bd3786\"],[0.5555555555555556,\"#d8576b\"],[0.6666666666666666,\"#ed7953\"],[0.7777777777777778,\"#fb9f3a\"],[0.8888888888888888,\"#fdca26\"],[1.0,\"#f0f921\"]],\"type\":\"histogram2dcontour\"}],\"mesh3d\":[{\"colorbar\":{\"outlinewidth\":0,\"ticks\":\"\"},\"type\":\"mesh3d\"}],\"parcoords\":[{\"line\":{\"colorbar\":{\"outlinewidth\":0,\"ticks\":\"\"}},\"type\":\"parcoords\"}],\"pie\":[{\"automargin\":true,\"type\":\"pie\"}],\"scatter\":[{\"marker\":{\"colorbar\":{\"outlinewidth\":0,\"ticks\":\"\"}},\"type\":\"scatter\"}],\"scatter3d\":[{\"line\":{\"colorbar\":{\"outlinewidth\":0,\"ticks\":\"\"}},\"marker\":{\"colorbar\":{\"outlinewidth\":0,\"ticks\":\"\"}},\"type\":\"scatter3d\"}],\"scattercarpet\":[{\"marker\":{\"colorbar\":{\"outlinewidth\":0,\"ticks\":\"\"}},\"type\":\"scattercarpet\"}],\"scattergeo\":[{\"marker\":{\"colorbar\":{\"outlinewidth\":0,\"ticks\":\"\"}},\"type\":\"scattergeo\"}],\"scattergl\":[{\"marker\":{\"colorbar\":{\"outlinewidth\":0,\"ticks\":\"\"}},\"type\":\"scattergl\"}],\"scattermapbox\":[{\"marker\":{\"colorbar\":{\"outlinewidth\":0,\"ticks\":\"\"}},\"type\":\"scattermapbox\"}],\"scatterpolar\":[{\"marker\":{\"colorbar\":{\"outlinewidth\":0,\"ticks\":\"\"}},\"type\":\"scatterpolar\"}],\"scatterpolargl\":[{\"marker\":{\"colorbar\":{\"outlinewidth\":0,\"ticks\":\"\"}},\"type\":\"scatterpolargl\"}],\"scatterternary\":[{\"marker\":{\"colorbar\":{\"outlinewidth\":0,\"ticks\":\"\"}},\"type\":\"scatterternary\"}],\"surface\":[{\"colorbar\":{\"outlinewidth\":0,\"ticks\":\"\"},\"colorscale\":[[0.0,\"#0d0887\"],[0.1111111111111111,\"#46039f\"],[0.2222222222222222,\"#7201a8\"],[0.3333333333333333,\"#9c179e\"],[0.4444444444444444,\"#bd3786\"],[0.5555555555555556,\"#d8576b\"],[0.6666666666666666,\"#ed7953\"],[0.7777777777777778,\"#fb9f3a\"],[0.8888888888888888,\"#fdca26\"],[1.0,\"#f0f921\"]],\"type\":\"surface\"}],\"table\":[{\"cells\":{\"fill\":{\"color\":\"#EBF0F8\"},\"line\":{\"color\":\"white\"}},\"header\":{\"fill\":{\"color\":\"#C8D4E3\"},\"line\":{\"color\":\"white\"}},\"type\":\"table\"}]},\"layout\":{\"annotationdefaults\":{\"arrowcolor\":\"#2a3f5f\",\"arrowhead\":0,\"arrowwidth\":1},\"autotypenumbers\":\"strict\",\"coloraxis\":{\"colorbar\":{\"outlinewidth\":0,\"ticks\":\"\"}},\"colorscale\":{\"diverging\":[[0,\"#8e0152\"],[0.1,\"#c51b7d\"],[0.2,\"#de77ae\"],[0.3,\"#f1b6da\"],[0.4,\"#fde0ef\"],[0.5,\"#f7f7f7\"],[0.6,\"#e6f5d0\"],[0.7,\"#b8e186\"],[0.8,\"#7fbc41\"],[0.9,\"#4d9221\"],[1,\"#276419\"]],\"sequential\":[[0.0,\"#0d0887\"],[0.1111111111111111,\"#46039f\"],[0.2222222222222222,\"#7201a8\"],[0.3333333333333333,\"#9c179e\"],[0.4444444444444444,\"#bd3786\"],[0.5555555555555556,\"#d8576b\"],[0.6666666666666666,\"#ed7953\"],[0.7777777777777778,\"#fb9f3a\"],[0.8888888888888888,\"#fdca26\"],[1.0,\"#f0f921\"]],\"sequentialminus\":[[0.0,\"#0d0887\"],[0.1111111111111111,\"#46039f\"],[0.2222222222222222,\"#7201a8\"],[0.3333333333333333,\"#9c179e\"],[0.4444444444444444,\"#bd3786\"],[0.5555555555555556,\"#d8576b\"],[0.6666666666666666,\"#ed7953\"],[0.7777777777777778,\"#fb9f3a\"],[0.8888888888888888,\"#fdca26\"],[1.0,\"#f0f921\"]]},\"colorway\":[\"#636efa\",\"#EF553B\",\"#00cc96\",\"#ab63fa\",\"#FFA15A\",\"#19d3f3\",\"#FF6692\",\"#B6E880\",\"#FF97FF\",\"#FECB52\"],\"font\":{\"color\":\"#2a3f5f\"},\"geo\":{\"bgcolor\":\"white\",\"lakecolor\":\"white\",\"landcolor\":\"#E5ECF6\",\"showlakes\":true,\"showland\":true,\"subunitcolor\":\"white\"},\"hoverlabel\":{\"align\":\"left\"},\"hovermode\":\"closest\",\"mapbox\":{\"style\":\"light\"},\"paper_bgcolor\":\"white\",\"plot_bgcolor\":\"#E5ECF6\",\"polar\":{\"angularaxis\":{\"gridcolor\":\"white\",\"linecolor\":\"white\",\"ticks\":\"\"},\"bgcolor\":\"#E5ECF6\",\"radialaxis\":{\"gridcolor\":\"white\",\"linecolor\":\"white\",\"ticks\":\"\"}},\"scene\":{\"xaxis\":{\"backgroundcolor\":\"#E5ECF6\",\"gridcolor\":\"white\",\"gridwidth\":2,\"linecolor\":\"white\",\"showbackground\":true,\"ticks\":\"\",\"zerolinecolor\":\"white\"},\"yaxis\":{\"backgroundcolor\":\"#E5ECF6\",\"gridcolor\":\"white\",\"gridwidth\":2,\"linecolor\":\"white\",\"showbackground\":true,\"ticks\":\"\",\"zerolinecolor\":\"white\"},\"zaxis\":{\"backgroundcolor\":\"#E5ECF6\",\"gridcolor\":\"white\",\"gridwidth\":2,\"linecolor\":\"white\",\"showbackground\":true,\"ticks\":\"\",\"zerolinecolor\":\"white\"}},\"shapedefaults\":{\"line\":{\"color\":\"#2a3f5f\"}},\"ternary\":{\"aaxis\":{\"gridcolor\":\"white\",\"linecolor\":\"white\",\"ticks\":\"\"},\"baxis\":{\"gridcolor\":\"white\",\"linecolor\":\"white\",\"ticks\":\"\"},\"bgcolor\":\"#E5ECF6\",\"caxis\":{\"gridcolor\":\"white\",\"linecolor\":\"white\",\"ticks\":\"\"}},\"title\":{\"x\":0.05},\"xaxis\":{\"automargin\":true,\"gridcolor\":\"white\",\"linecolor\":\"white\",\"ticks\":\"\",\"title\":{\"standoff\":15},\"zerolinecolor\":\"white\",\"zerolinewidth\":2},\"yaxis\":{\"automargin\":true,\"gridcolor\":\"white\",\"linecolor\":\"white\",\"ticks\":\"\",\"title\":{\"standoff\":15},\"zerolinecolor\":\"white\",\"zerolinewidth\":2}}},\"scene\":{\"xaxis\":{\"dtick\":1,\"type\":\"log\",\"title\":{\"text\":\"Gamma parameter\"}},\"yaxis\":{\"title\":{\"text\":\"Learning Rate\"}},\"zaxis\":{\"title\":{\"text\":\"Validation accuracy\"}}},\"title\":{\"text\":\"MLP: Average 2-fold validation accuracy (leakyReLu, depth 2, batchSize 32)\"},\"autosize\":false,\"width\":600,\"height\":600},                        {\"responsive\": true}                    ).then(function(){\n",
              "                            \n",
              "var gd = document.getElementById('698c57ac-09f5-43e4-b6da-61d543e90a34');\n",
              "var x = new MutationObserver(function (mutations, observer) {{\n",
              "        var display = window.getComputedStyle(gd).display;\n",
              "        if (!display || display === 'none') {{\n",
              "            console.log([gd, 'removed!']);\n",
              "            Plotly.purge(gd);\n",
              "            observer.disconnect();\n",
              "        }}\n",
              "}});\n",
              "\n",
              "// Listen for the removal of the full notebook cells\n",
              "var notebookContainer = gd.closest('#notebook-container');\n",
              "if (notebookContainer) {{\n",
              "    x.observe(notebookContainer, {childList: true});\n",
              "}}\n",
              "\n",
              "// Listen for the clearing of the current output cell\n",
              "var outputEl = gd.closest('.output');\n",
              "if (outputEl) {{\n",
              "    x.observe(outputEl, {childList: true});\n",
              "}}\n",
              "\n",
              "                        })                };                            </script>        </div>\n",
              "</body>\n",
              "</html>"
            ]
          },
          "metadata": {},
          "output_type": "display_data"
        }
      ],
      "source": [
        "fig4 = go.Figure(data=[go.Surface(z = np.resize(avgValAccs4,(2, 2)), \n",
        "                                 x = np.array(gammas), \n",
        "                                 y = np.array(learning_rates))])\n",
        "fig4.update_layout(scene = dict(\n",
        "                    xaxis=dict(dtick = 1, type = 'log'),\n",
        "                    xaxis_title = 'Gamma parameter',\n",
        "                    yaxis_title = 'Learning Rate',\n",
        "                    zaxis_title = 'Validation accuracy'),\n",
        "                  title = 'MLP: Average 2-fold validation accuracy (leakyReLu, depth 2, batchSize 32)', \n",
        "                  autosize = False,\n",
        "                  width = 600, \n",
        "                  height = 600)\n",
        "fig4.show()"
      ]
    },
    {
      "cell_type": "markdown",
      "metadata": {
        "id": "-MWlgUE1bXHF"
      },
      "source": [
        "###3.3: Dropout regularization\n",
        "\n",
        "We now build an MLP with 2 hidden layers of width 128 with ReLu activations, but now we perform dropout regularization to the network. This means that we randomly set a given proportion $p$ of activations to be zero. \n",
        "\n",
        "We first perform hyperparameter tuning on the dropout rate for a MLP of depth 1 and width 128 with ReLu activations. "
      ]
    },
    {
      "cell_type": "code",
      "execution_count": null,
      "metadata": {
        "colab": {
          "base_uri": "https://localhost:8080/"
        },
        "id": "hoMJJh9uUXMu",
        "outputId": "7bbf6a65-34f1-4d00-e2c9-726867bfc9a0"
      },
      "outputs": [
        {
          "output_type": "stream",
          "name": "stdout",
          "text": [
            "Hyperparameter tuning: Round 0 \n",
            "\tHyperparameter: {'activations': [<__main__.activation object at 0x7fee2118c2d0>], 'depth': 1, 'widths': [128], 'dropout_rate': 0.1, 'learning_rate': 0.1, 'max_iters': 15000, 'epsilon': 1e-05, 'batchSize': 32}\n",
            "\tTrain Accuracies:  [0.93303333 0.95606667] \n",
            "\tValid Accuracies:  [0.86466667 0.87503333]\n",
            "Hyperparameter tuning: Round 1 \n",
            "\tHyperparameter: {'activations': [<__main__.activation object at 0x7fee2118c2d0>], 'depth': 1, 'widths': [128], 'dropout_rate': 0.25, 'learning_rate': 0.1, 'max_iters': 15000, 'epsilon': 1e-05, 'batchSize': 32}\n",
            "\tTrain Accuracies:  [0.95353333 0.95813333] \n",
            "\tValid Accuracies:  [0.8702     0.87766667]\n",
            "Hyperparameter tuning: Round 2 \n",
            "\tHyperparameter: {'activations': [<__main__.activation object at 0x7fee2118c2d0>], 'depth': 1, 'widths': [128], 'dropout_rate': 0.35, 'learning_rate': 0.1, 'max_iters': 15000, 'epsilon': 1e-05, 'batchSize': 32}\n",
            "\tTrain Accuracies:  [0.94553333 0.95323333] \n",
            "\tValid Accuracies:  [0.86666667 0.87916667]\n",
            "Hyperparameter tuning: Round 3 \n",
            "\tHyperparameter: {'activations': [<__main__.activation object at 0x7fee2118c2d0>], 'depth': 1, 'widths': [128], 'dropout_rate': 0.5, 'learning_rate': 0.1, 'max_iters': 15000, 'epsilon': 1e-05, 'batchSize': 32}\n",
            "\tTrain Accuracies:  [0.95713333 0.94713333] \n",
            "\tValid Accuracies:  [0.8737     0.86553333]\n",
            "Optimal hyperparameters:  {'activations': [<__main__.activation object at 0x7fee1e013490>], 'depth': 1, 'widths': [128], 'dropout_rate': 0.25, 'learning_rate': 0.1, 'max_iters': 15000, 'epsilon': 1e-05, 'batchSize': 32}\n",
            "Average validation accuracy with optimal hyperparameters:  0.8739333333333333\n",
            "Average training accuracy with optimal hyperparameters:  0.9558333333333333\n"
          ]
        }
      ],
      "source": [
        "\n",
        "dropout_rates = [.1, .25, .35, .5]\n",
        "hyperparameters5a = [dict(activations = [ReLuAc], depth = 1, widths = [128], dropout_rate = d,\n",
        "                        learning_rate = 0.1, max_iters = 15000, epsilon = 1e-5, batchSize = 32\n",
        "                        ) for d in dropout_rates]\n",
        "\n",
        "# Perform hyperparameter tuning on MLP with depth 1\n",
        "avgValAccs5a, c, optParameter5a, optValidAcc5a, optTrainAcc5a = hyperparameterTuning(\n",
        "    fashionMNIST,2,hyperparameters5a)\n",
        "\n",
        "print(\"Optimal hyperparameters: \", optParameter5a)\n",
        "print(\"Average validation accuracy with optimal hyperparameters: \", optValidAcc5a)\n",
        "print(\"Average training accuracy with optimal hyperparameters: \", optTrainAcc5a)"
      ]
    },
    {
      "cell_type": "code",
      "execution_count": null,
      "metadata": {
        "colab": {
          "base_uri": "https://localhost:8080/",
          "height": 295
        },
        "id": "k7wJZgKxUXB9",
        "outputId": "e3f7afb2-13d4-40d6-df1c-a4ed300e85b4"
      },
      "outputs": [
        {
          "output_type": "display_data",
          "data": {
            "text/plain": [
              "<Figure size 432x288 with 1 Axes>"
            ],
            "image/png": "[encoded data removed]"
          },
          "metadata": {
            "needs_background": "light"
          }
        }
      ],
      "source": [
        "# Plot train/test accuracies for each epoch\n",
        "plt.plot()\n",
        "plt.scatter(dropout_rates, avgValAccs5a,label='Training accuracy',c='orange',alpha=0.7)\n",
        "plt.plot(dropout_rates, avgValAccs5a,'orange',alpha=0.7)\n",
        "plt.scatter(dropout_rates, avgValAccs5a,label='Validation accuracy',c='teal',alpha=0.7)\n",
        "plt.plot(dropout_rates, avgValAccs5a,'teal',alpha=0.7)\n",
        "plt.title('Training and validation accuracies with respect to dropout rate for 1-layer MLP')\n",
        "plt.xlabel('Dropout rate')\n",
        "plt.ylabel('Accuracy')\n",
        "plt.xlim(0, max(dropout_rates))\n",
        "plt.legend()\n",
        "plt.show()"
      ]
    },
    {
      "cell_type": "markdown",
      "metadata": {
        "id": "zU4EhvvTUXu_"
      },
      "source": [
        "We also perform hyperparameter tuning on the dropout rate for a MLP of depth 2 and width [128, 128] with ReLu activations. "
      ]
    },
    {
      "cell_type": "code",
      "execution_count": null,
      "metadata": {
        "colab": {
          "base_uri": "https://localhost:8080/"
        },
        "id": "BV_VN_ZUcibT",
        "outputId": "da93cdc9-fe1d-4636-f9ab-6be1de7c7c91"
      },
      "outputs": [
        {
          "name": "stdout",
          "output_type": "stream",
          "text": [
            "Hyperparameter tuning: Round 0 \n",
            "\tHyperparameter: {'activations': [<__main__.activation object at 0x7fc3e5bb4bd0>, <__main__.activation object at 0x7fc3e5bb4bd0>], 'depth': 2, 'widths': [128, 128], 'dropout_rate': 0.1, 'learning_rate': 0.01, 'max_iters': 10000, 'epsilon': 1e-05, 'batchSize': 32}\n",
            "\tTrain Accuracies:  [0.88533333 0.8848    ] \n",
            "\tValid Accuracies:  [0.86763333 0.86096667]\n",
            "Hyperparameter tuning: Round 1 \n",
            "\tHyperparameter: {'activations': [<__main__.activation object at 0x7fc3e5bb4bd0>, <__main__.activation object at 0x7fc3e5bb4bd0>], 'depth': 2, 'widths': [128, 128], 'dropout_rate': 0.1, 'learning_rate': 0.1, 'max_iters': 10000, 'epsilon': 1e-05, 'batchSize': 32}\n",
            "\tTrain Accuracies:  [0.93553333 0.924     ] \n",
            "\tValid Accuracies:  [0.8772     0.86723333]\n",
            "Hyperparameter tuning: Round 2 \n",
            "\tHyperparameter: {'activations': [<__main__.activation object at 0x7fc3e5bb4bd0>, <__main__.activation object at 0x7fc3e5bb4bd0>], 'depth': 2, 'widths': [128, 128], 'dropout_rate': 0.25, 'learning_rate': 0.01, 'max_iters': 10000, 'epsilon': 1e-05, 'batchSize': 32}\n",
            "\tTrain Accuracies:  [0.8863     0.88173333] \n",
            "\tValid Accuracies:  [0.8663     0.86873333]\n",
            "Hyperparameter tuning: Round 3 \n",
            "\tHyperparameter: {'activations': [<__main__.activation object at 0x7fc3e5bb4bd0>, <__main__.activation object at 0x7fc3e5bb4bd0>], 'depth': 2, 'widths': [128, 128], 'dropout_rate': 0.25, 'learning_rate': 0.1, 'max_iters': 10000, 'epsilon': 1e-05, 'batchSize': 32}\n",
            "\tTrain Accuracies:  [0.92763333 0.93306667] \n",
            "\tValid Accuracies:  [0.8742 0.8835]\n",
            "Hyperparameter tuning: Round 4 \n",
            "\tHyperparameter: {'activations': [<__main__.activation object at 0x7fc3e5bb4bd0>, <__main__.activation object at 0x7fc3e5bb4bd0>], 'depth': 2, 'widths': [128, 128], 'dropout_rate': 0.35, 'learning_rate': 0.01, 'max_iters': 10000, 'epsilon': 1e-05, 'batchSize': 32}\n",
            "\tTrain Accuracies:  [0.884      0.87613333] \n",
            "\tValid Accuracies:  [0.8643     0.86023333]\n",
            "Hyperparameter tuning: Round 5 \n",
            "\tHyperparameter: {'activations': [<__main__.activation object at 0x7fc3e5bb4bd0>, <__main__.activation object at 0x7fc3e5bb4bd0>], 'depth': 2, 'widths': [128, 128], 'dropout_rate': 0.35, 'learning_rate': 0.1, 'max_iters': 10000, 'epsilon': 1e-05, 'batchSize': 32}\n",
            "\tTrain Accuracies:  [0.92593333 0.92903333] \n",
            "\tValid Accuracies:  [0.87383333 0.87186667]\n",
            "Hyperparameter tuning: Round 6 \n",
            "\tHyperparameter: {'activations': [<__main__.activation object at 0x7fc3e5bb4bd0>, <__main__.activation object at 0x7fc3e5bb4bd0>], 'depth': 2, 'widths': [128, 128], 'dropout_rate': 0.5, 'learning_rate': 0.01, 'max_iters': 10000, 'epsilon': 1e-05, 'batchSize': 32}\n",
            "\tTrain Accuracies:  [0.88033333 0.87916667] \n",
            "\tValid Accuracies:  [0.86406667 0.86193333]\n",
            "Hyperparameter tuning: Round 7 \n",
            "\tHyperparameter: {'activations': [<__main__.activation object at 0x7fc3e5bb4bd0>, <__main__.activation object at 0x7fc3e5bb4bd0>], 'depth': 2, 'widths': [128, 128], 'dropout_rate': 0.5, 'learning_rate': 0.1, 'max_iters': 10000, 'epsilon': 1e-05, 'batchSize': 32}\n",
            "\tTrain Accuracies:  [0.93596667 0.92276667] \n",
            "\tValid Accuracies:  [0.8805     0.86846667]\n",
            "Optimal hyperparameters:  {'activations': [<__main__.activation object at 0x7fc3e4f1f110>, <__main__.activation object at 0x7fc3e4f1f110>], 'depth': 2, 'widths': [128, 128], 'dropout_rate': 0.25, 'learning_rate': 0.1, 'max_iters': 10000, 'epsilon': 1e-05, 'batchSize': 32}\n",
            "Average validation accuracy with optimal hyperparameters:  0.8788499999999999\n",
            "Average training accuracy with optimal hyperparameters:  0.93035\n"
          ]
        }
      ],
      "source": [
        "dropout_rates = [.1, .25, .35, .5]\n",
        "learning_rates = [.01, .1]\n",
        "hyperparameters5 = [dict(activations = [ReLuAc, ReLuAc], depth = 2, widths = [128, 128], dropout_rate = d,\n",
        "                        learning_rate = L, max_iters = 10000, epsilon = 1e-5, batchSize = 32\n",
        "                        ) for d in dropout_rates for L in learning_rates]\n",
        "\n",
        "# Perform hyperparameter tuning on MLP with depth 2\n",
        "avgValAccs5, avgTrainAccs5, optParameter5, optValidAcc5, optTrainAcc5 = hyperparameterTuning(\n",
        "    fashionMNIST,2,hyperparameters5)\n",
        "\n",
        "print(\"Optimal hyperparameters: \", optParameter5)\n",
        "print(\"Average validation accuracy with optimal hyperparameters: \", optValidAcc5)\n",
        "print(\"Average training accuracy with optimal hyperparameters: \", optTrainAcc5)"
      ]
    },
    {
      "cell_type": "code",
      "execution_count": null,
      "metadata": {
        "colab": {
          "base_uri": "https://localhost:8080/",
          "height": 617
        },
        "id": "9cWeCNZDxNZt",
        "outputId": "9725f51a-a5a7-405b-885a-a3bafff16b0f"
      },
      "outputs": [
        {
          "data": {
            "text/html": [
              "<html>\n",
              "<head><meta charset=\"utf-8\" /></head>\n",
              "<body>\n",
              "    <div>            <script src=\"https://cdnjs.cloudflare.com/ajax/libs/mathjax/2.7.5/MathJax.js?config=TeX-AMS-MML_SVG\"></script><script type=\"text/javascript\">if (window.MathJax) {MathJax.Hub.Config({SVG: {font: \"STIX-Web\"}});}</script>                <script type=\"text/javascript\">window.PlotlyConfig = {MathJaxConfig: 'local'};</script>\n",
              "        <script src=\"https://cdn.plot.ly/plotly-2.8.3.min.js\"></script>                <div id=\"a939bc99-5118-43cd-9550-fb3d769fd01f\" class=\"plotly-graph-div\" style=\"height:600px; width:600px;\"></div>            <script type=\"text/javascript\">                                    window.PLOTLYENV=window.PLOTLYENV || {};                                    if (document.getElementById(\"a939bc99-5118-43cd-9550-fb3d769fd01f\")) {                    Plotly.newPlot(                        \"a939bc99-5118-43cd-9550-fb3d769fd01f\",                        [{\"x\":[0.1,0.25,0.35,0.5],\"y\":[0.01,0.1],\"z\":[[0.8643000000000001,0.8722166666666666],[0.8675166666666667,0.8788499999999999],[0.8622666666666666,0.87285],[0.863,0.8744833333333333]],\"type\":\"surface\"}],                        {\"template\":{\"data\":{\"bar\":[{\"error_x\":{\"color\":\"#2a3f5f\"},\"error_y\":{\"color\":\"#2a3f5f\"},\"marker\":{\"line\":{\"color\":\"#E5ECF6\",\"width\":0.5},\"pattern\":{\"fillmode\":\"overlay\",\"size\":10,\"solidity\":0.2}},\"type\":\"bar\"}],\"barpolar\":[{\"marker\":{\"line\":{\"color\":\"#E5ECF6\",\"width\":0.5},\"pattern\":{\"fillmode\":\"overlay\",\"size\":10,\"solidity\":0.2}},\"type\":\"barpolar\"}],\"carpet\":[{\"aaxis\":{\"endlinecolor\":\"#2a3f5f\",\"gridcolor\":\"white\",\"linecolor\":\"white\",\"minorgridcolor\":\"white\",\"startlinecolor\":\"#2a3f5f\"},\"baxis\":{\"endlinecolor\":\"#2a3f5f\",\"gridcolor\":\"white\",\"linecolor\":\"white\",\"minorgridcolor\":\"white\",\"startlinecolor\":\"#2a3f5f\"},\"type\":\"carpet\"}],\"choropleth\":[{\"colorbar\":{\"outlinewidth\":0,\"ticks\":\"\"},\"type\":\"choropleth\"}],\"contour\":[{\"colorbar\":{\"outlinewidth\":0,\"ticks\":\"\"},\"colorscale\":[[0.0,\"#0d0887\"],[0.1111111111111111,\"#46039f\"],[0.2222222222222222,\"#7201a8\"],[0.3333333333333333,\"#9c179e\"],[0.4444444444444444,\"#bd3786\"],[0.5555555555555556,\"#d8576b\"],[0.6666666666666666,\"#ed7953\"],[0.7777777777777778,\"#fb9f3a\"],[0.8888888888888888,\"#fdca26\"],[1.0,\"#f0f921\"]],\"type\":\"contour\"}],\"contourcarpet\":[{\"colorbar\":{\"outlinewidth\":0,\"ticks\":\"\"},\"type\":\"contourcarpet\"}],\"heatmap\":[{\"colorbar\":{\"outlinewidth\":0,\"ticks\":\"\"},\"colorscale\":[[0.0,\"#0d0887\"],[0.1111111111111111,\"#46039f\"],[0.2222222222222222,\"#7201a8\"],[0.3333333333333333,\"#9c179e\"],[0.4444444444444444,\"#bd3786\"],[0.5555555555555556,\"#d8576b\"],[0.6666666666666666,\"#ed7953\"],[0.7777777777777778,\"#fb9f3a\"],[0.8888888888888888,\"#fdca26\"],[1.0,\"#f0f921\"]],\"type\":\"heatmap\"}],\"heatmapgl\":[{\"colorbar\":{\"outlinewidth\":0,\"ticks\":\"\"},\"colorscale\":[[0.0,\"#0d0887\"],[0.1111111111111111,\"#46039f\"],[0.2222222222222222,\"#7201a8\"],[0.3333333333333333,\"#9c179e\"],[0.4444444444444444,\"#bd3786\"],[0.5555555555555556,\"#d8576b\"],[0.6666666666666666,\"#ed7953\"],[0.7777777777777778,\"#fb9f3a\"],[0.8888888888888888,\"#fdca26\"],[1.0,\"#f0f921\"]],\"type\":\"heatmapgl\"}],\"histogram\":[{\"marker\":{\"pattern\":{\"fillmode\":\"overlay\",\"size\":10,\"solidity\":0.2}},\"type\":\"histogram\"}],\"histogram2d\":[{\"colorbar\":{\"outlinewidth\":0,\"ticks\":\"\"},\"colorscale\":[[0.0,\"#0d0887\"],[0.1111111111111111,\"#46039f\"],[0.2222222222222222,\"#7201a8\"],[0.3333333333333333,\"#9c179e\"],[0.4444444444444444,\"#bd3786\"],[0.5555555555555556,\"#d8576b\"],[0.6666666666666666,\"#ed7953\"],[0.7777777777777778,\"#fb9f3a\"],[0.8888888888888888,\"#fdca26\"],[1.0,\"#f0f921\"]],\"type\":\"histogram2d\"}],\"histogram2dcontour\":[{\"colorbar\":{\"outlinewidth\":0,\"ticks\":\"\"},\"colorscale\":[[0.0,\"#0d0887\"],[0.1111111111111111,\"#46039f\"],[0.2222222222222222,\"#7201a8\"],[0.3333333333333333,\"#9c179e\"],[0.4444444444444444,\"#bd3786\"],[0.5555555555555556,\"#d8576b\"],[0.6666666666666666,\"#ed7953\"],[0.7777777777777778,\"#fb9f3a\"],[0.8888888888888888,\"#fdca26\"],[1.0,\"#f0f921\"]],\"type\":\"histogram2dcontour\"}],\"mesh3d\":[{\"colorbar\":{\"outlinewidth\":0,\"ticks\":\"\"},\"type\":\"mesh3d\"}],\"parcoords\":[{\"line\":{\"colorbar\":{\"outlinewidth\":0,\"ticks\":\"\"}},\"type\":\"parcoords\"}],\"pie\":[{\"automargin\":true,\"type\":\"pie\"}],\"scatter\":[{\"marker\":{\"colorbar\":{\"outlinewidth\":0,\"ticks\":\"\"}},\"type\":\"scatter\"}],\"scatter3d\":[{\"line\":{\"colorbar\":{\"outlinewidth\":0,\"ticks\":\"\"}},\"marker\":{\"colorbar\":{\"outlinewidth\":0,\"ticks\":\"\"}},\"type\":\"scatter3d\"}],\"scattercarpet\":[{\"marker\":{\"colorbar\":{\"outlinewidth\":0,\"ticks\":\"\"}},\"type\":\"scattercarpet\"}],\"scattergeo\":[{\"marker\":{\"colorbar\":{\"outlinewidth\":0,\"ticks\":\"\"}},\"type\":\"scattergeo\"}],\"scattergl\":[{\"marker\":{\"colorbar\":{\"outlinewidth\":0,\"ticks\":\"\"}},\"type\":\"scattergl\"}],\"scattermapbox\":[{\"marker\":{\"colorbar\":{\"outlinewidth\":0,\"ticks\":\"\"}},\"type\":\"scattermapbox\"}],\"scatterpolar\":[{\"marker\":{\"colorbar\":{\"outlinewidth\":0,\"ticks\":\"\"}},\"type\":\"scatterpolar\"}],\"scatterpolargl\":[{\"marker\":{\"colorbar\":{\"outlinewidth\":0,\"ticks\":\"\"}},\"type\":\"scatterpolargl\"}],\"scatterternary\":[{\"marker\":{\"colorbar\":{\"outlinewidth\":0,\"ticks\":\"\"}},\"type\":\"scatterternary\"}],\"surface\":[{\"colorbar\":{\"outlinewidth\":0,\"ticks\":\"\"},\"colorscale\":[[0.0,\"#0d0887\"],[0.1111111111111111,\"#46039f\"],[0.2222222222222222,\"#7201a8\"],[0.3333333333333333,\"#9c179e\"],[0.4444444444444444,\"#bd3786\"],[0.5555555555555556,\"#d8576b\"],[0.6666666666666666,\"#ed7953\"],[0.7777777777777778,\"#fb9f3a\"],[0.8888888888888888,\"#fdca26\"],[1.0,\"#f0f921\"]],\"type\":\"surface\"}],\"table\":[{\"cells\":{\"fill\":{\"color\":\"#EBF0F8\"},\"line\":{\"color\":\"white\"}},\"header\":{\"fill\":{\"color\":\"#C8D4E3\"},\"line\":{\"color\":\"white\"}},\"type\":\"table\"}]},\"layout\":{\"annotationdefaults\":{\"arrowcolor\":\"#2a3f5f\",\"arrowhead\":0,\"arrowwidth\":1},\"autotypenumbers\":\"strict\",\"coloraxis\":{\"colorbar\":{\"outlinewidth\":0,\"ticks\":\"\"}},\"colorscale\":{\"diverging\":[[0,\"#8e0152\"],[0.1,\"#c51b7d\"],[0.2,\"#de77ae\"],[0.3,\"#f1b6da\"],[0.4,\"#fde0ef\"],[0.5,\"#f7f7f7\"],[0.6,\"#e6f5d0\"],[0.7,\"#b8e186\"],[0.8,\"#7fbc41\"],[0.9,\"#4d9221\"],[1,\"#276419\"]],\"sequential\":[[0.0,\"#0d0887\"],[0.1111111111111111,\"#46039f\"],[0.2222222222222222,\"#7201a8\"],[0.3333333333333333,\"#9c179e\"],[0.4444444444444444,\"#bd3786\"],[0.5555555555555556,\"#d8576b\"],[0.6666666666666666,\"#ed7953\"],[0.7777777777777778,\"#fb9f3a\"],[0.8888888888888888,\"#fdca26\"],[1.0,\"#f0f921\"]],\"sequentialminus\":[[0.0,\"#0d0887\"],[0.1111111111111111,\"#46039f\"],[0.2222222222222222,\"#7201a8\"],[0.3333333333333333,\"#9c179e\"],[0.4444444444444444,\"#bd3786\"],[0.5555555555555556,\"#d8576b\"],[0.6666666666666666,\"#ed7953\"],[0.7777777777777778,\"#fb9f3a\"],[0.8888888888888888,\"#fdca26\"],[1.0,\"#f0f921\"]]},\"colorway\":[\"#636efa\",\"#EF553B\",\"#00cc96\",\"#ab63fa\",\"#FFA15A\",\"#19d3f3\",\"#FF6692\",\"#B6E880\",\"#FF97FF\",\"#FECB52\"],\"font\":{\"color\":\"#2a3f5f\"},\"geo\":{\"bgcolor\":\"white\",\"lakecolor\":\"white\",\"landcolor\":\"#E5ECF6\",\"showlakes\":true,\"showland\":true,\"subunitcolor\":\"white\"},\"hoverlabel\":{\"align\":\"left\"},\"hovermode\":\"closest\",\"mapbox\":{\"style\":\"light\"},\"paper_bgcolor\":\"white\",\"plot_bgcolor\":\"#E5ECF6\",\"polar\":{\"angularaxis\":{\"gridcolor\":\"white\",\"linecolor\":\"white\",\"ticks\":\"\"},\"bgcolor\":\"#E5ECF6\",\"radialaxis\":{\"gridcolor\":\"white\",\"linecolor\":\"white\",\"ticks\":\"\"}},\"scene\":{\"xaxis\":{\"backgroundcolor\":\"#E5ECF6\",\"gridcolor\":\"white\",\"gridwidth\":2,\"linecolor\":\"white\",\"showbackground\":true,\"ticks\":\"\",\"zerolinecolor\":\"white\"},\"yaxis\":{\"backgroundcolor\":\"#E5ECF6\",\"gridcolor\":\"white\",\"gridwidth\":2,\"linecolor\":\"white\",\"showbackground\":true,\"ticks\":\"\",\"zerolinecolor\":\"white\"},\"zaxis\":{\"backgroundcolor\":\"#E5ECF6\",\"gridcolor\":\"white\",\"gridwidth\":2,\"linecolor\":\"white\",\"showbackground\":true,\"ticks\":\"\",\"zerolinecolor\":\"white\"}},\"shapedefaults\":{\"line\":{\"color\":\"#2a3f5f\"}},\"ternary\":{\"aaxis\":{\"gridcolor\":\"white\",\"linecolor\":\"white\",\"ticks\":\"\"},\"baxis\":{\"gridcolor\":\"white\",\"linecolor\":\"white\",\"ticks\":\"\"},\"bgcolor\":\"#E5ECF6\",\"caxis\":{\"gridcolor\":\"white\",\"linecolor\":\"white\",\"ticks\":\"\"}},\"title\":{\"x\":0.05},\"xaxis\":{\"automargin\":true,\"gridcolor\":\"white\",\"linecolor\":\"white\",\"ticks\":\"\",\"title\":{\"standoff\":15},\"zerolinecolor\":\"white\",\"zerolinewidth\":2},\"yaxis\":{\"automargin\":true,\"gridcolor\":\"white\",\"linecolor\":\"white\",\"ticks\":\"\",\"title\":{\"standoff\":15},\"zerolinecolor\":\"white\",\"zerolinewidth\":2}}},\"scene\":{\"xaxis\":{\"dtick\":1,\"type\":\"log\",\"title\":{\"text\":\"Dropout rate\"}},\"yaxis\":{\"title\":{\"text\":\"Learning Rate\"}},\"zaxis\":{\"title\":{\"text\":\"Validation accuracy\"}}},\"title\":{\"text\":\"MLP: Average 2-fold validation accuracy (ReLu, depth 2, batchSize 32)\"},\"autosize\":false,\"width\":600,\"height\":600},                        {\"responsive\": true}                    ).then(function(){\n",
              "                            \n",
              "var gd = document.getElementById('a939bc99-5118-43cd-9550-fb3d769fd01f');\n",
              "var x = new MutationObserver(function (mutations, observer) {{\n",
              "        var display = window.getComputedStyle(gd).display;\n",
              "        if (!display || display === 'none') {{\n",
              "            console.log([gd, 'removed!']);\n",
              "            Plotly.purge(gd);\n",
              "            observer.disconnect();\n",
              "        }}\n",
              "}});\n",
              "\n",
              "// Listen for the removal of the full notebook cells\n",
              "var notebookContainer = gd.closest('#notebook-container');\n",
              "if (notebookContainer) {{\n",
              "    x.observe(notebookContainer, {childList: true});\n",
              "}}\n",
              "\n",
              "// Listen for the clearing of the current output cell\n",
              "var outputEl = gd.closest('.output');\n",
              "if (outputEl) {{\n",
              "    x.observe(outputEl, {childList: true});\n",
              "}}\n",
              "\n",
              "                        })                };                            </script>        </div>\n",
              "</body>\n",
              "</html>"
            ]
          },
          "metadata": {},
          "output_type": "display_data"
        }
      ],
      "source": [
        "fig5 = go.Figure(data=[go.Surface(z = np.resize(avgValAccs5,(4, 2)), \n",
        "                                 x = np.array(dropout_rates), \n",
        "                                 y = np.array(learning_rates))])\n",
        "fig5.update_layout(scene = dict(\n",
        "                    xaxis=dict(dtick = 1, type = 'log'),\n",
        "                    xaxis_title = 'Dropout rate',\n",
        "                    yaxis_title = 'Learning Rate',\n",
        "                    zaxis_title = 'Validation accuracy'),\n",
        "                  title = 'MLP: Average 2-fold validation accuracy (ReLu, depth 2, batchSize 32)', \n",
        "                  autosize = False,\n",
        "                  width = 600, \n",
        "                  height = 600)\n",
        "fig5.show()"
      ]
    },
    {
      "cell_type": "markdown",
      "metadata": {
        "id": "Y22oWw0EbdEk"
      },
      "source": [
        "### 3.4: Unnormalized images\n",
        "\n",
        "We now create an MLP with 2 hidden layers of width 128 with ReLu activations, but now we train it with unnormalized images. \n"
      ]
    },
    {
      "cell_type": "code",
      "execution_count": null,
      "metadata": {
        "colab": {
          "base_uri": "https://localhost:8080/"
        },
        "id": "zsDDtq6pdWSo",
        "outputId": "4d60865e-c7a2-4cb3-d10f-704e1d407def"
      },
      "outputs": [
        {
          "name": "stdout",
          "output_type": "stream",
          "text": [
            "Hyperparameter tuning: Round 0 \n",
            "\tHyperparameter: {'activations': [<__main__.activation object at 0x7fc3e5bb4bd0>, <__main__.activation object at 0x7fc3e5bb4bd0>], 'depth': 2, 'widths': [128, 128], 'dropout_rate': 0, 'learning_rate': 0.01, 'max_iters': 5000, 'epsilon': 1e-05, 'batchSize': 32}\n",
            "\tTrain Accuracies:  [0.86483333 0.8598    ] \n",
            "\tValid Accuracies:  [0.85536667 0.8417    ]\n",
            "Hyperparameter tuning: Round 1 \n",
            "\tHyperparameter: {'activations': [<__main__.activation object at 0x7fc3e5bb4bd0>, <__main__.activation object at 0x7fc3e5bb4bd0>], 'depth': 2, 'widths': [128, 128], 'dropout_rate': 0, 'learning_rate': 0.01, 'max_iters': 10000, 'epsilon': 1e-05, 'batchSize': 32}\n",
            "\tTrain Accuracies:  [0.8931     0.87526667] \n",
            "\tValid Accuracies:  [0.8727     0.85183333]\n",
            "Hyperparameter tuning: Round 2 \n",
            "\tHyperparameter: {'activations': [<__main__.activation object at 0x7fc3e5bb4bd0>, <__main__.activation object at 0x7fc3e5bb4bd0>], 'depth': 2, 'widths': [128, 128], 'dropout_rate': 0, 'learning_rate': 0.01, 'max_iters': 15000, 'epsilon': 1e-05, 'batchSize': 32}\n",
            "\tTrain Accuracies:  [0.89726667 0.4825    ] \n",
            "\tValid Accuracies:  [0.86463333 0.48236667]\n",
            "Hyperparameter tuning: Round 3 \n",
            "\tHyperparameter: {'activations': [<__main__.activation object at 0x7fc3e5bb4bd0>, <__main__.activation object at 0x7fc3e5bb4bd0>], 'depth': 2, 'widths': [128, 128], 'dropout_rate': 0, 'learning_rate': 0.1, 'max_iters': 5000, 'epsilon': 1e-05, 'batchSize': 32}\n"
          ]
        },
        {
          "name": "stderr",
          "output_type": "stream",
          "text": [
            "/usr/local/lib/python3.7/dist-packages/ipykernel_launcher.py:2: RuntimeWarning:\n",
            "\n",
            "overflow encountered in exp\n",
            "\n",
            "/usr/local/lib/python3.7/dist-packages/ipykernel_launcher.py:2: RuntimeWarning:\n",
            "\n",
            "invalid value encountered in true_divide\n",
            "\n"
          ]
        },
        {
          "name": "stdout",
          "output_type": "stream",
          "text": [
            "\tTrain Accuracies:  [0.10096667 0.09903333] \n",
            "\tValid Accuracies:  [0.09903333 0.10096667]\n",
            "Hyperparameter tuning: Round 4 \n",
            "\tHyperparameter: {'activations': [<__main__.activation object at 0x7fc3e5bb4bd0>, <__main__.activation object at 0x7fc3e5bb4bd0>], 'depth': 2, 'widths': [128, 128], 'dropout_rate': 0, 'learning_rate': 0.1, 'max_iters': 10000, 'epsilon': 1e-05, 'batchSize': 32}\n",
            "\tTrain Accuracies:  [0.09976667 0.10023333] \n",
            "\tValid Accuracies:  [0.10023333 0.09976667]\n",
            "Hyperparameter tuning: Round 5 \n",
            "\tHyperparameter: {'activations': [<__main__.activation object at 0x7fc3e5bb4bd0>, <__main__.activation object at 0x7fc3e5bb4bd0>], 'depth': 2, 'widths': [128, 128], 'dropout_rate': 0, 'learning_rate': 0.1, 'max_iters': 15000, 'epsilon': 1e-05, 'batchSize': 32}\n",
            "\tTrain Accuracies:  [0.0996 0.1004] \n",
            "\tValid Accuracies:  [0.1004 0.0996]\n",
            "Optimal hyperparameters:  {'activations': [<__main__.activation object at 0x7fc3e5aa6650>, <__main__.activation object at 0x7fc3e5aa6650>], 'depth': 2, 'widths': [128, 128], 'dropout_rate': 0, 'learning_rate': 0.01, 'max_iters': 10000, 'epsilon': 1e-05, 'batchSize': 32}\n",
            "Average validation accuracy with optimal hyperparameters:  0.8622666666666667\n",
            "Average training accuracy with optimal hyperparameters:  0.8841833333333333\n"
          ]
        }
      ],
      "source": [
        "# Hyperparameters: list of different parameter combinations\n",
        "learning_rates = [.01, .1]\n",
        "max_iters = [5000, 10000, 15000]\n",
        "hyperparameters6 = [dict(activations = [ReLuAc, ReLuAc], depth = 2, widths = [128, 128], dropout_rate = 0,\n",
        "                        learning_rate = L, max_iters = m, epsilon = 1e-5, batchSize = 32\n",
        "                        ) for L in learning_rates for m in max_iters]\n",
        "\n",
        "# Perform hyperparameter tuning on MLP with depth 2\n",
        "avgValAccs6, avgTrainAccs6, optParameter6, optValidAcc6, optTrainAcc6 = hyperparameterTuning(\n",
        "    unnormFashionMNIST,2,hyperparameters6)\n",
        "\n",
        "print(\"Optimal hyperparameters: \", optParameter6)\n",
        "print(\"Average validation accuracy with optimal hyperparameters: \", optValidAcc6)\n",
        "print(\"Average training accuracy with optimal hyperparameters: \", optTrainAcc6)"
      ]
    },
    {
      "cell_type": "code",
      "execution_count": null,
      "metadata": {
        "colab": {
          "base_uri": "https://localhost:8080/",
          "height": 617
        },
        "id": "5iYPbIbRyyNc",
        "outputId": "642be81c-6f6e-44db-9d0d-9276104825a2"
      },
      "outputs": [
        {
          "data": {
            "text/html": [
              "<html>\n",
              "<head><meta charset=\"utf-8\" /></head>\n",
              "<body>\n",
              "    <div>            <script src=\"https://cdnjs.cloudflare.com/ajax/libs/mathjax/2.7.5/MathJax.js?config=TeX-AMS-MML_SVG\"></script><script type=\"text/javascript\">if (window.MathJax) {MathJax.Hub.Config({SVG: {font: \"STIX-Web\"}});}</script>                <script type=\"text/javascript\">window.PlotlyConfig = {MathJaxConfig: 'local'};</script>\n",
              "        <script src=\"https://cdn.plot.ly/plotly-2.8.3.min.js\"></script>                <div id=\"1a38232b-db3d-4ffa-be02-7b8d69066fa6\" class=\"plotly-graph-div\" style=\"height:600px; width:600px;\"></div>            <script type=\"text/javascript\">                                    window.PLOTLYENV=window.PLOTLYENV || {};                                    if (document.getElementById(\"1a38232b-db3d-4ffa-be02-7b8d69066fa6\")) {                    Plotly.newPlot(                        \"1a38232b-db3d-4ffa-be02-7b8d69066fa6\",                        [{\"x\":[0.01,0.1],\"y\":[5000,10000,15000],\"z\":[[0.8485333333333334,0.8622666666666667,0.6735],[0.1,0.1,0.1]],\"type\":\"surface\"}],                        {\"template\":{\"data\":{\"bar\":[{\"error_x\":{\"color\":\"#2a3f5f\"},\"error_y\":{\"color\":\"#2a3f5f\"},\"marker\":{\"line\":{\"color\":\"#E5ECF6\",\"width\":0.5},\"pattern\":{\"fillmode\":\"overlay\",\"size\":10,\"solidity\":0.2}},\"type\":\"bar\"}],\"barpolar\":[{\"marker\":{\"line\":{\"color\":\"#E5ECF6\",\"width\":0.5},\"pattern\":{\"fillmode\":\"overlay\",\"size\":10,\"solidity\":0.2}},\"type\":\"barpolar\"}],\"carpet\":[{\"aaxis\":{\"endlinecolor\":\"#2a3f5f\",\"gridcolor\":\"white\",\"linecolor\":\"white\",\"minorgridcolor\":\"white\",\"startlinecolor\":\"#2a3f5f\"},\"baxis\":{\"endlinecolor\":\"#2a3f5f\",\"gridcolor\":\"white\",\"linecolor\":\"white\",\"minorgridcolor\":\"white\",\"startlinecolor\":\"#2a3f5f\"},\"type\":\"carpet\"}],\"choropleth\":[{\"colorbar\":{\"outlinewidth\":0,\"ticks\":\"\"},\"type\":\"choropleth\"}],\"contour\":[{\"colorbar\":{\"outlinewidth\":0,\"ticks\":\"\"},\"colorscale\":[[0.0,\"#0d0887\"],[0.1111111111111111,\"#46039f\"],[0.2222222222222222,\"#7201a8\"],[0.3333333333333333,\"#9c179e\"],[0.4444444444444444,\"#bd3786\"],[0.5555555555555556,\"#d8576b\"],[0.6666666666666666,\"#ed7953\"],[0.7777777777777778,\"#fb9f3a\"],[0.8888888888888888,\"#fdca26\"],[1.0,\"#f0f921\"]],\"type\":\"contour\"}],\"contourcarpet\":[{\"colorbar\":{\"outlinewidth\":0,\"ticks\":\"\"},\"type\":\"contourcarpet\"}],\"heatmap\":[{\"colorbar\":{\"outlinewidth\":0,\"ticks\":\"\"},\"colorscale\":[[0.0,\"#0d0887\"],[0.1111111111111111,\"#46039f\"],[0.2222222222222222,\"#7201a8\"],[0.3333333333333333,\"#9c179e\"],[0.4444444444444444,\"#bd3786\"],[0.5555555555555556,\"#d8576b\"],[0.6666666666666666,\"#ed7953\"],[0.7777777777777778,\"#fb9f3a\"],[0.8888888888888888,\"#fdca26\"],[1.0,\"#f0f921\"]],\"type\":\"heatmap\"}],\"heatmapgl\":[{\"colorbar\":{\"outlinewidth\":0,\"ticks\":\"\"},\"colorscale\":[[0.0,\"#0d0887\"],[0.1111111111111111,\"#46039f\"],[0.2222222222222222,\"#7201a8\"],[0.3333333333333333,\"#9c179e\"],[0.4444444444444444,\"#bd3786\"],[0.5555555555555556,\"#d8576b\"],[0.6666666666666666,\"#ed7953\"],[0.7777777777777778,\"#fb9f3a\"],[0.8888888888888888,\"#fdca26\"],[1.0,\"#f0f921\"]],\"type\":\"heatmapgl\"}],\"histogram\":[{\"marker\":{\"pattern\":{\"fillmode\":\"overlay\",\"size\":10,\"solidity\":0.2}},\"type\":\"histogram\"}],\"histogram2d\":[{\"colorbar\":{\"outlinewidth\":0,\"ticks\":\"\"},\"colorscale\":[[0.0,\"#0d0887\"],[0.1111111111111111,\"#46039f\"],[0.2222222222222222,\"#7201a8\"],[0.3333333333333333,\"#9c179e\"],[0.4444444444444444,\"#bd3786\"],[0.5555555555555556,\"#d8576b\"],[0.6666666666666666,\"#ed7953\"],[0.7777777777777778,\"#fb9f3a\"],[0.8888888888888888,\"#fdca26\"],[1.0,\"#f0f921\"]],\"type\":\"histogram2d\"}],\"histogram2dcontour\":[{\"colorbar\":{\"outlinewidth\":0,\"ticks\":\"\"},\"colorscale\":[[0.0,\"#0d0887\"],[0.1111111111111111,\"#46039f\"],[0.2222222222222222,\"#7201a8\"],[0.3333333333333333,\"#9c179e\"],[0.4444444444444444,\"#bd3786\"],[0.5555555555555556,\"#d8576b\"],[0.6666666666666666,\"#ed7953\"],[0.7777777777777778,\"#fb9f3a\"],[0.8888888888888888,\"#fdca26\"],[1.0,\"#f0f921\"]],\"type\":\"histogram2dcontour\"}],\"mesh3d\":[{\"colorbar\":{\"outlinewidth\":0,\"ticks\":\"\"},\"type\":\"mesh3d\"}],\"parcoords\":[{\"line\":{\"colorbar\":{\"outlinewidth\":0,\"ticks\":\"\"}},\"type\":\"parcoords\"}],\"pie\":[{\"automargin\":true,\"type\":\"pie\"}],\"scatter\":[{\"marker\":{\"colorbar\":{\"outlinewidth\":0,\"ticks\":\"\"}},\"type\":\"scatter\"}],\"scatter3d\":[{\"line\":{\"colorbar\":{\"outlinewidth\":0,\"ticks\":\"\"}},\"marker\":{\"colorbar\":{\"outlinewidth\":0,\"ticks\":\"\"}},\"type\":\"scatter3d\"}],\"scattercarpet\":[{\"marker\":{\"colorbar\":{\"outlinewidth\":0,\"ticks\":\"\"}},\"type\":\"scattercarpet\"}],\"scattergeo\":[{\"marker\":{\"colorbar\":{\"outlinewidth\":0,\"ticks\":\"\"}},\"type\":\"scattergeo\"}],\"scattergl\":[{\"marker\":{\"colorbar\":{\"outlinewidth\":0,\"ticks\":\"\"}},\"type\":\"scattergl\"}],\"scattermapbox\":[{\"marker\":{\"colorbar\":{\"outlinewidth\":0,\"ticks\":\"\"}},\"type\":\"scattermapbox\"}],\"scatterpolar\":[{\"marker\":{\"colorbar\":{\"outlinewidth\":0,\"ticks\":\"\"}},\"type\":\"scatterpolar\"}],\"scatterpolargl\":[{\"marker\":{\"colorbar\":{\"outlinewidth\":0,\"ticks\":\"\"}},\"type\":\"scatterpolargl\"}],\"scatterternary\":[{\"marker\":{\"colorbar\":{\"outlinewidth\":0,\"ticks\":\"\"}},\"type\":\"scatterternary\"}],\"surface\":[{\"colorbar\":{\"outlinewidth\":0,\"ticks\":\"\"},\"colorscale\":[[0.0,\"#0d0887\"],[0.1111111111111111,\"#46039f\"],[0.2222222222222222,\"#7201a8\"],[0.3333333333333333,\"#9c179e\"],[0.4444444444444444,\"#bd3786\"],[0.5555555555555556,\"#d8576b\"],[0.6666666666666666,\"#ed7953\"],[0.7777777777777778,\"#fb9f3a\"],[0.8888888888888888,\"#fdca26\"],[1.0,\"#f0f921\"]],\"type\":\"surface\"}],\"table\":[{\"cells\":{\"fill\":{\"color\":\"#EBF0F8\"},\"line\":{\"color\":\"white\"}},\"header\":{\"fill\":{\"color\":\"#C8D4E3\"},\"line\":{\"color\":\"white\"}},\"type\":\"table\"}]},\"layout\":{\"annotationdefaults\":{\"arrowcolor\":\"#2a3f5f\",\"arrowhead\":0,\"arrowwidth\":1},\"autotypenumbers\":\"strict\",\"coloraxis\":{\"colorbar\":{\"outlinewidth\":0,\"ticks\":\"\"}},\"colorscale\":{\"diverging\":[[0,\"#8e0152\"],[0.1,\"#c51b7d\"],[0.2,\"#de77ae\"],[0.3,\"#f1b6da\"],[0.4,\"#fde0ef\"],[0.5,\"#f7f7f7\"],[0.6,\"#e6f5d0\"],[0.7,\"#b8e186\"],[0.8,\"#7fbc41\"],[0.9,\"#4d9221\"],[1,\"#276419\"]],\"sequential\":[[0.0,\"#0d0887\"],[0.1111111111111111,\"#46039f\"],[0.2222222222222222,\"#7201a8\"],[0.3333333333333333,\"#9c179e\"],[0.4444444444444444,\"#bd3786\"],[0.5555555555555556,\"#d8576b\"],[0.6666666666666666,\"#ed7953\"],[0.7777777777777778,\"#fb9f3a\"],[0.8888888888888888,\"#fdca26\"],[1.0,\"#f0f921\"]],\"sequentialminus\":[[0.0,\"#0d0887\"],[0.1111111111111111,\"#46039f\"],[0.2222222222222222,\"#7201a8\"],[0.3333333333333333,\"#9c179e\"],[0.4444444444444444,\"#bd3786\"],[0.5555555555555556,\"#d8576b\"],[0.6666666666666666,\"#ed7953\"],[0.7777777777777778,\"#fb9f3a\"],[0.8888888888888888,\"#fdca26\"],[1.0,\"#f0f921\"]]},\"colorway\":[\"#636efa\",\"#EF553B\",\"#00cc96\",\"#ab63fa\",\"#FFA15A\",\"#19d3f3\",\"#FF6692\",\"#B6E880\",\"#FF97FF\",\"#FECB52\"],\"font\":{\"color\":\"#2a3f5f\"},\"geo\":{\"bgcolor\":\"white\",\"lakecolor\":\"white\",\"landcolor\":\"#E5ECF6\",\"showlakes\":true,\"showland\":true,\"subunitcolor\":\"white\"},\"hoverlabel\":{\"align\":\"left\"},\"hovermode\":\"closest\",\"mapbox\":{\"style\":\"light\"},\"paper_bgcolor\":\"white\",\"plot_bgcolor\":\"#E5ECF6\",\"polar\":{\"angularaxis\":{\"gridcolor\":\"white\",\"linecolor\":\"white\",\"ticks\":\"\"},\"bgcolor\":\"#E5ECF6\",\"radialaxis\":{\"gridcolor\":\"white\",\"linecolor\":\"white\",\"ticks\":\"\"}},\"scene\":{\"xaxis\":{\"backgroundcolor\":\"#E5ECF6\",\"gridcolor\":\"white\",\"gridwidth\":2,\"linecolor\":\"white\",\"showbackground\":true,\"ticks\":\"\",\"zerolinecolor\":\"white\"},\"yaxis\":{\"backgroundcolor\":\"#E5ECF6\",\"gridcolor\":\"white\",\"gridwidth\":2,\"linecolor\":\"white\",\"showbackground\":true,\"ticks\":\"\",\"zerolinecolor\":\"white\"},\"zaxis\":{\"backgroundcolor\":\"#E5ECF6\",\"gridcolor\":\"white\",\"gridwidth\":2,\"linecolor\":\"white\",\"showbackground\":true,\"ticks\":\"\",\"zerolinecolor\":\"white\"}},\"shapedefaults\":{\"line\":{\"color\":\"#2a3f5f\"}},\"ternary\":{\"aaxis\":{\"gridcolor\":\"white\",\"linecolor\":\"white\",\"ticks\":\"\"},\"baxis\":{\"gridcolor\":\"white\",\"linecolor\":\"white\",\"ticks\":\"\"},\"bgcolor\":\"#E5ECF6\",\"caxis\":{\"gridcolor\":\"white\",\"linecolor\":\"white\",\"ticks\":\"\"}},\"title\":{\"x\":0.05},\"xaxis\":{\"automargin\":true,\"gridcolor\":\"white\",\"linecolor\":\"white\",\"ticks\":\"\",\"title\":{\"standoff\":15},\"zerolinecolor\":\"white\",\"zerolinewidth\":2},\"yaxis\":{\"automargin\":true,\"gridcolor\":\"white\",\"linecolor\":\"white\",\"ticks\":\"\",\"title\":{\"standoff\":15},\"zerolinecolor\":\"white\",\"zerolinewidth\":2}}},\"scene\":{\"xaxis\":{\"dtick\":1,\"type\":\"log\",\"title\":{\"text\":\"Learning rate\"}},\"yaxis\":{\"title\":{\"text\":\"Maximum number of iterations\"}},\"zaxis\":{\"title\":{\"text\":\"Validation accuracy\"}}},\"title\":{\"text\":\"MLP: Average 2-fold validation accuracy (unnormalized, ReLu, depth 2, batchSize 32)\"},\"autosize\":false,\"width\":600,\"height\":600},                        {\"responsive\": true}                    ).then(function(){\n",
              "                            \n",
              "var gd = document.getElementById('1a38232b-db3d-4ffa-be02-7b8d69066fa6');\n",
              "var x = new MutationObserver(function (mutations, observer) {{\n",
              "        var display = window.getComputedStyle(gd).display;\n",
              "        if (!display || display === 'none') {{\n",
              "            console.log([gd, 'removed!']);\n",
              "            Plotly.purge(gd);\n",
              "            observer.disconnect();\n",
              "        }}\n",
              "}});\n",
              "\n",
              "// Listen for the removal of the full notebook cells\n",
              "var notebookContainer = gd.closest('#notebook-container');\n",
              "if (notebookContainer) {{\n",
              "    x.observe(notebookContainer, {childList: true});\n",
              "}}\n",
              "\n",
              "// Listen for the clearing of the current output cell\n",
              "var outputEl = gd.closest('.output');\n",
              "if (outputEl) {{\n",
              "    x.observe(outputEl, {childList: true});\n",
              "}}\n",
              "\n",
              "                        })                };                            </script>        </div>\n",
              "</body>\n",
              "</html>"
            ]
          },
          "metadata": {},
          "output_type": "display_data"
        }
      ],
      "source": [
        "fig6 = go.Figure(data=[go.Surface(z = np.resize(avgValAccs6,(2, 3)), \n",
        "                                 x = np.array(learning_rates), \n",
        "                                 y = np.array(max_iters))])\n",
        "fig6.update_layout(scene = dict(\n",
        "                    xaxis=dict(dtick = 1, type = 'log'),\n",
        "                    xaxis_title = 'Learning rate',\n",
        "                    yaxis_title = 'Maximum number of iterations',\n",
        "                    zaxis_title = 'Validation accuracy'),\n",
        "                  title = 'MLP: Average 2-fold validation accuracy (unnormalized, ReLu, depth 2, batchSize 32)', \n",
        "                  autosize = False,\n",
        "                  width = 600, \n",
        "                  height = 600)\n",
        "fig6.show()"
      ]
    },
    {
      "cell_type": "markdown",
      "metadata": {
        "id": "-A648RqNbmxA"
      },
      "source": [
        "### 3.5: Optimal MLP architecture\n",
        "\n",
        "After trying out various parameter, we select the MLP model with the highest test accuracy. We then compare the accuracies of the CNN model with this optimal MLP model."
      ]
    },
    {
      "cell_type": "code",
      "execution_count": null,
      "metadata": {
        "id": "uIOqNroaLh9y"
      },
      "outputs": [],
      "source": [
        "class GradientDescentBis:\n",
        "  def __init__(self, learning_rate=.001, max_iters=1e5, epsilon=1e-5, batchSize=32):\n",
        "    self.learning_rate = learning_rate\n",
        "    self.max_iters = max_iters\n",
        "    self.epsilon = epsilon\n",
        "    self.batchSize = batchSize\n",
        "        \n",
        "  def run(self, gradient_fn, x, y, activations, weights, biases, depth):\n",
        "    # Train/test accuracies for each epoch\n",
        "    trainAccs = []\n",
        "    testAccs = []\n",
        "\n",
        "    # Separate data into mini batches\n",
        "    batches = mini_batches(x,y,self.batchSize)\n",
        "    norms = np.array([np.inf])\n",
        "    t = 0\n",
        "    batchIdx = 0\n",
        "\n",
        "    # While gradient norms are non-null, and iterations left\n",
        "    while np.any(norms > self.epsilon) and t < self.max_iters:\n",
        "\n",
        "      # If we have used all batches, save accuracies and make new random batches\n",
        "      if (batchIdx >= len(batches)): \n",
        "        # Save training accuracy for the past epoch\n",
        "        trainPred = np.zeros((trainData.shape[0], trainLabels.shape[1])) \n",
        "        for n in range(trainData.shape[0]):\n",
        "            _, Ztrain = feed_forward(trainData[n], activations, weights, biases, depth)\n",
        "            trainPred[n] = Ztrain[-1]\n",
        "        trainAccs.append(evaluate_acc(trainLabels, trainPred))\n",
        "\n",
        "        # Save testing accuracy for the past epoch\n",
        "        testPred = np.zeros((testData.shape[0], testLabels.shape[1])) \n",
        "        for n in range(testData.shape[0]):\n",
        "            _, Ztest = feed_forward(testData[n], activations, weights, biases, depth)\n",
        "            testPred[n] = Ztest[-1]\n",
        "        testAccs.append(evaluate_acc(testLabels, testPred))\n",
        "\n",
        "        # Make new random batches: \n",
        "        batches = mini_batches(x,y,self.batchSize)\n",
        "        batchIdx = 0\n",
        "\n",
        "      # Find weight/bias gradient on the batch\n",
        "      (X_batch, Y_batch) = batches[batchIdx]\n",
        "      weightGrad, biasGrad = gradient_fn(X_batch, Y_batch, activations, weights, biases)\n",
        "\n",
        "      # Apply gradient descent on weights and biases\n",
        "      for k in range(len(weights)):\n",
        "        weights[k] -= self.learning_rate * weightGrad[k] \n",
        "        biases[k] -= self.learning_rate * biasGrad[k] \n",
        "      t += 1\n",
        "      batchIdx += 1\n",
        "      norms = np.array([np.linalg.norm(g) for g in (weightGrad+biasGrad)])\n",
        "\n",
        "    return weights, biases, trainAccs, testAccs"
      ]
    },
    {
      "cell_type": "code",
      "execution_count": null,
      "metadata": {
        "colab": {
          "base_uri": "https://localhost:8080/",
          "height": 242
        },
        "id": "J92CqtrleIAW",
        "outputId": "bd4368ff-a85f-49d0-b739-a75184175c08"
      },
      "outputs": [
        {
          "ename": "AttributeError",
          "evalue": "ignored",
          "output_type": "error",
          "traceback": [
            "\u001b[0;31m---------------------------------------------------------------------------\u001b[0m",
            "\u001b[0;31mAttributeError\u001b[0m                            Traceback (most recent call last)",
            "\u001b[0;32m<ipython-input-52-156a469c75ba>\u001b[0m in \u001b[0;36m<module>\u001b[0;34m()\u001b[0m\n\u001b[1;32m     20\u001b[0m \u001b[0;31m# Run model on training data and get training accuracy\u001b[0m\u001b[0;34m\u001b[0m\u001b[0;34m\u001b[0m\u001b[0;34m\u001b[0m\u001b[0m\n\u001b[1;32m     21\u001b[0m \u001b[0mtrain_pred\u001b[0m \u001b[0;34m=\u001b[0m \u001b[0moptMLP\u001b[0m\u001b[0;34m.\u001b[0m\u001b[0mpredict\u001b[0m\u001b[0;34m(\u001b[0m\u001b[0mtrainData\u001b[0m\u001b[0;34m)\u001b[0m\u001b[0;34m\u001b[0m\u001b[0;34m\u001b[0m\u001b[0m\n\u001b[0;32m---> 22\u001b[0;31m \u001b[0mfinalTrainAcc\u001b[0m \u001b[0;34m=\u001b[0m \u001b[0moptMLP\u001b[0m\u001b[0;34m.\u001b[0m\u001b[0mevaluate_acc\u001b[0m\u001b[0;34m(\u001b[0m\u001b[0mtrain_pred\u001b[0m\u001b[0;34m,\u001b[0m\u001b[0mtrainLabels\u001b[0m\u001b[0;34m)\u001b[0m\u001b[0;34m\u001b[0m\u001b[0;34m\u001b[0m\u001b[0m\n\u001b[0m\u001b[1;32m     23\u001b[0m \u001b[0;34m\u001b[0m\u001b[0m\n\u001b[1;32m     24\u001b[0m \u001b[0;31m# Run model on test data and compute optimal test accuracy\u001b[0m\u001b[0;34m\u001b[0m\u001b[0;34m\u001b[0m\u001b[0;34m\u001b[0m\u001b[0m\n",
            "\u001b[0;31mAttributeError\u001b[0m: 'MLP' object has no attribute 'evaluate_acc'"
          ]
        }
      ],
      "source": [
        "# Select best hyperparameters with highest validation accuracy: Relu, depth 1\n",
        "bestValAccs = [optValidAcc0, optValidAcc1, optValidAcc2, optValidAcc3, optValidAcc4, optValidAcc5, optValidAcc6]\n",
        "bestParams = [optParameter0, optParameter1, optParameter2, optParameter3, optParameter4, optParameter5, optParameter6]\n",
        "optIdx = np.argmax(bestValAccs)\n",
        "optValAcc = bestValAccs[optIdx]\n",
        "optParameter = bestParams[optIdx]\n",
        "\n",
        "# Train model with best hyperparameters and whole training set\n",
        "hypMLP = {k : optParameter[k] for k in optParameter if k in paramMLP}\n",
        "hypGD = dict(\n",
        "    learning_rate = optParameter['learning_rate'],\n",
        "    max_iters = 20000,\n",
        "    epsilon = optParameter['epsilon'],\n",
        "    batchSize = optParameter['batchSize'],\n",
        ")\n",
        "optMLP = MLP(**hypMLP)\n",
        "optGD = GradientDescentBis(**hypGD)\n",
        "trainAccsEpochs, testAccsEpochs = optMLP.fit(trainData, trainLabels, optGD)  "
      ]
    },
    {
      "cell_type": "code",
      "execution_count": null,
      "metadata": {
        "colab": {
          "base_uri": "https://localhost:8080/"
        },
        "id": "E8qsAAZaqrec",
        "outputId": "1e7997ab-bf92-43d6-b090-24a4f2e79195"
      },
      "outputs": [
        {
          "name": "stdout",
          "output_type": "stream",
          "text": [
            "Optimal MLP model:\n",
            "\tHyperparameters: {'activations': [<__main__.activation object at 0x7fc3e5bb4dd0>, <__main__.activation object at 0x7fc3e5bb4f50>], 'depth': 1, 'widths': [784, 128, 10], 'dropout_rate': 0, 'learning_rate': 0.1, 'max_iters': 15000, 'epsilon': 1e-05, 'batchSize': 32} \n",
            "Training Accuracies: [0.8627166666666667, 0.8831, 0.9004166666666666, 0.9044166666666666, 0.9092333333333333, 0.9144333333333333, 0.91855, 0.9014333333333333, 0.9201833333333334, 0.9337333333333333] \n",
            "Testing Accuracies: [0.8432, 0.8553, 0.8746, 0.8717, 0.8713, 0.8746, 0.8705, 0.8546, 0.8766, 0.884]\n"
          ]
        }
      ],
      "source": [
        "print(\"Optimal MLP model:\\n\\tHyperparameters:\", optParameter, \n",
        "      \"\\nTraining Accuracies:\", trainAccsEpochs,\n",
        "      \"\\nTesting Accuracies:\", testAccsEpochs)"
      ]
    },
    {
      "cell_type": "markdown",
      "metadata": {
        "id": "j_j3SsXIeeCf"
      },
      "source": [
        "We plot the optimal MLP's training and testing accuracy as a function of the training epoch below. Note that one epoch corresponds to one forward/backward pass of the whole training set through the network. \n"
      ]
    },
    {
      "cell_type": "code",
      "execution_count": null,
      "metadata": {
        "colab": {
          "base_uri": "https://localhost:8080/",
          "height": 295
        },
        "id": "WBQBruRjttc-",
        "outputId": "58f338c1-9a65-48e8-b7a0-092a45759083"
      },
      "outputs": [
        {
          "data": {
            "image/png": "[encoded data removed]",
            "text/plain": [
              "<Figure size 432x288 with 1 Axes>"
            ]
          },
          "metadata": {},
          "output_type": "display_data"
        }
      ],
      "source": [
        "# Plot train/test accuracies for each epoch\n",
        "epochsMLP = list(range(len(trainAccsEpochs)))\n",
        "plt.plot()\n",
        "plt.scatter(epochsMLP, trainAccsEpochs,label='Training accuracy',c='orange',alpha=0.7)\n",
        "plt.plot(epochsMLP, trainAccsEpochs,'orange',alpha=0.7)\n",
        "plt.scatter(epochsMLP, testAccsEpochs,label='Testing accuracy',c='teal',alpha=0.7)\n",
        "plt.plot(epochsMLP, testAccsEpochs,'teal',alpha=0.7)\n",
        "plt.title('Training and testing accuracies with respect to number of epochs for optimal MLP')\n",
        "plt.xlabel('Number of epochs')\n",
        "plt.ylabel('Accuracy')\n",
        "plt.xlim(0, max(epochsMLP))\n",
        "plt.legend()\n",
        "plt.show()"
      ]
    },
    {
      "cell_type": "markdown",
      "metadata": {
        "id": "N_dRGQH5yKlA"
      },
      "source": [
        "### 3.6: CNN\n",
        "\n"
      ]
    },
    {
      "cell_type": "code",
      "execution_count": null,
      "metadata": {
        "id": "tlL6HpL1yNFg"
      },
      "outputs": [],
      "source": [
        "from sklearn.model_selection import KFold\n",
        "from keras.datasets import fashion_mnist\n",
        "from keras.models import Sequential\n",
        "from keras.layers import Conv2D\n",
        "from keras.layers import MaxPooling2D\n",
        "from keras.layers import Dense\n",
        "from keras.layers import Flatten\n",
        "import tensorflow as tf\n",
        "from tensorflow.keras import datasets, layers, models\n",
        "\n",
        "(trainX, trainY), (testX, testY) = fashion_mnist.load_data()\n",
        "trainY = tf.keras.utils.to_categorical(trainY)\n",
        "testY = tf.keras.utils.to_categorical(testY)\n",
        "\n",
        "# Calculate training set average and standard deviation\n",
        "trainXAvg = trainX.mean(axis=0)\n",
        "trainXsd = trainX.std(axis=0)\n",
        "\n",
        "# Normalize by setting mean 0 and std 1\n",
        "trainX = (trainX - trainXAvg)/trainXsd\n",
        "testX = (testX - trainXAvg)/trainXsd"
      ]
    },
    {
      "cell_type": "code",
      "execution_count": null,
      "metadata": {
        "id": "zFFxcjsWyNnL"
      },
      "outputs": [],
      "source": [
        "def buildCNN():\n",
        "  model = Sequential()\n",
        "  model.add(Conv2D(32, (3, 3), activation='relu', kernel_initializer='he_uniform', input_shape=(28, 28, 1)))\n",
        "  model.add(Conv2D(32, (3, 3), activation='relu', kernel_initializer='he_uniform', input_shape=(28, 28, 1)))\n",
        "  model.add(layers.MaxPooling2D((2, 2)))\n",
        "  model.add(Flatten())\n",
        "  model.add(Dense(128, activation='relu', kernel_initializer='he_uniform'))\n",
        "  model.add(Dense(128, activation='relu', kernel_initializer='he_uniform'))\n",
        "  model.add(Dense(10, activation='softmax'))\n",
        "  model.compile(optimizer='adam',\n",
        "              loss='categorical_crossentropy',\n",
        "              metrics=['accuracy'])\n",
        "  return model\n"
      ]
    },
    {
      "cell_type": "code",
      "execution_count": null,
      "metadata": {
        "colab": {
          "base_uri": "https://localhost:8080/",
          "height": 1000
        },
        "id": "uZXvHQhYyS7u",
        "outputId": "d2eac740-590e-4a0a-bd72-2f1cef08640c"
      },
      "outputs": [
        {
          "name": "stdout",
          "output_type": "stream",
          "text": [
            "Epoch 1/20\n",
            "1875/1875 [==============================] - 98s 52ms/step - loss: 0.3629 - accuracy: 0.8701 - val_loss: 0.3177 - val_accuracy: 0.8868\n",
            "Epoch 2/20\n",
            "1875/1875 [==============================] - 96s 51ms/step - loss: 0.2258 - accuracy: 0.9169 - val_loss: 0.2398 - val_accuracy: 0.9159\n",
            "Epoch 3/20\n",
            "1875/1875 [==============================] - 102s 54ms/step - loss: 0.1691 - accuracy: 0.9378 - val_loss: 0.2389 - val_accuracy: 0.9174\n",
            "Epoch 4/20\n",
            "1875/1875 [==============================] - 100s 53ms/step - loss: 0.1324 - accuracy: 0.9500 - val_loss: 0.2501 - val_accuracy: 0.9189\n",
            "Epoch 5/20\n",
            "1875/1875 [==============================] - 98s 52ms/step - loss: 0.0994 - accuracy: 0.9633 - val_loss: 0.2873 - val_accuracy: 0.9174\n",
            "Epoch 6/20\n",
            "1875/1875 [==============================] - 96s 51ms/step - loss: 0.0759 - accuracy: 0.9717 - val_loss: 0.2938 - val_accuracy: 0.9158\n",
            "Epoch 7/20\n",
            "1875/1875 [==============================] - 98s 52ms/step - loss: 0.0596 - accuracy: 0.9784 - val_loss: 0.3269 - val_accuracy: 0.9189\n",
            "Epoch 8/20\n",
            "1875/1875 [==============================] - 98s 52ms/step - loss: 0.0477 - accuracy: 0.9826 - val_loss: 0.3581 - val_accuracy: 0.9166\n",
            "Epoch 9/20\n",
            "1875/1875 [==============================] - 98s 52ms/step - loss: 0.0424 - accuracy: 0.9842 - val_loss: 0.4346 - val_accuracy: 0.9108\n",
            "Epoch 10/20\n",
            "1875/1875 [==============================] - 96s 51ms/step - loss: 0.0330 - accuracy: 0.9876 - val_loss: 0.4132 - val_accuracy: 0.9217\n",
            "Epoch 11/20\n",
            "1875/1875 [==============================] - 97s 52ms/step - loss: 0.0297 - accuracy: 0.9890 - val_loss: 0.5096 - val_accuracy: 0.9110\n",
            "Epoch 12/20\n",
            "1875/1875 [==============================] - 96s 51ms/step - loss: 0.0283 - accuracy: 0.9898 - val_loss: 0.4651 - val_accuracy: 0.9192\n",
            "Epoch 13/20\n",
            "1875/1875 [==============================] - 97s 52ms/step - loss: 0.0247 - accuracy: 0.9916 - val_loss: 0.4667 - val_accuracy: 0.9189\n",
            "Epoch 14/20\n",
            "1875/1875 [==============================] - 97s 52ms/step - loss: 0.0257 - accuracy: 0.9914 - val_loss: 0.5078 - val_accuracy: 0.9184\n",
            "Epoch 15/20\n",
            "1875/1875 [==============================] - 98s 52ms/step - loss: 0.0202 - accuracy: 0.9933 - val_loss: 0.5610 - val_accuracy: 0.9140\n",
            "Epoch 16/20\n",
            "1875/1875 [==============================] - 97s 52ms/step - loss: 0.0205 - accuracy: 0.9932 - val_loss: 0.5773 - val_accuracy: 0.9180\n",
            "Epoch 17/20\n",
            "1875/1875 [==============================] - 97s 52ms/step - loss: 0.0201 - accuracy: 0.9936 - val_loss: 0.5595 - val_accuracy: 0.9214\n",
            "Epoch 18/20\n",
            "1875/1875 [==============================] - 97s 52ms/step - loss: 0.0186 - accuracy: 0.9944 - val_loss: 0.6128 - val_accuracy: 0.9155\n",
            "Epoch 19/20\n",
            "1875/1875 [==============================] - 100s 53ms/step - loss: 0.0186 - accuracy: 0.9939 - val_loss: 0.5724 - val_accuracy: 0.9186\n",
            "Epoch 20/20\n",
            "1875/1875 [==============================] - 101s 54ms/step - loss: 0.0189 - accuracy: 0.9940 - val_loss: 0.6138 - val_accuracy: 0.9172\n"
          ]
        },
        {
          "data": {
            "image/png": "[encoded data removed]",
            "text/plain": [
              "<Figure size 432x288 with 1 Axes>"
            ]
          },
          "metadata": {},
          "output_type": "display_data"
        }
      ],
      "source": [
        "# Run CNN model, gather training/test accuracies for each epoch\n",
        "model = buildCNN()\n",
        "history = model.fit(trainX, trainY, epochs = 20, \n",
        "                    validation_data=(testX, testY))\n",
        "\n",
        "epochsCNN = list(range(1,21))\n",
        "plt.plot(history.history['accuracy'])\n",
        "# Plot test/validation accuracies\n",
        "plt.plot()\n",
        "plt.scatter(epochsCNN, history.history['val_accuracy'],label='Test accuracies',c='orange',alpha=0.7)\n",
        "plt.plot(epochsCNN, history.history['val_accuracy'],'orange',alpha=0.7)\n",
        "plt.scatter(epochsCNN, history.history['accuracy'],label='Training accuracies',c='teal',alpha=0.7)\n",
        "plt.plot(epochsCNN, history.history['accuracy'],'teal',alpha=0.7)\n",
        "plt.title('Training and test accuracies with respect to number of epochs for CNNs')\n",
        "plt.xlabel('Number of epochs')\n",
        "plt.ylabel('Accuracy')\n",
        "plt.xlim(0, max(epochsCNN))\n",
        "plt.legend()\n",
        "plt.show()"
      ]
    }
  ],
  "metadata": {
    "colab": {
      "collapsed_sections": [],
      "name": "MP3.ipynb",
      "toc_visible": true,
      "provenance": []
    },
    "kernelspec": {
      "display_name": "Python 3",
      "name": "python3"
    },
    "language_info": {
      "name": "python"
    }
  },
  "nbformat": 4,
  "nbformat_minor": 0
}