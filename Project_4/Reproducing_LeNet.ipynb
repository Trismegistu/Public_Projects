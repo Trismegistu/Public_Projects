{
  "cells": [
    {
      "cell_type": "markdown",
      "metadata": {
        "id": "ANFXOPcAjzOM"
      },
      "source": [
        "# Mini-Project 4: Reproducibility in ML \n",
        "\n",
        "**Authors**: Antoine Bonnet, Dragos Secrieru and Cyril Saidane \n",
        "\n",
        "**Course**: COMP 551: Applied Machine Learning, McGill University\n",
        "\n",
        "In this project, we reproduce the LeNet-5 architecture for image classification on the MNIST dataset, as published in the paper [\"Gradient-Based Learning Applied to Document Recognition\"](http://vision.stanford.edu/cs598_spring07/papers/Lecun98.pdf) by Yann LeCun, Leon Bottou, Patrick Haffner and Yoshua Bengio in 1998. \n",
        "\n"
      ]
    },
    {
      "cell_type": "markdown",
      "source": [
        "https://towardsdatascience.com/understanding-and-implementing-lenet-5-cnn-architecture-deep-learning-a2d531ebc342\n",
        "\n",
        "https://towardsdatascience.com/understanding-lenet-a-detailed-walkthrough-17833d4bd155\n",
        "\n"
      ],
      "metadata": {
        "id": "V911oep5-sR4"
      }
    },
    {
      "cell_type": "markdown",
      "source": [
        "\n",
        "\n",
        "---------TO-DO LIST FOR PAPER-------\n",
        "\n",
        "Part 1 - Testing the Model (Reproducing same result)\n",
        "\n",
        "1. Pick 2 other methods described in the paper, the simpler the better (ex: KNN, Lenet 1) and look at their test error compared to LeNet 5.\n",
        "Compare the test error of all 3 models to what they had in the paper, see if it's replicable.\n",
        "\n",
        "2. Claim in the paper: most CNN models, the more you train them, the lower the train error gets. For example in MP3 we managed to get like 99.8% accuracy. This does not happen with LeNet5. Reproduce that result, see if training error really stagnates with more training time. \n",
        "\n",
        "Part 2 - Experimenting with the model\n",
        "\n",
        "1. Going back to the second point in part 2, the author's claim that the reason the training error does not go down is because of the high learning rates. They give no evidence for that. As an experiment we train the model with lower learning rates than the paper and see if the training error is still stable. \n",
        "\n",
        "2. Play around with the activations functions. For example they used tanh with two fixed parameters. They claim that changing those parameters would not change the test error. We test that claim by playing around with it. "
      ],
      "metadata": {
        "id": "o7jJgZIvjOvr"
      }
    },
    {
      "cell_type": "markdown",
      "metadata": {
        "id": "S4se3aS_jJXQ"
      },
      "source": [
        "## 1: Acquire, preprocess, and analyze the data\n",
        "\n",
        "In this section, we load and pre-process the MNIST dataset for later use. \n",
        "\n",
        "### 1.0 Resource imports\n",
        "\n",
        "We first import several Python libraries. "
      ]
    },
    {
      "cell_type": "code",
      "execution_count": null,
      "metadata": {
        "id": "2MgwO4GgjL4j"
      },
      "outputs": [],
      "source": [
        "import numpy as np\n",
        "import pandas as pd\n",
        "import sklearn\n",
        "import tensorflow as tf\n",
        "import matplotlib.pyplot as plt\n",
        "import plotly.graph_objects as go"
      ]
    },
    {
      "cell_type": "markdown",
      "metadata": {
        "id": "S8XVqr-omjPg"
      },
      "source": [
        "You may need to run the following command in your terminal to gain access to the MNIST dataset from TensorFlow:\n",
        "\n",
        "`pip install tensorflow_datasets`\n",
        "\n"
      ]
    },
    {
      "cell_type": "markdown",
      "metadata": {
        "id": "4rEqH5EsjN5F"
      },
      "source": [
        "### 1.1 Loading and exploring the data\n",
        "\n",
        "We first load the [MNIST](https://www.kaggle.com/code/ngbolin/mnist-dataset-digit-recognizer/notebook) from TensorFlow, and split it into training and testing sets. \n"
      ]
    },
    {
      "cell_type": "code",
      "execution_count": null,
      "metadata": {
        "id": "1lSjeZ_Jk41k",
        "colab": {
          "base_uri": "https://localhost:8080/"
        },
        "outputId": "dcffb729-7b4a-4b2a-d95e-9a08939b8e04"
      },
      "outputs": [
        {
          "output_type": "stream",
          "name": "stdout",
          "text": [
            "Downloading data from https://storage.googleapis.com/tensorflow/tf-keras-datasets/mnist.npz\n",
            "11493376/11490434 [==============================] - 0s 0us/step\n",
            "11501568/11490434 [==============================] - 0s 0us/step\n"
          ]
        }
      ],
      "source": [
        "from tensorflow.keras.datasets import mnist\n",
        "(Xtrain, Ytrain), (Xtest, Ytest) = mnist.load_data()"
      ]
    },
    {
      "cell_type": "code",
      "source": [
        "trainClasses = np.unique(Ytrain, return_counts=True)"
      ],
      "metadata": {
        "id": "FHqG9zznGVUG"
      },
      "execution_count": null,
      "outputs": []
    },
    {
      "cell_type": "code",
      "source": [
        "testClasses = np.unique(Ytest, return_counts=True)"
      ],
      "metadata": {
        "id": "me5MRqDGHJZC"
      },
      "execution_count": null,
      "outputs": []
    },
    {
      "cell_type": "code",
      "source": [
        "plt.hist(Ytrain, bins = 10, label=\"Training data\")\n",
        "plt.hist(Ytest, bins = 10, label=\"Test data\")\n",
        "plt.xticks(range(0,10))\n",
        "plt.title(\"MNIST dataset label repartition\")\n",
        "plt.ylim(0,8000)\n",
        "plt.legend()\n",
        "plt.show()"
      ],
      "metadata": {
        "colab": {
          "base_uri": "https://localhost:8080/",
          "height": 281
        },
        "id": "nJUQHKxhHWCY",
        "outputId": "93b535cf-f993-4a6d-ff0d-8eaef4f47ba3"
      },
      "execution_count": null,
      "outputs": [
        {
          "output_type": "display_data",
          "data": {
            "text/plain": [
              "<Figure size 432x288 with 1 Axes>"
            ],
            "image/png": "[encoded data removed]"
          },
          "metadata": {
            "needs_background": "light"
          }
        }
      ]
    },
    {
      "cell_type": "markdown",
      "metadata": {
        "id": "LzVYv_Cso98U"
      },
      "source": [
        "This dataset contains a training set of 60K instances and a test set of 10K instances, where each instance corresponds ot a 28x28 grayscale image labelled by one of 10 classes, corresponding to the digits from 0 to 9. "
      ]
    },
    {
      "cell_type": "code",
      "execution_count": null,
      "metadata": {
        "colab": {
          "base_uri": "https://localhost:8080/"
        },
        "id": "zXvy9Hn2mTy8",
        "outputId": "9adacf75-5f52-4f0a-c8ea-3351a50b9dc6"
      },
      "outputs": [
        {
          "output_type": "stream",
          "name": "stdout",
          "text": [
            "Training features: (60000, 28, 28)\n",
            "Training labels: (60000,)\n",
            "Testing features: (10000, 28, 28)\n",
            "Testing labels: (10000,)\n"
          ]
        }
      ],
      "source": [
        "# Shape of dataset\n",
        "print(\"Training features:\", Xtrain.shape)\n",
        "print(\"Training labels:\", Ytrain.shape)\n",
        "print(\"Testing features:\", Xtest.shape)\n",
        "print(\"Testing labels:\", Ytest.shape)"
      ]
    },
    {
      "cell_type": "markdown",
      "metadata": {
        "id": "HCZyg-WKjRTg"
      },
      "source": [
        "Each image is a $28 \\times 28$ matrix, where each matrix entry is a pixel intensity value between $0$ and $255$. For better intuition, we show a few examples of images from the training set. "
      ]
    },
    {
      "cell_type": "code",
      "execution_count": null,
      "metadata": {
        "colab": {
          "base_uri": "https://localhost:8080/",
          "height": 283
        },
        "id": "iecLE1fWjVLl",
        "outputId": "bb183bb2-3cb9-4f61-f385-ab02a3f1f87c"
      },
      "outputs": [
        {
          "output_type": "stream",
          "name": "stdout",
          "text": [
            "Label:  5\n"
          ]
        },
        {
          "output_type": "display_data",
          "data": {
            "text/plain": [
              "<Figure size 432x288 with 1 Axes>"
            ],
            "image/png": "[encoded data removed]"
          },
          "metadata": {
            "needs_background": "light"
          }
        }
      ],
      "source": [
        "print(\"Label: \", Ytrain[0])\n",
        "plt.imshow(Xtrain[0], cmap=\"gray\") \n",
        "plt.show() "
      ]
    },
    {
      "cell_type": "code",
      "execution_count": null,
      "metadata": {
        "colab": {
          "base_uri": "https://localhost:8080/",
          "height": 283
        },
        "id": "MPNVZbWpoocV",
        "outputId": "6b5e7bc5-5770-49b7-9ca2-dbed4f93aa28"
      },
      "outputs": [
        {
          "output_type": "stream",
          "name": "stdout",
          "text": [
            "Label:  0\n"
          ]
        },
        {
          "output_type": "display_data",
          "data": {
            "text/plain": [
              "<Figure size 432x288 with 1 Axes>"
            ],
            "image/png": "[encoded data removed]"
          },
          "metadata": {
            "needs_background": "light"
          }
        }
      ],
      "source": [
        "print(\"Label: \", Ytrain[1])\n",
        "plt.imshow(Xtrain[1], cmap=\"gray\") \n",
        "plt.show() "
      ]
    },
    {
      "cell_type": "markdown",
      "metadata": {
        "id": "p0TYaRrvjVwb"
      },
      "source": [
        "### 1.2 Preprocessing data\n",
        "\n",
        "In this section, we prepare the downloaded data to be used by the multilayer perceptron. \n",
        "\n",
        "We first normalize the intensity values of each image so that each image matrix entry has standard normal distribution over the whole training set."
      ]
    },
    {
      "cell_type": "code",
      "execution_count": null,
      "metadata": {
        "id": "-iyJ4w_o0J4d"
      },
      "outputs": [],
      "source": [
        "# Normalize to interval [0,1] by dividing by the maximum pixel value\n",
        "Xtrain = Xtrain / 255.\n",
        "Xtest = Xtest / 255."
      ]
    },
    {
      "cell_type": "code",
      "source": [
        "Xtrain = tf.expand_dims(Xtrain, axis=3, name=None)\n",
        "Xtest = tf.expand_dims(Xtest, axis=3, name=None)"
      ],
      "metadata": {
        "id": "zgTy8qo0HALz"
      },
      "execution_count": null,
      "outputs": []
    },
    {
      "cell_type": "markdown",
      "metadata": {
        "id": "7N5AKkZV0VWK"
      },
      "source": [
        "We split the normalized dataset into a training set of 50 000 examples and a validation set of 10 000 examples. "
      ]
    },
    {
      "cell_type": "code",
      "source": [
        "X_val = Xtrain[-10000:]\n",
        "Y_val = Ytrain[-10000:]\n",
        "\n",
        "X_train = Xtrain[:-10000]\n",
        "Y_train = Ytrain[:-10000]"
      ],
      "metadata": {
        "id": "eBKqyaziGNMw"
      },
      "execution_count": null,
      "outputs": []
    },
    {
      "cell_type": "markdown",
      "source": [
        "## 2: Build and run the model"
      ],
      "metadata": {
        "id": "RBuUKzDcRKfp"
      }
    },
    {
      "cell_type": "code",
      "source": [
        "from tensorflow.keras import datasets, layers, models\n",
        "from keras.models import Sequential\n",
        "from keras.layers import Conv2D, AveragePooling2D, Flatten, Dense"
      ],
      "metadata": {
        "id": "J-d-llKlB2bs"
      },
      "execution_count": null,
      "outputs": []
    },
    {
      "cell_type": "markdown",
      "source": [
        "### 2.1 LeNet-1"
      ],
      "metadata": {
        "id": "5Rh1-2IdAN89"
      }
    },
    {
      "cell_type": "code",
      "execution_count": null,
      "metadata": {
        "id": "zFFxcjsWyNnL"
      },
      "outputs": [],
      "source": [
        "def BuildLeNet1():\n",
        "  model = Sequential()\n",
        "  model.add(Conv2D(4, 5, activation=\"tanh\", padding='valid', input_shape=Xtrain[0].shape))\n",
        "  model.add(AveragePooling2D())\n",
        "  model.add(Conv2D(12, 5, activation=\"tanh\", padding='valid'))\n",
        "  model.add(AveragePooling2D())\n",
        "  model.add(Flatten())\n",
        "  model.add(Dense(10, activation = 'softmax'))\n",
        "  model.summary()\n",
        "  model.compile(optimizer='adam', loss='sparse_categorical_crossentropy', metrics=['accuracy'])\n",
        "  return model\n",
        "\n",
        "#es = EarlyStopping(monitor='val_accuracy', mode='max', min_delta=1)"
      ]
    },
    {
      "cell_type": "code",
      "execution_count": null,
      "metadata": {
        "colab": {
          "base_uri": "https://localhost:8080/"
        },
        "id": "uZXvHQhYyS7u",
        "outputId": "6a319bb6-879f-4a57-844d-337f75b23f0b"
      },
      "outputs": [
        {
          "output_type": "stream",
          "name": "stdout",
          "text": [
            "Model: \"sequential_1\"\n",
            "_________________________________________________________________\n",
            " Layer (type)                Output Shape              Param #   \n",
            "=================================================================\n",
            " conv2d_2 (Conv2D)           (None, 24, 24, 4)         104       \n",
            "                                                                 \n",
            " average_pooling2d_2 (Averag  (None, 12, 12, 4)        0         \n",
            " ePooling2D)                                                     \n",
            "                                                                 \n",
            " conv2d_3 (Conv2D)           (None, 8, 8, 12)          1212      \n",
            "                                                                 \n",
            " average_pooling2d_3 (Averag  (None, 4, 4, 12)         0         \n",
            " ePooling2D)                                                     \n",
            "                                                                 \n",
            " flatten_1 (Flatten)         (None, 192)               0         \n",
            "                                                                 \n",
            " dense_1 (Dense)             (None, 10)                1930      \n",
            "                                                                 \n",
            "=================================================================\n",
            "Total params: 3,246\n",
            "Trainable params: 3,246\n",
            "Non-trainable params: 0\n",
            "_________________________________________________________________\n",
            "Epoch 1/20\n",
            "1563/1563 [==============================] - 21s 13ms/step - loss: 0.4411 - accuracy: 0.8732 - val_loss: 0.2096 - val_accuracy: 0.9395\n",
            "Epoch 2/20\n",
            "1563/1563 [==============================] - 21s 13ms/step - loss: 0.1760 - accuracy: 0.9489 - val_loss: 0.1190 - val_accuracy: 0.9666\n",
            "Epoch 3/20\n",
            "1563/1563 [==============================] - 22s 14ms/step - loss: 0.1107 - accuracy: 0.9678 - val_loss: 0.0899 - val_accuracy: 0.9742\n",
            "Epoch 4/20\n",
            "1563/1563 [==============================] - 22s 14ms/step - loss: 0.0843 - accuracy: 0.9747 - val_loss: 0.0743 - val_accuracy: 0.9780\n",
            "Epoch 5/20\n",
            "1563/1563 [==============================] - 21s 13ms/step - loss: 0.0708 - accuracy: 0.9788 - val_loss: 0.0659 - val_accuracy: 0.9808\n",
            "Epoch 6/20\n",
            "1563/1563 [==============================] - 21s 13ms/step - loss: 0.0629 - accuracy: 0.9812 - val_loss: 0.0608 - val_accuracy: 0.9830\n",
            "Epoch 7/20\n",
            "1563/1563 [==============================] - 21s 13ms/step - loss: 0.0570 - accuracy: 0.9830 - val_loss: 0.0561 - val_accuracy: 0.9837\n",
            "Epoch 8/20\n",
            "1563/1563 [==============================] - 21s 13ms/step - loss: 0.0526 - accuracy: 0.9841 - val_loss: 0.0585 - val_accuracy: 0.9839\n",
            "Epoch 9/20\n",
            "1563/1563 [==============================] - 21s 13ms/step - loss: 0.0491 - accuracy: 0.9859 - val_loss: 0.0528 - val_accuracy: 0.9850\n",
            "Epoch 10/20\n",
            "1563/1563 [==============================] - 21s 14ms/step - loss: 0.0460 - accuracy: 0.9862 - val_loss: 0.0545 - val_accuracy: 0.9858\n",
            "Epoch 11/20\n",
            "1563/1563 [==============================] - 21s 14ms/step - loss: 0.0436 - accuracy: 0.9868 - val_loss: 0.0511 - val_accuracy: 0.9853\n",
            "Epoch 12/20\n",
            "1563/1563 [==============================] - 21s 14ms/step - loss: 0.0414 - accuracy: 0.9880 - val_loss: 0.0489 - val_accuracy: 0.9871\n",
            "Epoch 13/20\n",
            "1563/1563 [==============================] - 21s 13ms/step - loss: 0.0399 - accuracy: 0.9882 - val_loss: 0.0488 - val_accuracy: 0.9870\n",
            "Epoch 14/20\n",
            "1563/1563 [==============================] - 21s 14ms/step - loss: 0.0378 - accuracy: 0.9890 - val_loss: 0.0482 - val_accuracy: 0.9870\n",
            "Epoch 15/20\n",
            "1563/1563 [==============================] - 21s 14ms/step - loss: 0.0360 - accuracy: 0.9891 - val_loss: 0.0474 - val_accuracy: 0.9873\n",
            "Epoch 16/20\n",
            "1563/1563 [==============================] - 21s 14ms/step - loss: 0.0349 - accuracy: 0.9896 - val_loss: 0.0460 - val_accuracy: 0.9876\n",
            "Epoch 17/20\n",
            "1563/1563 [==============================] - 21s 13ms/step - loss: 0.0337 - accuracy: 0.9901 - val_loss: 0.0465 - val_accuracy: 0.9877\n",
            "Epoch 18/20\n",
            "1563/1563 [==============================] - 21s 14ms/step - loss: 0.0323 - accuracy: 0.9901 - val_loss: 0.0455 - val_accuracy: 0.9876\n",
            "Epoch 19/20\n",
            "1563/1563 [==============================] - 21s 13ms/step - loss: 0.0313 - accuracy: 0.9907 - val_loss: 0.0494 - val_accuracy: 0.9864\n",
            "Epoch 20/20\n",
            "1563/1563 [==============================] - 21s 14ms/step - loss: 0.0305 - accuracy: 0.9906 - val_loss: 0.0469 - val_accuracy: 0.9874\n"
          ]
        }
      ],
      "source": [
        "# Run CNN model, gather training/test accuracies for each epoch\n",
        "numEpochs = 20\n",
        "LeNet1 = BuildLeNet1()\n",
        "history1 = LeNet1.fit(X_train, Y_train, epochs = numEpochs, validation_data=(X_val, Y_val))\n"
      ]
    },
    {
      "cell_type": "code",
      "source": [
        "epochs = list(range(1,numEpochs+1))\n",
        "# Plot test/validation accuracies\n",
        "plt.plot()\n",
        "plt.scatter(epochs, history1.history['val_accuracy'],label='Validation accuracy',c='orange',alpha=0.7)\n",
        "plt.plot(epochs, history1.history['val_accuracy'],'orange',alpha=0.7)\n",
        "plt.scatter(epochs, history1.history['accuracy'],label='Training accuracy',c='teal',alpha=0.7)\n",
        "plt.plot(epochs, history1.history['accuracy'],'teal',alpha=0.7)\n",
        "plt.title('Training and validation accuracies with respect to number of epochs for LeNet-1 model')\n",
        "plt.xlabel('Number of epochs')\n",
        "plt.ylabel('Accuracy')\n",
        "plt.xlim(0, max(epochs))\n",
        "plt.legend()\n",
        "plt.show()"
      ],
      "metadata": {
        "id": "yv1A3tzGM3tn",
        "colab": {
          "base_uri": "https://localhost:8080/",
          "height": 295
        },
        "outputId": "8a9cb14c-2269-44d6-9a1d-96e80b50d772"
      },
      "execution_count": null,
      "outputs": [
        {
          "output_type": "display_data",
          "data": {
            "text/plain": [
              "<Figure size 432x288 with 1 Axes>"
            ],
            "image/png": "[encoded data removed]"
          },
          "metadata": {
            "needs_background": "light"
          }
        }
      ]
    },
    {
      "cell_type": "code",
      "source": [
        "LeNet1.evaluate(Xtest, Ytest)"
      ],
      "metadata": {
        "id": "jcZvecuwK-cp",
        "colab": {
          "base_uri": "https://localhost:8080/"
        },
        "outputId": "b3c0de48-0a72-4ef5-fe1d-e9e0c4156dfd"
      },
      "execution_count": null,
      "outputs": [
        {
          "output_type": "stream",
          "name": "stdout",
          "text": [
            "313/313 [==============================] - 2s 6ms/step - loss: 0.0335 - accuracy: 0.9897\n"
          ]
        },
        {
          "output_type": "execute_result",
          "data": {
            "text/plain": [
              "[0.03348712623119354, 0.9897000193595886]"
            ]
          },
          "metadata": {},
          "execution_count": 26
        }
      ]
    },
    {
      "cell_type": "code",
      "source": [
        "# Run CNN model, gather training/test accuracies for each epoch\n",
        "LeNet1b = BuildLeNet1()\n",
        "history1b = LeNet1b.fit(Xtrain, Ytrain, epochs = numEpochs, validation_data=(Xtest, Ytest))\n",
        "\n",
        "# Plot test/validation accuracies\n",
        "plt.plot()\n",
        "plt.scatter(epochs, history1b.history['val_accuracy'],label='Test accuracy',c='orange',alpha=0.7)\n",
        "plt.plot(epochs, history1b.history['val_accuracy'],'orange',alpha=0.7)\n",
        "plt.scatter(epochs, history1b.history['accuracy'],label='Training accuracy',c='teal',alpha=0.7)\n",
        "plt.plot(epochs, history1b.history['accuracy'],'teal',alpha=0.7)\n",
        "plt.title('Training and test accuracies with respect to number of epochs for LeNet-1 model')\n",
        "plt.xlabel('Number of epochs')\n",
        "plt.ylabel('Accuracy')\n",
        "plt.xlim(0, max(epochs))\n",
        "plt.legend()\n",
        "plt.show()"
      ],
      "metadata": {
        "colab": {
          "base_uri": "https://localhost:8080/",
          "height": 1000
        },
        "id": "jGYRDsVCse_Z",
        "outputId": "6863238a-5612-478b-bf63-8d8ca870b3e5"
      },
      "execution_count": null,
      "outputs": [
        {
          "output_type": "stream",
          "name": "stdout",
          "text": [
            "Model: \"sequential_2\"\n",
            "_________________________________________________________________\n",
            " Layer (type)                Output Shape              Param #   \n",
            "=================================================================\n",
            " conv2d_4 (Conv2D)           (None, 24, 24, 4)         104       \n",
            "                                                                 \n",
            " average_pooling2d_4 (Averag  (None, 12, 12, 4)        0         \n",
            " ePooling2D)                                                     \n",
            "                                                                 \n",
            " conv2d_5 (Conv2D)           (None, 8, 8, 12)          1212      \n",
            "                                                                 \n",
            " average_pooling2d_5 (Averag  (None, 4, 4, 12)         0         \n",
            " ePooling2D)                                                     \n",
            "                                                                 \n",
            " flatten_2 (Flatten)         (None, 192)               0         \n",
            "                                                                 \n",
            " dense_2 (Dense)             (None, 10)                1930      \n",
            "                                                                 \n",
            "=================================================================\n",
            "Total params: 3,246\n",
            "Trainable params: 3,246\n",
            "Non-trainable params: 0\n",
            "_________________________________________________________________\n",
            "Epoch 1/20\n",
            "1875/1875 [==============================] - 25s 13ms/step - loss: 0.3954 - accuracy: 0.8881 - val_loss: 0.2037 - val_accuracy: 0.9408\n",
            "Epoch 2/20\n",
            "1875/1875 [==============================] - 25s 13ms/step - loss: 0.1723 - accuracy: 0.9499 - val_loss: 0.1216 - val_accuracy: 0.9650\n",
            "Epoch 3/20\n",
            "1875/1875 [==============================] - 25s 14ms/step - loss: 0.1120 - accuracy: 0.9678 - val_loss: 0.0835 - val_accuracy: 0.9753\n",
            "Epoch 4/20\n",
            "1875/1875 [==============================] - 25s 14ms/step - loss: 0.0843 - accuracy: 0.9758 - val_loss: 0.0665 - val_accuracy: 0.9795\n",
            "Epoch 5/20\n",
            "1875/1875 [==============================] - 25s 13ms/step - loss: 0.0704 - accuracy: 0.9795 - val_loss: 0.0588 - val_accuracy: 0.9804\n",
            "Epoch 6/20\n",
            "1875/1875 [==============================] - 25s 13ms/step - loss: 0.0614 - accuracy: 0.9821 - val_loss: 0.0536 - val_accuracy: 0.9833\n",
            "Epoch 7/20\n",
            "1875/1875 [==============================] - 25s 14ms/step - loss: 0.0549 - accuracy: 0.9838 - val_loss: 0.0466 - val_accuracy: 0.9853\n",
            "Epoch 8/20\n",
            "1875/1875 [==============================] - 25s 14ms/step - loss: 0.0508 - accuracy: 0.9850 - val_loss: 0.0416 - val_accuracy: 0.9868\n",
            "Epoch 9/20\n",
            "1875/1875 [==============================] - 26s 14ms/step - loss: 0.0464 - accuracy: 0.9861 - val_loss: 0.0426 - val_accuracy: 0.9868\n",
            "Epoch 10/20\n",
            "1875/1875 [==============================] - 25s 14ms/step - loss: 0.0436 - accuracy: 0.9872 - val_loss: 0.0382 - val_accuracy: 0.9872\n",
            "Epoch 11/20\n",
            "1875/1875 [==============================] - 26s 14ms/step - loss: 0.0409 - accuracy: 0.9879 - val_loss: 0.0384 - val_accuracy: 0.9879\n",
            "Epoch 12/20\n",
            "1875/1875 [==============================] - 26s 14ms/step - loss: 0.0388 - accuracy: 0.9879 - val_loss: 0.0402 - val_accuracy: 0.9862\n",
            "Epoch 13/20\n",
            "1875/1875 [==============================] - 26s 14ms/step - loss: 0.0367 - accuracy: 0.9886 - val_loss: 0.0352 - val_accuracy: 0.9883\n",
            "Epoch 14/20\n",
            "1875/1875 [==============================] - 26s 14ms/step - loss: 0.0350 - accuracy: 0.9895 - val_loss: 0.0357 - val_accuracy: 0.9875\n",
            "Epoch 15/20\n",
            "1875/1875 [==============================] - 26s 14ms/step - loss: 0.0340 - accuracy: 0.9896 - val_loss: 0.0372 - val_accuracy: 0.9880\n",
            "Epoch 16/20\n",
            "1875/1875 [==============================] - 25s 13ms/step - loss: 0.0325 - accuracy: 0.9898 - val_loss: 0.0342 - val_accuracy: 0.9887\n",
            "Epoch 17/20\n",
            "1875/1875 [==============================] - 25s 14ms/step - loss: 0.0312 - accuracy: 0.9906 - val_loss: 0.0326 - val_accuracy: 0.9892\n",
            "Epoch 18/20\n",
            "1875/1875 [==============================] - 26s 14ms/step - loss: 0.0297 - accuracy: 0.9911 - val_loss: 0.0338 - val_accuracy: 0.9885\n",
            "Epoch 19/20\n",
            "1875/1875 [==============================] - 25s 14ms/step - loss: 0.0288 - accuracy: 0.9914 - val_loss: 0.0343 - val_accuracy: 0.9888\n",
            "Epoch 20/20\n",
            "1875/1875 [==============================] - 25s 14ms/step - loss: 0.0279 - accuracy: 0.9918 - val_loss: 0.0315 - val_accuracy: 0.9895\n"
          ]
        },
        {
          "output_type": "display_data",
          "data": {
            "text/plain": [
              "<Figure size 432x288 with 1 Axes>"
            ],
            "image/png": "[encoded data removed]"
          },
          "metadata": {
            "needs_background": "light"
          }
        }
      ]
    },
    {
      "cell_type": "markdown",
      "source": [
        "### 2.2 LeNet-4"
      ],
      "metadata": {
        "id": "y3KtRQcIHQM_"
      }
    },
    {
      "cell_type": "code",
      "source": [
        "def BuildLeNet4():\n",
        "  model = Sequential()\n",
        "  model.add(Conv2D(4, 5, activation=\"tanh\", padding='same', input_shape=Xtrain[0].shape))\n",
        "  model.add(AveragePooling2D())\n",
        "  model.add(Conv2D(16, 5, activation=\"tanh\", padding='valid'))\n",
        "  model.add(AveragePooling2D())\n",
        "  model.add(Conv2D(120, 5, activation=\"tanh\", padding='valid'))\n",
        "  model.add(Flatten())\n",
        "  model.add(Dense(10, activation = 'softmax'))\n",
        "  model.summary()\n",
        "  model.compile(optimizer='adam', loss='sparse_categorical_crossentropy', metrics=['accuracy'])\n",
        "  return model\n"
      ],
      "metadata": {
        "id": "NBGEThtiHR3W"
      },
      "execution_count": null,
      "outputs": []
    },
    {
      "cell_type": "code",
      "source": [
        "# Run CNN model, gather training/test accuracies for each epoch\n",
        "LeNet4 = BuildLeNet4()\n",
        "history4 = LeNet4.fit(X_train, Y_train, epochs = numEpochs, validation_data=(X_val, Y_val))\n"
      ],
      "metadata": {
        "colab": {
          "base_uri": "https://localhost:8080/"
        },
        "id": "ZxGjY21bHZy4",
        "outputId": "b3e51b8b-bcf3-4c2c-8eda-bbc9cbac2f65"
      },
      "execution_count": null,
      "outputs": [
        {
          "output_type": "stream",
          "name": "stdout",
          "text": [
            "Model: \"sequential_3\"\n",
            "_________________________________________________________________\n",
            " Layer (type)                Output Shape              Param #   \n",
            "=================================================================\n",
            " conv2d_6 (Conv2D)           (None, 28, 28, 4)         104       \n",
            "                                                                 \n",
            " average_pooling2d_6 (Averag  (None, 14, 14, 4)        0         \n",
            " ePooling2D)                                                     \n",
            "                                                                 \n",
            " conv2d_7 (Conv2D)           (None, 10, 10, 16)        1616      \n",
            "                                                                 \n",
            " average_pooling2d_7 (Averag  (None, 5, 5, 16)         0         \n",
            " ePooling2D)                                                     \n",
            "                                                                 \n",
            " conv2d_8 (Conv2D)           (None, 1, 1, 120)         48120     \n",
            "                                                                 \n",
            " flatten_3 (Flatten)         (None, 120)               0         \n",
            "                                                                 \n",
            " dense_3 (Dense)             (None, 10)                1210      \n",
            "                                                                 \n",
            "=================================================================\n",
            "Total params: 51,050\n",
            "Trainable params: 51,050\n",
            "Non-trainable params: 0\n",
            "_________________________________________________________________\n",
            "Epoch 1/20\n",
            "1563/1563 [==============================] - 33s 21ms/step - loss: 0.2666 - accuracy: 0.9217 - val_loss: 0.1283 - val_accuracy: 0.9612\n",
            "Epoch 2/20\n",
            "1563/1563 [==============================] - 32s 21ms/step - loss: 0.0992 - accuracy: 0.9696 - val_loss: 0.0876 - val_accuracy: 0.9723\n",
            "Epoch 3/20\n",
            "1563/1563 [==============================] - 31s 20ms/step - loss: 0.0676 - accuracy: 0.9797 - val_loss: 0.0696 - val_accuracy: 0.9803\n",
            "Epoch 4/20\n",
            "1563/1563 [==============================] - 31s 20ms/step - loss: 0.0497 - accuracy: 0.9847 - val_loss: 0.0670 - val_accuracy: 0.9793\n",
            "Epoch 5/20\n",
            "1563/1563 [==============================] - 31s 20ms/step - loss: 0.0411 - accuracy: 0.9873 - val_loss: 0.0530 - val_accuracy: 0.9841\n",
            "Epoch 6/20\n",
            "1563/1563 [==============================] - 32s 20ms/step - loss: 0.0325 - accuracy: 0.9895 - val_loss: 0.0548 - val_accuracy: 0.9827\n",
            "Epoch 7/20\n",
            "1563/1563 [==============================] - 31s 20ms/step - loss: 0.0275 - accuracy: 0.9913 - val_loss: 0.0568 - val_accuracy: 0.9842\n",
            "Epoch 8/20\n",
            "1563/1563 [==============================] - 31s 20ms/step - loss: 0.0236 - accuracy: 0.9927 - val_loss: 0.0455 - val_accuracy: 0.9862\n",
            "Epoch 9/20\n",
            "1563/1563 [==============================] - 32s 20ms/step - loss: 0.0185 - accuracy: 0.9943 - val_loss: 0.0446 - val_accuracy: 0.9874\n",
            "Epoch 10/20\n",
            "1563/1563 [==============================] - 32s 20ms/step - loss: 0.0174 - accuracy: 0.9945 - val_loss: 0.0547 - val_accuracy: 0.9846\n",
            "Epoch 11/20\n",
            "1563/1563 [==============================] - 32s 20ms/step - loss: 0.0130 - accuracy: 0.9962 - val_loss: 0.0622 - val_accuracy: 0.9830\n",
            "Epoch 12/20\n",
            "1563/1563 [==============================] - 31s 20ms/step - loss: 0.0116 - accuracy: 0.9965 - val_loss: 0.0511 - val_accuracy: 0.9857\n",
            "Epoch 13/20\n",
            "1563/1563 [==============================] - 31s 20ms/step - loss: 0.0119 - accuracy: 0.9963 - val_loss: 0.0468 - val_accuracy: 0.9883\n",
            "Epoch 14/20\n",
            "1563/1563 [==============================] - 31s 20ms/step - loss: 0.0102 - accuracy: 0.9968 - val_loss: 0.0468 - val_accuracy: 0.9871\n",
            "Epoch 15/20\n",
            "1563/1563 [==============================] - 31s 20ms/step - loss: 0.0081 - accuracy: 0.9978 - val_loss: 0.0502 - val_accuracy: 0.9868\n",
            "Epoch 16/20\n",
            "1563/1563 [==============================] - 31s 20ms/step - loss: 0.0072 - accuracy: 0.9979 - val_loss: 0.0530 - val_accuracy: 0.9856\n",
            "Epoch 17/20\n",
            "1563/1563 [==============================] - 31s 20ms/step - loss: 0.0062 - accuracy: 0.9984 - val_loss: 0.0549 - val_accuracy: 0.9862\n",
            "Epoch 18/20\n",
            "1563/1563 [==============================] - 32s 20ms/step - loss: 0.0055 - accuracy: 0.9987 - val_loss: 0.0557 - val_accuracy: 0.9865\n",
            "Epoch 19/20\n",
            "1563/1563 [==============================] - 32s 21ms/step - loss: 0.0077 - accuracy: 0.9978 - val_loss: 0.0542 - val_accuracy: 0.9869\n",
            "Epoch 20/20\n",
            "1563/1563 [==============================] - 32s 20ms/step - loss: 0.0054 - accuracy: 0.9983 - val_loss: 0.0520 - val_accuracy: 0.9873\n"
          ]
        }
      ]
    },
    {
      "cell_type": "code",
      "source": [
        "# Plot test/validation accuracies\n",
        "plt.plot()\n",
        "plt.scatter(epochs, history4.history['val_accuracy'],label='Validation accuracy',c='orange',alpha=0.7)\n",
        "plt.plot(epochs, history4.history['val_accuracy'],'orange',alpha=0.7)\n",
        "plt.scatter(epochs, history4.history['accuracy'],label='Training accuracy',c='teal',alpha=0.7)\n",
        "plt.plot(epochs, history4.history['accuracy'],'teal',alpha=0.7)\n",
        "plt.title('Training and validation accuracies with respect to number of epochs for LeNet-4 model')\n",
        "plt.xlabel('Number of epochs')\n",
        "plt.ylabel('Accuracy')\n",
        "plt.xlim(0, max(epochs))\n",
        "plt.legend()\n",
        "plt.show()"
      ],
      "metadata": {
        "id": "1uWUUZWeHcxx",
        "colab": {
          "base_uri": "https://localhost:8080/",
          "height": 295
        },
        "outputId": "1348eb25-3325-4974-8d55-c435652ad7f5"
      },
      "execution_count": null,
      "outputs": [
        {
          "output_type": "display_data",
          "data": {
            "text/plain": [
              "<Figure size 432x288 with 1 Axes>"
            ],
            "image/png": "[encoded data removed]"
          },
          "metadata": {
            "needs_background": "light"
          }
        }
      ]
    },
    {
      "cell_type": "code",
      "source": [
        "LeNet4.evaluate(Xtest, Ytest)"
      ],
      "metadata": {
        "id": "CWRZn34GHd1M",
        "colab": {
          "base_uri": "https://localhost:8080/"
        },
        "outputId": "1a568a62-5ba0-442f-d912-c95764882444"
      },
      "execution_count": null,
      "outputs": [
        {
          "output_type": "stream",
          "name": "stdout",
          "text": [
            "313/313 [==============================] - 3s 10ms/step - loss: 0.0445 - accuracy: 0.9872\n"
          ]
        },
        {
          "output_type": "execute_result",
          "data": {
            "text/plain": [
              "[0.04451742023229599, 0.9872000217437744]"
            ]
          },
          "metadata": {},
          "execution_count": 31
        }
      ]
    },
    {
      "cell_type": "code",
      "source": [
        "# Run CNN model, gather training/test accuracies for each epoch\n",
        "LeNet4b = BuildLeNet4()\n",
        "history4b = LeNet4b.fit(Xtrain, Ytrain, epochs = numEpochs, validation_data=(Xtest, Ytest))\n",
        "# Plot test/validation accuracies\n",
        "plt.plot()\n",
        "plt.scatter(epochs, history4b.history['val_accuracy'],label='Test accuracy',c='orange',alpha=0.7)\n",
        "plt.plot(epochs, history4b.history['val_accuracy'],'orange',alpha=0.7)\n",
        "plt.scatter(epochs, history4b.history['accuracy'],label='Training accuracy',c='teal',alpha=0.7)\n",
        "plt.plot(epochs, history4b.history['accuracy'],'teal',alpha=0.7)\n",
        "plt.title('Training and test accuracies with respect to number of epochs for LeNet-4 model')\n",
        "plt.xlabel('Number of epochs')\n",
        "plt.ylabel('Accuracy')\n",
        "plt.xlim(0, max(epochs))\n",
        "plt.legend()\n",
        "plt.show()"
      ],
      "metadata": {
        "colab": {
          "base_uri": "https://localhost:8080/",
          "height": 1000
        },
        "id": "KQEvxliZtc6b",
        "outputId": "03d5b992-8ea1-49a7-d55c-6647fba83ece"
      },
      "execution_count": null,
      "outputs": [
        {
          "output_type": "stream",
          "name": "stdout",
          "text": [
            "Model: \"sequential_4\"\n",
            "_________________________________________________________________\n",
            " Layer (type)                Output Shape              Param #   \n",
            "=================================================================\n",
            " conv2d_9 (Conv2D)           (None, 28, 28, 4)         104       \n",
            "                                                                 \n",
            " average_pooling2d_8 (Averag  (None, 14, 14, 4)        0         \n",
            " ePooling2D)                                                     \n",
            "                                                                 \n",
            " conv2d_10 (Conv2D)          (None, 10, 10, 16)        1616      \n",
            "                                                                 \n",
            " average_pooling2d_9 (Averag  (None, 5, 5, 16)         0         \n",
            " ePooling2D)                                                     \n",
            "                                                                 \n",
            " conv2d_11 (Conv2D)          (None, 1, 1, 120)         48120     \n",
            "                                                                 \n",
            " flatten_4 (Flatten)         (None, 120)               0         \n",
            "                                                                 \n",
            " dense_4 (Dense)             (None, 10)                1210      \n",
            "                                                                 \n",
            "=================================================================\n",
            "Total params: 51,050\n",
            "Trainable params: 51,050\n",
            "Non-trainable params: 0\n",
            "_________________________________________________________________\n",
            "Epoch 1/20\n",
            "1875/1875 [==============================] - 37s 19ms/step - loss: 0.2476 - accuracy: 0.9258 - val_loss: 0.1156 - val_accuracy: 0.9652\n",
            "Epoch 2/20\n",
            "1875/1875 [==============================] - 35s 19ms/step - loss: 0.0959 - accuracy: 0.9711 - val_loss: 0.0755 - val_accuracy: 0.9766\n",
            "Epoch 3/20\n",
            "1875/1875 [==============================] - 35s 19ms/step - loss: 0.0639 - accuracy: 0.9808 - val_loss: 0.0577 - val_accuracy: 0.9809\n",
            "Epoch 4/20\n",
            "1875/1875 [==============================] - 36s 19ms/step - loss: 0.0478 - accuracy: 0.9857 - val_loss: 0.0480 - val_accuracy: 0.9850\n",
            "Epoch 5/20\n",
            "1875/1875 [==============================] - 39s 21ms/step - loss: 0.0375 - accuracy: 0.9883 - val_loss: 0.0468 - val_accuracy: 0.9843\n",
            "Epoch 6/20\n",
            "1875/1875 [==============================] - 37s 20ms/step - loss: 0.0329 - accuracy: 0.9899 - val_loss: 0.0399 - val_accuracy: 0.9865\n",
            "Epoch 7/20\n",
            "1875/1875 [==============================] - 37s 20ms/step - loss: 0.0255 - accuracy: 0.9921 - val_loss: 0.0469 - val_accuracy: 0.9863\n",
            "Epoch 8/20\n",
            "1875/1875 [==============================] - 37s 20ms/step - loss: 0.0229 - accuracy: 0.9926 - val_loss: 0.0416 - val_accuracy: 0.9875\n",
            "Epoch 9/20\n",
            "1875/1875 [==============================] - 37s 20ms/step - loss: 0.0189 - accuracy: 0.9943 - val_loss: 0.0426 - val_accuracy: 0.9873\n",
            "Epoch 10/20\n",
            "1875/1875 [==============================] - 37s 20ms/step - loss: 0.0177 - accuracy: 0.9941 - val_loss: 0.0400 - val_accuracy: 0.9877\n",
            "Epoch 11/20\n",
            "1875/1875 [==============================] - 37s 20ms/step - loss: 0.0139 - accuracy: 0.9957 - val_loss: 0.0465 - val_accuracy: 0.9864\n",
            "Epoch 12/20\n",
            "1875/1875 [==============================] - 37s 20ms/step - loss: 0.0126 - accuracy: 0.9959 - val_loss: 0.0362 - val_accuracy: 0.9888\n",
            "Epoch 13/20\n",
            "1875/1875 [==============================] - 37s 20ms/step - loss: 0.0112 - accuracy: 0.9966 - val_loss: 0.0425 - val_accuracy: 0.9871\n",
            "Epoch 14/20\n",
            "1875/1875 [==============================] - 37s 20ms/step - loss: 0.0099 - accuracy: 0.9972 - val_loss: 0.0427 - val_accuracy: 0.9860\n",
            "Epoch 15/20\n",
            "1875/1875 [==============================] - 36s 19ms/step - loss: 0.0089 - accuracy: 0.9973 - val_loss: 0.0429 - val_accuracy: 0.9880\n",
            "Epoch 16/20\n",
            "1875/1875 [==============================] - 37s 20ms/step - loss: 0.0093 - accuracy: 0.9970 - val_loss: 0.0405 - val_accuracy: 0.9879\n",
            "Epoch 17/20\n",
            "1875/1875 [==============================] - 37s 20ms/step - loss: 0.0072 - accuracy: 0.9979 - val_loss: 0.0523 - val_accuracy: 0.9854\n",
            "Epoch 18/20\n",
            "1875/1875 [==============================] - 37s 20ms/step - loss: 0.0070 - accuracy: 0.9979 - val_loss: 0.0446 - val_accuracy: 0.9883\n",
            "Epoch 19/20\n",
            "1875/1875 [==============================] - 36s 19ms/step - loss: 0.0071 - accuracy: 0.9978 - val_loss: 0.0414 - val_accuracy: 0.9875\n",
            "Epoch 20/20\n",
            "1875/1875 [==============================] - 37s 20ms/step - loss: 0.0056 - accuracy: 0.9984 - val_loss: 0.0447 - val_accuracy: 0.9869\n"
          ]
        },
        {
          "output_type": "display_data",
          "data": {
            "text/plain": [
              "<Figure size 432x288 with 1 Axes>"
            ],
            "image/png": "[encoded data removed]"
          },
          "metadata": {
            "needs_background": "light"
          }
        }
      ]
    },
    {
      "cell_type": "markdown",
      "source": [
        "### 2.3 LeNet-5"
      ],
      "metadata": {
        "id": "JDJRATMNAR9e"
      }
    },
    {
      "cell_type": "code",
      "source": [
        "def BuildLeNet5():\n",
        "  model = Sequential()\n",
        "  model.add(Conv2D(6, 5, activation=\"tanh\", padding='same', input_shape=Xtrain[0].shape))\n",
        "  model.add(AveragePooling2D())\n",
        "  model.add(Conv2D(16, 5, activation=\"tanh\", padding='valid'))\n",
        "  model.add(AveragePooling2D())\n",
        "  model.add(Conv2D(120, 5, activation=\"tanh\", padding='valid'))\n",
        "  model.add(Flatten())\n",
        "  model.add(Dense(84, activation = 'tanh'))\n",
        "  model.add(Dense(10, activation = 'softmax'))\n",
        "  model.summary()\n",
        "  model.compile(optimizer='adam', loss='sparse_categorical_crossentropy', metrics=['accuracy'])\n",
        "  return model\n",
        "  "
      ],
      "metadata": {
        "id": "A9CDHW6o8hMs"
      },
      "execution_count": null,
      "outputs": []
    },
    {
      "cell_type": "code",
      "source": [
        "# Run CNN model, gather training/test accuracies for each epoch\n",
        "LeNet5 = BuildLeNet5()\n",
        "history5 = LeNet5.fit(X_train, Y_train, epochs = numEpochs, validation_data=(X_val, Y_val))\n"
      ],
      "metadata": {
        "id": "DKUA4C1yAaBP",
        "colab": {
          "base_uri": "https://localhost:8080/"
        },
        "outputId": "29050b72-671d-4b0c-9020-757952e587cb"
      },
      "execution_count": null,
      "outputs": [
        {
          "output_type": "stream",
          "name": "stdout",
          "text": [
            "Model: \"sequential_5\"\n",
            "_________________________________________________________________\n",
            " Layer (type)                Output Shape              Param #   \n",
            "=================================================================\n",
            " conv2d_12 (Conv2D)          (None, 28, 28, 6)         156       \n",
            "                                                                 \n",
            " average_pooling2d_10 (Avera  (None, 14, 14, 6)        0         \n",
            " gePooling2D)                                                    \n",
            "                                                                 \n",
            " conv2d_13 (Conv2D)          (None, 10, 10, 16)        2416      \n",
            "                                                                 \n",
            " average_pooling2d_11 (Avera  (None, 5, 5, 16)         0         \n",
            " gePooling2D)                                                    \n",
            "                                                                 \n",
            " conv2d_14 (Conv2D)          (None, 1, 1, 120)         48120     \n",
            "                                                                 \n",
            " flatten_5 (Flatten)         (None, 120)               0         \n",
            "                                                                 \n",
            " dense_5 (Dense)             (None, 84)                10164     \n",
            "                                                                 \n",
            " dense_6 (Dense)             (None, 10)                850       \n",
            "                                                                 \n",
            "=================================================================\n",
            "Total params: 61,706\n",
            "Trainable params: 61,706\n",
            "Non-trainable params: 0\n",
            "_________________________________________________________________\n",
            "Epoch 1/20\n",
            "1563/1563 [==============================] - 35s 22ms/step - loss: 0.2585 - accuracy: 0.9216 - val_loss: 0.1151 - val_accuracy: 0.9661\n",
            "Epoch 2/20\n",
            "1563/1563 [==============================] - 35s 22ms/step - loss: 0.0968 - accuracy: 0.9702 - val_loss: 0.0802 - val_accuracy: 0.9736\n",
            "Epoch 3/20\n",
            "1563/1563 [==============================] - 34s 22ms/step - loss: 0.0658 - accuracy: 0.9793 - val_loss: 0.0742 - val_accuracy: 0.9774\n",
            "Epoch 4/20\n",
            "1563/1563 [==============================] - 34s 22ms/step - loss: 0.0486 - accuracy: 0.9847 - val_loss: 0.0646 - val_accuracy: 0.9814\n",
            "Epoch 5/20\n",
            "1563/1563 [==============================] - 34s 22ms/step - loss: 0.0399 - accuracy: 0.9875 - val_loss: 0.0618 - val_accuracy: 0.9814\n",
            "Epoch 6/20\n",
            "1563/1563 [==============================] - 34s 22ms/step - loss: 0.0322 - accuracy: 0.9902 - val_loss: 0.0619 - val_accuracy: 0.9818\n",
            "Epoch 7/20\n",
            "1563/1563 [==============================] - 34s 22ms/step - loss: 0.0276 - accuracy: 0.9910 - val_loss: 0.0595 - val_accuracy: 0.9829\n",
            "Epoch 8/20\n",
            "1563/1563 [==============================] - 34s 22ms/step - loss: 0.0233 - accuracy: 0.9924 - val_loss: 0.0769 - val_accuracy: 0.9780\n",
            "Epoch 9/20\n",
            "1563/1563 [==============================] - 34s 22ms/step - loss: 0.0196 - accuracy: 0.9937 - val_loss: 0.0603 - val_accuracy: 0.9840\n",
            "Epoch 10/20\n",
            "1563/1563 [==============================] - 34s 22ms/step - loss: 0.0162 - accuracy: 0.9947 - val_loss: 0.0584 - val_accuracy: 0.9838\n",
            "Epoch 11/20\n",
            "1563/1563 [==============================] - 35s 22ms/step - loss: 0.0157 - accuracy: 0.9948 - val_loss: 0.0566 - val_accuracy: 0.9844\n",
            "Epoch 12/20\n",
            "1563/1563 [==============================] - 34s 22ms/step - loss: 0.0131 - accuracy: 0.9959 - val_loss: 0.0648 - val_accuracy: 0.9834\n",
            "Epoch 13/20\n",
            "1563/1563 [==============================] - 34s 22ms/step - loss: 0.0134 - accuracy: 0.9955 - val_loss: 0.0637 - val_accuracy: 0.9839\n",
            "Epoch 14/20\n",
            "1563/1563 [==============================] - 34s 22ms/step - loss: 0.0113 - accuracy: 0.9963 - val_loss: 0.0662 - val_accuracy: 0.9844\n",
            "Epoch 15/20\n",
            "1563/1563 [==============================] - 35s 22ms/step - loss: 0.0105 - accuracy: 0.9964 - val_loss: 0.0595 - val_accuracy: 0.9850\n",
            "Epoch 16/20\n",
            "1563/1563 [==============================] - 35s 22ms/step - loss: 0.0117 - accuracy: 0.9961 - val_loss: 0.0701 - val_accuracy: 0.9835\n",
            "Epoch 17/20\n",
            "1563/1563 [==============================] - 34s 22ms/step - loss: 0.0090 - accuracy: 0.9971 - val_loss: 0.0680 - val_accuracy: 0.9845\n",
            "Epoch 18/20\n",
            "1563/1563 [==============================] - 35s 22ms/step - loss: 0.0099 - accuracy: 0.9963 - val_loss: 0.0702 - val_accuracy: 0.9838\n",
            "Epoch 19/20\n",
            "1563/1563 [==============================] - 34s 22ms/step - loss: 0.0076 - accuracy: 0.9975 - val_loss: 0.0680 - val_accuracy: 0.9840\n",
            "Epoch 20/20\n",
            "1563/1563 [==============================] - 34s 22ms/step - loss: 0.0086 - accuracy: 0.9968 - val_loss: 0.0645 - val_accuracy: 0.9856\n"
          ]
        }
      ]
    },
    {
      "cell_type": "code",
      "source": [
        "# Plot test/validation accuracies\n",
        "plt.plot()\n",
        "plt.scatter(epochs, history5.history['val_accuracy'],label='Validation accuracy',c='orange',alpha=0.7)\n",
        "plt.plot(epochs, history5.history['val_accuracy'],'orange',alpha=0.7)\n",
        "plt.scatter(epochs, history5.history['accuracy'],label='Training accuracy',c='teal',alpha=0.7)\n",
        "plt.plot(epochs, history5.history['accuracy'],'teal',alpha=0.7)\n",
        "plt.title('Training and validation accuracies with respect to number of epochs for LeNet-5 model')\n",
        "plt.xlabel('Number of epochs')\n",
        "plt.ylabel('Accuracy')\n",
        "plt.xlim(0, max(epochs))\n",
        "plt.legend()\n",
        "plt.show()"
      ],
      "metadata": {
        "id": "AbCrMLL-AcGr",
        "colab": {
          "base_uri": "https://localhost:8080/",
          "height": 295
        },
        "outputId": "e1140888-2d29-4ea7-c7b2-7137c022a368"
      },
      "execution_count": null,
      "outputs": [
        {
          "output_type": "display_data",
          "data": {
            "text/plain": [
              "<Figure size 432x288 with 1 Axes>"
            ],
            "image/png": "[encoded data removed]"
          },
          "metadata": {
            "needs_background": "light"
          }
        }
      ]
    },
    {
      "cell_type": "code",
      "source": [
        "LeNet5.evaluate(Xtest, Ytest)"
      ],
      "metadata": {
        "id": "MnMAsLaWAd2O",
        "colab": {
          "base_uri": "https://localhost:8080/"
        },
        "outputId": "2418e4d4-5f76-42d9-faff-09e85ffeebb5"
      },
      "execution_count": null,
      "outputs": [
        {
          "output_type": "stream",
          "name": "stdout",
          "text": [
            "313/313 [==============================] - 3s 10ms/step - loss: 0.0550 - accuracy: 0.9871\n"
          ]
        },
        {
          "output_type": "execute_result",
          "data": {
            "text/plain": [
              "[0.05501674860715866, 0.9871000051498413]"
            ]
          },
          "metadata": {},
          "execution_count": 36
        }
      ]
    },
    {
      "cell_type": "code",
      "source": [
        "# Run CNN model, gather training/test accuracies for each epoch\n",
        "numEpochs = 20\n",
        "LeNet5b = BuildLeNet5()\n",
        "history5b = LeNet5b.fit(Xtrain, Ytrain, epochs = numEpochs, validation_data=(Xtest, Ytest))\n"
      ],
      "metadata": {
        "colab": {
          "base_uri": "https://localhost:8080/"
        },
        "id": "n_NPhcfrtyiO",
        "outputId": "7680f9bc-ac14-4b6f-a2d4-0330ed4f1575"
      },
      "execution_count": null,
      "outputs": [
        {
          "output_type": "stream",
          "name": "stdout",
          "text": [
            "Model: \"sequential_2\"\n",
            "_________________________________________________________________\n",
            " Layer (type)                Output Shape              Param #   \n",
            "=================================================================\n",
            " conv2d_6 (Conv2D)           (None, 28, 28, 6)         156       \n",
            "                                                                 \n",
            " average_pooling2d_4 (Averag  (None, 14, 14, 6)        0         \n",
            " ePooling2D)                                                     \n",
            "                                                                 \n",
            " conv2d_7 (Conv2D)           (None, 10, 10, 16)        2416      \n",
            "                                                                 \n",
            " average_pooling2d_5 (Averag  (None, 5, 5, 16)         0         \n",
            " ePooling2D)                                                     \n",
            "                                                                 \n",
            " conv2d_8 (Conv2D)           (None, 1, 1, 120)         48120     \n",
            "                                                                 \n",
            " flatten_2 (Flatten)         (None, 120)               0         \n",
            "                                                                 \n",
            " dense_4 (Dense)             (None, 84)                10164     \n",
            "                                                                 \n",
            " dense_5 (Dense)             (None, 10)                850       \n",
            "                                                                 \n",
            "=================================================================\n",
            "Total params: 61,706\n",
            "Trainable params: 61,706\n",
            "Non-trainable params: 0\n",
            "_________________________________________________________________\n",
            "Epoch 1/20\n",
            "1875/1875 [==============================] - 44s 23ms/step - loss: 0.2207 - accuracy: 0.9342 - val_loss: 0.1089 - val_accuracy: 0.9662\n",
            "Epoch 2/20\n",
            "1875/1875 [==============================] - 40s 21ms/step - loss: 0.0843 - accuracy: 0.9743 - val_loss: 0.0730 - val_accuracy: 0.9780\n",
            "Epoch 3/20\n",
            "1875/1875 [==============================] - 42s 22ms/step - loss: 0.0579 - accuracy: 0.9820 - val_loss: 0.0537 - val_accuracy: 0.9828\n",
            "Epoch 4/20\n",
            "1875/1875 [==============================] - 40s 21ms/step - loss: 0.0443 - accuracy: 0.9864 - val_loss: 0.0464 - val_accuracy: 0.9846\n",
            "Epoch 5/20\n",
            "1875/1875 [==============================] - 41s 22ms/step - loss: 0.0351 - accuracy: 0.9887 - val_loss: 0.0478 - val_accuracy: 0.9830\n",
            "Epoch 6/20\n",
            "1875/1875 [==============================] - 41s 22ms/step - loss: 0.0288 - accuracy: 0.9910 - val_loss: 0.0478 - val_accuracy: 0.9855\n",
            "Epoch 7/20\n",
            "1875/1875 [==============================] - 42s 22ms/step - loss: 0.0249 - accuracy: 0.9922 - val_loss: 0.0426 - val_accuracy: 0.9867\n",
            "Epoch 8/20\n",
            "1875/1875 [==============================] - 42s 22ms/step - loss: 0.0192 - accuracy: 0.9941 - val_loss: 0.0516 - val_accuracy: 0.9842\n",
            "Epoch 9/20\n",
            "1875/1875 [==============================] - 42s 23ms/step - loss: 0.0195 - accuracy: 0.9937 - val_loss: 0.0388 - val_accuracy: 0.9886\n",
            "Epoch 10/20\n",
            "1875/1875 [==============================] - 43s 23ms/step - loss: 0.0174 - accuracy: 0.9943 - val_loss: 0.0507 - val_accuracy: 0.9846\n",
            "Epoch 11/20\n",
            "1875/1875 [==============================] - 44s 24ms/step - loss: 0.0130 - accuracy: 0.9958 - val_loss: 0.0443 - val_accuracy: 0.9871\n",
            "Epoch 12/20\n",
            "1875/1875 [==============================] - 45s 24ms/step - loss: 0.0136 - accuracy: 0.9955 - val_loss: 0.0525 - val_accuracy: 0.9852\n",
            "Epoch 13/20\n",
            "1875/1875 [==============================] - 45s 24ms/step - loss: 0.0114 - accuracy: 0.9962 - val_loss: 0.0478 - val_accuracy: 0.9862\n",
            "Epoch 14/20\n",
            "1875/1875 [==============================] - 45s 24ms/step - loss: 0.0108 - accuracy: 0.9967 - val_loss: 0.0451 - val_accuracy: 0.9852\n",
            "Epoch 15/20\n",
            "1875/1875 [==============================] - 46s 24ms/step - loss: 0.0111 - accuracy: 0.9963 - val_loss: 0.0514 - val_accuracy: 0.9858\n",
            "Epoch 16/20\n",
            "1875/1875 [==============================] - 46s 24ms/step - loss: 0.0112 - accuracy: 0.9965 - val_loss: 0.0418 - val_accuracy: 0.9878\n",
            "Epoch 17/20\n",
            "1875/1875 [==============================] - 46s 24ms/step - loss: 0.0094 - accuracy: 0.9967 - val_loss: 0.0517 - val_accuracy: 0.9862\n",
            "Epoch 18/20\n",
            "1875/1875 [==============================] - 47s 25ms/step - loss: 0.0089 - accuracy: 0.9973 - val_loss: 0.0525 - val_accuracy: 0.9860\n",
            "Epoch 19/20\n",
            "1875/1875 [==============================] - 47s 25ms/step - loss: 0.0081 - accuracy: 0.9973 - val_loss: 0.0562 - val_accuracy: 0.9864\n",
            "Epoch 20/20\n",
            "1875/1875 [==============================] - 47s 25ms/step - loss: 0.0087 - accuracy: 0.9972 - val_loss: 0.0532 - val_accuracy: 0.9856\n"
          ]
        }
      ]
    },
    {
      "cell_type": "code",
      "source": [
        "# Plot test/validation accuracies\n",
        "epochs = range(1, numEpochs+1)\n",
        "plt.plot()\n",
        "plt.scatter(epochs, history5b.history['val_accuracy'],label='Test accuracy',c='orange',alpha=0.7)\n",
        "plt.plot(epochs, history5b.history['val_accuracy'],'orange',alpha=0.7)\n",
        "plt.scatter(epochs, history5b.history['accuracy'],label='Training accuracy',c='teal',alpha=0.7)\n",
        "plt.plot(epochs, history5b.history['accuracy'],'teal',alpha=0.7)\n",
        "plt.title('Training and test accuracies with respect to number of epochs for LeNet-5 model')\n",
        "plt.xlabel('Number of epochs')\n",
        "plt.ylabel('Accuracy')\n",
        "plt.xlim(0, max(epochs))\n",
        "plt.legend()\n",
        "plt.show()"
      ],
      "metadata": {
        "colab": {
          "base_uri": "https://localhost:8080/",
          "height": 295
        },
        "id": "vgw-feVwu7ka",
        "outputId": "d738b80b-a787-45a8-ed3d-7427447d95bd"
      },
      "execution_count": null,
      "outputs": [
        {
          "output_type": "display_data",
          "data": {
            "text/plain": [
              "<Figure size 432x288 with 1 Axes>"
            ],
            "image/png": "[encoded data removed]"
          },
          "metadata": {
            "needs_background": "light"
          }
        }
      ]
    }
  ],
  "metadata": {
    "colab": {
      "collapsed_sections": [],
      "name": "MP4.ipynb",
      "provenance": []
    },
    "kernelspec": {
      "display_name": "Python 3",
      "name": "python3"
    },
    "language_info": {
      "name": "python"
    }
  },
  "nbformat": 4,
  "nbformat_minor": 0
}